{
 "cells": [
  {
   "cell_type": "markdown",
   "id": "rental-africa",
   "metadata": {},
   "source": [
    "# Analyze Scan/IRC jobs"
   ]
  },
  {
   "cell_type": "markdown",
   "id": "crude-homeless",
   "metadata": {},
   "source": [
    "This notebook is used for analyzing scan/IRC jobs from quantum chemsitry calculation. \n",
    "This notebook assumes the scan to be one dimensional rotor scan."
   ]
  },
  {
   "cell_type": "code",
   "execution_count": 1,
   "id": "danish-introduction",
   "metadata": {},
   "outputs": [],
   "source": [
    "import os\n",
    "import re\n",
    "import sys\n",
    "# To add this RDMC into PYTHONPATH in case you haven't do it\n",
    "sys.path.append(os.path.dirname(os.path.abspath('')))\n",
    "\n",
    "import cclib\n",
    "import numpy as np\n",
    "import py3Dmol\n",
    "import matplotlib.pyplot as plt\n",
    "\n",
    "from rdmc.mol import RDKitMol\n",
    "from rdmc.view import mol_viewer, mol_animation\n",
    "\n",
    "from ipywidgets import interact, fixed, IntSlider\n",
    "\n",
    "# atom index starting from 0 or 1\n",
    "ATOMINDEX = {'gaussian': 1, }\n",
    "\n",
    "%matplotlib inline\n",
    "%load_ext autoreload\n",
    "%autoreload 2"
   ]
  },
  {
   "cell_type": "markdown",
   "id": "manual-memory",
   "metadata": {},
   "source": [
    "## 1. Load the file"
   ]
  },
  {
   "cell_type": "code",
   "execution_count": 2,
   "id": "powerful-blowing",
   "metadata": {},
   "outputs": [
    {
     "name": "stdout",
     "output_type": "stream",
     "text": [
      "Scanning: D(5,3,4,1)\n"
     ]
    },
    {
     "data": {
      "application/3dmoljs_load.v0": "<div id=\"3dmolviewer_1615338522588691\"  style=\"position: relative; width: 400px; height: 400px\">\n        <p id=\"3dmolwarning_1615338522588691\" style=\"background-color:#ffcccc;color:black\">You appear to be running in JupyterLab (or JavaScript failed to load for some other reason).  You need to install the 3dmol extension: <br>\n        <tt>jupyter labextension install jupyterlab_3dmol</tt></p>\n        </div>\n<script>\n\nvar loadScriptAsync = function(uri){\n  return new Promise((resolve, reject) => {\n    var tag = document.createElement('script');\n    tag.src = uri;\n    tag.async = true;\n    tag.onload = () => {\n      resolve();\n    };\n  var firstScriptTag = document.getElementsByTagName('script')[0];\n  firstScriptTag.parentNode.insertBefore(tag, firstScriptTag);\n});\n};\n\nif(typeof $3Dmolpromise === 'undefined') {\n$3Dmolpromise = null;\n  $3Dmolpromise = loadScriptAsync('https://3dmol.csb.pitt.edu/build/3Dmol.js');\n}\n\nvar viewer_1615338522588691 = null;\nvar warn = document.getElementById(\"3dmolwarning_1615338522588691\");\nif(warn) {\n    warn.parentNode.removeChild(warn);\n}\n$3Dmolpromise.then(function() {\nviewer_1615338522588691 = $3Dmol.createViewer($(\"#3dmolviewer_1615338522588691\"),{backgroundColor:\"white\"});\n\tviewer_1615338522588691.addModel(\"\\n     RDKit          3D\\n\\n  9  8  0  0  0  0  0  0  0  0999 V2000\\n   -1.7846   -0.7679    0.0315 O   0  0  0  0  0  0  0  0  0  0  0  0\\n    2.2227   -0.1730    0.0885 O   0  0  0  0  0  1  0  0  0  1  0  0\\n    0.0441    0.8032   -0.0059 C   0  0  0  0  0  0  0  0  0  2  0  0\\n   -1.4063    0.3720    0.0049 C   0  0  0  0  0  0  0  0  0  3  0  0\\n    0.9699   -0.3805   -0.2117 C   0  0  0  0  0  3  0  0  0  4  0  0\\n    0.1834    1.5694   -0.7796 H   0  0  0  0  0  0  0  0  0  5  0  0\\n    0.2336    1.3175    0.9529 H   0  0  0  0  0  0  0  0  0  6  0  0\\n    0.5626   -1.3423    0.1384 H   0  0  0  0  0  0  0  0  0  7  0  0\\n   -2.1303    1.2146    0.0034 H   0  0  0  0  0  0  0  0  0  8  0  0\\n  6  3  1  0\\n  5  3  1  0\\n  5  2  1  0\\n  5  8  1  0\\n  3  4  1  0\\n  3  7  1  0\\n  9  4  1  0\\n  4  1  2  0\\nM  RAD  2   2   2   5   2\\nM  END\\n\",\"sdf\");\n\tviewer_1615338522588691.setStyle({\"stick\": {\"radius\": 0.2}, \"sphere\": {\"scale\": 0.25}});\n\tviewer_1615338522588691.addPropertyLabels(\"index\",\"\",{\"fontSize\": 15, \"fontColor\": \"white\", \"showBackground\": true, \"alignment\": \"center\", \"backgroundOpacity\": 0.2, \"backgroundColor\": \"black\"});\n\tviewer_1615338522588691.zoomTo();\nviewer_1615338522588691.render();\n});\n</script><script>\n            $3Dmolpromise.done(function() { //wrap in promise for non-interactive functionality\n                \n                viewer_1615338522588691.render();\n            });\n            </script>",
      "text/html": [
       "<div id=\"3dmolviewer_1615338522588691\"  style=\"position: relative; width: 400px; height: 400px\">\n",
       "        <p id=\"3dmolwarning_1615338522588691\" style=\"background-color:#ffcccc;color:black\">You appear to be running in JupyterLab (or JavaScript failed to load for some other reason).  You need to install the 3dmol extension: <br>\n",
       "        <tt>jupyter labextension install jupyterlab_3dmol</tt></p>\n",
       "        </div>\n",
       "<script>\n",
       "\n",
       "var loadScriptAsync = function(uri){\n",
       "  return new Promise((resolve, reject) => {\n",
       "    var tag = document.createElement('script');\n",
       "    tag.src = uri;\n",
       "    tag.async = true;\n",
       "    tag.onload = () => {\n",
       "      resolve();\n",
       "    };\n",
       "  var firstScriptTag = document.getElementsByTagName('script')[0];\n",
       "  firstScriptTag.parentNode.insertBefore(tag, firstScriptTag);\n",
       "});\n",
       "};\n",
       "\n",
       "if(typeof $3Dmolpromise === 'undefined') {\n",
       "$3Dmolpromise = null;\n",
       "  $3Dmolpromise = loadScriptAsync('https://3dmol.csb.pitt.edu/build/3Dmol.js');\n",
       "}\n",
       "\n",
       "var viewer_1615338522588691 = null;\n",
       "var warn = document.getElementById(\"3dmolwarning_1615338522588691\");\n",
       "if(warn) {\n",
       "    warn.parentNode.removeChild(warn);\n",
       "}\n",
       "$3Dmolpromise.then(function() {\n",
       "viewer_1615338522588691 = $3Dmol.createViewer($(\"#3dmolviewer_1615338522588691\"),{backgroundColor:\"white\"});\n",
       "\tviewer_1615338522588691.addModel(\"\\n     RDKit          3D\\n\\n  9  8  0  0  0  0  0  0  0  0999 V2000\\n   -1.7846   -0.7679    0.0315 O   0  0  0  0  0  0  0  0  0  0  0  0\\n    2.2227   -0.1730    0.0885 O   0  0  0  0  0  1  0  0  0  1  0  0\\n    0.0441    0.8032   -0.0059 C   0  0  0  0  0  0  0  0  0  2  0  0\\n   -1.4063    0.3720    0.0049 C   0  0  0  0  0  0  0  0  0  3  0  0\\n    0.9699   -0.3805   -0.2117 C   0  0  0  0  0  3  0  0  0  4  0  0\\n    0.1834    1.5694   -0.7796 H   0  0  0  0  0  0  0  0  0  5  0  0\\n    0.2336    1.3175    0.9529 H   0  0  0  0  0  0  0  0  0  6  0  0\\n    0.5626   -1.3423    0.1384 H   0  0  0  0  0  0  0  0  0  7  0  0\\n   -2.1303    1.2146    0.0034 H   0  0  0  0  0  0  0  0  0  8  0  0\\n  6  3  1  0\\n  5  3  1  0\\n  5  2  1  0\\n  5  8  1  0\\n  3  4  1  0\\n  3  7  1  0\\n  9  4  1  0\\n  4  1  2  0\\nM  RAD  2   2   2   5   2\\nM  END\\n\",\"sdf\");\n",
       "\tviewer_1615338522588691.setStyle({\"stick\": {\"radius\": 0.2}, \"sphere\": {\"scale\": 0.25}});\n",
       "\tviewer_1615338522588691.addPropertyLabels(\"index\",\"\",{\"fontSize\": 15, \"fontColor\": \"white\", \"showBackground\": true, \"alignment\": \"center\", \"backgroundOpacity\": 0.2, \"backgroundColor\": \"black\"});\n",
       "\tviewer_1615338522588691.zoomTo();\n",
       "viewer_1615338522588691.render();\n",
       "});\n",
       "</script><script>\n",
       "            $3Dmolpromise.done(function() { //wrap in promise for non-interactive functionality\n",
       "                \n",
       "                viewer_1615338522588691.render();\n",
       "            });\n",
       "            </script>"
      ]
     },
     "metadata": {},
     "output_type": "display_data"
    }
   ],
   "source": [
    "log = \"/Users/xiaorui/Dropbox (Personal)/RMG/Co-OPTIMA shared/relax-rotor/Species/[O][CH]CC=O/scan_5_3_4_1/output.out\"\n",
    "######################################\n",
    "# Parse the output file\n",
    "calc_results = cclib.io.ccread(log)\n",
    "if not hasattr(calc_results, 'metadata'):\n",
    "    raise RuntimeError('The cclib cannot path the file!')\n",
    "else:\n",
    "    package = calc_results.metadata['package'].lower()\n",
    "\n",
    "# Check success\n",
    "if not calc_results.metadata['success']:\n",
    "    print('The job is not successful.')\n",
    "\n",
    "# Check job type\n",
    "if hasattr(calc_results, 'scancoords'):\n",
    "    job_type = 'scan'\n",
    "    print(f'Scanning: {\", \".join(calc_results.scannames)}')\n",
    "    # Use RDKitmol to load the geometries\n",
    "    mol = RDKitMol.FromXYZ(cclib.io.ccwrite(calc_results, outputtype='xyz',\n",
    "                       indices=0, returnstr=True,))\n",
    "    mol_viewer(mol.ToMolBlock(), 'sdf').update()\n",
    "else:\n",
    "    job_type = 'irc'\n",
    "    mol_viewer(cclib.io.ccwrite(calc_results, outputtype='xyz',\n",
    "                                indices=0, returnstr=True,), 'xyz').update()\n"
   ]
  },
  {
   "cell_type": "markdown",
   "id": "given-stanford",
   "metadata": {},
   "source": [
    "## 2. Extract all converged intermediate xyzs"
   ]
  },
  {
   "cell_type": "code",
   "execution_count": 3,
   "id": "cleared-overview",
   "metadata": {},
   "outputs": [],
   "source": [
    "# Find all geometries meet convergence criteria \n",
    "# - fulfill at least 2 criteria for gaussian)\n",
    "good_geo_idx = np.arange(calc_results.optstatus.shape[0])[calc_results.optstatus >= 2]\n",
    "good_geo_scf = calc_results.scfenergies[good_geo_idx]\n",
    "num_conf = good_geo_scf.shape[0]\n",
    "\n",
    "# find inverse point\n",
    "if job_type == 'irc':\n",
    "    # An IRC job can be either unidirectional or bidirectional\n",
    "    # If bidirectional, there will be a transition going back to the TS in Gaussian IRC\n",
    "    scf_diff = np.diff(good_geo_scf)\n",
    "    if np.alltrue(scf_diff < 0):  # no transition\n",
    "        print('This is a unidirectional IRC scan!')\n",
    "        starting_pt = 0  # Starting from the first geometry when plotting\n",
    "    else:\n",
    "        iv_pt = np.argmax(scf_diff)  # get the inversion point\n",
    "        good_geo_idx[0:iv_pt+1] = good_geo_idx[iv_pt::-1]  # reverse the sequence before the inversion point\n",
    "        good_geo_scf = calc_results.scfenergies[good_geo_idx]\n",
    "        starting_pt = iv_pt\n",
    "        print('This is a bidirectional IRC scan!')\n",
    "    # Get xyzs\n",
    "    xyzs = [cclib.io.ccwrite(calc_results, outputtype='xyz',\n",
    "                             indices=i, returnstr=True,)\n",
    "            for i in good_geo_idx]\n",
    "\n",
    "elif job_type == 'scan':\n",
    "    starting_pt = 0\n",
    "    \n",
    "    # Use RDKit mol for mol manipulation\n",
    "    # Mapping the first 3 atoms of the scanned torsional internal coordinate for better visualization experience\n",
    "    mol.EmbedMultipleConfs(num_conf)\n",
    "    \n",
    "    try:\n",
    "        # Force angles to be 0 - 2pi with the initial angle = 0\n",
    "        angles = np.array(calc_results.scanparm[0]) - calc_results.scanparm[0][0]\n",
    "        angles[angles < 0] += 2 * np.pi\n",
    "    \n",
    "        scanname = [int(i) for i in re.findall(r'\\d+', calc_results.scannames[0])]\n",
    "        atom_map = [(int(i)-ATOMINDEX[package], int(i)-ATOMINDEX[package]) \n",
    "                    for i in re.findall(r'\\d+', calc_results.scannames[0])[:3]]\n",
    "        for scan_idx, geo_idx in enumerate(good_geo_idx):\n",
    "            mol.SetPositions(calc_results.atomcoords[geo_idx], scan_idx)\n",
    "            if scan_idx != 0:\n",
    "                mol.AlignMol(refMol=mol, prbCid=int(scan_idx),\n",
    "                             refCid=0, atomMap=atom_map)\n",
    "    except:\n",
    "        pass\n",
    "    xyzs = [mol.ToXYZ(confId=i) for i in range(num_conf)]"
   ]
  },
  {
   "cell_type": "markdown",
   "id": "appointed-notification",
   "metadata": {},
   "source": [
    "## 3. Visualize the trajectory animation\n",
    "Note: The atom labels are not moving with the corresponding atoms. Need further investigations into 3Dmol to solve this issue."
   ]
  },
  {
   "cell_type": "code",
   "execution_count": 4,
   "id": "eight-princeton",
   "metadata": {},
   "outputs": [
    {
     "data": {
      "application/3dmoljs_load.v0": "<div id=\"3dmolviewer_1615338522685843\"  style=\"position: relative; width: 400px; height: 400px\">\n        <p id=\"3dmolwarning_1615338522685843\" style=\"background-color:#ffcccc;color:black\">You appear to be running in JupyterLab (or JavaScript failed to load for some other reason).  You need to install the 3dmol extension: <br>\n        <tt>jupyter labextension install jupyterlab_3dmol</tt></p>\n        </div>\n<script>\n\nvar loadScriptAsync = function(uri){\n  return new Promise((resolve, reject) => {\n    var tag = document.createElement('script');\n    tag.src = uri;\n    tag.async = true;\n    tag.onload = () => {\n      resolve();\n    };\n  var firstScriptTag = document.getElementsByTagName('script')[0];\n  firstScriptTag.parentNode.insertBefore(tag, firstScriptTag);\n});\n};\n\nif(typeof $3Dmolpromise === 'undefined') {\n$3Dmolpromise = null;\n  $3Dmolpromise = loadScriptAsync('https://3dmol.csb.pitt.edu/build/3Dmol.js');\n}\n\nvar viewer_1615338522685843 = null;\nvar warn = document.getElementById(\"3dmolwarning_1615338522685843\");\nif(warn) {\n    warn.parentNode.removeChild(warn);\n}\n$3Dmolpromise.then(function() {\nviewer_1615338522685843 = $3Dmol.createViewer($(\"#3dmolviewer_1615338522685843\"),{backgroundColor:\"white\"});\n\tviewer_1615338522685843.addModelsAsFrames(\"9\\n\\nO     -1.784610   -0.767921    0.031477\\nO      2.222675   -0.172980    0.088468\\nC      0.044071    0.803194   -0.005828\\nC     -1.406323    0.371977    0.004922\\nC      0.969917   -0.380504   -0.211560\\nH      0.183483    1.569332   -0.779640\\nH      0.233614    1.317531    0.952933\\nH      0.562657   -1.342301    0.138643\\nH     -2.130259    1.214643    0.003295\\n9\\n\\nO     -1.779914   -0.759113    0.168344\\nO      2.229325   -0.159089    0.039089\\nC      0.044635    0.805324   -0.005575\\nC     -1.405855    0.370717    0.004733\\nC      0.968885   -0.381375   -0.211624\\nH      0.192827    1.571512   -0.776075\\nH      0.228821    1.313378    0.958129\\nH      0.577890   -1.329321    0.192495\\nH     -2.133178    1.201456   -0.116372\\n9\\n\\nO     -1.778973   -0.732924    0.302941\\nO      2.234560   -0.144720   -0.014735\\nC      0.045410    0.808137   -0.005218\\nC     -1.405513    0.369128    0.004495\\nC      0.967768   -0.382597   -0.211742\\nH      0.201004    1.571714   -0.775275\\nH      0.227880    1.310647    0.961789\\nH      0.598035   -1.314259    0.247523\\nH     -2.133075    1.171832   -0.239916\\n9\\n\\nO     -1.781920   -0.689784    0.432831\\nO      2.237849   -0.129958   -0.076014\\nC      0.046446    0.811676   -0.004786\\nC     -1.405023    0.367077    0.004192\\nC      0.966242   -0.384086   -0.211872\\nH      0.207714    1.569995   -0.777405\\nH      0.231235    1.309663    0.963742\\nH      0.623987   -1.296774    0.303678\\nH     -2.128501    1.123214   -0.367087\\n9\\n\\nO     -1.788188   -0.631046    0.555282\\nO      2.237782   -0.117092   -0.145981\\nC      0.047869    0.816393   -0.004211\\nC     -1.403754    0.364129    0.003729\\nC      0.963550   -0.385855   -0.211984\\nH      0.212954    1.567141   -0.782154\\nH      0.238698    1.310981    0.964044\\nH      0.654161   -1.276700    0.359305\\nH     -2.117587    1.051642   -0.496576\\n9\\n\\nO     -1.798736   -0.557493    0.667639\\nO      2.232818   -0.106094   -0.231364\\nC      0.049594    0.821854   -0.003549\\nC     -1.401463    0.360417    0.003113\\nC      0.959535   -0.387604   -0.212030\\nH      0.217127    1.563603   -0.788522\\nH      0.248328    1.313713    0.963435\\nH      0.692105   -1.252930    0.416061\\nH     -2.097655    0.956786   -0.622725\\n9\\n\\nO     -1.812209   -0.472186    0.766969\\nO      2.218864   -0.101913   -0.336441\\nC      0.051924    0.828925   -0.002697\\nC     -1.396899    0.355055    0.002164\\nC      0.952640   -0.389313   -0.211933\\nH      0.220323    1.560218   -0.796453\\nH      0.258875    1.319725    0.961887\\nH      0.736359   -1.224936    0.472276\\nH     -2.066065    0.837302   -0.740224\\n9\\n\\nO     -1.831054   -0.376233    0.850973\\nO      2.192540   -0.108132   -0.461156\\nC      0.054750    0.836643   -0.001781\\nC     -1.390656    0.348664    0.000993\\nC      0.943571   -0.390639   -0.211679\\nH      0.222114    1.556651   -0.805563\\nH      0.268089    1.328290    0.959508\\nH      0.788004   -1.193985    0.523948\\nH     -2.022091    0.698108   -0.841632\\n9\\n\\nO     -1.855463   -0.272371    0.917367\\nO      2.147496   -0.128339   -0.605568\\nC      0.058038    0.844993   -0.000800\\nC     -1.382492    0.341187   -0.000417\\nC      0.932119   -0.391513   -0.211249\\nH      0.223441    1.553817   -0.814607\\nH      0.274834    1.339081    0.957029\\nH      0.847775   -1.159424    0.570257\\nH     -1.965881    0.547494   -0.920871\\n9\\n\\nO     -1.888563   -0.159704    0.965533\\nO      2.083219   -0.161651   -0.757847\\nC      0.061104    0.851723   -0.000030\\nC     -1.375126    0.334705   -0.001654\\nC      0.921687   -0.391761   -0.210782\\nH      0.223048    1.550924   -0.822859\\nH      0.278612    1.349290    0.954296\\nH      0.917396   -1.122591    0.607727\\nH     -1.903932    0.396543   -0.974256\\n9\\n\\nO     -1.930483   -0.038823    0.994693\\nO      2.004903   -0.203808   -0.900079\\nC      0.063262    0.855897    0.000436\\nC     -1.369955    0.330366   -0.002493\\nC      0.914358   -0.391596   -0.210409\\nH      0.221479    1.548994   -0.828567\\nH      0.279557    1.355778    0.952289\\nH      0.991801   -1.085555    0.634153\\nH     -1.842585    0.255307   -1.002301\\n9\\n\\nO     -1.981584    0.093094    1.005278\\nO      1.930748   -0.240942   -1.013309\\nC      0.063383    0.855058    0.000316\\nC     -1.370245    0.330725   -0.002431\\nC      0.914527   -0.391116   -0.210351\\nH      0.217137    1.545720   -0.832254\\nH      0.278086    1.357402    0.949861\\nH      1.073306   -1.045517    0.652973\\nH     -1.791152    0.128574   -1.007504\\n9\\n\\nO     -2.037593    0.234353    0.997262\\nO      1.881440   -0.261382   -1.084981\\nC      0.061419    0.849280   -0.000378\\nC     -1.375926    0.335753   -0.001473\\nC      0.922171   -0.390366   -0.210615\\nH      0.209899    1.539889   -0.834991\\nH      0.274632    1.356131    0.946151\\nH      1.150747   -1.006346    0.664910\\nH     -1.752878    0.016035   -0.993396\\n9\\n\\nO     -2.093343    0.381709    0.971075\\nO      1.885430   -0.248246   -1.095873\\nC      0.057640    0.839369   -0.001548\\nC     -1.385795    0.344623    0.000209\\nC      0.935820   -0.389324   -0.211128\\nH      0.199197    1.528864   -0.839556\\nH      0.269885    1.356616    0.939255\\nH      1.198716   -0.982373    0.671235\\nH     -1.728050   -0.084641   -0.962701\\n9\\n\\nO     -2.143760    0.529643    0.927326\\nO      1.970289   -0.186346   -1.006161\\nC      0.052832    0.827070   -0.002993\\nC     -1.397273    0.355445    0.002235\\nC      0.952107   -0.387847   -0.211707\\nH      0.186412    1.511070   -0.848143\\nH      0.264561    1.363008    0.928003\\nH      1.171794   -1.006981    0.666154\\nH     -1.713589   -0.177193   -0.917253\\n9\\n\\nO     -2.185314    0.667272    0.865995\\nO      2.052135   -0.129720   -0.892085\\nC      0.048953    0.817039   -0.004175\\nC     -1.405964    0.364037    0.003822\\nC      0.964675   -0.386409   -0.212114\\nH      0.175972    1.496310   -0.855432\\nH      0.260517    1.370285    0.917402\\nH      1.121713   -1.047974    0.649702\\nH     -1.699191   -0.270067   -0.857495\\n9\\n\\nO     -2.219275    0.790138    0.787676\\nO      2.109995   -0.092957   -0.788711\\nC      0.046519    0.810383   -0.004954\\nC     -1.411446    0.369579    0.004835\\nC      0.972592   -0.385295   -0.212347\\nH      0.169128    1.487698   -0.859412\\nH      0.258062    1.376553    0.909377\\nH      1.071606   -1.088029    0.626542\\nH     -1.682319   -0.363002   -0.782982\\n9\\n\\nO     -2.247246    0.896557    0.693577\\nO      2.153651   -0.070665   -0.688701\\nC      0.045270    0.806761   -0.005394\\nC     -1.414355    0.372533    0.005380\\nC      0.976750   -0.384628   -0.212452\\nH      0.166292    1.485756   -0.859303\\nH      0.256528    1.380506    0.904952\\nH      1.017165   -1.128004    0.596976\\nH     -1.663698   -0.452995   -0.693088\\n9\\n\\nO     -2.270548    0.984423    0.585125\\nO      2.187694   -0.060301   -0.585654\\nC      0.045111    0.805839   -0.005516\\nC     -1.415055    0.373194    0.005506\\nC      0.977610   -0.384366   -0.212456\\nH      0.167883    1.490898   -0.854373\\nH      0.255668    1.380909    0.905071\\nH      0.955304   -1.168213    0.559828\\nH     -1.643586   -0.537003   -0.587593\\n9\\n\\nO     -2.289524    1.053288    0.464544\\nO      2.210977   -0.061315   -0.489781\\nC      0.045778    0.806742   -0.005431\\nC     -1.414252    0.372255    0.005342\\nC      0.976139   -0.384330   -0.212378\\nH      0.172287    1.501985   -0.844913\\nH      0.254787    1.376764    0.909837\\nH      0.892987   -1.204238    0.518161\\nH     -1.623620   -0.611002   -0.466615\\n9\\n\\nO     -2.304538    1.102953    0.334309\\nO      2.223001   -0.067950   -0.418612\\nC      0.046863    0.808409   -0.005263\\nC     -1.412775    0.370597    0.005049\\nC      0.973577   -0.384339   -0.212252\\nH      0.177843    1.516063   -0.832665\\nH      0.253973    1.368923    0.917737\\nH      0.844147   -1.228337    0.484073\\nH     -1.605736   -0.670267   -0.331967\\n9\\n\\nO     -2.315017    1.134217    0.197457\\nO      2.227928   -0.075120   -0.376061\\nC      0.047853    0.809894   -0.005096\\nC     -1.411297    0.369057    0.004762\\nC      0.971109   -0.384284   -0.212132\\nH      0.182480    1.529957   -0.819838\\nH      0.252805    1.358455    0.927146\\nH      0.812395   -1.241582    0.461976\\nH     -1.592424   -0.710495   -0.186601\\n9\\n\\nO     -2.321275    1.145319    0.056819\\nO      2.228806   -0.080322   -0.356061\\nC      0.048552    0.811364   -0.004929\\nC     -1.409626    0.367608    0.004485\\nC      0.968739   -0.384305   -0.212022\\nH      0.185838    1.542194   -0.808129\\nH      0.251502    1.347061    0.936819\\nH      0.794615   -1.246593    0.452108\\nH     -1.582651   -0.729593   -0.035476\\n9\\n\\nO     -2.322905    1.136544   -0.084368\\nO      2.227914   -0.082927   -0.350456\\nC      0.048809    0.812765   -0.004750\\nC     -1.407878    0.366380    0.004234\\nC      0.966735   -0.384478   -0.211949\\nH      0.187195    1.551453   -0.799088\\nH      0.250371    1.336253    0.945501\\nH      0.786883   -1.246701    0.450756\\nH     -1.577675   -0.726642    0.115794\\n9\\n\\nO     -2.320042    1.106920   -0.223035\\nO      2.225232   -0.083868   -0.356464\\nC      0.048857    0.814552   -0.004509\\nC     -1.405741    0.364983    0.003941\\nC      0.964549   -0.384868   -0.211898\\nH      0.188137    1.557543   -0.793457\\nH      0.249673    1.327592    0.952583\\nH      0.786446   -1.243253    0.456204\\nH     -1.575842   -0.703494    0.260793\\n9\\n\\nO     -2.311948    1.057921   -0.356361\\nO      2.220620   -0.084006   -0.374330\\nC      0.048862    0.816962   -0.004181\\nC     -1.403316    0.363274    0.003592\\nC      0.962119   -0.385569   -0.211877\\nH      0.186995    1.559194   -0.793044\\nH      0.251527    1.323598    0.956350\\nH      0.792812   -1.236333    0.468001\\nH     -1.578064   -0.663152    0.394738\\n9\\n\\nO     -2.297958    0.991381   -0.481948\\nO      2.214363   -0.084009   -0.399447\\nC      0.049007    0.819978   -0.003777\\nC     -1.400704    0.361199    0.003184\\nC      0.959362   -0.386511   -0.211873\\nH      0.186077    1.557982   -0.796041\\nH      0.255198    1.322779    0.957919\\nH      0.803575   -1.227116    0.483513\\nH     -1.584935   -0.608685    0.515918\\n9\\n\\nO     -2.277862    0.908326   -0.597671\\nO      2.204821   -0.084964   -0.437194\\nC      0.049436    0.823821   -0.003274\\nC     -1.397671    0.358528    0.002674\\nC      0.955900   -0.387682   -0.211866\\nH      0.185181    1.553991   -0.802495\\nH      0.261004    1.326161    0.956942\\nH      0.820732   -1.214091    0.504267\\nH     -1.595799   -0.542835    0.624027\\n9\\n\\nO     -2.251295    0.811943   -0.701765\\nO      2.192471   -0.086907   -0.483027\\nC      0.050091    0.827967   -0.002740\\nC     -1.394718    0.355651    0.002140\\nC      0.952292   -0.388951   -0.211867\\nH      0.184478    1.548043   -0.810977\\nH      0.268291    1.332370    0.954009\\nH      0.843068   -1.198370    0.527365\\nH     -1.612577   -0.466475    0.719479\\n9\\n\\nO     -2.219746    0.706515   -0.791821\\nO      2.183944   -0.086454   -0.512694\\nC      0.050374    0.830744   -0.002375\\nC     -1.393205    0.353949    0.001836\\nC      0.950496   -0.390026   -0.211927\\nH      0.184900    1.541138   -0.819050\\nH      0.274565    1.337257    0.950781\\nH      0.861018   -1.187295    0.542737\\nH     -1.637366   -0.377910    0.803638\\n9\\n\\nO     -2.185309    0.596936   -0.865951\\nO      2.193499   -0.079084   -0.475059\\nC      0.049525    0.830466   -0.002372\\nC     -1.394559    0.354909    0.002032\\nC      0.952699   -0.390708   -0.212125\\nH      0.186449    1.534431   -0.824455\\nH      0.278579    1.337158    0.948537\\nH      0.848632   -1.197730    0.530426\\nH     -1.673234   -0.273673    0.877035\\n9\\n\\nO     -2.150049    0.484571   -0.922932\\nO      2.225095   -0.077117   -0.286413\\nC      0.047063    0.827169   -0.002708\\nC     -1.398417    0.358641    0.002728\\nC      0.959019   -0.391144   -0.212485\\nH      0.190859    1.532273   -0.823503\\nH      0.279084    1.327220    0.949912\\nH      0.761747   -1.257230    0.440085\\nH     -1.717196   -0.153800    0.937703\\n9\\n\\nO     -2.088298    0.348285   -0.981031\\nO      1.254752   -1.079304    0.852430\\nC      0.050784    0.836681   -0.001585\\nC     -1.388665    0.349994    0.001079\\nC      0.945545   -0.392008   -0.211960\\nH      0.205470    1.521886   -0.837560\\nH      0.316686    1.321018    0.940433\\nH      0.727216   -1.011870   -1.092529\\nH     -1.730426   -0.096722    0.958366\\n9\\n\\nO     -2.047754    0.222687   -1.002213\\nO      1.262011   -1.080904    0.851323\\nC      0.050109    0.833822   -0.001943\\nC     -1.393073    0.352840    0.001678\\nC      0.950629   -0.391995   -0.212202\\nH      0.206609    1.513236   -0.842784\\nH      0.316359    1.325351    0.935609\\nH      0.716609   -1.015575   -1.086657\\nH     -1.783148    0.034583    0.991478\\n9\\n\\nO     -2.013363    0.100525   -1.002147\\nO      1.248022   -1.098554    0.846792\\nC      0.048835    0.827272   -0.002774\\nC     -1.401159    0.358587    0.002849\\nC      0.959989   -0.391192   -0.212541\\nH      0.206170    1.502254   -0.847588\\nH      0.314471    1.328760    0.929602\\nH      0.720173   -1.007688   -1.091674\\nH     -1.843946    0.185857    1.006791\\n9\\n\\nO     -1.983706   -0.019864   -0.981678\\nO      1.223816   -1.120801    0.840469\\nC      0.047551    0.819388   -0.003787\\nC     -1.410085    0.365125    0.004168\\nC      0.970200   -0.389846   -0.212847\\nH      0.204607    1.494055   -0.849601\\nH      0.311035    1.329595    0.924503\\nH      0.733961   -0.994032   -1.102602\\nH     -1.904764    0.349450    0.998836\\n9\\n\\nO     -1.959035   -0.136962   -0.941206\\nO      1.209720   -1.133613    0.836459\\nC      0.046184    0.810846   -0.004886\\nC     -1.418759    0.371881    0.005505\\nC      0.980240   -0.388060   -0.213085\\nH      0.199993    1.488500   -0.849765\\nH      0.307109    1.329466    0.919632\\nH      0.746980   -0.985970   -1.108718\\nH     -1.961435    0.518237    0.964171\\n9\\n\\nO     -1.937220   -0.250188   -0.881924\\nO      1.212685   -1.131963    0.837793\\nC      0.045065    0.803160   -0.005880\\nC     -1.425399    0.377536    0.006594\\nC      0.987999   -0.386029   -0.213180\\nH      0.193847    1.486923   -0.847870\\nH      0.303198    1.328699    0.915742\\nH      0.753816   -0.987561   -1.106572\\nH     -2.008819    0.679810    0.903217\\n9\\n\\nO     -1.918708   -0.356527   -0.804795\\nO      1.232308   -1.116945    0.844311\\nC      0.043924    0.796546   -0.006727\\nC     -1.429938    0.382119    0.007436\\nC      0.993679   -0.383997   -0.213175\\nH      0.185977    1.487673   -0.845159\\nH      0.299430    1.328371    0.912451\\nH      0.752722   -0.999044   -1.095540\\nH     -2.045860    0.828241    0.818738\\n9\\n\\nO     -1.903544   -0.452826   -0.711925\\nO      1.267061   -1.089647    0.854703\\nC      0.042617    0.790920   -0.007431\\nC     -1.432928    0.385908    0.008096\\nC      0.997976   -0.382161   -0.213131\\nH      0.177770    1.490463   -0.841352\\nH      0.294938    1.327654    0.910203\\nH      0.741772   -1.019929   -1.074831\\nH     -2.073486    0.956113    0.716716\\n9\\n\\nO     -1.890268   -0.537512   -0.605734\\nO      1.317748   -1.049288    0.866833\\nC      0.041380    0.786883   -0.007922\\nC     -1.434119    0.388475    0.008503\\nC      1.000404   -0.380691   -0.213047\\nH      0.170304    1.494181   -0.837538\\nH      0.290551    1.327822    0.908623\\nH      0.719511   -1.049929   -1.042451\\nH     -2.092605    1.060720    0.602635\\n9\\n\\nO     -1.877770   -0.609030   -0.489024\\nO      1.392760   -0.988443    0.878158\\nC      0.040283    0.784545   -0.008189\\nC     -1.433909    0.389866    0.008683\\nC      1.001291   -0.379743   -0.212960\\nH      0.164352    1.499595   -0.832992\\nH      0.285773    1.327893    0.908457\\nH      0.681840   -1.093237   -0.989706\\nH     -2.105939    1.140920    0.481398\\n9\\n\\nO     -1.819219   -0.690458   -0.369300\\nO      2.194374   -0.213656    0.227863\\nC      0.043106    0.800514   -0.006140\\nC     -1.409640    0.374553    0.005429\\nC      0.974200   -0.380400   -0.211754\\nH      0.158810    1.555413   -0.798607\\nH      0.258279    1.329470    0.935414\\nH      0.539603   -1.369959   -0.009708\\nH     -2.109018    1.165064    0.353656\\n9\\n\\nO     -1.804962   -0.733035   -0.239474\\nO      2.205306   -0.200482    0.182822\\nC      0.043332    0.800635   -0.006132\\nC     -1.408338    0.373980    0.005287\\nC      0.972671   -0.379948   -0.211621\\nH      0.164773    1.560298   -0.792195\\nH      0.250010    1.326533    0.940453\\nH      0.544034   -1.362615    0.035449\\nH     -2.118032    1.197467    0.235914\\n9\\n\\nO     -1.792949   -0.759194   -0.105218\\nO      2.214597   -0.186713    0.136348\\nC      0.043637    0.801647   -0.006011\\nC     -1.407102    0.373043    0.005101\\nC      0.971130   -0.380023   -0.211556\\nH      0.173720    1.565417   -0.785350\\nH      0.241055    1.322321    0.946739\\nH      0.551464   -1.353394    0.085929\\nH     -2.125112    1.213135    0.120330\\n9\\n\\nO     -1.784601   -0.767918    0.031477\\nO      2.222639   -0.173063    0.088687\\nC      0.044067    0.803190   -0.005828\\nC     -1.406322    0.371980    0.004922\\nC      0.969920   -0.380503   -0.211560\\nH      0.183504    1.569391   -0.779569\\nH      0.233531    1.317435    0.953000\\nH      0.562545   -1.342302    0.138523\\nH     -2.130243    1.214657    0.003333\\n\",\"xyzs\");\n\tviewer_1615338522685843.setStyle({\"stick\": {\"radius\": 0.2}, \"sphere\": {\"scale\": 0.25}});\n\tviewer_1615338522685843.animate({\"loop\": \"forward\", \"reps\": 0, \"step\": 1, \"interval\": 60});\n\tviewer_1615338522685843.addPropertyLabels(\"index\",\"\",{\"fontSize\": 15, \"fontColor\": \"white\", \"showBackground\": true, \"alignment\": \"center\", \"backgroundOpacity\": 0.2, \"backgroundColor\": \"black\"});\n\tviewer_1615338522685843.zoomTo();\nviewer_1615338522685843.render();\n});\n</script><script>\n            $3Dmolpromise.done(function() { //wrap in promise for non-interactive functionality\n                \n                viewer_1615338522685843.render();\n            });\n            </script>",
      "text/html": [
       "<div id=\"3dmolviewer_1615338522685843\"  style=\"position: relative; width: 400px; height: 400px\">\n",
       "        <p id=\"3dmolwarning_1615338522685843\" style=\"background-color:#ffcccc;color:black\">You appear to be running in JupyterLab (or JavaScript failed to load for some other reason).  You need to install the 3dmol extension: <br>\n",
       "        <tt>jupyter labextension install jupyterlab_3dmol</tt></p>\n",
       "        </div>\n",
       "<script>\n",
       "\n",
       "var loadScriptAsync = function(uri){\n",
       "  return new Promise((resolve, reject) => {\n",
       "    var tag = document.createElement('script');\n",
       "    tag.src = uri;\n",
       "    tag.async = true;\n",
       "    tag.onload = () => {\n",
       "      resolve();\n",
       "    };\n",
       "  var firstScriptTag = document.getElementsByTagName('script')[0];\n",
       "  firstScriptTag.parentNode.insertBefore(tag, firstScriptTag);\n",
       "});\n",
       "};\n",
       "\n",
       "if(typeof $3Dmolpromise === 'undefined') {\n",
       "$3Dmolpromise = null;\n",
       "  $3Dmolpromise = loadScriptAsync('https://3dmol.csb.pitt.edu/build/3Dmol.js');\n",
       "}\n",
       "\n",
       "var viewer_1615338522685843 = null;\n",
       "var warn = document.getElementById(\"3dmolwarning_1615338522685843\");\n",
       "if(warn) {\n",
       "    warn.parentNode.removeChild(warn);\n",
       "}\n",
       "$3Dmolpromise.then(function() {\n",
       "viewer_1615338522685843 = $3Dmol.createViewer($(\"#3dmolviewer_1615338522685843\"),{backgroundColor:\"white\"});\n",
       "\tviewer_1615338522685843.addModelsAsFrames(\"9\\n\\nO     -1.784610   -0.767921    0.031477\\nO      2.222675   -0.172980    0.088468\\nC      0.044071    0.803194   -0.005828\\nC     -1.406323    0.371977    0.004922\\nC      0.969917   -0.380504   -0.211560\\nH      0.183483    1.569332   -0.779640\\nH      0.233614    1.317531    0.952933\\nH      0.562657   -1.342301    0.138643\\nH     -2.130259    1.214643    0.003295\\n9\\n\\nO     -1.779914   -0.759113    0.168344\\nO      2.229325   -0.159089    0.039089\\nC      0.044635    0.805324   -0.005575\\nC     -1.405855    0.370717    0.004733\\nC      0.968885   -0.381375   -0.211624\\nH      0.192827    1.571512   -0.776075\\nH      0.228821    1.313378    0.958129\\nH      0.577890   -1.329321    0.192495\\nH     -2.133178    1.201456   -0.116372\\n9\\n\\nO     -1.778973   -0.732924    0.302941\\nO      2.234560   -0.144720   -0.014735\\nC      0.045410    0.808137   -0.005218\\nC     -1.405513    0.369128    0.004495\\nC      0.967768   -0.382597   -0.211742\\nH      0.201004    1.571714   -0.775275\\nH      0.227880    1.310647    0.961789\\nH      0.598035   -1.314259    0.247523\\nH     -2.133075    1.171832   -0.239916\\n9\\n\\nO     -1.781920   -0.689784    0.432831\\nO      2.237849   -0.129958   -0.076014\\nC      0.046446    0.811676   -0.004786\\nC     -1.405023    0.367077    0.004192\\nC      0.966242   -0.384086   -0.211872\\nH      0.207714    1.569995   -0.777405\\nH      0.231235    1.309663    0.963742\\nH      0.623987   -1.296774    0.303678\\nH     -2.128501    1.123214   -0.367087\\n9\\n\\nO     -1.788188   -0.631046    0.555282\\nO      2.237782   -0.117092   -0.145981\\nC      0.047869    0.816393   -0.004211\\nC     -1.403754    0.364129    0.003729\\nC      0.963550   -0.385855   -0.211984\\nH      0.212954    1.567141   -0.782154\\nH      0.238698    1.310981    0.964044\\nH      0.654161   -1.276700    0.359305\\nH     -2.117587    1.051642   -0.496576\\n9\\n\\nO     -1.798736   -0.557493    0.667639\\nO      2.232818   -0.106094   -0.231364\\nC      0.049594    0.821854   -0.003549\\nC     -1.401463    0.360417    0.003113\\nC      0.959535   -0.387604   -0.212030\\nH      0.217127    1.563603   -0.788522\\nH      0.248328    1.313713    0.963435\\nH      0.692105   -1.252930    0.416061\\nH     -2.097655    0.956786   -0.622725\\n9\\n\\nO     -1.812209   -0.472186    0.766969\\nO      2.218864   -0.101913   -0.336441\\nC      0.051924    0.828925   -0.002697\\nC     -1.396899    0.355055    0.002164\\nC      0.952640   -0.389313   -0.211933\\nH      0.220323    1.560218   -0.796453\\nH      0.258875    1.319725    0.961887\\nH      0.736359   -1.224936    0.472276\\nH     -2.066065    0.837302   -0.740224\\n9\\n\\nO     -1.831054   -0.376233    0.850973\\nO      2.192540   -0.108132   -0.461156\\nC      0.054750    0.836643   -0.001781\\nC     -1.390656    0.348664    0.000993\\nC      0.943571   -0.390639   -0.211679\\nH      0.222114    1.556651   -0.805563\\nH      0.268089    1.328290    0.959508\\nH      0.788004   -1.193985    0.523948\\nH     -2.022091    0.698108   -0.841632\\n9\\n\\nO     -1.855463   -0.272371    0.917367\\nO      2.147496   -0.128339   -0.605568\\nC      0.058038    0.844993   -0.000800\\nC     -1.382492    0.341187   -0.000417\\nC      0.932119   -0.391513   -0.211249\\nH      0.223441    1.553817   -0.814607\\nH      0.274834    1.339081    0.957029\\nH      0.847775   -1.159424    0.570257\\nH     -1.965881    0.547494   -0.920871\\n9\\n\\nO     -1.888563   -0.159704    0.965533\\nO      2.083219   -0.161651   -0.757847\\nC      0.061104    0.851723   -0.000030\\nC     -1.375126    0.334705   -0.001654\\nC      0.921687   -0.391761   -0.210782\\nH      0.223048    1.550924   -0.822859\\nH      0.278612    1.349290    0.954296\\nH      0.917396   -1.122591    0.607727\\nH     -1.903932    0.396543   -0.974256\\n9\\n\\nO     -1.930483   -0.038823    0.994693\\nO      2.004903   -0.203808   -0.900079\\nC      0.063262    0.855897    0.000436\\nC     -1.369955    0.330366   -0.002493\\nC      0.914358   -0.391596   -0.210409\\nH      0.221479    1.548994   -0.828567\\nH      0.279557    1.355778    0.952289\\nH      0.991801   -1.085555    0.634153\\nH     -1.842585    0.255307   -1.002301\\n9\\n\\nO     -1.981584    0.093094    1.005278\\nO      1.930748   -0.240942   -1.013309\\nC      0.063383    0.855058    0.000316\\nC     -1.370245    0.330725   -0.002431\\nC      0.914527   -0.391116   -0.210351\\nH      0.217137    1.545720   -0.832254\\nH      0.278086    1.357402    0.949861\\nH      1.073306   -1.045517    0.652973\\nH     -1.791152    0.128574   -1.007504\\n9\\n\\nO     -2.037593    0.234353    0.997262\\nO      1.881440   -0.261382   -1.084981\\nC      0.061419    0.849280   -0.000378\\nC     -1.375926    0.335753   -0.001473\\nC      0.922171   -0.390366   -0.210615\\nH      0.209899    1.539889   -0.834991\\nH      0.274632    1.356131    0.946151\\nH      1.150747   -1.006346    0.664910\\nH     -1.752878    0.016035   -0.993396\\n9\\n\\nO     -2.093343    0.381709    0.971075\\nO      1.885430   -0.248246   -1.095873\\nC      0.057640    0.839369   -0.001548\\nC     -1.385795    0.344623    0.000209\\nC      0.935820   -0.389324   -0.211128\\nH      0.199197    1.528864   -0.839556\\nH      0.269885    1.356616    0.939255\\nH      1.198716   -0.982373    0.671235\\nH     -1.728050   -0.084641   -0.962701\\n9\\n\\nO     -2.143760    0.529643    0.927326\\nO      1.970289   -0.186346   -1.006161\\nC      0.052832    0.827070   -0.002993\\nC     -1.397273    0.355445    0.002235\\nC      0.952107   -0.387847   -0.211707\\nH      0.186412    1.511070   -0.848143\\nH      0.264561    1.363008    0.928003\\nH      1.171794   -1.006981    0.666154\\nH     -1.713589   -0.177193   -0.917253\\n9\\n\\nO     -2.185314    0.667272    0.865995\\nO      2.052135   -0.129720   -0.892085\\nC      0.048953    0.817039   -0.004175\\nC     -1.405964    0.364037    0.003822\\nC      0.964675   -0.386409   -0.212114\\nH      0.175972    1.496310   -0.855432\\nH      0.260517    1.370285    0.917402\\nH      1.121713   -1.047974    0.649702\\nH     -1.699191   -0.270067   -0.857495\\n9\\n\\nO     -2.219275    0.790138    0.787676\\nO      2.109995   -0.092957   -0.788711\\nC      0.046519    0.810383   -0.004954\\nC     -1.411446    0.369579    0.004835\\nC      0.972592   -0.385295   -0.212347\\nH      0.169128    1.487698   -0.859412\\nH      0.258062    1.376553    0.909377\\nH      1.071606   -1.088029    0.626542\\nH     -1.682319   -0.363002   -0.782982\\n9\\n\\nO     -2.247246    0.896557    0.693577\\nO      2.153651   -0.070665   -0.688701\\nC      0.045270    0.806761   -0.005394\\nC     -1.414355    0.372533    0.005380\\nC      0.976750   -0.384628   -0.212452\\nH      0.166292    1.485756   -0.859303\\nH      0.256528    1.380506    0.904952\\nH      1.017165   -1.128004    0.596976\\nH     -1.663698   -0.452995   -0.693088\\n9\\n\\nO     -2.270548    0.984423    0.585125\\nO      2.187694   -0.060301   -0.585654\\nC      0.045111    0.805839   -0.005516\\nC     -1.415055    0.373194    0.005506\\nC      0.977610   -0.384366   -0.212456\\nH      0.167883    1.490898   -0.854373\\nH      0.255668    1.380909    0.905071\\nH      0.955304   -1.168213    0.559828\\nH     -1.643586   -0.537003   -0.587593\\n9\\n\\nO     -2.289524    1.053288    0.464544\\nO      2.210977   -0.061315   -0.489781\\nC      0.045778    0.806742   -0.005431\\nC     -1.414252    0.372255    0.005342\\nC      0.976139   -0.384330   -0.212378\\nH      0.172287    1.501985   -0.844913\\nH      0.254787    1.376764    0.909837\\nH      0.892987   -1.204238    0.518161\\nH     -1.623620   -0.611002   -0.466615\\n9\\n\\nO     -2.304538    1.102953    0.334309\\nO      2.223001   -0.067950   -0.418612\\nC      0.046863    0.808409   -0.005263\\nC     -1.412775    0.370597    0.005049\\nC      0.973577   -0.384339   -0.212252\\nH      0.177843    1.516063   -0.832665\\nH      0.253973    1.368923    0.917737\\nH      0.844147   -1.228337    0.484073\\nH     -1.605736   -0.670267   -0.331967\\n9\\n\\nO     -2.315017    1.134217    0.197457\\nO      2.227928   -0.075120   -0.376061\\nC      0.047853    0.809894   -0.005096\\nC     -1.411297    0.369057    0.004762\\nC      0.971109   -0.384284   -0.212132\\nH      0.182480    1.529957   -0.819838\\nH      0.252805    1.358455    0.927146\\nH      0.812395   -1.241582    0.461976\\nH     -1.592424   -0.710495   -0.186601\\n9\\n\\nO     -2.321275    1.145319    0.056819\\nO      2.228806   -0.080322   -0.356061\\nC      0.048552    0.811364   -0.004929\\nC     -1.409626    0.367608    0.004485\\nC      0.968739   -0.384305   -0.212022\\nH      0.185838    1.542194   -0.808129\\nH      0.251502    1.347061    0.936819\\nH      0.794615   -1.246593    0.452108\\nH     -1.582651   -0.729593   -0.035476\\n9\\n\\nO     -2.322905    1.136544   -0.084368\\nO      2.227914   -0.082927   -0.350456\\nC      0.048809    0.812765   -0.004750\\nC     -1.407878    0.366380    0.004234\\nC      0.966735   -0.384478   -0.211949\\nH      0.187195    1.551453   -0.799088\\nH      0.250371    1.336253    0.945501\\nH      0.786883   -1.246701    0.450756\\nH     -1.577675   -0.726642    0.115794\\n9\\n\\nO     -2.320042    1.106920   -0.223035\\nO      2.225232   -0.083868   -0.356464\\nC      0.048857    0.814552   -0.004509\\nC     -1.405741    0.364983    0.003941\\nC      0.964549   -0.384868   -0.211898\\nH      0.188137    1.557543   -0.793457\\nH      0.249673    1.327592    0.952583\\nH      0.786446   -1.243253    0.456204\\nH     -1.575842   -0.703494    0.260793\\n9\\n\\nO     -2.311948    1.057921   -0.356361\\nO      2.220620   -0.084006   -0.374330\\nC      0.048862    0.816962   -0.004181\\nC     -1.403316    0.363274    0.003592\\nC      0.962119   -0.385569   -0.211877\\nH      0.186995    1.559194   -0.793044\\nH      0.251527    1.323598    0.956350\\nH      0.792812   -1.236333    0.468001\\nH     -1.578064   -0.663152    0.394738\\n9\\n\\nO     -2.297958    0.991381   -0.481948\\nO      2.214363   -0.084009   -0.399447\\nC      0.049007    0.819978   -0.003777\\nC     -1.400704    0.361199    0.003184\\nC      0.959362   -0.386511   -0.211873\\nH      0.186077    1.557982   -0.796041\\nH      0.255198    1.322779    0.957919\\nH      0.803575   -1.227116    0.483513\\nH     -1.584935   -0.608685    0.515918\\n9\\n\\nO     -2.277862    0.908326   -0.597671\\nO      2.204821   -0.084964   -0.437194\\nC      0.049436    0.823821   -0.003274\\nC     -1.397671    0.358528    0.002674\\nC      0.955900   -0.387682   -0.211866\\nH      0.185181    1.553991   -0.802495\\nH      0.261004    1.326161    0.956942\\nH      0.820732   -1.214091    0.504267\\nH     -1.595799   -0.542835    0.624027\\n9\\n\\nO     -2.251295    0.811943   -0.701765\\nO      2.192471   -0.086907   -0.483027\\nC      0.050091    0.827967   -0.002740\\nC     -1.394718    0.355651    0.002140\\nC      0.952292   -0.388951   -0.211867\\nH      0.184478    1.548043   -0.810977\\nH      0.268291    1.332370    0.954009\\nH      0.843068   -1.198370    0.527365\\nH     -1.612577   -0.466475    0.719479\\n9\\n\\nO     -2.219746    0.706515   -0.791821\\nO      2.183944   -0.086454   -0.512694\\nC      0.050374    0.830744   -0.002375\\nC     -1.393205    0.353949    0.001836\\nC      0.950496   -0.390026   -0.211927\\nH      0.184900    1.541138   -0.819050\\nH      0.274565    1.337257    0.950781\\nH      0.861018   -1.187295    0.542737\\nH     -1.637366   -0.377910    0.803638\\n9\\n\\nO     -2.185309    0.596936   -0.865951\\nO      2.193499   -0.079084   -0.475059\\nC      0.049525    0.830466   -0.002372\\nC     -1.394559    0.354909    0.002032\\nC      0.952699   -0.390708   -0.212125\\nH      0.186449    1.534431   -0.824455\\nH      0.278579    1.337158    0.948537\\nH      0.848632   -1.197730    0.530426\\nH     -1.673234   -0.273673    0.877035\\n9\\n\\nO     -2.150049    0.484571   -0.922932\\nO      2.225095   -0.077117   -0.286413\\nC      0.047063    0.827169   -0.002708\\nC     -1.398417    0.358641    0.002728\\nC      0.959019   -0.391144   -0.212485\\nH      0.190859    1.532273   -0.823503\\nH      0.279084    1.327220    0.949912\\nH      0.761747   -1.257230    0.440085\\nH     -1.717196   -0.153800    0.937703\\n9\\n\\nO     -2.088298    0.348285   -0.981031\\nO      1.254752   -1.079304    0.852430\\nC      0.050784    0.836681   -0.001585\\nC     -1.388665    0.349994    0.001079\\nC      0.945545   -0.392008   -0.211960\\nH      0.205470    1.521886   -0.837560\\nH      0.316686    1.321018    0.940433\\nH      0.727216   -1.011870   -1.092529\\nH     -1.730426   -0.096722    0.958366\\n9\\n\\nO     -2.047754    0.222687   -1.002213\\nO      1.262011   -1.080904    0.851323\\nC      0.050109    0.833822   -0.001943\\nC     -1.393073    0.352840    0.001678\\nC      0.950629   -0.391995   -0.212202\\nH      0.206609    1.513236   -0.842784\\nH      0.316359    1.325351    0.935609\\nH      0.716609   -1.015575   -1.086657\\nH     -1.783148    0.034583    0.991478\\n9\\n\\nO     -2.013363    0.100525   -1.002147\\nO      1.248022   -1.098554    0.846792\\nC      0.048835    0.827272   -0.002774\\nC     -1.401159    0.358587    0.002849\\nC      0.959989   -0.391192   -0.212541\\nH      0.206170    1.502254   -0.847588\\nH      0.314471    1.328760    0.929602\\nH      0.720173   -1.007688   -1.091674\\nH     -1.843946    0.185857    1.006791\\n9\\n\\nO     -1.983706   -0.019864   -0.981678\\nO      1.223816   -1.120801    0.840469\\nC      0.047551    0.819388   -0.003787\\nC     -1.410085    0.365125    0.004168\\nC      0.970200   -0.389846   -0.212847\\nH      0.204607    1.494055   -0.849601\\nH      0.311035    1.329595    0.924503\\nH      0.733961   -0.994032   -1.102602\\nH     -1.904764    0.349450    0.998836\\n9\\n\\nO     -1.959035   -0.136962   -0.941206\\nO      1.209720   -1.133613    0.836459\\nC      0.046184    0.810846   -0.004886\\nC     -1.418759    0.371881    0.005505\\nC      0.980240   -0.388060   -0.213085\\nH      0.199993    1.488500   -0.849765\\nH      0.307109    1.329466    0.919632\\nH      0.746980   -0.985970   -1.108718\\nH     -1.961435    0.518237    0.964171\\n9\\n\\nO     -1.937220   -0.250188   -0.881924\\nO      1.212685   -1.131963    0.837793\\nC      0.045065    0.803160   -0.005880\\nC     -1.425399    0.377536    0.006594\\nC      0.987999   -0.386029   -0.213180\\nH      0.193847    1.486923   -0.847870\\nH      0.303198    1.328699    0.915742\\nH      0.753816   -0.987561   -1.106572\\nH     -2.008819    0.679810    0.903217\\n9\\n\\nO     -1.918708   -0.356527   -0.804795\\nO      1.232308   -1.116945    0.844311\\nC      0.043924    0.796546   -0.006727\\nC     -1.429938    0.382119    0.007436\\nC      0.993679   -0.383997   -0.213175\\nH      0.185977    1.487673   -0.845159\\nH      0.299430    1.328371    0.912451\\nH      0.752722   -0.999044   -1.095540\\nH     -2.045860    0.828241    0.818738\\n9\\n\\nO     -1.903544   -0.452826   -0.711925\\nO      1.267061   -1.089647    0.854703\\nC      0.042617    0.790920   -0.007431\\nC     -1.432928    0.385908    0.008096\\nC      0.997976   -0.382161   -0.213131\\nH      0.177770    1.490463   -0.841352\\nH      0.294938    1.327654    0.910203\\nH      0.741772   -1.019929   -1.074831\\nH     -2.073486    0.956113    0.716716\\n9\\n\\nO     -1.890268   -0.537512   -0.605734\\nO      1.317748   -1.049288    0.866833\\nC      0.041380    0.786883   -0.007922\\nC     -1.434119    0.388475    0.008503\\nC      1.000404   -0.380691   -0.213047\\nH      0.170304    1.494181   -0.837538\\nH      0.290551    1.327822    0.908623\\nH      0.719511   -1.049929   -1.042451\\nH     -2.092605    1.060720    0.602635\\n9\\n\\nO     -1.877770   -0.609030   -0.489024\\nO      1.392760   -0.988443    0.878158\\nC      0.040283    0.784545   -0.008189\\nC     -1.433909    0.389866    0.008683\\nC      1.001291   -0.379743   -0.212960\\nH      0.164352    1.499595   -0.832992\\nH      0.285773    1.327893    0.908457\\nH      0.681840   -1.093237   -0.989706\\nH     -2.105939    1.140920    0.481398\\n9\\n\\nO     -1.819219   -0.690458   -0.369300\\nO      2.194374   -0.213656    0.227863\\nC      0.043106    0.800514   -0.006140\\nC     -1.409640    0.374553    0.005429\\nC      0.974200   -0.380400   -0.211754\\nH      0.158810    1.555413   -0.798607\\nH      0.258279    1.329470    0.935414\\nH      0.539603   -1.369959   -0.009708\\nH     -2.109018    1.165064    0.353656\\n9\\n\\nO     -1.804962   -0.733035   -0.239474\\nO      2.205306   -0.200482    0.182822\\nC      0.043332    0.800635   -0.006132\\nC     -1.408338    0.373980    0.005287\\nC      0.972671   -0.379948   -0.211621\\nH      0.164773    1.560298   -0.792195\\nH      0.250010    1.326533    0.940453\\nH      0.544034   -1.362615    0.035449\\nH     -2.118032    1.197467    0.235914\\n9\\n\\nO     -1.792949   -0.759194   -0.105218\\nO      2.214597   -0.186713    0.136348\\nC      0.043637    0.801647   -0.006011\\nC     -1.407102    0.373043    0.005101\\nC      0.971130   -0.380023   -0.211556\\nH      0.173720    1.565417   -0.785350\\nH      0.241055    1.322321    0.946739\\nH      0.551464   -1.353394    0.085929\\nH     -2.125112    1.213135    0.120330\\n9\\n\\nO     -1.784601   -0.767918    0.031477\\nO      2.222639   -0.173063    0.088687\\nC      0.044067    0.803190   -0.005828\\nC     -1.406322    0.371980    0.004922\\nC      0.969920   -0.380503   -0.211560\\nH      0.183504    1.569391   -0.779569\\nH      0.233531    1.317435    0.953000\\nH      0.562545   -1.342302    0.138523\\nH     -2.130243    1.214657    0.003333\\n\",\"xyzs\");\n",
       "\tviewer_1615338522685843.setStyle({\"stick\": {\"radius\": 0.2}, \"sphere\": {\"scale\": 0.25}});\n",
       "\tviewer_1615338522685843.animate({\"loop\": \"forward\", \"reps\": 0, \"step\": 1, \"interval\": 60});\n",
       "\tviewer_1615338522685843.addPropertyLabels(\"index\",\"\",{\"fontSize\": 15, \"fontColor\": \"white\", \"showBackground\": true, \"alignment\": \"center\", \"backgroundOpacity\": 0.2, \"backgroundColor\": \"black\"});\n",
       "\tviewer_1615338522685843.zoomTo();\n",
       "viewer_1615338522685843.render();\n",
       "});\n",
       "</script><script>\n",
       "            $3Dmolpromise.done(function() { //wrap in promise for non-interactive functionality\n",
       "                \n",
       "                viewer_1615338522685843.render();\n",
       "            });\n",
       "            </script>"
      ]
     },
     "metadata": {},
     "output_type": "display_data"
    }
   ],
   "source": [
    "multiple_xyzs = \"\".join(xyzs)\n",
    "viewer = mol_animation(multiple_xyzs, 'xyzs')\n",
    "viewer.update()"
   ]
  },
  {
   "cell_type": "markdown",
   "id": "blocked-socket",
   "metadata": {},
   "source": [
    "## 4. Interact with intermediate conformers"
   ]
  },
  {
   "cell_type": "code",
   "execution_count": 5,
   "id": "typical-election",
   "metadata": {
    "scrolled": false
   },
   "outputs": [
    {
     "data": {
      "application/vnd.jupyter.widget-view+json": {
       "model_id": "42ffa919c3c64f79acd0d2b1ead78f55",
       "version_major": 2,
       "version_minor": 0
      },
      "text/plain": [
       "interactive(children=(IntSlider(value=0, description='Index', max=45), Output()), _dom_classes=('widget-intera…"
      ]
     },
     "metadata": {},
     "output_type": "display_data"
    },
    {
     "data": {
      "text/plain": [
       "<function __main__.visualize_trajectory(idx)>"
      ]
     },
     "execution_count": 5,
     "metadata": {},
     "output_type": "execute_result"
    }
   ],
   "source": [
    "energies = (good_geo_scf - np.min(good_geo_scf)) * 627.5 / 27.211\n",
    "def visualize_trajectory(idx):\n",
    "    xyz = xyzs[idx]\n",
    "    mol_viewer(xyz, model='xyz').update()\n",
    "    ax = plt.axes()\n",
    "    ax.grid(True)\n",
    "    ax.plot(energies, 'o', color='tab:blue')\n",
    "    ax.plot([idx], [energies[idx]], 'ro')\n",
    "    ax.set_ylabel('kcal/mol')\n",
    "    plt.show()\n",
    "    print(xyzs[idx])\n",
    "    \n",
    "    \n",
    "int_slider = IntSlider(value=starting_pt,\n",
    "                       min=0, max=num_conf-1, step=1,\n",
    "                       description='Index',)\n",
    "\n",
    "interact(visualize_trajectory, \n",
    "         idx=int_slider)\n"
   ]
  },
  {
   "cell_type": "code",
   "execution_count": null,
   "id": "regulation-contrast",
   "metadata": {},
   "outputs": [],
   "source": []
  }
 ],
 "metadata": {
  "@webio": {
   "lastCommId": null,
   "lastKernelId": null
  },
  "kernelspec": {
   "display_name": "Python 3.7.6 64-bit ('arc_env': conda)",
   "language": "python",
   "name": "python37664bitarcenvconda83c4abf9215d4a698ce68e2a44e6e6bc"
  },
  "language_info": {
   "codemirror_mode": {
    "name": "ipython",
    "version": 3
   },
   "file_extension": ".py",
   "mimetype": "text/x-python",
   "name": "python",
   "nbconvert_exporter": "python",
   "pygments_lexer": "ipython3",
   "version": "3.7.7"
  }
 },
 "nbformat": 4,
 "nbformat_minor": 5
}
