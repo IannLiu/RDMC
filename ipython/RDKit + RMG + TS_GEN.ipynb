{
 "cells": [
  {
   "cell_type": "markdown",
   "metadata": {},
   "source": [
    "# A Demo of using RDKitMol as intermediate to generate TS by ts_gen\n",
    "\n",
    "A demo to show how RDKitMol can connect RMG and GCN to help predict TS geometry. GCN requires a same atom ordering for the reactant and the product, which is seldomly accessible in practice. RDKitMol + RMG provides an opportunity to match reactant and product atom indexes according to RMG reaction family. <br>\n",
    "\n",
    "Some codes are compiled from https://github.com/PattanaikL/ts_gen and https://github.com/kspieks/ts_gen_v2.\n"
   ]
  },
  {
   "cell_type": "code",
   "execution_count": 1,
   "metadata": {},
   "outputs": [],
   "source": [
    "import os\n",
    "import sys\n",
    "import subprocess\n",
    "# To add this RDMC into PYTHONPATH in case you doesn't do it\n",
    "sys.path.append(os.path.dirname(os.path.abspath('')))\n",
    "\n",
    "from rdmc.mol import RDKitMol\n",
    "\n",
    "# import RMG dependencies\n",
    "try:\n",
    "    from rdmc.external.rmg import (from_rdkit_mol,\n",
    "                                   load_rmg_database,\n",
    "                                   generate_product_complex,\n",
    "                                   mm)\n",
    "    # Load RMG database\n",
    "    database = load_rmg_database()\n",
    "except (ImportError, ModuleNotFoundError):\n",
    "    print('You need to install RMG-Py first and run this IPYNB in rmg_env!')\n",
    "\n",
    "%load_ext autoreload\n",
    "%autoreload 2"
   ]
  },
  {
   "cell_type": "markdown",
   "metadata": {},
   "source": [
    "### 1. Input molecule information\n",
    "Perceive xyz and generate RMG molecule.\n",
    "- **Please always define the single species end of the reaction as the reactant.**\n",
    "- **Prefered to put the heavier product in the first place of the list.**\n",
    "Here, some examples are provided"
   ]
  },
  {
   "cell_type": "markdown",
   "metadata": {},
   "source": [
    "#### 1.1: Intra H migration (A = B)"
   ]
  },
  {
   "cell_type": "code",
   "execution_count": 2,
   "metadata": {},
   "outputs": [],
   "source": [
    "reactant_xyz = \"\"\"C -1.528265  0.117903  -0.48245\n",
    "C -0.214051  0.632333  0.11045\n",
    "C 0.185971  2.010727  -0.392941\n",
    "O 0.428964  2.005838  -1.836634\n",
    "O 1.53499  1.354342  -2.136876\n",
    "H -1.470265  0.057863  -1.571456\n",
    "H -1.761158  -0.879955  -0.103809\n",
    "H -2.364396  0.775879  -0.226557\n",
    "H -0.285989  0.690961  1.202293\n",
    "H 0.605557  -0.056315  -0.113934\n",
    "H -0.613001  2.746243  -0.275209\n",
    "H 1.100271  2.372681  0.080302\"\"\"\n",
    "\n",
    "product_xyzs = [\"\"\"C 1.765475  -0.57351  -0.068971\n",
    "H 1.474015  -1.391926  -0.715328\n",
    "H 2.791718  -0.529486  0.272883\n",
    "C 0.741534  0.368416  0.460793\n",
    "C -0.510358  0.471107  -0.412585\n",
    "O -1.168692  -0.776861  -0.612765\n",
    "O -1.768685  -1.15259  0.660846\n",
    "H 1.164505  1.37408  0.583524\n",
    "H 0.417329  0.069625  1.470788\n",
    "H -1.221189  1.194071  0.001131\n",
    "H -0.254525  0.771835  -1.433299\n",
    "H -1.297409  -1.977953  0.837367\"\"\"]"
   ]
  },
  {
   "cell_type": "markdown",
   "metadata": {},
   "source": [
    "#### 1.2: Intra_R_Add_Endocyclic (A = B)"
   ]
  },
  {
   "cell_type": "code",
   "execution_count": 3,
   "metadata": {},
   "outputs": [],
   "source": [
    "reactant_xyz = \"\"\"C -1.280629  1.685312  0.071717\n",
    "C -0.442676  0.4472  -0.138756\n",
    "C 0.649852  0.459775  -0.911627\n",
    "C 1.664686  -0.612881  -1.217378\n",
    "O 1.590475  -1.810904  -0.470776\n",
    "C -0.908344  -0.766035  0.616935\n",
    "O -0.479496  -0.70883  2.04303\n",
    "O 0.804383  -0.936239  2.193929\n",
    "H -1.330008  1.940487  1.13602\n",
    "H -0.87426  2.544611  -0.46389\n",
    "H -2.311393  1.527834  -0.265852\n",
    "H 0.884957  1.398914  -1.412655\n",
    "H 2.661334  -0.151824  -1.125202\n",
    "H 1.56564  -0.901818  -2.270488\n",
    "H 1.630132  -1.574551  0.469563\n",
    "H -0.531309  -1.699031  0.2105\n",
    "H -1.994785  -0.790993  0.711395\"\"\"\n",
    "\n",
    "product_xyzs = [\"\"\"C -1.515438  1.173583  -0.148858\n",
    "C -0.776842  -0.102045  0.027824\n",
    "C 0.680366  -0.300896  -0.240616\n",
    "O 1.080339  -1.344575  0.660508\n",
    "O -0.122211  -2.188293  0.768145\n",
    "C -1.192654  -1.233281  0.917593\n",
    "C -1.377606  -0.848982  2.395301\n",
    "O -0.302953  -0.072705  2.896143\n",
    "H -2.596401  1.013314  -0.200053\n",
    "H -1.327563  1.859316  0.692798\n",
    "H -1.211486  1.693094  -1.062486\n",
    "H 0.888934  -0.598866  -1.280033\n",
    "H 1.294351  0.57113  0.013413\n",
    "H -2.08787  -1.759118  0.559676\n",
    "H -1.514675  -1.774461  2.97179\n",
    "H -2.282313  -0.243469  2.505554\n",
    "H 0.511127  -0.541653  2.673033\"\"\"]"
   ]
  },
  {
   "cell_type": "markdown",
   "metadata": {},
   "source": [
    "#### 1.3: ketoenol (A = B)"
   ]
  },
  {
   "cell_type": "code",
   "execution_count": 4,
   "metadata": {},
   "outputs": [],
   "source": [
    "reactant_xyz = \"\"\"O 0.898799  1.722422  0.70012\n",
    "C 0.293754  -0.475947  -0.083092\n",
    "C -1.182804  -0.101736  -0.000207\n",
    "C 1.238805  0.627529  0.330521\n",
    "H 0.527921  -1.348663  0.542462\n",
    "H 0.58037  -0.777872  -1.100185\n",
    "H -1.45745  0.17725  1.018899\n",
    "H -1.813437  -0.937615  -0.310796\n",
    "H -1.404454  0.753989  -0.640868\n",
    "H 2.318497  0.360641  0.272256\"\"\"\n",
    "\n",
    "product_xyzs = [\"\"\"O 2.136128  0.058786  -0.999372\n",
    "C -1.347448  0.039725  0.510465\n",
    "C 0.116046  -0.220125  0.294405\n",
    "C 0.810093  0.253091  -0.73937\n",
    "H -1.530204  0.552623  1.461378\n",
    "H -1.761309  0.662825  -0.286624\n",
    "H -1.923334  -0.892154  0.536088\n",
    "H 0.627132  -0.833978  1.035748\n",
    "H 0.359144  0.869454  -1.510183\n",
    "H 2.513751  -0.490247  -0.302535\"\"\"]"
   ]
  },
  {
   "cell_type": "markdown",
   "metadata": {},
   "source": [
    "#### 1.4: Retroene (A = B + C)"
   ]
  },
  {
   "cell_type": "code",
   "execution_count": 5,
   "metadata": {},
   "outputs": [],
   "source": [
    "reactant_xyz = \"\"\"C -6.006673  2.090429  -0.326601\n",
    "C -4.967524  1.669781  0.388617\n",
    "C -3.589427  2.26746  0.357355\n",
    "C -2.508902  1.272686  -0.104697\n",
    "H -3.327271  2.622795  1.363524\n",
    "H -3.58379  3.147152  -0.296003\n",
    "C -1.100521  1.87264  -0.092522\n",
    "H -2.756221  0.924031  -1.113232\n",
    "H -2.5361  0.386526  0.540381\n",
    "H -1.035149  2.742418  -0.753598\n",
    "H -0.355581  1.145552  -0.426718\n",
    "H -0.818137  2.200037  0.913007\n",
    "H -6.976055  1.60886  -0.26225\n",
    "H -5.925943  2.93703  -1.002368\n",
    "H -5.097445  0.815022  1.052006\"\"\"\n",
    "\n",
    "product_xyzs = [\n",
    "\"\"\"C -1.134399  -0.013643  -0.104812\n",
    "C 0.269995  0.453024  0.142565\n",
    "C 1.359378  -0.302236  0.042286\n",
    "H -1.605932  0.564934  -0.907015\n",
    "H -1.757078  0.122064  0.786524\n",
    "H -1.163175  -1.069646  -0.383531\n",
    "H 0.381197  1.49848  0.425883\n",
    "H 1.301395  -1.350314  -0.236967\n",
    "H 2.348619  0.097335  0.235065\"\"\",\n",
    "\n",
    "\"\"\"C 0.659713  0.003927  0.070539\n",
    "C -0.659713  -0.003926  -0.070539\n",
    "H 1.253364  0.882833  -0.158319\n",
    "H 1.20186  -0.86822  0.420842\n",
    "H -1.20186  0.86822  -0.420842\n",
    "H -1.253364  -0.882833  0.158319\"\"\",\n",
    "]"
   ]
  },
  {
   "cell_type": "markdown",
   "metadata": {},
   "source": [
    "#### 1.5 HO2 Addition"
   ]
  },
  {
   "cell_type": "code",
   "execution_count": 6,
   "metadata": {},
   "outputs": [],
   "source": [
    "reactant_xyz = \"\"\"C -1.890664  -0.709255  -0.271996\n",
    "C -0.601182  0.078056  -0.018811\n",
    "C 0.586457  -0.545096  -0.777924\n",
    "C -0.292203  0.188974  1.451901\n",
    "H -0.683164  -0.56844  2.124827\n",
    "C 0.477032  1.332664  2.012529\n",
    "O -0.367239  2.493656  2.288335\n",
    "O -0.679966  1.393013  -0.618968\n",
    "O -1.811606  2.119506  -0.074789\n",
    "H -1.819659  -1.711353  0.159844\n",
    "H -2.063907  -0.801665  -1.346104\n",
    "H -2.739557  -0.190076  0.171835\n",
    "H 0.374452  -0.548385  -1.849706\n",
    "H 1.501209  0.026135  -0.608139\n",
    "H 0.747239  -1.572318  -0.444379\n",
    "H 1.209047  1.707778  1.296557\n",
    "H 0.998836  1.047896  2.931789\n",
    "H -0.994076  2.235514  2.974109\n",
    "H -1.392774  2.537261  0.704151\"\"\"\n",
    "\n",
    "product_xyzs = [\n",
    "\"\"\"C -1.395681  1.528483  -0.00216\n",
    "C -0.402668  0.411601  -0.210813\n",
    "C -0.997629  -0.972081  -0.127641\n",
    "C 0.890607  0.678979  -0.433435\n",
    "C 2.015631  -0.28316  -0.676721\n",
    "O 2.741986  0.043989  -1.867415\n",
    "H -0.923699  2.509933  -0.072949\n",
    "H -2.200649  1.479183  -0.744922\n",
    "H -1.873843  1.44886  0.981238\n",
    "H -1.839799  -1.068706  -0.822233\n",
    "H -0.283424  -1.765173  -0.346167\n",
    "H -1.400492  -1.154354  0.875459\n",
    "H 1.201336  1.7219  -0.466637\n",
    "H 2.754241  -0.212398  0.127575\n",
    "H 1.667906  -1.32225  -0.7073\n",
    "H 2.101868  0.079395  -2.5857\"\"\",\n",
    "\n",
    "\"\"\"O -0.168488  0.443026  0.0\n",
    "O 1.006323  -0.176508  0.0\n",
    "H -0.837834  -0.266518  0.0\"\"\",\n",
    "]"
   ]
  },
  {
   "cell_type": "markdown",
   "metadata": {},
   "source": [
    "### **Run this cell after xyz definition**"
   ]
  },
  {
   "cell_type": "code",
   "execution_count": 7,
   "metadata": {},
   "outputs": [],
   "source": [
    "r_mol = RDKitMol.FromXYZ(reactant_xyz, backend='pybel', header=False)\n",
    "p_mols = [RDKitMol.FromXYZ(product_xyz, backend='pybel', header=False) \\\n",
    "          for product_xyz in product_xyzs]\n",
    "                 \n",
    "reactants = [from_rdkit_mol(r_mol.ToRWMol())]\n",
    "products = [from_rdkit_mol(p_mol.ToRWMol()) for p_mol in p_mols]"
   ]
  },
  {
   "cell_type": "markdown",
   "metadata": {},
   "source": [
    "### 2. Check if this reaction matches RMG templates and generate product complex\n",
    "If the reaction matches at least one RMG family, the result will be shown. Otherwise,\n",
    "this script will not be helpful"
   ]
  },
  {
   "cell_type": "code",
   "execution_count": 8,
   "metadata": {},
   "outputs": [
    {
     "name": "stdout",
     "output_type": "stream",
     "text": [
      "CC(C)=CCO + [O]O <=> CC(C)([CH]CO)OO\n",
      "RMG family: R_Addition_MultipleBond\n",
      "Is forward reaction: False\n"
     ]
    }
   ],
   "source": [
    "product_match = generate_product_complex(database,\n",
    "                                         reactants,\n",
    "                                         products)\n",
    "\n",
    "# p_complex is a product complex with the same atom indexing as the reactant\n",
    "# p_rmg is its RDKitMol form and product_match is its RMG molecule form\n",
    "p_rmg = RDKitMol.FromRMGMol(product_match)"
   ]
  },
  {
   "cell_type": "code",
   "execution_count": 9,
   "metadata": {},
   "outputs": [],
   "source": [
    "# Get the coordinates of the reactant\n",
    "conf = r_mol.GetConformer(); coords = conf.GetPositions()\n",
    "\n",
    "# Set reactant's coordinates to the product complexes\n",
    "p_rmg.EmbedConformer(); conf = p_rmg.GetConformer(); conf.SetPositions(coords)"
   ]
  },
  {
   "cell_type": "markdown",
   "metadata": {},
   "source": [
    "### 3. Find structure match between product complex and input product molecules"
   ]
  },
  {
   "cell_type": "markdown",
   "metadata": {},
   "source": [
    "#### 3.1 Combine products if necessary"
   ]
  },
  {
   "cell_type": "code",
   "execution_count": 10,
   "metadata": {},
   "outputs": [],
   "source": [
    "# [INPUT for [A = B + C ONLY]]\n",
    "# When locating product, only consider heavy atoms (True) or also consider Hs (False)\n",
    "# So far, not sure which works better\n",
    "heavy = False\n",
    "\n",
    "# When combine two product into a complex the offset to be used\n",
    "# can be a 3D vector in tuple or list or an float number as a proportion of the distance vector\n",
    "# So far, it is not sure how sensitive is TS_gen to the alignment distance\n",
    "offset = 0.1"
   ]
  },
  {
   "cell_type": "code",
   "execution_count": 11,
   "metadata": {
    "scrolled": true
   },
   "outputs": [
    {
     "name": "stdout",
     "output_type": "stream",
     "text": [
      "Combine two products...\n",
      "Product1, Reflect Conformation: False, RMSD: 1.0719072644428473\n",
      "Product2, Reflect Conformation: False, RMSD: 0.051165661452336586\n"
     ]
    }
   ],
   "source": [
    "if len(products) == 1:\n",
    "    p_combine = p_mols[0]  # No need to combine\n",
    "else:\n",
    "    print('Combine two products...')\n",
    "    matches = [p_rmg.GetSubstructMatches(p_mol, uniquify=False)  # unique is used in case both products are the same molecule\n",
    "               for p_mol in p_mols]\n",
    "\n",
    "    if heavy:\n",
    "        heavy_indexes = [[atom.GetIdx() for atom in p_mol.GetAtoms() \\\n",
    "                          if atom.GetAtomicNum() > 1] \\\n",
    "                         for p_mol in p_mols]\n",
    "        # Find the heavy atom match for the first product\n",
    "        matches[0] = tuple(matches[0][0][i] for i in heavy_indexes[0])\n",
    "        # Find the heavy atom match for the second product\n",
    "        for match in matches[1]:\n",
    "            match_tmp = tuple(match[i] for i in heavy_indexes[1])\n",
    "            # Check if any common element\n",
    "            if not(set(matches[0]) & set(match_tmp)):\n",
    "                matches[1] = match_tmp\n",
    "                break\n",
    "    else:\n",
    "        # Otherwise, just use the first match for each product\n",
    "        matches = [match[0] for match in matches]\n",
    "\n",
    "    p_aligns = []\n",
    "    for p_idx, p_mol in enumerate(p_mols):\n",
    "        # Make a copy of p_mol to preserve its original information\n",
    "        p_align = p_mol.Copy()\n",
    "        atom_map = [(prb, ref) for prb, ref in enumerate(matches[p_idx])]\n",
    "        # Align product to the product complex\n",
    "        rmsd, reflect = p_align.GetBestAlign(refMol=p_rmg,\n",
    "                                             atomMap=atom_map)\n",
    "        p_aligns.append(p_align)\n",
    "        print(f'Product{p_idx + 1}, Reflect Conformation: {reflect}, RMSD: {rmsd}')\n",
    "\n",
    "    p_combine = p_aligns[0].CombineMol(p_aligns[1], offset=offset)"
   ]
  },
  {
   "cell_type": "markdown",
   "metadata": {},
   "source": [
    "#### 3.2 Find all possible atom mapping between the reactant and the product."
   ]
  },
  {
   "cell_type": "code",
   "execution_count": 12,
   "metadata": {},
   "outputs": [],
   "source": [
    "matches = p_rmg.GetSubstructMatches(p_combine, uniquify=False)"
   ]
  },
  {
   "cell_type": "markdown",
   "metadata": {},
   "source": [
    "Find the best atom mapping by RMSD. <br>\n",
    "Note, this can perform relatively poorly if the reactant and the product are in different stereotype (cis/trans). or most rotors are significantly different oriented. However, previous step (match according to RMG reaction) makes sure that all heavy atoms and reacting H atoms are consistent, so only H atoms that are more trivial are influenced by this."
   ]
  },
  {
   "cell_type": "code",
   "execution_count": 13,
   "metadata": {},
   "outputs": [
    {
     "name": "stdout",
     "output_type": "stream",
     "text": [
      "Match index: 61, Reflect Conformation: False, RMSD: 0.6128717930885241\n"
     ]
    }
   ],
   "source": [
    "rmsds = []\n",
    "# Make a copy of p_combine to preserve its original information\n",
    "p_align = p_combine.Copy()\n",
    "\n",
    "# Align the combined complex to the rmg generated complex\n",
    "# According to different mapping and find the best one.\n",
    "for i, match in enumerate(matches):\n",
    "    atom_map = [(ref, prb) for ref, prb in enumerate(match)]\n",
    "    rmsd, reflect = p_align.GetBestAlign(refMol=p_rmg,\n",
    "                                         atomMap=atom_map,\n",
    "                                         keepBestConformer=False)\n",
    "    rmsds.append((i, reflect, rmsd))\n",
    "best = sorted(rmsds, key=lambda x: x[2])[0]\n",
    "print('Match index: {0}, Reflect Conformation: {1}, RMSD: {2}'.format(*best))\n",
    "\n",
    "# Realign and reorder atom indexes according to the best match\n",
    "best_match = matches[best[0]]\n",
    "p_align.AlignMol(refMol=p_rmg,\n",
    "                 atomMap=[(ref, prb) for ref, prb in enumerate(best_match)],\n",
    "                 reflect=best[1])\n",
    "new_atom_indexes = [best_match.index(i) for i in range(len(best_match))]\n",
    "p_align = p_align.RenumberAtoms(new_atom_indexes)"
   ]
  },
  {
   "cell_type": "markdown",
   "metadata": {},
   "source": [
    "### 5. View Molecules"
   ]
  },
  {
   "cell_type": "code",
   "execution_count": 14,
   "metadata": {
    "scrolled": false
   },
   "outputs": [
    {
     "name": "stdout",
     "output_type": "stream",
     "text": [
      "reactant    matched product      original product\n"
     ]
    },
    {
     "data": {
      "application/3dmoljs_load.v0": "<div id=\"3dmolviewer_1609355271017104\"  style=\"position: relative; width: 1280px; height: 500px\">\n        <p id=\"3dmolwarning_1609355271017104\" style=\"background-color:#ffcccc;color:black\">You appear to be running in JupyterLab (or JavaScript failed to load for some other reason).  You need to install the 3dmol extension: <br>\n        <tt>jupyter labextension install jupyterlab_3dmol</tt></p>\n        </div>\n<script>\n\nvar loadScriptAsync = function(uri){\n  return new Promise((resolve, reject) => {\n    var tag = document.createElement('script');\n    tag.src = uri;\n    tag.async = true;\n    tag.onload = () => {\n      resolve();\n    };\n  var firstScriptTag = document.getElementsByTagName('script')[0];\n  firstScriptTag.parentNode.insertBefore(tag, firstScriptTag);\n});\n};\n\nif(typeof $3Dmolpromise === 'undefined') {\n$3Dmolpromise = null;\n  $3Dmolpromise = loadScriptAsync('https://3dmol.csb.pitt.edu/build/3Dmol.js');\n}\n\nvar viewer_1609355271017104 = null;\nvar warn = document.getElementById(\"3dmolwarning_1609355271017104\");\nif(warn) {\n    warn.parentNode.removeChild(warn);\n}\n$3Dmolpromise.then(function() {\nvar viewergrid_1609355271017104 = null;\nviewergrid_1609355271017104 = $3Dmol.createViewerGrid($(\"#3dmolviewer_1609355271017104\"),{rows: 1, cols: 4, control_all: false},{backgroundColor:\"white\"});\nviewer_1609355271017104 = viewergrid_1609355271017104[0][0];\n\tviewergrid_1609355271017104[0][0].removeAllModels();\n\tviewergrid_1609355271017104[0][0].addModel(\"\\n     RDKit          3D\\n\\n 19 18  0  0  0  0  0  0  0  0999 V2000\\n   -1.8907   -0.7093   -0.2720 C   0  0  0  0  0  0  0  0  0  0  0  0\\n   -0.6012    0.0781   -0.0188 C   0  0  0  0  0  0  0  0  0  1  0  0\\n    0.5865   -0.5451   -0.7779 C   0  0  0  0  0  0  0  0  0  2  0  0\\n   -0.2922    0.1890    1.4519 C   0  0  0  0  0  3  0  0  0  3  0  0\\n   -0.6832   -0.5684    2.1248 H   0  0  0  0  0  0  0  0  0  4  0  0\\n    0.4770    1.3327    2.0125 C   0  0  0  0  0  0  0  0  0  5  0  0\\n   -0.3672    2.4937    2.2883 O   0  0  0  0  0  0  0  0  0  6  0  0\\n   -0.6800    1.3930   -0.6190 O   0  0  0  0  0  0  0  0  0  7  0  0\\n   -1.8116    2.1195   -0.0748 O   0  0  0  0  0  0  0  0  0  8  0  0\\n   -1.8197   -1.7114    0.1598 H   0  0  0  0  0  0  0  0  0  9  0  0\\n   -2.0639   -0.8017   -1.3461 H   0  0  0  0  0  0  0  0  0 10  0  0\\n   -2.7396   -0.1901    0.1718 H   0  0  0  0  0  0  0  0  0 11  0  0\\n    0.3745   -0.5484   -1.8497 H   0  0  0  0  0  0  0  0  0 12  0  0\\n    1.5012    0.0261   -0.6081 H   0  0  0  0  0  0  0  0  0 13  0  0\\n    0.7472   -1.5723   -0.4444 H   0  0  0  0  0  0  0  0  0 14  0  0\\n    1.2090    1.7078    1.2966 H   0  0  0  0  0  0  0  0  0 15  0  0\\n    0.9988    1.0479    2.9318 H   0  0  0  0  0  0  0  0  0 16  0  0\\n   -0.9941    2.2355    2.9741 H   0  0  0  0  0  0  0  0  0 17  0  0\\n   -1.3928    2.5373    0.7042 H   0  0  0  0  0  0  0  0  0 18  0  0\\n 13  3  1  0\\n 11  1  1  0\\n  3 14  1  0\\n  3 15  1  0\\n  3  2  1  0\\n  8  9  1  0\\n  8  2  1  0\\n  1  2  1  0\\n  1 10  1  0\\n  1 12  1  0\\n  9 19  1  0\\n  2  4  1  0\\n 16  6  1  0\\n  4  6  1  0\\n  4  5  1  0\\n  6  7  1  0\\n  6 17  1  0\\n  7 18  1  0\\nM  RAD  1   4   2\\nM  END\\n\",\"sdf\");\n\tviewergrid_1609355271017104[0][0].setStyle({\"model\": 0},{\"stick\": {}});\n\tviewergrid_1609355271017104[0][0].zoomTo();\n\tviewergrid_1609355271017104[0][1].removeAllModels();\n\tviewergrid_1609355271017104[0][1].addModel(\"\\n     RDKit          3D\\n\\n 19 17  0  0  0  0  0  0  0  0999 V2000\\n   -1.8109   -1.0880   -0.1585 C   0  0  0  0  0  0  0  0  0  0  0  0\\n   -0.5996   -0.3176    0.3064 C   0  0  0  0  0  0  0  0  0  1  0  0\\n    0.5481   -0.3147   -0.6726 C   0  0  0  0  0  0  0  0  0  2  0  0\\n   -0.5891    0.2834    1.5033 C   0  0  0  0  0  0  0  0  0  3  0  0\\n   -1.4796    0.2060    2.1248 H   0  0  0  0  0  0  0  0  0  4  0  0\\n    0.5025    1.0996    2.1299 C   0  0  0  0  0  0  0  0  0  5  0  0\\n    0.0207    2.3736    2.5739 O   0  0  0  0  0  0  0  0  0  6  0  0\\n   -0.7768    1.5519   -0.6852 O   0  0  0  0  0  1  0  0  0  7  0  0\\n   -1.7988    2.2497   -0.2028 O   0  0  0  0  0  0  0  0  0  8  0  0\\n   -1.5576   -2.1372   -0.3513 H   0  0  0  0  0  0  0  0  0  9  0  0\\n   -2.1939   -0.6815   -1.1020 H   0  0  0  0  0  0  0  0  0 10  0  0\\n   -2.6160   -1.0618    0.5778 H   0  0  0  0  0  0  0  0  0 11  0  0\\n    0.2139    0.0447   -1.6525 H   0  0  0  0  0  0  0  0  0 12  0  0\\n    1.3890    0.2999   -0.3532 H   0  0  0  0  0  0  0  0  0 13  0  0\\n    0.9206   -1.3341   -0.8266 H   0  0  0  0  0  0  0  0  0 14  0  0\\n    1.3608    1.2214    1.4590 H   0  0  0  0  0  0  0  0  0 15  0  0\\n    0.8679    0.6091    3.0373 H   0  0  0  0  0  0  0  0  0 16  0  0\\n   -0.3913    2.7979    1.8142 H   0  0  0  0  0  0  0  0  0 17  0  0\\n   -1.4518    2.7116    0.5831 H   0  0  0  0  0  0  0  0  0 18  0  0\\n 18  7  1  0\\n  7  6  1  0\\n 13  3  1  0\\n 11  1  1  0\\n 16  6  1  0\\n  6  4  1  0\\n  6 17  1  0\\n  5  4  1  0\\n  4  2  2  3\\n 14  3  1  0\\n  2  3  1  0\\n  2  1  1  0\\n  3 15  1  0\\n 12  1  1  0\\n  1 10  1  0\\n  9  8  1  0\\n  9 19  1  0\\nM  RAD  1   8   2\\nM  END\\n\",\"sdf\");\n\tviewergrid_1609355271017104[0][1].setStyle({\"model\": 0},{\"stick\": {}});\n\tviewergrid_1609355271017104[0][1].zoomTo();\n\tviewergrid_1609355271017104[0][2].removeAllModels();\n\tviewergrid_1609355271017104[0][2].addModel(\"\\n     RDKit          3D\\n\\n 16 15  0  0  0  0  0  0  0  0999 V2000\\n   -1.3957    1.5285   -0.0022 C   0  0  0  0  0  0  0  0  0  0  0  0\\n   -0.4027    0.4116   -0.2108 C   0  0  0  0  0  0  0  0  0  1  0  0\\n   -0.9976   -0.9721   -0.1276 C   0  0  0  0  0  0  0  0  0  2  0  0\\n    0.8906    0.6790   -0.4334 C   0  0  0  0  0  0  0  0  0  3  0  0\\n    2.0156   -0.2832   -0.6767 C   0  0  0  0  0  0  0  0  0  4  0  0\\n    2.7420    0.0440   -1.8674 O   0  0  0  0  0  0  0  0  0  5  0  0\\n   -0.9237    2.5099   -0.0729 H   0  0  0  0  0  0  0  0  0  6  0  0\\n   -2.2006    1.4792   -0.7449 H   0  0  0  0  0  0  0  0  0  7  0  0\\n   -1.8738    1.4489    0.9812 H   0  0  0  0  0  0  0  0  0  8  0  0\\n   -1.8398   -1.0687   -0.8222 H   0  0  0  0  0  0  0  0  0  9  0  0\\n   -0.2834   -1.7652   -0.3462 H   0  0  0  0  0  0  0  0  0 10  0  0\\n   -1.4005   -1.1544    0.8755 H   0  0  0  0  0  0  0  0  0 11  0  0\\n    1.2013    1.7219   -0.4666 H   0  0  0  0  0  0  0  0  0 12  0  0\\n    2.7542   -0.2124    0.1276 H   0  0  0  0  0  0  0  0  0 13  0  0\\n    1.6679   -1.3222   -0.7073 H   0  0  0  0  0  0  0  0  0 14  0  0\\n    2.1019    0.0794   -2.5857 H   0  0  0  0  0  0  0  0  0 15  0  0\\n 16  6  1  0\\n  6  5  1  0\\n 10  3  1  0\\n  8  1  1  0\\n 15  5  1  0\\n  5  4  1  0\\n  5 14  1  0\\n 13  4  1  0\\n  4  2  2  3\\n 11  3  1  0\\n  2  3  1  0\\n  2  1  1  0\\n  3 12  1  0\\n  7  1  1  0\\n  1  9  1  0\\nM  END\\n\",\"sdf\");\n\tviewergrid_1609355271017104[0][2].setStyle({\"model\": 0},{\"stick\": {}});\n\tviewergrid_1609355271017104[0][2].zoomTo();\n\tviewergrid_1609355271017104[0][3].removeAllModels();\n\tviewergrid_1609355271017104[0][3].addModel(\"\\n     RDKit          3D\\n\\n  3  2  0  0  0  0  0  0  0  0999 V2000\\n   -0.1685    0.4430    0.0000 O   0  0  0  0  0  0  0  0  0  0  0  0\\n    1.0063   -0.1765    0.0000 O   0  0  0  0  0  1  0  0  0  1  0  0\\n   -0.8378   -0.2665    0.0000 H   0  0  0  0  0  0  0  0  0  2  0  0\\n  1  2  1  0\\n  1  3  1  0\\nM  RAD  1   2   2\\nM  END\\n\",\"sdf\");\n\tviewergrid_1609355271017104[0][3].setStyle({\"model\": 0},{\"stick\": {}});\n\tviewergrid_1609355271017104[0][3].zoomTo();\n\tviewergrid_1609355271017104[0][0].render();\n\tviewergrid_1609355271017104[0][1].render();\n\tviewergrid_1609355271017104[0][2].render();\n\tviewergrid_1609355271017104[0][3].render();\nviewergrid_1609355271017104[0][3].render();\nviewergrid_1609355271017104[0][2].render();\nviewergrid_1609355271017104[0][1].render();\nviewergrid_1609355271017104[0][0].render();\n});\n</script>",
      "text/html": [
       "<div id=\"3dmolviewer_1609355271017104\"  style=\"position: relative; width: 1280px; height: 500px\">\n",
       "        <p id=\"3dmolwarning_1609355271017104\" style=\"background-color:#ffcccc;color:black\">You appear to be running in JupyterLab (or JavaScript failed to load for some other reason).  You need to install the 3dmol extension: <br>\n",
       "        <tt>jupyter labextension install jupyterlab_3dmol</tt></p>\n",
       "        </div>\n",
       "<script>\n",
       "\n",
       "var loadScriptAsync = function(uri){\n",
       "  return new Promise((resolve, reject) => {\n",
       "    var tag = document.createElement('script');\n",
       "    tag.src = uri;\n",
       "    tag.async = true;\n",
       "    tag.onload = () => {\n",
       "      resolve();\n",
       "    };\n",
       "  var firstScriptTag = document.getElementsByTagName('script')[0];\n",
       "  firstScriptTag.parentNode.insertBefore(tag, firstScriptTag);\n",
       "});\n",
       "};\n",
       "\n",
       "if(typeof $3Dmolpromise === 'undefined') {\n",
       "$3Dmolpromise = null;\n",
       "  $3Dmolpromise = loadScriptAsync('https://3dmol.csb.pitt.edu/build/3Dmol.js');\n",
       "}\n",
       "\n",
       "var viewer_1609355271017104 = null;\n",
       "var warn = document.getElementById(\"3dmolwarning_1609355271017104\");\n",
       "if(warn) {\n",
       "    warn.parentNode.removeChild(warn);\n",
       "}\n",
       "$3Dmolpromise.then(function() {\n",
       "var viewergrid_1609355271017104 = null;\n",
       "viewergrid_1609355271017104 = $3Dmol.createViewerGrid($(\"#3dmolviewer_1609355271017104\"),{rows: 1, cols: 4, control_all: false},{backgroundColor:\"white\"});\n",
       "viewer_1609355271017104 = viewergrid_1609355271017104[0][0];\n",
       "\tviewergrid_1609355271017104[0][0].removeAllModels();\n",
       "\tviewergrid_1609355271017104[0][0].addModel(\"\\n     RDKit          3D\\n\\n 19 18  0  0  0  0  0  0  0  0999 V2000\\n   -1.8907   -0.7093   -0.2720 C   0  0  0  0  0  0  0  0  0  0  0  0\\n   -0.6012    0.0781   -0.0188 C   0  0  0  0  0  0  0  0  0  1  0  0\\n    0.5865   -0.5451   -0.7779 C   0  0  0  0  0  0  0  0  0  2  0  0\\n   -0.2922    0.1890    1.4519 C   0  0  0  0  0  3  0  0  0  3  0  0\\n   -0.6832   -0.5684    2.1248 H   0  0  0  0  0  0  0  0  0  4  0  0\\n    0.4770    1.3327    2.0125 C   0  0  0  0  0  0  0  0  0  5  0  0\\n   -0.3672    2.4937    2.2883 O   0  0  0  0  0  0  0  0  0  6  0  0\\n   -0.6800    1.3930   -0.6190 O   0  0  0  0  0  0  0  0  0  7  0  0\\n   -1.8116    2.1195   -0.0748 O   0  0  0  0  0  0  0  0  0  8  0  0\\n   -1.8197   -1.7114    0.1598 H   0  0  0  0  0  0  0  0  0  9  0  0\\n   -2.0639   -0.8017   -1.3461 H   0  0  0  0  0  0  0  0  0 10  0  0\\n   -2.7396   -0.1901    0.1718 H   0  0  0  0  0  0  0  0  0 11  0  0\\n    0.3745   -0.5484   -1.8497 H   0  0  0  0  0  0  0  0  0 12  0  0\\n    1.5012    0.0261   -0.6081 H   0  0  0  0  0  0  0  0  0 13  0  0\\n    0.7472   -1.5723   -0.4444 H   0  0  0  0  0  0  0  0  0 14  0  0\\n    1.2090    1.7078    1.2966 H   0  0  0  0  0  0  0  0  0 15  0  0\\n    0.9988    1.0479    2.9318 H   0  0  0  0  0  0  0  0  0 16  0  0\\n   -0.9941    2.2355    2.9741 H   0  0  0  0  0  0  0  0  0 17  0  0\\n   -1.3928    2.5373    0.7042 H   0  0  0  0  0  0  0  0  0 18  0  0\\n 13  3  1  0\\n 11  1  1  0\\n  3 14  1  0\\n  3 15  1  0\\n  3  2  1  0\\n  8  9  1  0\\n  8  2  1  0\\n  1  2  1  0\\n  1 10  1  0\\n  1 12  1  0\\n  9 19  1  0\\n  2  4  1  0\\n 16  6  1  0\\n  4  6  1  0\\n  4  5  1  0\\n  6  7  1  0\\n  6 17  1  0\\n  7 18  1  0\\nM  RAD  1   4   2\\nM  END\\n\",\"sdf\");\n",
       "\tviewergrid_1609355271017104[0][0].setStyle({\"model\": 0},{\"stick\": {}});\n",
       "\tviewergrid_1609355271017104[0][0].zoomTo();\n",
       "\tviewergrid_1609355271017104[0][1].removeAllModels();\n",
       "\tviewergrid_1609355271017104[0][1].addModel(\"\\n     RDKit          3D\\n\\n 19 17  0  0  0  0  0  0  0  0999 V2000\\n   -1.8109   -1.0880   -0.1585 C   0  0  0  0  0  0  0  0  0  0  0  0\\n   -0.5996   -0.3176    0.3064 C   0  0  0  0  0  0  0  0  0  1  0  0\\n    0.5481   -0.3147   -0.6726 C   0  0  0  0  0  0  0  0  0  2  0  0\\n   -0.5891    0.2834    1.5033 C   0  0  0  0  0  0  0  0  0  3  0  0\\n   -1.4796    0.2060    2.1248 H   0  0  0  0  0  0  0  0  0  4  0  0\\n    0.5025    1.0996    2.1299 C   0  0  0  0  0  0  0  0  0  5  0  0\\n    0.0207    2.3736    2.5739 O   0  0  0  0  0  0  0  0  0  6  0  0\\n   -0.7768    1.5519   -0.6852 O   0  0  0  0  0  1  0  0  0  7  0  0\\n   -1.7988    2.2497   -0.2028 O   0  0  0  0  0  0  0  0  0  8  0  0\\n   -1.5576   -2.1372   -0.3513 H   0  0  0  0  0  0  0  0  0  9  0  0\\n   -2.1939   -0.6815   -1.1020 H   0  0  0  0  0  0  0  0  0 10  0  0\\n   -2.6160   -1.0618    0.5778 H   0  0  0  0  0  0  0  0  0 11  0  0\\n    0.2139    0.0447   -1.6525 H   0  0  0  0  0  0  0  0  0 12  0  0\\n    1.3890    0.2999   -0.3532 H   0  0  0  0  0  0  0  0  0 13  0  0\\n    0.9206   -1.3341   -0.8266 H   0  0  0  0  0  0  0  0  0 14  0  0\\n    1.3608    1.2214    1.4590 H   0  0  0  0  0  0  0  0  0 15  0  0\\n    0.8679    0.6091    3.0373 H   0  0  0  0  0  0  0  0  0 16  0  0\\n   -0.3913    2.7979    1.8142 H   0  0  0  0  0  0  0  0  0 17  0  0\\n   -1.4518    2.7116    0.5831 H   0  0  0  0  0  0  0  0  0 18  0  0\\n 18  7  1  0\\n  7  6  1  0\\n 13  3  1  0\\n 11  1  1  0\\n 16  6  1  0\\n  6  4  1  0\\n  6 17  1  0\\n  5  4  1  0\\n  4  2  2  3\\n 14  3  1  0\\n  2  3  1  0\\n  2  1  1  0\\n  3 15  1  0\\n 12  1  1  0\\n  1 10  1  0\\n  9  8  1  0\\n  9 19  1  0\\nM  RAD  1   8   2\\nM  END\\n\",\"sdf\");\n",
       "\tviewergrid_1609355271017104[0][1].setStyle({\"model\": 0},{\"stick\": {}});\n",
       "\tviewergrid_1609355271017104[0][1].zoomTo();\n",
       "\tviewergrid_1609355271017104[0][2].removeAllModels();\n",
       "\tviewergrid_1609355271017104[0][2].addModel(\"\\n     RDKit          3D\\n\\n 16 15  0  0  0  0  0  0  0  0999 V2000\\n   -1.3957    1.5285   -0.0022 C   0  0  0  0  0  0  0  0  0  0  0  0\\n   -0.4027    0.4116   -0.2108 C   0  0  0  0  0  0  0  0  0  1  0  0\\n   -0.9976   -0.9721   -0.1276 C   0  0  0  0  0  0  0  0  0  2  0  0\\n    0.8906    0.6790   -0.4334 C   0  0  0  0  0  0  0  0  0  3  0  0\\n    2.0156   -0.2832   -0.6767 C   0  0  0  0  0  0  0  0  0  4  0  0\\n    2.7420    0.0440   -1.8674 O   0  0  0  0  0  0  0  0  0  5  0  0\\n   -0.9237    2.5099   -0.0729 H   0  0  0  0  0  0  0  0  0  6  0  0\\n   -2.2006    1.4792   -0.7449 H   0  0  0  0  0  0  0  0  0  7  0  0\\n   -1.8738    1.4489    0.9812 H   0  0  0  0  0  0  0  0  0  8  0  0\\n   -1.8398   -1.0687   -0.8222 H   0  0  0  0  0  0  0  0  0  9  0  0\\n   -0.2834   -1.7652   -0.3462 H   0  0  0  0  0  0  0  0  0 10  0  0\\n   -1.4005   -1.1544    0.8755 H   0  0  0  0  0  0  0  0  0 11  0  0\\n    1.2013    1.7219   -0.4666 H   0  0  0  0  0  0  0  0  0 12  0  0\\n    2.7542   -0.2124    0.1276 H   0  0  0  0  0  0  0  0  0 13  0  0\\n    1.6679   -1.3222   -0.7073 H   0  0  0  0  0  0  0  0  0 14  0  0\\n    2.1019    0.0794   -2.5857 H   0  0  0  0  0  0  0  0  0 15  0  0\\n 16  6  1  0\\n  6  5  1  0\\n 10  3  1  0\\n  8  1  1  0\\n 15  5  1  0\\n  5  4  1  0\\n  5 14  1  0\\n 13  4  1  0\\n  4  2  2  3\\n 11  3  1  0\\n  2  3  1  0\\n  2  1  1  0\\n  3 12  1  0\\n  7  1  1  0\\n  1  9  1  0\\nM  END\\n\",\"sdf\");\n",
       "\tviewergrid_1609355271017104[0][2].setStyle({\"model\": 0},{\"stick\": {}});\n",
       "\tviewergrid_1609355271017104[0][2].zoomTo();\n",
       "\tviewergrid_1609355271017104[0][3].removeAllModels();\n",
       "\tviewergrid_1609355271017104[0][3].addModel(\"\\n     RDKit          3D\\n\\n  3  2  0  0  0  0  0  0  0  0999 V2000\\n   -0.1685    0.4430    0.0000 O   0  0  0  0  0  0  0  0  0  0  0  0\\n    1.0063   -0.1765    0.0000 O   0  0  0  0  0  1  0  0  0  1  0  0\\n   -0.8378   -0.2665    0.0000 H   0  0  0  0  0  0  0  0  0  2  0  0\\n  1  2  1  0\\n  1  3  1  0\\nM  RAD  1   2   2\\nM  END\\n\",\"sdf\");\n",
       "\tviewergrid_1609355271017104[0][3].setStyle({\"model\": 0},{\"stick\": {}});\n",
       "\tviewergrid_1609355271017104[0][3].zoomTo();\n",
       "\tviewergrid_1609355271017104[0][0].render();\n",
       "\tviewergrid_1609355271017104[0][1].render();\n",
       "\tviewergrid_1609355271017104[0][2].render();\n",
       "\tviewergrid_1609355271017104[0][3].render();\n",
       "viewergrid_1609355271017104[0][3].render();\n",
       "viewergrid_1609355271017104[0][2].render();\n",
       "viewergrid_1609355271017104[0][1].render();\n",
       "viewergrid_1609355271017104[0][0].render();\n",
       "});\n",
       "</script>"
      ]
     },
     "metadata": {},
     "output_type": "display_data"
    },
    {
     "data": {
      "text/plain": [
       "<py3Dmol.view at 0x7fbb3b9c8310>"
      ]
     },
     "execution_count": 14,
     "metadata": {},
     "output_type": "execute_result"
    }
   ],
   "source": [
    "import py3Dmol\n",
    "\n",
    "def show_mol(mol, view, grid):\n",
    "    from rdkit import Chem\n",
    "    mb = Chem.MolToMolBlock(mol)\n",
    "    view.removeAllModels(viewer=grid)\n",
    "    view.addModel(mb,'sdf', viewer=grid)\n",
    "    view.setStyle({'model':0},{'stick': {}}, viewer=grid)\n",
    "    view.zoomTo(viewer=grid)\n",
    "    return view\n",
    "\n",
    "grid = 3 if len(products) == 1 else 4\n",
    "view = py3Dmol.view(width=320 * grid, height=500, linked=False, viewergrid=(1,grid))\n",
    "show_mol(r_mol.ToRWMol(), view, grid=(0, 0))\n",
    "show_mol(p_align.ToRWMol(), view, grid=(0, 1))\n",
    "for i in range(2, grid):\n",
    "    show_mol(p_mols[i-2].ToRWMol(), view, grid=(0, i))\n",
    "\n",
    "print('reactant    matched product      original product')\n",
    "view.render()"
   ]
  },
  {
   "cell_type": "markdown",
   "metadata": {},
   "source": [
    "### 6. Export to SDF file and run ts_gen"
   ]
  },
  {
   "cell_type": "code",
   "execution_count": 15,
   "metadata": {},
   "outputs": [],
   "source": [
    "r_mol.ToSDFFile('reactant.sdf')\n",
    "p_align.ToSDFFile('product.sdf')"
   ]
  },
  {
   "cell_type": "markdown",
   "metadata": {},
   "source": [
    "#### 6.1 TS Gen V2"
   ]
  },
  {
   "cell_type": "code",
   "execution_count": 16,
   "metadata": {},
   "outputs": [],
   "source": [
    "TS_GEN_PYTHON = '~/Apps/anaconda3/envs/ts_gen_v2/bin/python3.7'\n",
    "TS_GEN_DIR = '~/Apps/ts_gen_v2'"
   ]
  },
  {
   "cell_type": "code",
   "execution_count": 17,
   "metadata": {},
   "outputs": [],
   "source": [
    "try:\n",
    "    subprocess.run(f'export PYTHONPATH=$PYTHONPATH:{TS_GEN_DIR};'\n",
    "                   f'{TS_GEN_PYTHON} {TS_GEN_DIR}/inference.py '\n",
    "                   f'--r_sdf_path reactant.sdf '\n",
    "                   f'--p_sdf_path product.sdf '\n",
    "                   f'--ts_xyz_path TS.xyz',\n",
    "                   check=True,\n",
    "                   shell=True)\n",
    "except subprocess.CalledProcessError as e:\n",
    "    print(e)\n",
    "else:\n",
    "    with open('TS.xyz', 'r') as f:\n",
    "        ts_xyz=f.read()\n",
    "    ts = RDKitMol.FromXYZ(ts_xyz)"
   ]
  },
  {
   "cell_type": "markdown",
   "metadata": {},
   "source": [
    "### 7. Visualize TS"
   ]
  },
  {
   "cell_type": "code",
   "execution_count": 18,
   "metadata": {},
   "outputs": [
    {
     "name": "stdout",
     "output_type": "stream",
     "text": [
      "reactant    TS      product\n"
     ]
    },
    {
     "data": {
      "application/3dmoljs_load.v0": "<div id=\"3dmolviewer_16093552741020002\"  style=\"position: relative; width: 960px; height: 500px\">\n        <p id=\"3dmolwarning_16093552741020002\" style=\"background-color:#ffcccc;color:black\">You appear to be running in JupyterLab (or JavaScript failed to load for some other reason).  You need to install the 3dmol extension: <br>\n        <tt>jupyter labextension install jupyterlab_3dmol</tt></p>\n        </div>\n<script>\n\nvar loadScriptAsync = function(uri){\n  return new Promise((resolve, reject) => {\n    var tag = document.createElement('script');\n    tag.src = uri;\n    tag.async = true;\n    tag.onload = () => {\n      resolve();\n    };\n  var firstScriptTag = document.getElementsByTagName('script')[0];\n  firstScriptTag.parentNode.insertBefore(tag, firstScriptTag);\n});\n};\n\nif(typeof $3Dmolpromise === 'undefined') {\n$3Dmolpromise = null;\n  $3Dmolpromise = loadScriptAsync('https://3dmol.csb.pitt.edu/build/3Dmol.js');\n}\n\nvar viewer_16093552741020002 = null;\nvar warn = document.getElementById(\"3dmolwarning_16093552741020002\");\nif(warn) {\n    warn.parentNode.removeChild(warn);\n}\n$3Dmolpromise.then(function() {\nvar viewergrid_16093552741020002 = null;\nviewergrid_16093552741020002 = $3Dmol.createViewerGrid($(\"#3dmolviewer_16093552741020002\"),{rows: 1, cols: 3, control_all: false},{backgroundColor:\"white\"});\nviewer_16093552741020002 = viewergrid_16093552741020002[0][0];\n\tviewergrid_16093552741020002[0][0].removeAllModels();\n\tviewergrid_16093552741020002[0][0].addModel(\"\\n     RDKit          3D\\n\\n 19 18  0  0  0  0  0  0  0  0999 V2000\\n   -1.8907   -0.7093   -0.2720 C   0  0  0  0  0  0  0  0  0  0  0  0\\n   -0.6012    0.0781   -0.0188 C   0  0  0  0  0  0  0  0  0  1  0  0\\n    0.5865   -0.5451   -0.7779 C   0  0  0  0  0  0  0  0  0  2  0  0\\n   -0.2922    0.1890    1.4519 C   0  0  0  0  0  3  0  0  0  3  0  0\\n   -0.6832   -0.5684    2.1248 H   0  0  0  0  0  0  0  0  0  4  0  0\\n    0.4770    1.3327    2.0125 C   0  0  0  0  0  0  0  0  0  5  0  0\\n   -0.3672    2.4937    2.2883 O   0  0  0  0  0  0  0  0  0  6  0  0\\n   -0.6800    1.3930   -0.6190 O   0  0  0  0  0  0  0  0  0  7  0  0\\n   -1.8116    2.1195   -0.0748 O   0  0  0  0  0  0  0  0  0  8  0  0\\n   -1.8197   -1.7114    0.1598 H   0  0  0  0  0  0  0  0  0  9  0  0\\n   -2.0639   -0.8017   -1.3461 H   0  0  0  0  0  0  0  0  0 10  0  0\\n   -2.7396   -0.1901    0.1718 H   0  0  0  0  0  0  0  0  0 11  0  0\\n    0.3745   -0.5484   -1.8497 H   0  0  0  0  0  0  0  0  0 12  0  0\\n    1.5012    0.0261   -0.6081 H   0  0  0  0  0  0  0  0  0 13  0  0\\n    0.7472   -1.5723   -0.4444 H   0  0  0  0  0  0  0  0  0 14  0  0\\n    1.2090    1.7078    1.2966 H   0  0  0  0  0  0  0  0  0 15  0  0\\n    0.9988    1.0479    2.9318 H   0  0  0  0  0  0  0  0  0 16  0  0\\n   -0.9941    2.2355    2.9741 H   0  0  0  0  0  0  0  0  0 17  0  0\\n   -1.3928    2.5373    0.7042 H   0  0  0  0  0  0  0  0  0 18  0  0\\n 13  3  1  0\\n 11  1  1  0\\n  3 14  1  0\\n  3 15  1  0\\n  3  2  1  0\\n  8  9  1  0\\n  8  2  1  0\\n  1  2  1  0\\n  1 10  1  0\\n  1 12  1  0\\n  9 19  1  0\\n  2  4  1  0\\n 16  6  1  0\\n  4  6  1  0\\n  4  5  1  0\\n  6  7  1  0\\n  6 17  1  0\\n  7 18  1  0\\nM  RAD  1   4   2\\nM  END\\n\",\"sdf\");\n\tviewergrid_16093552741020002[0][0].setStyle({\"model\": 0},{\"stick\": {}});\n\tviewergrid_16093552741020002[0][0].zoomTo();\n\tviewergrid_16093552741020002[0][1].removeAllModels();\n\tviewergrid_16093552741020002[0][1].addModel(\"\\n     RDKit          3D\\n\\n 19 18  0  0  0  0  0  0  0  0999 V2000\\n   -1.8359   -0.8945   -0.2305 C   0  0  0  0  0  0  0  0  0  0  0  0\\n   -0.6121   -0.1380    0.1255 C   0  0  0  0  0  0  0  0  0  1  0  0\\n    0.5420   -0.4430   -0.7488 C   0  0  0  0  0  0  0  0  0  2  0  0\\n   -0.4174    0.2712    1.4438 C   0  0  0  0  0  3  0  0  0  3  0  0\\n   -1.0149   -0.2611    2.1555 H   0  0  0  0  0  0  0  0  0  4  0  0\\n    0.4624    1.2486    2.0799 C   0  0  0  0  0  0  0  0  0  5  0  0\\n   -0.0684    2.4163    2.4825 O   0  0  0  0  0  0  0  0  0  6  0  0\\n   -0.7983    1.4659   -0.6764 O   0  0  0  0  0  0  0  0  0  7  0  0\\n   -1.7336    2.2283   -0.1482 O   0  0  0  0  0  0  0  0  0  8  0  0\\n   -1.6992   -1.9267   -0.0782 H   0  0  0  0  0  0  0  0  0  9  0  0\\n   -2.0931   -0.7894   -1.2207 H   0  0  0  0  0  0  0  0  0 10  0  0\\n   -2.6969   -0.6424    0.3120 H   0  0  0  0  0  0  0  0  0 11  0  0\\n    0.3227   -0.2551   -1.7481 H   0  0  0  0  0  0  0  0  0 12  0  0\\n    1.4148    0.1169   -0.5047 H   0  0  0  0  0  0  0  0  0 13  0  0\\n    0.8130   -1.4415   -0.6800 H   0  0  0  0  0  0  0  0  0 14  0  0\\n    1.2547    1.4445    1.4313 H   0  0  0  0  0  0  0  0  0 15  0  0\\n    0.9355    0.8593    2.9876 H   0  0  0  0  0  0  0  0  0 16  0  0\\n   -0.7610    2.6355    2.4616 H   0  0  0  0  0  0  0  0  0 17  0  0\\n   -1.4562    2.6188    0.6610 H   0  0  0  0  0  0  0  0  0 18  0  0\\n  9  8  1  0\\n  9 19  1  0\\n  8  2  1  0\\n 13  3  1  0\\n 14  3  1  0\\n  3  2  1  0\\n  3 15  1  0\\n 11  1  1  0\\n 16  6  1  0\\n  2  1  1  0\\n  2  4  1  0\\n 18  7  1  0\\n  7  6  1  0\\n  1 12  1  0\\n  1 10  1  0\\n  6  4  1  0\\n  6 17  1  0\\n  4  5  1  0\\nM  RAD  1   4   2\\nM  END\\n\",\"sdf\");\n\tviewergrid_16093552741020002[0][1].setStyle({\"model\": 0},{\"stick\": {}});\n\tviewergrid_16093552741020002[0][1].zoomTo();\n\tviewergrid_16093552741020002[0][2].removeAllModels();\n\tviewergrid_16093552741020002[0][2].addModel(\"\\n     RDKit          3D\\n\\n 19 17  0  0  0  0  0  0  0  0999 V2000\\n   -1.8109   -1.0880   -0.1585 C   0  0  0  0  0  0  0  0  0  0  0  0\\n   -0.5996   -0.3176    0.3064 C   0  0  0  0  0  0  0  0  0  1  0  0\\n    0.5481   -0.3147   -0.6726 C   0  0  0  0  0  0  0  0  0  2  0  0\\n   -0.5891    0.2834    1.5033 C   0  0  0  0  0  0  0  0  0  3  0  0\\n   -1.4796    0.2060    2.1248 H   0  0  0  0  0  0  0  0  0  4  0  0\\n    0.5025    1.0996    2.1299 C   0  0  0  0  0  0  0  0  0  5  0  0\\n    0.0207    2.3736    2.5739 O   0  0  0  0  0  0  0  0  0  6  0  0\\n   -0.7768    1.5519   -0.6852 O   0  0  0  0  0  1  0  0  0  7  0  0\\n   -1.7988    2.2497   -0.2028 O   0  0  0  0  0  0  0  0  0  8  0  0\\n   -1.5576   -2.1372   -0.3513 H   0  0  0  0  0  0  0  0  0  9  0  0\\n   -2.1939   -0.6815   -1.1020 H   0  0  0  0  0  0  0  0  0 10  0  0\\n   -2.6160   -1.0618    0.5778 H   0  0  0  0  0  0  0  0  0 11  0  0\\n    0.2139    0.0447   -1.6525 H   0  0  0  0  0  0  0  0  0 12  0  0\\n    1.3890    0.2999   -0.3532 H   0  0  0  0  0  0  0  0  0 13  0  0\\n    0.9206   -1.3341   -0.8266 H   0  0  0  0  0  0  0  0  0 14  0  0\\n    1.3608    1.2214    1.4590 H   0  0  0  0  0  0  0  0  0 15  0  0\\n    0.8679    0.6091    3.0373 H   0  0  0  0  0  0  0  0  0 16  0  0\\n   -0.3913    2.7979    1.8142 H   0  0  0  0  0  0  0  0  0 17  0  0\\n   -1.4518    2.7116    0.5831 H   0  0  0  0  0  0  0  0  0 18  0  0\\n 18  7  1  0\\n  7  6  1  0\\n 13  3  1  0\\n 11  1  1  0\\n 16  6  1  0\\n  6  4  1  0\\n  6 17  1  0\\n  5  4  1  0\\n  4  2  2  3\\n 14  3  1  0\\n  2  3  1  0\\n  2  1  1  0\\n  3 15  1  0\\n 12  1  1  0\\n  1 10  1  0\\n  9  8  1  0\\n  9 19  1  0\\nM  RAD  1   8   2\\nM  END\\n\",\"sdf\");\n\tviewergrid_16093552741020002[0][2].setStyle({\"model\": 0},{\"stick\": {}});\n\tviewergrid_16093552741020002[0][2].zoomTo();\n\tviewergrid_16093552741020002[0][0].render();\n\tviewergrid_16093552741020002[0][1].render();\n\tviewergrid_16093552741020002[0][2].render();\nviewergrid_16093552741020002[0][2].render();\nviewergrid_16093552741020002[0][1].render();\nviewergrid_16093552741020002[0][0].render();\n});\n</script>",
      "text/html": [
       "<div id=\"3dmolviewer_16093552741020002\"  style=\"position: relative; width: 960px; height: 500px\">\n",
       "        <p id=\"3dmolwarning_16093552741020002\" style=\"background-color:#ffcccc;color:black\">You appear to be running in JupyterLab (or JavaScript failed to load for some other reason).  You need to install the 3dmol extension: <br>\n",
       "        <tt>jupyter labextension install jupyterlab_3dmol</tt></p>\n",
       "        </div>\n",
       "<script>\n",
       "\n",
       "var loadScriptAsync = function(uri){\n",
       "  return new Promise((resolve, reject) => {\n",
       "    var tag = document.createElement('script');\n",
       "    tag.src = uri;\n",
       "    tag.async = true;\n",
       "    tag.onload = () => {\n",
       "      resolve();\n",
       "    };\n",
       "  var firstScriptTag = document.getElementsByTagName('script')[0];\n",
       "  firstScriptTag.parentNode.insertBefore(tag, firstScriptTag);\n",
       "});\n",
       "};\n",
       "\n",
       "if(typeof $3Dmolpromise === 'undefined') {\n",
       "$3Dmolpromise = null;\n",
       "  $3Dmolpromise = loadScriptAsync('https://3dmol.csb.pitt.edu/build/3Dmol.js');\n",
       "}\n",
       "\n",
       "var viewer_16093552741020002 = null;\n",
       "var warn = document.getElementById(\"3dmolwarning_16093552741020002\");\n",
       "if(warn) {\n",
       "    warn.parentNode.removeChild(warn);\n",
       "}\n",
       "$3Dmolpromise.then(function() {\n",
       "var viewergrid_16093552741020002 = null;\n",
       "viewergrid_16093552741020002 = $3Dmol.createViewerGrid($(\"#3dmolviewer_16093552741020002\"),{rows: 1, cols: 3, control_all: false},{backgroundColor:\"white\"});\n",
       "viewer_16093552741020002 = viewergrid_16093552741020002[0][0];\n",
       "\tviewergrid_16093552741020002[0][0].removeAllModels();\n",
       "\tviewergrid_16093552741020002[0][0].addModel(\"\\n     RDKit          3D\\n\\n 19 18  0  0  0  0  0  0  0  0999 V2000\\n   -1.8907   -0.7093   -0.2720 C   0  0  0  0  0  0  0  0  0  0  0  0\\n   -0.6012    0.0781   -0.0188 C   0  0  0  0  0  0  0  0  0  1  0  0\\n    0.5865   -0.5451   -0.7779 C   0  0  0  0  0  0  0  0  0  2  0  0\\n   -0.2922    0.1890    1.4519 C   0  0  0  0  0  3  0  0  0  3  0  0\\n   -0.6832   -0.5684    2.1248 H   0  0  0  0  0  0  0  0  0  4  0  0\\n    0.4770    1.3327    2.0125 C   0  0  0  0  0  0  0  0  0  5  0  0\\n   -0.3672    2.4937    2.2883 O   0  0  0  0  0  0  0  0  0  6  0  0\\n   -0.6800    1.3930   -0.6190 O   0  0  0  0  0  0  0  0  0  7  0  0\\n   -1.8116    2.1195   -0.0748 O   0  0  0  0  0  0  0  0  0  8  0  0\\n   -1.8197   -1.7114    0.1598 H   0  0  0  0  0  0  0  0  0  9  0  0\\n   -2.0639   -0.8017   -1.3461 H   0  0  0  0  0  0  0  0  0 10  0  0\\n   -2.7396   -0.1901    0.1718 H   0  0  0  0  0  0  0  0  0 11  0  0\\n    0.3745   -0.5484   -1.8497 H   0  0  0  0  0  0  0  0  0 12  0  0\\n    1.5012    0.0261   -0.6081 H   0  0  0  0  0  0  0  0  0 13  0  0\\n    0.7472   -1.5723   -0.4444 H   0  0  0  0  0  0  0  0  0 14  0  0\\n    1.2090    1.7078    1.2966 H   0  0  0  0  0  0  0  0  0 15  0  0\\n    0.9988    1.0479    2.9318 H   0  0  0  0  0  0  0  0  0 16  0  0\\n   -0.9941    2.2355    2.9741 H   0  0  0  0  0  0  0  0  0 17  0  0\\n   -1.3928    2.5373    0.7042 H   0  0  0  0  0  0  0  0  0 18  0  0\\n 13  3  1  0\\n 11  1  1  0\\n  3 14  1  0\\n  3 15  1  0\\n  3  2  1  0\\n  8  9  1  0\\n  8  2  1  0\\n  1  2  1  0\\n  1 10  1  0\\n  1 12  1  0\\n  9 19  1  0\\n  2  4  1  0\\n 16  6  1  0\\n  4  6  1  0\\n  4  5  1  0\\n  6  7  1  0\\n  6 17  1  0\\n  7 18  1  0\\nM  RAD  1   4   2\\nM  END\\n\",\"sdf\");\n",
       "\tviewergrid_16093552741020002[0][0].setStyle({\"model\": 0},{\"stick\": {}});\n",
       "\tviewergrid_16093552741020002[0][0].zoomTo();\n",
       "\tviewergrid_16093552741020002[0][1].removeAllModels();\n",
       "\tviewergrid_16093552741020002[0][1].addModel(\"\\n     RDKit          3D\\n\\n 19 18  0  0  0  0  0  0  0  0999 V2000\\n   -1.8359   -0.8945   -0.2305 C   0  0  0  0  0  0  0  0  0  0  0  0\\n   -0.6121   -0.1380    0.1255 C   0  0  0  0  0  0  0  0  0  1  0  0\\n    0.5420   -0.4430   -0.7488 C   0  0  0  0  0  0  0  0  0  2  0  0\\n   -0.4174    0.2712    1.4438 C   0  0  0  0  0  3  0  0  0  3  0  0\\n   -1.0149   -0.2611    2.1555 H   0  0  0  0  0  0  0  0  0  4  0  0\\n    0.4624    1.2486    2.0799 C   0  0  0  0  0  0  0  0  0  5  0  0\\n   -0.0684    2.4163    2.4825 O   0  0  0  0  0  0  0  0  0  6  0  0\\n   -0.7983    1.4659   -0.6764 O   0  0  0  0  0  0  0  0  0  7  0  0\\n   -1.7336    2.2283   -0.1482 O   0  0  0  0  0  0  0  0  0  8  0  0\\n   -1.6992   -1.9267   -0.0782 H   0  0  0  0  0  0  0  0  0  9  0  0\\n   -2.0931   -0.7894   -1.2207 H   0  0  0  0  0  0  0  0  0 10  0  0\\n   -2.6969   -0.6424    0.3120 H   0  0  0  0  0  0  0  0  0 11  0  0\\n    0.3227   -0.2551   -1.7481 H   0  0  0  0  0  0  0  0  0 12  0  0\\n    1.4148    0.1169   -0.5047 H   0  0  0  0  0  0  0  0  0 13  0  0\\n    0.8130   -1.4415   -0.6800 H   0  0  0  0  0  0  0  0  0 14  0  0\\n    1.2547    1.4445    1.4313 H   0  0  0  0  0  0  0  0  0 15  0  0\\n    0.9355    0.8593    2.9876 H   0  0  0  0  0  0  0  0  0 16  0  0\\n   -0.7610    2.6355    2.4616 H   0  0  0  0  0  0  0  0  0 17  0  0\\n   -1.4562    2.6188    0.6610 H   0  0  0  0  0  0  0  0  0 18  0  0\\n  9  8  1  0\\n  9 19  1  0\\n  8  2  1  0\\n 13  3  1  0\\n 14  3  1  0\\n  3  2  1  0\\n  3 15  1  0\\n 11  1  1  0\\n 16  6  1  0\\n  2  1  1  0\\n  2  4  1  0\\n 18  7  1  0\\n  7  6  1  0\\n  1 12  1  0\\n  1 10  1  0\\n  6  4  1  0\\n  6 17  1  0\\n  4  5  1  0\\nM  RAD  1   4   2\\nM  END\\n\",\"sdf\");\n",
       "\tviewergrid_16093552741020002[0][1].setStyle({\"model\": 0},{\"stick\": {}});\n",
       "\tviewergrid_16093552741020002[0][1].zoomTo();\n",
       "\tviewergrid_16093552741020002[0][2].removeAllModels();\n",
       "\tviewergrid_16093552741020002[0][2].addModel(\"\\n     RDKit          3D\\n\\n 19 17  0  0  0  0  0  0  0  0999 V2000\\n   -1.8109   -1.0880   -0.1585 C   0  0  0  0  0  0  0  0  0  0  0  0\\n   -0.5996   -0.3176    0.3064 C   0  0  0  0  0  0  0  0  0  1  0  0\\n    0.5481   -0.3147   -0.6726 C   0  0  0  0  0  0  0  0  0  2  0  0\\n   -0.5891    0.2834    1.5033 C   0  0  0  0  0  0  0  0  0  3  0  0\\n   -1.4796    0.2060    2.1248 H   0  0  0  0  0  0  0  0  0  4  0  0\\n    0.5025    1.0996    2.1299 C   0  0  0  0  0  0  0  0  0  5  0  0\\n    0.0207    2.3736    2.5739 O   0  0  0  0  0  0  0  0  0  6  0  0\\n   -0.7768    1.5519   -0.6852 O   0  0  0  0  0  1  0  0  0  7  0  0\\n   -1.7988    2.2497   -0.2028 O   0  0  0  0  0  0  0  0  0  8  0  0\\n   -1.5576   -2.1372   -0.3513 H   0  0  0  0  0  0  0  0  0  9  0  0\\n   -2.1939   -0.6815   -1.1020 H   0  0  0  0  0  0  0  0  0 10  0  0\\n   -2.6160   -1.0618    0.5778 H   0  0  0  0  0  0  0  0  0 11  0  0\\n    0.2139    0.0447   -1.6525 H   0  0  0  0  0  0  0  0  0 12  0  0\\n    1.3890    0.2999   -0.3532 H   0  0  0  0  0  0  0  0  0 13  0  0\\n    0.9206   -1.3341   -0.8266 H   0  0  0  0  0  0  0  0  0 14  0  0\\n    1.3608    1.2214    1.4590 H   0  0  0  0  0  0  0  0  0 15  0  0\\n    0.8679    0.6091    3.0373 H   0  0  0  0  0  0  0  0  0 16  0  0\\n   -0.3913    2.7979    1.8142 H   0  0  0  0  0  0  0  0  0 17  0  0\\n   -1.4518    2.7116    0.5831 H   0  0  0  0  0  0  0  0  0 18  0  0\\n 18  7  1  0\\n  7  6  1  0\\n 13  3  1  0\\n 11  1  1  0\\n 16  6  1  0\\n  6  4  1  0\\n  6 17  1  0\\n  5  4  1  0\\n  4  2  2  3\\n 14  3  1  0\\n  2  3  1  0\\n  2  1  1  0\\n  3 15  1  0\\n 12  1  1  0\\n  1 10  1  0\\n  9  8  1  0\\n  9 19  1  0\\nM  RAD  1   8   2\\nM  END\\n\",\"sdf\");\n",
       "\tviewergrid_16093552741020002[0][2].setStyle({\"model\": 0},{\"stick\": {}});\n",
       "\tviewergrid_16093552741020002[0][2].zoomTo();\n",
       "\tviewergrid_16093552741020002[0][0].render();\n",
       "\tviewergrid_16093552741020002[0][1].render();\n",
       "\tviewergrid_16093552741020002[0][2].render();\n",
       "viewergrid_16093552741020002[0][2].render();\n",
       "viewergrid_16093552741020002[0][1].render();\n",
       "viewergrid_16093552741020002[0][0].render();\n",
       "});\n",
       "</script>"
      ]
     },
     "metadata": {},
     "output_type": "display_data"
    },
    {
     "data": {
      "text/plain": [
       "<py3Dmol.view at 0x7fbb3b9f7310>"
      ]
     },
     "execution_count": 18,
     "metadata": {},
     "output_type": "execute_result"
    }
   ],
   "source": [
    "import py3Dmol\n",
    "\n",
    "def show_mol(mol, view, grid):\n",
    "    from rdkit import Chem\n",
    "    mb = Chem.MolToMolBlock(mol)\n",
    "    view.removeAllModels(viewer=grid)\n",
    "    view.addModel(mb,'sdf', viewer=grid)\n",
    "    view.setStyle({'model':0},{'stick': {}}, viewer=grid)\n",
    "    view.zoomTo(viewer=grid)\n",
    "    return view\n",
    "\n",
    "# Align the TS to make visualization more convenient\n",
    "atom_map = [(i, i) for i in range(r_mol.GetNumAtoms())]\n",
    "ts.GetBestAlign(refMol=r_mol,\n",
    "                atomMap=atom_map,\n",
    "                keepBestConformer=True)\n",
    "\n",
    "view = py3Dmol.view(width=960, height=500, linked=False, viewergrid=(1, 3))\n",
    "show_mol(r_mol.ToRWMol(), view, grid=(0, 0))\n",
    "show_mol(ts.ToRWMol(), view, grid=(0, 1))\n",
    "show_mol(p_align.ToRWMol(), view, grid=(0, 2))\n",
    "\n",
    "print('reactant    TS      product')\n",
    "view.render()"
   ]
  },
  {
   "cell_type": "code",
   "execution_count": null,
   "metadata": {},
   "outputs": [],
   "source": []
  }
 ],
 "metadata": {
  "@webio": {
   "lastCommId": null,
   "lastKernelId": null
  },
  "kernelspec": {
   "display_name": "Python 3.7.6 64-bit ('arc_env': conda)",
   "language": "python",
   "name": "python37664bitarcenvconda83c4abf9215d4a698ce68e2a44e6e6bc"
  },
  "language_info": {
   "codemirror_mode": {
    "name": "ipython",
    "version": 3
   },
   "file_extension": ".py",
   "mimetype": "text/x-python",
   "name": "python",
   "nbconvert_exporter": "python",
   "pygments_lexer": "ipython3",
   "version": "3.7.7"
  }
 },
 "nbformat": 4,
 "nbformat_minor": 2
}
