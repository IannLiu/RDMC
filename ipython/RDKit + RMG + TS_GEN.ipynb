{
 "cells": [
  {
   "cell_type": "markdown",
   "metadata": {},
   "source": [
    "# A Demo of using RDKitMol as intermediate to generate TS by ts_gen\n",
    "\n",
    "A demo to show how RDKitMol can connect RMG and GCN to help predict TS geometry. GCN requires a same atom ordering for the reactant and the product, which is seldomly accessible in practice. RDKitMol + RMG provides an opportunity to match reactant and product atom indexes according to RMG reaction family. <br>\n",
    "\n",
    "Some codes are compiled from https://github.com/PattanaikL/ts_gen and https://github.com/kspieks/ts_gen_v2.\n"
   ]
  },
  {
   "cell_type": "code",
   "execution_count": 2,
   "metadata": {},
   "outputs": [
    {
     "name": "stdout",
     "output_type": "stream",
     "text": [
      "The autoreload extension is already loaded. To reload it, use:\n",
      "  %reload_ext autoreload\n"
     ]
    }
   ],
   "source": [
    "import os\n",
    "import sys\n",
    "import subprocess\n",
    "# To add this RDMC into PYTHONPATH in case you doesn't do it\n",
    "sys.path.append(os.path.dirname(os.path.abspath('')))\n",
    "\n",
    "from rdmc.mol import RDKitMol\n",
    "\n",
    "# import RMG dependencies\n",
    "try:\n",
    "    from rdmc.external.rmg import (from_rdkit_mol,\n",
    "                                   load_rmg_database,\n",
    "                                   renumber_product_atom_by_reaction,\n",
    "                                   mm)\n",
    "    from rmgpy.exceptions import ForbiddenStructureException\n",
    "except (ImportError, ModuleNotFoundError):\n",
    "    print('You need to install RMG-Py first and run this IPYNB in rmg_env!')\n",
    "\n",
    "\n",
    "%load_ext autoreload\n",
    "%autoreload 2"
   ]
  },
  {
   "cell_type": "markdown",
   "metadata": {},
   "source": [
    "### 1. Input molecule information\n",
    "Perceive xyz and generate RMG molecule\n"
   ]
  },
  {
   "cell_type": "markdown",
   "metadata": {},
   "source": [
    "Example 1: Intra H migration"
   ]
  },
  {
   "cell_type": "code",
   "execution_count": 3,
   "metadata": {},
   "outputs": [],
   "source": [
    "reactant_xyz = \"\"\"C -1.528265  0.117903  -0.48245\n",
    "C -0.214051  0.632333  0.11045\n",
    "C 0.185971  2.010727  -0.392941\n",
    "O 0.428964  2.005838  -1.836634\n",
    "O 1.53499  1.354342  -2.136876\n",
    "H -1.470265  0.057863  -1.571456\n",
    "H -1.761158  -0.879955  -0.103809\n",
    "H -2.364396  0.775879  -0.226557\n",
    "H -0.285989  0.690961  1.202293\n",
    "H 0.605557  -0.056315  -0.113934\n",
    "H -0.613001  2.746243  -0.275209\n",
    "H 1.100271  2.372681  0.080302\"\"\"\n",
    "\n",
    "product_xyz = \"\"\"C 1.765475  -0.57351  -0.068971\n",
    "H 1.474015  -1.391926  -0.715328\n",
    "H 2.791718  -0.529486  0.272883\n",
    "C 0.741534  0.368416  0.460793\n",
    "C -0.510358  0.471107  -0.412585\n",
    "O -1.168692  -0.776861  -0.612765\n",
    "O -1.768685  -1.15259  0.660846\n",
    "H 1.164505  1.37408  0.583524\n",
    "H 0.417329  0.069625  1.470788\n",
    "H -1.221189  1.194071  0.001131\n",
    "H -0.254525  0.771835  -1.433299\n",
    "H -1.297409  -1.977953  0.837367\"\"\""
   ]
  },
  {
   "cell_type": "markdown",
   "metadata": {},
   "source": [
    "Example 2: Intra_R_Add_Endocyclic"
   ]
  },
  {
   "cell_type": "code",
   "execution_count": null,
   "metadata": {},
   "outputs": [],
   "source": [
    "reactant_xyz = \"\"\"C -1.280629  1.685312  0.071717\n",
    "C -0.442676  0.4472  -0.138756\n",
    "C 0.649852  0.459775  -0.911627\n",
    "C 1.664686  -0.612881  -1.217378\n",
    "O 1.590475  -1.810904  -0.470776\n",
    "C -0.908344  -0.766035  0.616935\n",
    "O -0.479496  -0.70883  2.04303\n",
    "O 0.804383  -0.936239  2.193929\n",
    "H -1.330008  1.940487  1.13602\n",
    "H -0.87426  2.544611  -0.46389\n",
    "H -2.311393  1.527834  -0.265852\n",
    "H 0.884957  1.398914  -1.412655\n",
    "H 2.661334  -0.151824  -1.125202\n",
    "H 1.56564  -0.901818  -2.270488\n",
    "H 1.630132  -1.574551  0.469563\n",
    "H -0.531309  -1.699031  0.2105\n",
    "H -1.994785  -0.790993  0.711395\"\"\"\n",
    "\n",
    "product_xyz = \"\"\"C -1.515438  1.173583  -0.148858\n",
    "C -0.776842  -0.102045  0.027824\n",
    "C 0.680366  -0.300896  -0.240616\n",
    "O 1.080339  -1.344575  0.660508\n",
    "O -0.122211  -2.188293  0.768145\n",
    "C -1.192654  -1.233281  0.917593\n",
    "C -1.377606  -0.848982  2.395301\n",
    "O -0.302953  -0.072705  2.896143\n",
    "H -2.596401  1.013314  -0.200053\n",
    "H -1.327563  1.859316  0.692798\n",
    "H -1.211486  1.693094  -1.062486\n",
    "H 0.888934  -0.598866  -1.280033\n",
    "H 1.294351  0.57113  0.013413\n",
    "H -2.08787  -1.759118  0.559676\n",
    "H -1.514675  -1.774461  2.97179\n",
    "H -2.282313  -0.243469  2.505554\n",
    "H 0.511127  -0.541653  2.673033\"\"\""
   ]
  },
  {
   "cell_type": "markdown",
   "metadata": {},
   "source": [
    "Example3: ketoenol"
   ]
  },
  {
   "cell_type": "code",
   "execution_count": null,
   "metadata": {},
   "outputs": [],
   "source": [
    "reactant_xyz = \"\"\"O 0.898799  1.722422  0.70012\n",
    "C 0.293754  -0.475947  -0.083092\n",
    "C -1.182804  -0.101736  -0.000207\n",
    "C 1.238805  0.627529  0.330521\n",
    "H 0.527921  -1.348663  0.542462\n",
    "H 0.58037  -0.777872  -1.100185\n",
    "H -1.45745  0.17725  1.018899\n",
    "H -1.813437  -0.937615  -0.310796\n",
    "H -1.404454  0.753989  -0.640868\n",
    "H 2.318497  0.360641  0.272256\"\"\"\n",
    "\n",
    "product_xyz = \"\"\"O 2.136128  0.058786  -0.999372\n",
    "C -1.347448  0.039725  0.510465\n",
    "C 0.116046  -0.220125  0.294405\n",
    "C 0.810093  0.253091  -0.73937\n",
    "H -1.530204  0.552623  1.461378\n",
    "H -1.761309  0.662825  -0.286624\n",
    "H -1.923334  -0.892154  0.536088\n",
    "H 0.627132  -0.833978  1.035748\n",
    "H 0.359144  0.869454  -1.510183\n",
    "H 2.513751  -0.490247  -0.302535\"\"\""
   ]
  },
  {
   "cell_type": "code",
   "execution_count": 4,
   "metadata": {},
   "outputs": [],
   "source": [
    "r_rdkitmol = RDKitMol.FromXYZ(reactant_xyz, backend='pybel')\n",
    "p_rdkitmol = RDKitMol.FromXYZ(product_xyz, backend='pybel')\n",
    "reactants = [from_rdkit_mol(r_rdkitmol.ToRWMol())]\n",
    "products = [from_rdkit_mol(p_rdkitmol.ToRWMol())]"
   ]
  },
  {
   "cell_type": "markdown",
   "metadata": {},
   "source": [
    "### [ALTERNATIVE] If you don't have xyzs"
   ]
  },
  {
   "cell_type": "code",
   "execution_count": null,
   "metadata": {},
   "outputs": [],
   "source": [
    "reactant_smiles = 'CCCO[O]'\n",
    "product_smiles = '[CH2]CCOO'\n",
    "\n",
    "r_rdkitmol = RDKitMol.FromSmiles(reactant_smiles)\n",
    "p_rdkitmol = RDKitMol.FromSmiles(product_smiles)\n",
    "r_rdkitmol.EmbedConformer()\n",
    "p_rdkitmol.EmbedConformer()\n",
    "reactants = [from_rdkit_mol(r_rdkitmol.ToRWMol())]\n",
    "products = [from_rdkit_mol(p_rdkitmol.ToRWMol())]"
   ]
  },
  {
   "cell_type": "markdown",
   "metadata": {},
   "source": [
    "### 2. Check if this reaction matches RMG templates"
   ]
  },
  {
   "cell_type": "code",
   "execution_count": 5,
   "metadata": {},
   "outputs": [],
   "source": [
    "database = load_rmg_database()"
   ]
  },
  {
   "cell_type": "code",
   "execution_count": 6,
   "metadata": {},
   "outputs": [
    {
     "name": "stdout",
     "output_type": "stream",
     "text": [
      "CCCO[O] <=> [CH2]CCOO\n",
      "RMG family: intra_H_migration\n",
      "Is forward reaction: True\n"
     ]
    }
   ],
   "source": [
    "products_match = renumber_product_atom_by_reaction(database,\n",
    "                                                   reactants,\n",
    "                                                   products)\n",
    "\n",
    "# p_rmg is a product RDKitMol with the same atom order as the reactant\n",
    "p_rmg = RDKitMol.FromRMGMol(products_match[0]) "
   ]
  },
  {
   "cell_type": "markdown",
   "metadata": {},
   "source": [
    "### 4. Find structure match between RMG result and Original molecule"
   ]
  },
  {
   "cell_type": "markdown",
   "metadata": {},
   "source": [
    "Find all possible atom mapping between the reactant and the product."
   ]
  },
  {
   "cell_type": "code",
   "execution_count": 7,
   "metadata": {},
   "outputs": [],
   "source": [
    "matches = p_rmg.GetSubstructMatches(p_rdkitmol, uniquify=False)"
   ]
  },
  {
   "cell_type": "markdown",
   "metadata": {},
   "source": [
    "Find the best atom mapping by RMSD. <br>\n",
    "Note, this can perform relatively poorly if the reactant and the product are in different stereotype (cis/trans). or most rotors are significantly different oriented. However, previous step (match according to RMG reaction) makes sure that all heavy atoms and reacting H atoms are consistent, so only H atoms that are more trivial are influenced by this."
   ]
  },
  {
   "cell_type": "code",
   "execution_count": 8,
   "metadata": {},
   "outputs": [
    {
     "name": "stdout",
     "output_type": "stream",
     "text": [
      "Match index: 5, Reflect Conformation: True, RMSD: 0.794507376875543\n"
     ]
    }
   ],
   "source": [
    "rmsds = []\n",
    "\n",
    "# Make a copy of p_rdkitmol to preserve its original information\n",
    "p_align = p_rdkitmol.Copy()\n",
    "\n",
    "for i, match in enumerate(matches):\n",
    "    atom_map = [(ref, prb) for ref, prb in enumerate(match)]\n",
    "    # Align p_rdkitmol to r_rdkitmol\n",
    "    rmsd = p_align.AlignMol(refMol=r_rdkitmol,\n",
    "                            atomMap=atom_map)\n",
    "    rmsds.append((i, False, rmsd))\n",
    "    \n",
    "    # Reflect p_rdkitmol conformation to see if a better result can be obtained\n",
    "    rmsd = p_align.AlignMol(refMol=r_rdkitmol,\n",
    "                            atomMap=atom_map,\n",
    "                            reflect=True)\n",
    "    rmsds.append((i, True, rmsd))\n",
    "    \n",
    "    # The conformation is reflected, now reflect back\n",
    "    p_align.AlignMol(refMol=r_rdkitmol,\n",
    "                     atomMap=atom_map,\n",
    "                     reflect=True,\n",
    "                     maxIters=1)\n",
    "\n",
    "best = sorted(rmsds, key=lambda x: x[2])[0]\n",
    "print('Match index: {0}, Reflect Conformation: {1}, RMSD: {2}'.format(*best))"
   ]
  },
  {
   "cell_type": "markdown",
   "metadata": {},
   "source": [
    "Create a product molecule that has matched atom indexes and aligned xyz"
   ]
  },
  {
   "cell_type": "code",
   "execution_count": 9,
   "metadata": {},
   "outputs": [],
   "source": [
    "best_match = matches[best[0]]\n",
    "p_align.AlignMol(refMol=r_rdkitmol,\n",
    "                 atomMap=[(ref, prb) for ref, prb in enumerate(best_match)],\n",
    "                 reflect=best[1])\n",
    "\n",
    "new_order = [best_match.index(i) for i in range(len(best_match))]\n",
    "p_rdkitmol_match = p_align.RenumberAtoms(new_order)"
   ]
  },
  {
   "cell_type": "markdown",
   "metadata": {},
   "source": [
    "### 5. View Molecules"
   ]
  },
  {
   "cell_type": "code",
   "execution_count": 10,
   "metadata": {
    "scrolled": false
   },
   "outputs": [
    {
     "name": "stdout",
     "output_type": "stream",
     "text": [
      "reactant    matched product      original product\n"
     ]
    },
    {
     "data": {
      "application/3dmoljs_load.v0": "<div id=\"3dmolviewer_1608769500590394\"  style=\"position: relative; width: 960px; height: 500px\">\n        <p id=\"3dmolwarning_1608769500590394\" style=\"background-color:#ffcccc;color:black\">You appear to be running in JupyterLab (or JavaScript failed to load for some other reason).  You need to install the 3dmol extension: <br>\n        <tt>jupyter labextension install jupyterlab_3dmol</tt></p>\n        </div>\n<script>\n\nvar loadScriptAsync = function(uri){\n  return new Promise((resolve, reject) => {\n    var tag = document.createElement('script');\n    tag.src = uri;\n    tag.async = true;\n    tag.onload = () => {\n      resolve();\n    };\n  var firstScriptTag = document.getElementsByTagName('script')[0];\n  firstScriptTag.parentNode.insertBefore(tag, firstScriptTag);\n});\n};\n\nif(typeof $3Dmolpromise === 'undefined') {\n$3Dmolpromise = null;\n  $3Dmolpromise = loadScriptAsync('https://3dmol.csb.pitt.edu/build/3Dmol.js');\n}\n\nvar viewer_1608769500590394 = null;\nvar warn = document.getElementById(\"3dmolwarning_1608769500590394\");\nif(warn) {\n    warn.parentNode.removeChild(warn);\n}\n$3Dmolpromise.then(function() {\nvar viewergrid_1608769500590394 = null;\nviewergrid_1608769500590394 = $3Dmol.createViewerGrid($(\"#3dmolviewer_1608769500590394\"),{rows: 1, cols: 3, control_all: false},{backgroundColor:\"white\"});\nviewer_1608769500590394 = viewergrid_1608769500590394[0][0];\n\tviewergrid_1608769500590394[0][0].removeAllModels();\n\tviewergrid_1608769500590394[0][0].addModel(\"\\n     RDKit          3D\\n\\n 12 11  0  0  0  0  0  0  0  0999 V2000\\n   -1.5283    0.1179   -0.4824 C   0  0  0  0  0  0  0  0  0  0  0  0\\n   -0.2141    0.6323    0.1105 C   0  0  0  0  0  0  0  0  0  1  0  0\\n    0.1860    2.0107   -0.3929 C   0  0  0  0  0  0  0  0  0  2  0  0\\n    0.4290    2.0058   -1.8366 O   0  0  0  0  0  0  0  0  0  3  0  0\\n    1.5350    1.3543   -2.1369 O   0  0  0  0  0  1  0  0  0  4  0  0\\n   -1.4703    0.0579   -1.5715 H   0  0  0  0  0  0  0  0  0  5  0  0\\n   -1.7612   -0.8800   -0.1038 H   0  0  0  0  0  0  0  0  0  6  0  0\\n   -2.3644    0.7759   -0.2266 H   0  0  0  0  0  0  0  0  0  7  0  0\\n   -0.2860    0.6910    1.2023 H   0  0  0  0  0  0  0  0  0  8  0  0\\n    0.6056   -0.0563   -0.1139 H   0  0  0  0  0  0  0  0  0  9  0  0\\n   -0.6130    2.7462   -0.2752 H   0  0  0  0  0  0  0  0  0 10  0  0\\n    1.1003    2.3727    0.0803 H   0  0  0  0  0  0  0  0  0 11  0  0\\n  5  4  1  0\\n  4  3  1  0\\n  6  1  1  0\\n  1  8  1  0\\n  1  7  1  0\\n  1  2  1  0\\n  3 11  1  0\\n  3 12  1  0\\n  3  2  1  0\\n 10  2  1  0\\n  2  9  1  0\\nM  RAD  1   5   2\\nM  END\\n\",\"sdf\");\n\tviewergrid_1608769500590394[0][0].setStyle({\"model\": 0},{\"stick\": {}});\n\tviewergrid_1608769500590394[0][0].zoomTo();\n\tviewergrid_1608769500590394[0][1].removeAllModels();\n\tviewergrid_1608769500590394[0][1].addModel(\"\\n     RDKit          3D\\n\\n 12 11  0  0  0  0  0  0  0  0999 V2000\\n   -1.6997    0.1967    0.0658 C   0  0  0  0  0  3  0  0  0  0  0  0\\n   -0.2830    0.5932    0.2937 C   0  0  0  0  0  0  0  0  0  1  0  0\\n    0.0843    1.9448   -0.3220 C   0  0  0  0  0  0  0  0  0  2  0  0\\n   -0.1360    2.0083   -1.7285 O   0  0  0  0  0  0  0  0  0  3  0  0\\n    0.8640    1.1546   -2.3566 O   0  0  0  0  0  0  0  0  0  4  0  0\\n    0.2917    0.5026   -2.7830 H   0  0  0  0  0  0  0  0  0  5  0  0\\n   -2.1680   -0.5677    0.6727 H   0  0  0  0  0  0  0  0  0  6  0  0\\n   -2.2459    0.5827   -0.7858 H   0  0  0  0  0  0  0  0  0  7  0  0\\n   -0.0560    0.6260    1.3673 H   0  0  0  0  0  0  0  0  0  8  0  0\\n    0.4076   -0.1586   -0.1215 H   0  0  0  0  0  0  0  0  0  9  0  0\\n   -0.5657    2.7395    0.0570 H   0  0  0  0  0  0  0  0  0 10  0  0\\n    1.1254    2.2065   -0.1056 H   0  0  0  0  0  0  0  0  0 11  0  0\\n 11  3  1  0\\n  8  1  1  0\\n  4  3  1  0\\n  4  5  1  0\\n  3 12  1  0\\n  3  2  1  0\\n  1  7  1  0\\n  1  2  1  0\\n  2  9  1  0\\n  2 10  1  0\\n  5  6  1  0\\nM  RAD  1   1   2\\nM  END\\n\",\"sdf\");\n\tviewergrid_1608769500590394[0][1].setStyle({\"model\": 0},{\"stick\": {}});\n\tviewergrid_1608769500590394[0][1].zoomTo();\n\tviewergrid_1608769500590394[0][2].removeAllModels();\n\tviewergrid_1608769500590394[0][2].addModel(\"\\n     RDKit          3D\\n\\n 12 11  0  0  0  0  0  0  0  0999 V2000\\n    1.7655   -0.5735   -0.0690 C   0  0  0  0  0  3  0  0  0  0  0  0\\n    1.4740   -1.3919   -0.7153 H   0  0  0  0  0  0  0  0  0  1  0  0\\n    2.7917   -0.5295    0.2729 H   0  0  0  0  0  0  0  0  0  2  0  0\\n    0.7415    0.3684    0.4608 C   0  0  0  0  0  0  0  0  0  3  0  0\\n   -0.5104    0.4711   -0.4126 C   0  0  0  0  0  0  0  0  0  4  0  0\\n   -1.1687   -0.7769   -0.6128 O   0  0  0  0  0  0  0  0  0  5  0  0\\n   -1.7687   -1.1526    0.6608 O   0  0  0  0  0  0  0  0  0  6  0  0\\n    1.1645    1.3741    0.5835 H   0  0  0  0  0  0  0  0  0  7  0  0\\n    0.4173    0.0696    1.4708 H   0  0  0  0  0  0  0  0  0  8  0  0\\n   -1.2212    1.1941    0.0011 H   0  0  0  0  0  0  0  0  0  9  0  0\\n   -0.2545    0.7718   -1.4333 H   0  0  0  0  0  0  0  0  0 10  0  0\\n   -1.2974   -1.9780    0.8374 H   0  0  0  0  0  0  0  0  0 11  0  0\\n 11  5  1  0\\n  2  1  1  0\\n  6  5  1  0\\n  6  7  1  0\\n  5 10  1  0\\n  5  4  1  0\\n  1  3  1  0\\n  1  4  1  0\\n  4  8  1  0\\n  4  9  1  0\\n  7 12  1  0\\nM  RAD  1   1   2\\nM  END\\n\",\"sdf\");\n\tviewergrid_1608769500590394[0][2].setStyle({\"model\": 0},{\"stick\": {}});\n\tviewergrid_1608769500590394[0][2].zoomTo();\n\tviewergrid_1608769500590394[0][0].render();\n\tviewergrid_1608769500590394[0][1].render();\n\tviewergrid_1608769500590394[0][2].render();\nviewergrid_1608769500590394[0][2].render();\nviewergrid_1608769500590394[0][1].render();\nviewergrid_1608769500590394[0][0].render();\n});\n</script>",
      "text/html": [
       "<div id=\"3dmolviewer_1608769500590394\"  style=\"position: relative; width: 960px; height: 500px\">\n",
       "        <p id=\"3dmolwarning_1608769500590394\" style=\"background-color:#ffcccc;color:black\">You appear to be running in JupyterLab (or JavaScript failed to load for some other reason).  You need to install the 3dmol extension: <br>\n",
       "        <tt>jupyter labextension install jupyterlab_3dmol</tt></p>\n",
       "        </div>\n",
       "<script>\n",
       "\n",
       "var loadScriptAsync = function(uri){\n",
       "  return new Promise((resolve, reject) => {\n",
       "    var tag = document.createElement('script');\n",
       "    tag.src = uri;\n",
       "    tag.async = true;\n",
       "    tag.onload = () => {\n",
       "      resolve();\n",
       "    };\n",
       "  var firstScriptTag = document.getElementsByTagName('script')[0];\n",
       "  firstScriptTag.parentNode.insertBefore(tag, firstScriptTag);\n",
       "});\n",
       "};\n",
       "\n",
       "if(typeof $3Dmolpromise === 'undefined') {\n",
       "$3Dmolpromise = null;\n",
       "  $3Dmolpromise = loadScriptAsync('https://3dmol.csb.pitt.edu/build/3Dmol.js');\n",
       "}\n",
       "\n",
       "var viewer_1608769500590394 = null;\n",
       "var warn = document.getElementById(\"3dmolwarning_1608769500590394\");\n",
       "if(warn) {\n",
       "    warn.parentNode.removeChild(warn);\n",
       "}\n",
       "$3Dmolpromise.then(function() {\n",
       "var viewergrid_1608769500590394 = null;\n",
       "viewergrid_1608769500590394 = $3Dmol.createViewerGrid($(\"#3dmolviewer_1608769500590394\"),{rows: 1, cols: 3, control_all: false},{backgroundColor:\"white\"});\n",
       "viewer_1608769500590394 = viewergrid_1608769500590394[0][0];\n",
       "\tviewergrid_1608769500590394[0][0].removeAllModels();\n",
       "\tviewergrid_1608769500590394[0][0].addModel(\"\\n     RDKit          3D\\n\\n 12 11  0  0  0  0  0  0  0  0999 V2000\\n   -1.5283    0.1179   -0.4824 C   0  0  0  0  0  0  0  0  0  0  0  0\\n   -0.2141    0.6323    0.1105 C   0  0  0  0  0  0  0  0  0  1  0  0\\n    0.1860    2.0107   -0.3929 C   0  0  0  0  0  0  0  0  0  2  0  0\\n    0.4290    2.0058   -1.8366 O   0  0  0  0  0  0  0  0  0  3  0  0\\n    1.5350    1.3543   -2.1369 O   0  0  0  0  0  1  0  0  0  4  0  0\\n   -1.4703    0.0579   -1.5715 H   0  0  0  0  0  0  0  0  0  5  0  0\\n   -1.7612   -0.8800   -0.1038 H   0  0  0  0  0  0  0  0  0  6  0  0\\n   -2.3644    0.7759   -0.2266 H   0  0  0  0  0  0  0  0  0  7  0  0\\n   -0.2860    0.6910    1.2023 H   0  0  0  0  0  0  0  0  0  8  0  0\\n    0.6056   -0.0563   -0.1139 H   0  0  0  0  0  0  0  0  0  9  0  0\\n   -0.6130    2.7462   -0.2752 H   0  0  0  0  0  0  0  0  0 10  0  0\\n    1.1003    2.3727    0.0803 H   0  0  0  0  0  0  0  0  0 11  0  0\\n  5  4  1  0\\n  4  3  1  0\\n  6  1  1  0\\n  1  8  1  0\\n  1  7  1  0\\n  1  2  1  0\\n  3 11  1  0\\n  3 12  1  0\\n  3  2  1  0\\n 10  2  1  0\\n  2  9  1  0\\nM  RAD  1   5   2\\nM  END\\n\",\"sdf\");\n",
       "\tviewergrid_1608769500590394[0][0].setStyle({\"model\": 0},{\"stick\": {}});\n",
       "\tviewergrid_1608769500590394[0][0].zoomTo();\n",
       "\tviewergrid_1608769500590394[0][1].removeAllModels();\n",
       "\tviewergrid_1608769500590394[0][1].addModel(\"\\n     RDKit          3D\\n\\n 12 11  0  0  0  0  0  0  0  0999 V2000\\n   -1.6997    0.1967    0.0658 C   0  0  0  0  0  3  0  0  0  0  0  0\\n   -0.2830    0.5932    0.2937 C   0  0  0  0  0  0  0  0  0  1  0  0\\n    0.0843    1.9448   -0.3220 C   0  0  0  0  0  0  0  0  0  2  0  0\\n   -0.1360    2.0083   -1.7285 O   0  0  0  0  0  0  0  0  0  3  0  0\\n    0.8640    1.1546   -2.3566 O   0  0  0  0  0  0  0  0  0  4  0  0\\n    0.2917    0.5026   -2.7830 H   0  0  0  0  0  0  0  0  0  5  0  0\\n   -2.1680   -0.5677    0.6727 H   0  0  0  0  0  0  0  0  0  6  0  0\\n   -2.2459    0.5827   -0.7858 H   0  0  0  0  0  0  0  0  0  7  0  0\\n   -0.0560    0.6260    1.3673 H   0  0  0  0  0  0  0  0  0  8  0  0\\n    0.4076   -0.1586   -0.1215 H   0  0  0  0  0  0  0  0  0  9  0  0\\n   -0.5657    2.7395    0.0570 H   0  0  0  0  0  0  0  0  0 10  0  0\\n    1.1254    2.2065   -0.1056 H   0  0  0  0  0  0  0  0  0 11  0  0\\n 11  3  1  0\\n  8  1  1  0\\n  4  3  1  0\\n  4  5  1  0\\n  3 12  1  0\\n  3  2  1  0\\n  1  7  1  0\\n  1  2  1  0\\n  2  9  1  0\\n  2 10  1  0\\n  5  6  1  0\\nM  RAD  1   1   2\\nM  END\\n\",\"sdf\");\n",
       "\tviewergrid_1608769500590394[0][1].setStyle({\"model\": 0},{\"stick\": {}});\n",
       "\tviewergrid_1608769500590394[0][1].zoomTo();\n",
       "\tviewergrid_1608769500590394[0][2].removeAllModels();\n",
       "\tviewergrid_1608769500590394[0][2].addModel(\"\\n     RDKit          3D\\n\\n 12 11  0  0  0  0  0  0  0  0999 V2000\\n    1.7655   -0.5735   -0.0690 C   0  0  0  0  0  3  0  0  0  0  0  0\\n    1.4740   -1.3919   -0.7153 H   0  0  0  0  0  0  0  0  0  1  0  0\\n    2.7917   -0.5295    0.2729 H   0  0  0  0  0  0  0  0  0  2  0  0\\n    0.7415    0.3684    0.4608 C   0  0  0  0  0  0  0  0  0  3  0  0\\n   -0.5104    0.4711   -0.4126 C   0  0  0  0  0  0  0  0  0  4  0  0\\n   -1.1687   -0.7769   -0.6128 O   0  0  0  0  0  0  0  0  0  5  0  0\\n   -1.7687   -1.1526    0.6608 O   0  0  0  0  0  0  0  0  0  6  0  0\\n    1.1645    1.3741    0.5835 H   0  0  0  0  0  0  0  0  0  7  0  0\\n    0.4173    0.0696    1.4708 H   0  0  0  0  0  0  0  0  0  8  0  0\\n   -1.2212    1.1941    0.0011 H   0  0  0  0  0  0  0  0  0  9  0  0\\n   -0.2545    0.7718   -1.4333 H   0  0  0  0  0  0  0  0  0 10  0  0\\n   -1.2974   -1.9780    0.8374 H   0  0  0  0  0  0  0  0  0 11  0  0\\n 11  5  1  0\\n  2  1  1  0\\n  6  5  1  0\\n  6  7  1  0\\n  5 10  1  0\\n  5  4  1  0\\n  1  3  1  0\\n  1  4  1  0\\n  4  8  1  0\\n  4  9  1  0\\n  7 12  1  0\\nM  RAD  1   1   2\\nM  END\\n\",\"sdf\");\n",
       "\tviewergrid_1608769500590394[0][2].setStyle({\"model\": 0},{\"stick\": {}});\n",
       "\tviewergrid_1608769500590394[0][2].zoomTo();\n",
       "\tviewergrid_1608769500590394[0][0].render();\n",
       "\tviewergrid_1608769500590394[0][1].render();\n",
       "\tviewergrid_1608769500590394[0][2].render();\n",
       "viewergrid_1608769500590394[0][2].render();\n",
       "viewergrid_1608769500590394[0][1].render();\n",
       "viewergrid_1608769500590394[0][0].render();\n",
       "});\n",
       "</script>"
      ]
     },
     "metadata": {},
     "output_type": "display_data"
    },
    {
     "data": {
      "text/plain": [
       "<py3Dmol.view at 0x7fcfc672a4d0>"
      ]
     },
     "execution_count": 10,
     "metadata": {},
     "output_type": "execute_result"
    }
   ],
   "source": [
    "import py3Dmol\n",
    "\n",
    "def show_mol(mol, view, grid):\n",
    "    from rdkit import Chem\n",
    "    mb = Chem.MolToMolBlock(mol)\n",
    "    view.removeAllModels(viewer=grid)\n",
    "    view.addModel(mb,'sdf', viewer=grid)\n",
    "    view.setStyle({'model':0},{'stick': {}}, viewer=grid)\n",
    "    view.zoomTo(viewer=grid)\n",
    "    return view\n",
    "\n",
    "view = py3Dmol.view(width=960, height=500, linked=False, viewergrid=(1,3))\n",
    "show_mol(r_rdkitmol.ToRWMol(), view, grid=(0, 0))\n",
    "show_mol(p_rdkitmol_match.ToRWMol(), view, grid=(0, 1))\n",
    "show_mol(p_rdkitmol.ToRWMol(), view, grid=(0, 2))\n",
    "\n",
    "print('reactant    matched product      original product')\n",
    "view.render()"
   ]
  },
  {
   "cell_type": "markdown",
   "metadata": {},
   "source": [
    "### 6. Export to SDF file and run ts_gen"
   ]
  },
  {
   "cell_type": "code",
   "execution_count": 11,
   "metadata": {},
   "outputs": [],
   "source": [
    "r_rdkitmol.ToSDFFile('reactant.sdf')\n",
    "p_rdkitmol_match.ToSDFFile('product.sdf')"
   ]
  },
  {
   "cell_type": "markdown",
   "metadata": {},
   "source": [
    "#### 6.1 TS Gen V2"
   ]
  },
  {
   "cell_type": "code",
   "execution_count": 12,
   "metadata": {},
   "outputs": [],
   "source": [
    "TS_GEN_PYTHON = '~/Apps/anaconda3/envs/ts_gen_v2/bin/python3.7'\n",
    "TS_GEN_DIR = '~/Apps/ts_gen_v2'"
   ]
  },
  {
   "cell_type": "code",
   "execution_count": 13,
   "metadata": {},
   "outputs": [],
   "source": [
    "try:\n",
    "    subprocess.run(f'export PYTHONPATH=$PYTHONPATH:{TS_GEN_DIR};'\n",
    "                   f'{TS_GEN_PYTHON} {TS_GEN_DIR}/inference.py '\n",
    "                   f'--r_sdf_path reactant.sdf '\n",
    "                   f'--p_sdf_path product.sdf '\n",
    "                   f'--ts_xyz_path TS.xyz',\n",
    "                   check=True,\n",
    "                   shell=True)\n",
    "except subprocess.CalledProcessError as e:\n",
    "    print(e)\n",
    "else:\n",
    "    with open('TS.xyz', 'r') as f:\n",
    "        ts_xyz=f.read()\n",
    "    ts_rdkit = RDKitMol.FromXYZ(ts_xyz)"
   ]
  },
  {
   "cell_type": "markdown",
   "metadata": {},
   "source": [
    "### 7. Visualize TS"
   ]
  },
  {
   "cell_type": "code",
   "execution_count": 14,
   "metadata": {},
   "outputs": [
    {
     "name": "stdout",
     "output_type": "stream",
     "text": [
      "reactant    TS      product\n"
     ]
    },
    {
     "data": {
      "application/3dmoljs_load.v0": "<div id=\"3dmolviewer_1608769503753249\"  style=\"position: relative; width: 960px; height: 500px\">\n        <p id=\"3dmolwarning_1608769503753249\" style=\"background-color:#ffcccc;color:black\">You appear to be running in JupyterLab (or JavaScript failed to load for some other reason).  You need to install the 3dmol extension: <br>\n        <tt>jupyter labextension install jupyterlab_3dmol</tt></p>\n        </div>\n<script>\n\nvar loadScriptAsync = function(uri){\n  return new Promise((resolve, reject) => {\n    var tag = document.createElement('script');\n    tag.src = uri;\n    tag.async = true;\n    tag.onload = () => {\n      resolve();\n    };\n  var firstScriptTag = document.getElementsByTagName('script')[0];\n  firstScriptTag.parentNode.insertBefore(tag, firstScriptTag);\n});\n};\n\nif(typeof $3Dmolpromise === 'undefined') {\n$3Dmolpromise = null;\n  $3Dmolpromise = loadScriptAsync('https://3dmol.csb.pitt.edu/build/3Dmol.js');\n}\n\nvar viewer_1608769503753249 = null;\nvar warn = document.getElementById(\"3dmolwarning_1608769503753249\");\nif(warn) {\n    warn.parentNode.removeChild(warn);\n}\n$3Dmolpromise.then(function() {\nvar viewergrid_1608769503753249 = null;\nviewergrid_1608769503753249 = $3Dmol.createViewerGrid($(\"#3dmolviewer_1608769503753249\"),{rows: 1, cols: 3, control_all: false},{backgroundColor:\"white\"});\nviewer_1608769503753249 = viewergrid_1608769503753249[0][0];\n\tviewergrid_1608769503753249[0][0].removeAllModels();\n\tviewergrid_1608769503753249[0][0].addModel(\"\\n     RDKit          3D\\n\\n 12 11  0  0  0  0  0  0  0  0999 V2000\\n   -1.5283    0.1179   -0.4824 C   0  0  0  0  0  0  0  0  0  0  0  0\\n   -0.2141    0.6323    0.1105 C   0  0  0  0  0  0  0  0  0  1  0  0\\n    0.1860    2.0107   -0.3929 C   0  0  0  0  0  0  0  0  0  2  0  0\\n    0.4290    2.0058   -1.8366 O   0  0  0  0  0  0  0  0  0  3  0  0\\n    1.5350    1.3543   -2.1369 O   0  0  0  0  0  1  0  0  0  4  0  0\\n   -1.4703    0.0579   -1.5715 H   0  0  0  0  0  0  0  0  0  5  0  0\\n   -1.7612   -0.8800   -0.1038 H   0  0  0  0  0  0  0  0  0  6  0  0\\n   -2.3644    0.7759   -0.2266 H   0  0  0  0  0  0  0  0  0  7  0  0\\n   -0.2860    0.6910    1.2023 H   0  0  0  0  0  0  0  0  0  8  0  0\\n    0.6056   -0.0563   -0.1139 H   0  0  0  0  0  0  0  0  0  9  0  0\\n   -0.6130    2.7462   -0.2752 H   0  0  0  0  0  0  0  0  0 10  0  0\\n    1.1003    2.3727    0.0803 H   0  0  0  0  0  0  0  0  0 11  0  0\\n  5  4  1  0\\n  4  3  1  0\\n  6  1  1  0\\n  1  8  1  0\\n  1  7  1  0\\n  1  2  1  0\\n  3 11  1  0\\n  3 12  1  0\\n  3  2  1  0\\n 10  2  1  0\\n  2  9  1  0\\nM  RAD  1   5   2\\nM  END\\n\",\"sdf\");\n\tviewergrid_1608769503753249[0][0].setStyle({\"model\": 0},{\"stick\": {}});\n\tviewergrid_1608769503753249[0][0].zoomTo();\n\tviewergrid_1608769503753249[0][1].removeAllModels();\n\tviewergrid_1608769503753249[0][1].addModel(\"\\n     RDKit          3D\\n\\n 12 10  0  0  0  0  0  0  0  0999 V2000\\n   -1.4310    0.1360   -0.4163 C   0  0  0  0  0  3  0  0  0  0  0  0\\n   -0.2541    0.7055    0.2633 C   0  0  0  0  0  0  0  0  0  1  0  0\\n    0.2037    2.0026   -0.2958 C   0  0  0  0  0  0  0  0  0  2  0  0\\n    0.3891    1.9988   -1.7058 O   0  0  0  0  0  0  0  0  0  3  0  0\\n    0.4757    0.9667   -2.3695 O   0  0  0  0  0  1  0  0  0  4  0  0\\n   -0.6855    0.2948   -1.8270 H   0  0  0  0  0 15  0  0  0  5  0  0\\n   -1.7138   -0.8486   -0.2478 H   0  0  0  0  0  0  0  0  0  6  0  0\\n   -2.2749    0.6964   -0.5549 H   0  0  0  0  0  0  0  0  0  7  0  0\\n   -0.3739    0.7590    1.3171 H   0  0  0  0  0  0  0  0  0  8  0  0\\n    0.5921    0.0156    0.1626 H   0  0  0  0  0  0  0  0  0  9  0  0\\n   -0.4708    2.7984   -0.0557 H   0  0  0  0  0  0  0  0  0 10  0  0\\n    1.1620    2.3033   -0.0172 H   0  0  0  0  0  0  0  0  0 11  0  0\\n 11  3  1  0\\n  8  1  1  0\\n  4  3  1  0\\n  4  5  1  0\\n  3 12  1  0\\n  3  2  1  0\\n  1  2  1  0\\n  1  7  1  0\\n  2  9  1  0\\n  2 10  1  0\\nM  RAD  2   1   2   5   2\\nM  END\\n\",\"sdf\");\n\tviewergrid_1608769503753249[0][1].setStyle({\"model\": 0},{\"stick\": {}});\n\tviewergrid_1608769503753249[0][1].zoomTo();\n\tviewergrid_1608769503753249[0][2].removeAllModels();\n\tviewergrid_1608769503753249[0][2].addModel(\"\\n     RDKit          3D\\n\\n 12 11  0  0  0  0  0  0  0  0999 V2000\\n   -1.6997    0.1967    0.0658 C   0  0  0  0  0  3  0  0  0  0  0  0\\n   -0.2830    0.5932    0.2937 C   0  0  0  0  0  0  0  0  0  1  0  0\\n    0.0843    1.9448   -0.3220 C   0  0  0  0  0  0  0  0  0  2  0  0\\n   -0.1360    2.0083   -1.7285 O   0  0  0  0  0  0  0  0  0  3  0  0\\n    0.8640    1.1546   -2.3566 O   0  0  0  0  0  0  0  0  0  4  0  0\\n    0.2917    0.5026   -2.7830 H   0  0  0  0  0  0  0  0  0  5  0  0\\n   -2.1680   -0.5677    0.6727 H   0  0  0  0  0  0  0  0  0  6  0  0\\n   -2.2459    0.5827   -0.7858 H   0  0  0  0  0  0  0  0  0  7  0  0\\n   -0.0560    0.6260    1.3673 H   0  0  0  0  0  0  0  0  0  8  0  0\\n    0.4076   -0.1586   -0.1215 H   0  0  0  0  0  0  0  0  0  9  0  0\\n   -0.5657    2.7395    0.0570 H   0  0  0  0  0  0  0  0  0 10  0  0\\n    1.1254    2.2065   -0.1056 H   0  0  0  0  0  0  0  0  0 11  0  0\\n 11  3  1  0\\n  8  1  1  0\\n  4  3  1  0\\n  4  5  1  0\\n  3 12  1  0\\n  3  2  1  0\\n  1  7  1  0\\n  1  2  1  0\\n  2  9  1  0\\n  2 10  1  0\\n  5  6  1  0\\nM  RAD  1   1   2\\nM  END\\n\",\"sdf\");\n\tviewergrid_1608769503753249[0][2].setStyle({\"model\": 0},{\"stick\": {}});\n\tviewergrid_1608769503753249[0][2].zoomTo();\n\tviewergrid_1608769503753249[0][0].render();\n\tviewergrid_1608769503753249[0][1].render();\n\tviewergrid_1608769503753249[0][2].render();\nviewergrid_1608769503753249[0][2].render();\nviewergrid_1608769503753249[0][1].render();\nviewergrid_1608769503753249[0][0].render();\n});\n</script>",
      "text/html": [
       "<div id=\"3dmolviewer_1608769503753249\"  style=\"position: relative; width: 960px; height: 500px\">\n",
       "        <p id=\"3dmolwarning_1608769503753249\" style=\"background-color:#ffcccc;color:black\">You appear to be running in JupyterLab (or JavaScript failed to load for some other reason).  You need to install the 3dmol extension: <br>\n",
       "        <tt>jupyter labextension install jupyterlab_3dmol</tt></p>\n",
       "        </div>\n",
       "<script>\n",
       "\n",
       "var loadScriptAsync = function(uri){\n",
       "  return new Promise((resolve, reject) => {\n",
       "    var tag = document.createElement('script');\n",
       "    tag.src = uri;\n",
       "    tag.async = true;\n",
       "    tag.onload = () => {\n",
       "      resolve();\n",
       "    };\n",
       "  var firstScriptTag = document.getElementsByTagName('script')[0];\n",
       "  firstScriptTag.parentNode.insertBefore(tag, firstScriptTag);\n",
       "});\n",
       "};\n",
       "\n",
       "if(typeof $3Dmolpromise === 'undefined') {\n",
       "$3Dmolpromise = null;\n",
       "  $3Dmolpromise = loadScriptAsync('https://3dmol.csb.pitt.edu/build/3Dmol.js');\n",
       "}\n",
       "\n",
       "var viewer_1608769503753249 = null;\n",
       "var warn = document.getElementById(\"3dmolwarning_1608769503753249\");\n",
       "if(warn) {\n",
       "    warn.parentNode.removeChild(warn);\n",
       "}\n",
       "$3Dmolpromise.then(function() {\n",
       "var viewergrid_1608769503753249 = null;\n",
       "viewergrid_1608769503753249 = $3Dmol.createViewerGrid($(\"#3dmolviewer_1608769503753249\"),{rows: 1, cols: 3, control_all: false},{backgroundColor:\"white\"});\n",
       "viewer_1608769503753249 = viewergrid_1608769503753249[0][0];\n",
       "\tviewergrid_1608769503753249[0][0].removeAllModels();\n",
       "\tviewergrid_1608769503753249[0][0].addModel(\"\\n     RDKit          3D\\n\\n 12 11  0  0  0  0  0  0  0  0999 V2000\\n   -1.5283    0.1179   -0.4824 C   0  0  0  0  0  0  0  0  0  0  0  0\\n   -0.2141    0.6323    0.1105 C   0  0  0  0  0  0  0  0  0  1  0  0\\n    0.1860    2.0107   -0.3929 C   0  0  0  0  0  0  0  0  0  2  0  0\\n    0.4290    2.0058   -1.8366 O   0  0  0  0  0  0  0  0  0  3  0  0\\n    1.5350    1.3543   -2.1369 O   0  0  0  0  0  1  0  0  0  4  0  0\\n   -1.4703    0.0579   -1.5715 H   0  0  0  0  0  0  0  0  0  5  0  0\\n   -1.7612   -0.8800   -0.1038 H   0  0  0  0  0  0  0  0  0  6  0  0\\n   -2.3644    0.7759   -0.2266 H   0  0  0  0  0  0  0  0  0  7  0  0\\n   -0.2860    0.6910    1.2023 H   0  0  0  0  0  0  0  0  0  8  0  0\\n    0.6056   -0.0563   -0.1139 H   0  0  0  0  0  0  0  0  0  9  0  0\\n   -0.6130    2.7462   -0.2752 H   0  0  0  0  0  0  0  0  0 10  0  0\\n    1.1003    2.3727    0.0803 H   0  0  0  0  0  0  0  0  0 11  0  0\\n  5  4  1  0\\n  4  3  1  0\\n  6  1  1  0\\n  1  8  1  0\\n  1  7  1  0\\n  1  2  1  0\\n  3 11  1  0\\n  3 12  1  0\\n  3  2  1  0\\n 10  2  1  0\\n  2  9  1  0\\nM  RAD  1   5   2\\nM  END\\n\",\"sdf\");\n",
       "\tviewergrid_1608769503753249[0][0].setStyle({\"model\": 0},{\"stick\": {}});\n",
       "\tviewergrid_1608769503753249[0][0].zoomTo();\n",
       "\tviewergrid_1608769503753249[0][1].removeAllModels();\n",
       "\tviewergrid_1608769503753249[0][1].addModel(\"\\n     RDKit          3D\\n\\n 12 10  0  0  0  0  0  0  0  0999 V2000\\n   -1.4310    0.1360   -0.4163 C   0  0  0  0  0  3  0  0  0  0  0  0\\n   -0.2541    0.7055    0.2633 C   0  0  0  0  0  0  0  0  0  1  0  0\\n    0.2037    2.0026   -0.2958 C   0  0  0  0  0  0  0  0  0  2  0  0\\n    0.3891    1.9988   -1.7058 O   0  0  0  0  0  0  0  0  0  3  0  0\\n    0.4757    0.9667   -2.3695 O   0  0  0  0  0  1  0  0  0  4  0  0\\n   -0.6855    0.2948   -1.8270 H   0  0  0  0  0 15  0  0  0  5  0  0\\n   -1.7138   -0.8486   -0.2478 H   0  0  0  0  0  0  0  0  0  6  0  0\\n   -2.2749    0.6964   -0.5549 H   0  0  0  0  0  0  0  0  0  7  0  0\\n   -0.3739    0.7590    1.3171 H   0  0  0  0  0  0  0  0  0  8  0  0\\n    0.5921    0.0156    0.1626 H   0  0  0  0  0  0  0  0  0  9  0  0\\n   -0.4708    2.7984   -0.0557 H   0  0  0  0  0  0  0  0  0 10  0  0\\n    1.1620    2.3033   -0.0172 H   0  0  0  0  0  0  0  0  0 11  0  0\\n 11  3  1  0\\n  8  1  1  0\\n  4  3  1  0\\n  4  5  1  0\\n  3 12  1  0\\n  3  2  1  0\\n  1  2  1  0\\n  1  7  1  0\\n  2  9  1  0\\n  2 10  1  0\\nM  RAD  2   1   2   5   2\\nM  END\\n\",\"sdf\");\n",
       "\tviewergrid_1608769503753249[0][1].setStyle({\"model\": 0},{\"stick\": {}});\n",
       "\tviewergrid_1608769503753249[0][1].zoomTo();\n",
       "\tviewergrid_1608769503753249[0][2].removeAllModels();\n",
       "\tviewergrid_1608769503753249[0][2].addModel(\"\\n     RDKit          3D\\n\\n 12 11  0  0  0  0  0  0  0  0999 V2000\\n   -1.6997    0.1967    0.0658 C   0  0  0  0  0  3  0  0  0  0  0  0\\n   -0.2830    0.5932    0.2937 C   0  0  0  0  0  0  0  0  0  1  0  0\\n    0.0843    1.9448   -0.3220 C   0  0  0  0  0  0  0  0  0  2  0  0\\n   -0.1360    2.0083   -1.7285 O   0  0  0  0  0  0  0  0  0  3  0  0\\n    0.8640    1.1546   -2.3566 O   0  0  0  0  0  0  0  0  0  4  0  0\\n    0.2917    0.5026   -2.7830 H   0  0  0  0  0  0  0  0  0  5  0  0\\n   -2.1680   -0.5677    0.6727 H   0  0  0  0  0  0  0  0  0  6  0  0\\n   -2.2459    0.5827   -0.7858 H   0  0  0  0  0  0  0  0  0  7  0  0\\n   -0.0560    0.6260    1.3673 H   0  0  0  0  0  0  0  0  0  8  0  0\\n    0.4076   -0.1586   -0.1215 H   0  0  0  0  0  0  0  0  0  9  0  0\\n   -0.5657    2.7395    0.0570 H   0  0  0  0  0  0  0  0  0 10  0  0\\n    1.1254    2.2065   -0.1056 H   0  0  0  0  0  0  0  0  0 11  0  0\\n 11  3  1  0\\n  8  1  1  0\\n  4  3  1  0\\n  4  5  1  0\\n  3 12  1  0\\n  3  2  1  0\\n  1  7  1  0\\n  1  2  1  0\\n  2  9  1  0\\n  2 10  1  0\\n  5  6  1  0\\nM  RAD  1   1   2\\nM  END\\n\",\"sdf\");\n",
       "\tviewergrid_1608769503753249[0][2].setStyle({\"model\": 0},{\"stick\": {}});\n",
       "\tviewergrid_1608769503753249[0][2].zoomTo();\n",
       "\tviewergrid_1608769503753249[0][0].render();\n",
       "\tviewergrid_1608769503753249[0][1].render();\n",
       "\tviewergrid_1608769503753249[0][2].render();\n",
       "viewergrid_1608769503753249[0][2].render();\n",
       "viewergrid_1608769503753249[0][1].render();\n",
       "viewergrid_1608769503753249[0][0].render();\n",
       "});\n",
       "</script>"
      ]
     },
     "metadata": {},
     "output_type": "display_data"
    },
    {
     "data": {
      "text/plain": [
       "<py3Dmol.view at 0x7fcfc673b950>"
      ]
     },
     "execution_count": 14,
     "metadata": {},
     "output_type": "execute_result"
    }
   ],
   "source": [
    "import py3Dmol\n",
    "\n",
    "# Align the TS to make visualization more convenient\n",
    "atom_map = [(i, i) for i in range(r_rdkitmol.GetNumAtoms())]\n",
    "rmsd1 = ts_rdkit.AlignMol(r_rdkitmol,\n",
    "                          atomMap=atom_map)\n",
    "rmsd2 = ts_rdkit.AlignMol(r_rdkitmol,\n",
    "                          atomMap=atom_map,\n",
    "                          reflect=True)\n",
    "if rmsd1 < rmsd2:\n",
    "    ts_rdkit.AlignMol(r_rdkitmol,\n",
    "                      atomMap=atom_map,\n",
    "                      reflect=True,\n",
    "                      maxIters=1)\n",
    "\n",
    "view = py3Dmol.view(width=960, height=500, linked=False, viewergrid=(1,3))\n",
    "show_mol(r_rdkitmol.ToRWMol(), view, grid=(0, 0))\n",
    "show_mol(ts_rdkit.ToRWMol(), view, grid=(0, 1))\n",
    "show_mol(p_rdkitmol_match.ToRWMol(), view, grid=(0, 2))\n",
    "\n",
    "print('reactant    TS      product')\n",
    "view.render()"
   ]
  },
  {
   "cell_type": "code",
   "execution_count": null,
   "metadata": {},
   "outputs": [],
   "source": []
  }
 ],
 "metadata": {
  "@webio": {
   "lastCommId": null,
   "lastKernelId": null
  },
  "kernelspec": {
   "display_name": "Python 3.7.6 64-bit ('arc_env': conda)",
   "language": "python",
   "name": "python37664bitarcenvconda83c4abf9215d4a698ce68e2a44e6e6bc"
  },
  "language_info": {
   "codemirror_mode": {
    "name": "ipython",
    "version": 3
   },
   "file_extension": ".py",
   "mimetype": "text/x-python",
   "name": "python",
   "nbconvert_exporter": "python",
   "pygments_lexer": "ipython3",
   "version": "3.7.7"
  }
 },
 "nbformat": 4,
 "nbformat_minor": 2
}
