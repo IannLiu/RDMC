{
 "cells": [
  {
   "cell_type": "markdown",
   "metadata": {},
   "source": [
    "# A Demo of using RDKitMol as intermediate to generate TS by TS-GCN\n",
    "\n",
    "A demo to show how RDKitMol can connect RMG and TS-GCN to help predict TS geometry. TS-GCN requires a same atom ordering for the reactant and the product, which is seldomly accessible in practice. RDKitMol + RMG provides an opportunity to match reactant and product atom indexes according to RMG reaction family. <br>\n",
    "\n",
    "Some codes are compiled from https://github.com/ReactionMechanismGenerator/TS-GCN\n"
   ]
  },
  {
   "cell_type": "code",
   "execution_count": null,
   "metadata": {},
   "outputs": [],
   "source": [
    "import os\n",
    "import sys\n",
    "import subprocess\n",
    "# To add this RDMC into PYTHONPATH in case you haven't do it\n",
    "sys.path.append(os.path.dirname(os.path.abspath('')))\n",
    "\n",
    "from rdmc.mol import RDKitMol\n",
    "from rdmc.view import grid_viewer, mol_viewer\n",
    "\n",
    "# import RMG dependencies\n",
    "try:\n",
    "    from rdmc.external.rmg import (from_rdkit_mol,\n",
    "                                   load_rmg_database,\n",
    "                                   generate_product_complex,\n",
    "                                   mm)\n",
    "    # Load RMG database\n",
    "    database = load_rmg_database()\n",
    "except (ImportError, ModuleNotFoundError):\n",
    "    print('You need to install RMG-Py first and run this IPYNB in rmg_env!')\n",
    "\n",
    "%load_ext autoreload\n",
    "%autoreload 2"
   ]
  },
  {
   "cell_type": "markdown",
   "metadata": {},
   "source": [
    "### 1. Input molecule information\n",
    "Perceive xyz and generate RMG molecule.\n",
    "- **Please always define the single species end of the reaction as the reactant.**\n",
    "- **Prefered to put the heavier product in the first place of the list.**\n",
    "\n",
    "Here, some examples are provided"
   ]
  },
  {
   "cell_type": "markdown",
   "metadata": {},
   "source": [
    "#### 1.1: Intra H migration (A = B)"
   ]
  },
  {
   "cell_type": "code",
   "execution_count": null,
   "metadata": {},
   "outputs": [],
   "source": [
    "reactant_xyz = \"\"\"C -1.528265  0.117903  -0.48245\n",
    "C -0.214051  0.632333  0.11045\n",
    "C 0.185971  2.010727  -0.392941\n",
    "O 0.428964  2.005838  -1.836634\n",
    "O 1.53499  1.354342  -2.136876\n",
    "H -1.470265  0.057863  -1.571456\n",
    "H -1.761158  -0.879955  -0.103809\n",
    "H -2.364396  0.775879  -0.226557\n",
    "H -0.285989  0.690961  1.202293\n",
    "H 0.605557  -0.056315  -0.113934\n",
    "H -0.613001  2.746243  -0.275209\n",
    "H 1.100271  2.372681  0.080302\"\"\"\n",
    "\n",
    "product_xyzs = [\"\"\"C 1.765475  -0.57351  -0.068971\n",
    "H 1.474015  -1.391926  -0.715328\n",
    "H 2.791718  -0.529486  0.272883\n",
    "C 0.741534  0.368416  0.460793\n",
    "C -0.510358  0.471107  -0.412585\n",
    "O -1.168692  -0.776861  -0.612765\n",
    "O -1.768685  -1.15259  0.660846\n",
    "H 1.164505  1.37408  0.583524\n",
    "H 0.417329  0.069625  1.470788\n",
    "H -1.221189  1.194071  0.001131\n",
    "H -0.254525  0.771835  -1.433299\n",
    "H -1.297409  -1.977953  0.837367\"\"\"]"
   ]
  },
  {
   "cell_type": "markdown",
   "metadata": {},
   "source": [
    "#### 1.2: Intra_R_Add_Endocyclic (A = B)"
   ]
  },
  {
   "cell_type": "code",
   "execution_count": null,
   "metadata": {},
   "outputs": [],
   "source": [
    "reactant_xyz = \"\"\"C -1.280629  1.685312  0.071717\n",
    "C -0.442676  0.4472  -0.138756\n",
    "C 0.649852  0.459775  -0.911627\n",
    "C 1.664686  -0.612881  -1.217378\n",
    "O 1.590475  -1.810904  -0.470776\n",
    "C -0.908344  -0.766035  0.616935\n",
    "O -0.479496  -0.70883  2.04303\n",
    "O 0.804383  -0.936239  2.193929\n",
    "H -1.330008  1.940487  1.13602\n",
    "H -0.87426  2.544611  -0.46389\n",
    "H -2.311393  1.527834  -0.265852\n",
    "H 0.884957  1.398914  -1.412655\n",
    "H 2.661334  -0.151824  -1.125202\n",
    "H 1.56564  -0.901818  -2.270488\n",
    "H 1.630132  -1.574551  0.469563\n",
    "H -0.531309  -1.699031  0.2105\n",
    "H -1.994785  -0.790993  0.711395\"\"\"\n",
    "\n",
    "product_xyzs = [\"\"\"C -1.515438  1.173583  -0.148858\n",
    "C -0.776842  -0.102045  0.027824\n",
    "C 0.680366  -0.300896  -0.240616\n",
    "O 1.080339  -1.344575  0.660508\n",
    "O -0.122211  -2.188293  0.768145\n",
    "C -1.192654  -1.233281  0.917593\n",
    "C -1.377606  -0.848982  2.395301\n",
    "O -0.302953  -0.072705  2.896143\n",
    "H -2.596401  1.013314  -0.200053\n",
    "H -1.327563  1.859316  0.692798\n",
    "H -1.211486  1.693094  -1.062486\n",
    "H 0.888934  -0.598866  -1.280033\n",
    "H 1.294351  0.57113  0.013413\n",
    "H -2.08787  -1.759118  0.559676\n",
    "H -1.514675  -1.774461  2.97179\n",
    "H -2.282313  -0.243469  2.505554\n",
    "H 0.511127  -0.541653  2.673033\"\"\"]"
   ]
  },
  {
   "cell_type": "markdown",
   "metadata": {},
   "source": [
    "#### 1.3: ketoenol (A = B)"
   ]
  },
  {
   "cell_type": "code",
   "execution_count": null,
   "metadata": {},
   "outputs": [],
   "source": [
    "reactant_xyz = \"\"\"O 0.898799  1.722422  0.70012\n",
    "C 0.293754  -0.475947  -0.083092\n",
    "C -1.182804  -0.101736  -0.000207\n",
    "C 1.238805  0.627529  0.330521\n",
    "H 0.527921  -1.348663  0.542462\n",
    "H 0.58037  -0.777872  -1.100185\n",
    "H -1.45745  0.17725  1.018899\n",
    "H -1.813437  -0.937615  -0.310796\n",
    "H -1.404454  0.753989  -0.640868\n",
    "H 2.318497  0.360641  0.272256\"\"\"\n",
    "\n",
    "product_xyzs = [\"\"\"O 2.136128  0.058786  -0.999372\n",
    "C -1.347448  0.039725  0.510465\n",
    "C 0.116046  -0.220125  0.294405\n",
    "C 0.810093  0.253091  -0.73937\n",
    "H -1.530204  0.552623  1.461378\n",
    "H -1.761309  0.662825  -0.286624\n",
    "H -1.923334  -0.892154  0.536088\n",
    "H 0.627132  -0.833978  1.035748\n",
    "H 0.359144  0.869454  -1.510183\n",
    "H 2.513751  -0.490247  -0.302535\"\"\"]"
   ]
  },
  {
   "cell_type": "markdown",
   "metadata": {},
   "source": [
    "#### 1.4: Retroene (A = B + C)"
   ]
  },
  {
   "cell_type": "code",
   "execution_count": null,
   "metadata": {},
   "outputs": [],
   "source": [
    "reactant_xyz = \"\"\"C -6.006673  2.090429  -0.326601\n",
    "C -4.967524  1.669781  0.388617\n",
    "C -3.589427  2.26746  0.357355\n",
    "C -2.508902  1.272686  -0.104697\n",
    "H -3.327271  2.622795  1.363524\n",
    "H -3.58379  3.147152  -0.296003\n",
    "C -1.100521  1.87264  -0.092522\n",
    "H -2.756221  0.924031  -1.113232\n",
    "H -2.5361  0.386526  0.540381\n",
    "H -1.035149  2.742418  -0.753598\n",
    "H -0.355581  1.145552  -0.426718\n",
    "H -0.818137  2.200037  0.913007\n",
    "H -6.976055  1.60886  -0.26225\n",
    "H -5.925943  2.93703  -1.002368\n",
    "H -5.097445  0.815022  1.052006\"\"\"\n",
    "\n",
    "product_xyzs = [\n",
    "\"\"\"C -1.134399  -0.013643  -0.104812\n",
    "C 0.269995  0.453024  0.142565\n",
    "C 1.359378  -0.302236  0.042286\n",
    "H -1.605932  0.564934  -0.907015\n",
    "H -1.757078  0.122064  0.786524\n",
    "H -1.163175  -1.069646  -0.383531\n",
    "H 0.381197  1.49848  0.425883\n",
    "H 1.301395  -1.350314  -0.236967\n",
    "H 2.348619  0.097335  0.235065\"\"\",\n",
    "\n",
    "\"\"\"C 0.659713  0.003927  0.070539\n",
    "C -0.659713  -0.003926  -0.070539\n",
    "H 1.253364  0.882833  -0.158319\n",
    "H 1.20186  -0.86822  0.420842\n",
    "H -1.20186  0.86822  -0.420842\n",
    "H -1.253364  -0.882833  0.158319\"\"\",\n",
    "]"
   ]
  },
  {
   "cell_type": "markdown",
   "metadata": {},
   "source": [
    "#### 1.5 HO2 Addition (A = B + C)"
   ]
  },
  {
   "cell_type": "code",
   "execution_count": null,
   "metadata": {},
   "outputs": [],
   "source": [
    "reactant_xyz = \"\"\"C -1.890664  -0.709255  -0.271996\n",
    "C -0.601182  0.078056  -0.018811\n",
    "C 0.586457  -0.545096  -0.777924\n",
    "C -0.292203  0.188974  1.451901\n",
    "H -0.683164  -0.56844  2.124827\n",
    "C 0.477032  1.332664  2.012529\n",
    "O -0.367239  2.493656  2.288335\n",
    "O -0.679966  1.393013  -0.618968\n",
    "O -1.811606  2.119506  -0.074789\n",
    "H -1.819659  -1.711353  0.159844\n",
    "H -2.063907  -0.801665  -1.346104\n",
    "H -2.739557  -0.190076  0.171835\n",
    "H 0.374452  -0.548385  -1.849706\n",
    "H 1.501209  0.026135  -0.608139\n",
    "H 0.747239  -1.572318  -0.444379\n",
    "H 1.209047  1.707778  1.296557\n",
    "H 0.998836  1.047896  2.931789\n",
    "H -0.994076  2.235514  2.974109\n",
    "H -1.392774  2.537261  0.704151\"\"\"\n",
    "\n",
    "product_xyzs = [\n",
    "\"\"\"C -1.395681  1.528483  -0.00216\n",
    "C -0.402668  0.411601  -0.210813\n",
    "C -0.997629  -0.972081  -0.127641\n",
    "C 0.890607  0.678979  -0.433435\n",
    "C 2.015631  -0.28316  -0.676721\n",
    "O 2.741986  0.043989  -1.867415\n",
    "H -0.923699  2.509933  -0.072949\n",
    "H -2.200649  1.479183  -0.744922\n",
    "H -1.873843  1.44886  0.981238\n",
    "H -1.839799  -1.068706  -0.822233\n",
    "H -0.283424  -1.765173  -0.346167\n",
    "H -1.400492  -1.154354  0.875459\n",
    "H 1.201336  1.7219  -0.466637\n",
    "H 2.754241  -0.212398  0.127575\n",
    "H 1.667906  -1.32225  -0.7073\n",
    "H 2.101868  0.079395  -2.5857\"\"\",\n",
    "\n",
    "\"\"\"O -0.168488  0.443026  0.0\n",
    "O 1.006323  -0.176508  0.0\n",
    "H -0.837834  -0.266518  0.0\"\"\",\n",
    "]"
   ]
  },
  {
   "cell_type": "markdown",
   "metadata": {},
   "source": [
    "#### 1.6 cycloaddition (A = B + C)"
   ]
  },
  {
   "cell_type": "code",
   "execution_count": null,
   "metadata": {},
   "outputs": [],
   "source": [
    "reactant_xyz = \"\"\"O -0.854577  1.055663  -0.58206\n",
    "O 0.549424  1.357531  -0.196886\n",
    "C -0.727718  -0.273028  -0.011573\n",
    "C 0.76774  -0.043476  0.113736\n",
    "H -1.066903  -1.044054  -0.706048\n",
    "H -1.263435  -0.349651  0.939354\n",
    "H 1.374762  -0.530738  -0.655177\n",
    "H 1.220707  -0.172248  1.098653\"\"\"\n",
    "\n",
    "product_xyzs = [\n",
    "\"\"\"O 0.0  0.0  0.682161\n",
    "C 0.0  0.0  -0.517771\n",
    "H 0.0  0.938619  -1.110195\n",
    "H 0.0  -0.938619  -1.110195\"\"\",\n",
    "\n",
    "\"\"\"O 0.0  0.0  0.682161\n",
    "C 0.0  0.0  -0.517771\n",
    "H 0.0  0.938619  -1.110195\n",
    "H 0.0  -0.938619  -1.110195\"\"\",\n",
    "]"
   ]
  },
  {
   "cell_type": "markdown",
   "metadata": {},
   "source": [
    "#### [TEST]"
   ]
  },
  {
   "cell_type": "code",
   "execution_count": null,
   "metadata": {},
   "outputs": [],
   "source": [
    "reactant_xyz = \"\"\"  C                 -1.46906640    0.60005140   -0.33926754\n",
    " H                 -2.26116914    1.22007728   -0.72460795\n",
    " C                 -1.38956818   -0.73623936   -0.32193923\n",
    " H                 -2.10238195   -1.45466333   -0.69227790\n",
    " C                 -0.15313704   -1.26906745    0.28524353\n",
    " H                  0.57488016   -1.74435829   -0.35925707\n",
    " H                 -0.22157142   -1.70137139    1.27323768\n",
    " C                 -0.24485657    1.20842304    0.28454163\n",
    " H                  0.34631301    1.85087508   -0.38575410\n",
    " O                  0.80687615    0.16816893    0.60967766\n",
    " O                  2.26152266    0.49372545    0.20724445\n",
    " H                  2.73555750    0.25285146    1.00597112\n",
    " H                 -0.43624274    1.72491768    1.24065942\n",
    "\"\"\"\n",
    "\n",
    "product_xyzs = [\n",
    "\"\"\"C      1.041174    0.363020    0.022251\n",
    "C     -0.039248    1.105625   -0.024168\n",
    "C     -1.205067    0.166738   -0.031137\n",
    "O     -0.717353   -1.089725   -0.295617\n",
    "C      0.629086   -1.044078    0.046303\n",
    "H      2.048685    0.750420    0.038636\n",
    "H     -0.091538    2.187600   -0.052664\n",
    "H     -1.819394    0.468851   -0.927329\n",
    "H     -1.771201    0.222565    0.899440\n",
    "H      1.171410   -1.629308   -0.724483\n",
    "H      0.753445   -1.501707    1.048767\n",
    "\"\"\",\n",
    "\n",
    "\"\"\"O 0.487604  0.0  0.0\n",
    "H -0.487604  0.0  0.0\"\"\",\n",
    "]"
   ]
  },
  {
   "cell_type": "markdown",
   "metadata": {},
   "source": [
    "### **Run this cell after xyz definition**"
   ]
  },
  {
   "cell_type": "code",
   "execution_count": null,
   "metadata": {},
   "outputs": [],
   "source": [
    "r_mol = RDKitMol.FromXYZ(reactant_xyz, backend='pybel', header=False)\n",
    "p_mols = [RDKitMol.FromXYZ(product_xyz, backend='pybel', header=False) \\\n",
    "          for product_xyz in product_xyzs]\n",
    "                 \n",
    "reactants = [from_rdkit_mol(r_mol.ToRWMol())]\n",
    "products = [from_rdkit_mol(p_mol.ToRWMol()) for p_mol in p_mols]"
   ]
  },
  {
   "cell_type": "markdown",
   "metadata": {},
   "source": [
    "### [OTHERWISE] we can create molecules RDKit"
   ]
  },
  {
   "cell_type": "code",
   "execution_count": null,
   "metadata": {},
   "outputs": [],
   "source": [
    "r_mol = RDKitMol.FromSmiles('C1=CCCCC1')\n",
    "p_mols = [RDKitMol.FromSmiles('C1=CCOC1 '),\n",
    "          RDKitMol.FromSmiles('C=C'),]\n",
    "\n",
    "r_mol.EmbedConformer()\n",
    "for i in range(len(p_mols)):\n",
    "    p_mols[i].EmbedConformer()\n",
    "    \n",
    "reactants = [from_rdkit_mol(r_mol.ToRWMol())]\n",
    "products = [from_rdkit_mol(p_mol.ToRWMol()) for p_mol in p_mols]"
   ]
  },
  {
   "cell_type": "markdown",
   "metadata": {},
   "source": [
    "### 2. Check if this reaction matches RMG templates and generate product complex\n",
    "If the reaction matches at least one RMG family, the result will be shown. Otherwise,\n",
    "this script will not be helpful"
   ]
  },
  {
   "cell_type": "code",
   "execution_count": null,
   "metadata": {},
   "outputs": [],
   "source": [
    "product_match = generate_product_complex(database,\n",
    "                                         reactants,\n",
    "                                         products)\n",
    "\n",
    "# A product complex with the same atom indexing as the reactant is generated\n",
    "# p_rmg is its RDKitMol form and product_match is its RMG molecule form\n",
    "p_rmg = RDKitMol.FromRMGMol(product_match)"
   ]
  },
  {
   "cell_type": "code",
   "execution_count": null,
   "metadata": {},
   "outputs": [],
   "source": [
    "# Get the coordinates of the reactant\n",
    "conf = r_mol.GetConformer(); coords = conf.GetPositions()\n",
    "\n",
    "# Set reactant's coordinates to the product complexes\n",
    "p_rmg.EmbedConformer(); conf = p_rmg.GetConformer(); conf.SetPositions(coords)"
   ]
  },
  {
   "cell_type": "markdown",
   "metadata": {},
   "source": [
    "obtained product complex"
   ]
  },
  {
   "cell_type": "code",
   "execution_count": null,
   "metadata": {},
   "outputs": [],
   "source": [
    "viewer = mol_viewer(p_rmg.ToMolBlock(), 'sdf')\n",
    "viewer.show()"
   ]
  },
  {
   "cell_type": "markdown",
   "metadata": {},
   "source": [
    "### 3. Find structure match between product complex and input product molecules"
   ]
  },
  {
   "cell_type": "markdown",
   "metadata": {},
   "source": [
    "#### 3.1 Combine products if necessary"
   ]
  },
  {
   "cell_type": "code",
   "execution_count": null,
   "metadata": {},
   "outputs": [],
   "source": [
    "# [INPUT for [A = B + C ONLY]]\n",
    "# When locating product, only consider heavy atoms (True) or also consider Hs (False)\n",
    "# So far, not sure which works better\n",
    "heavy = False\n",
    "\n",
    "# When combine two product into a complex the offset to be used\n",
    "# can be a 3D vector in tuple or list or an float number as a proportion of the distance vector\n",
    "# So far, it is not sure how sensitive is TS_gen to the alignment distance\n",
    "offset = 0.1"
   ]
  },
  {
   "cell_type": "code",
   "execution_count": null,
   "metadata": {
    "scrolled": true
   },
   "outputs": [],
   "source": [
    "if len(products) == 1:\n",
    "    p_combine = p_mols[0]  # No need to combine if A = B\n",
    "else:\n",
    "    print('Combine two products...')\n",
    "    matches = [p_rmg.GetSubstructMatches(p_mol, uniquify=False)  # unique is used in case both products are the same molecule\n",
    "               for p_mol in p_mols]\n",
    "\n",
    "    if heavy:\n",
    "        heavy_indexes = [[atom.GetIdx() for atom in p_mol.GetAtoms() \\\n",
    "                          if atom.GetAtomicNum() > 1] \\\n",
    "                         for p_mol in p_mols]\n",
    "        # Find the heavy atom match for the first product\n",
    "        matches[0] = tuple(matches[0][0][i] for i in heavy_indexes[0])\n",
    "        # Find the heavy atom match for the second product\n",
    "        for match in matches[1]:\n",
    "            match_tmp = tuple(match[i] for i in heavy_indexes[1])\n",
    "            # Check if any common element\n",
    "            if not(set(matches[0]) & set(match_tmp)):\n",
    "                matches[1] = match_tmp\n",
    "                break\n",
    "    else:\n",
    "        # Otherwise, just use the first match for each product\n",
    "        matches[0] = matches[0][0]\n",
    "        for match in matches[1]:\n",
    "            if not(set(matches[0]) & set(match)):\n",
    "                matches[1] = match\n",
    "                break\n",
    "    \n",
    "    # Align and combine the two products into one complex\n",
    "    p_aligns = []\n",
    "    for p_idx, p_mol in enumerate(p_mols):\n",
    "        # Make a copy of p_mol to preserve its original information\n",
    "        p_align = p_mol.Copy()\n",
    "        atom_map = [(prb, ref) for prb, ref in enumerate(matches[p_idx])]\n",
    "        # Align product to the product complex\n",
    "        rmsd, reflect = p_align.GetBestAlign(refMol=p_rmg,\n",
    "                                             atomMap=atom_map)\n",
    "        p_aligns.append(p_align)\n",
    "        print(f'Product{p_idx + 1}, Reflect Conformation: {reflect}, RMSD: {rmsd}')\n",
    "\n",
    "    p_combine = p_aligns[0].CombineMol(p_aligns[1], offset=offset)"
   ]
  },
  {
   "cell_type": "markdown",
   "metadata": {},
   "source": [
    "#### 3.2 Find all possible atom mapping between the reactant and the product."
   ]
  },
  {
   "cell_type": "code",
   "execution_count": null,
   "metadata": {},
   "outputs": [],
   "source": [
    "matches = p_rmg.GetSubstructMatches(p_combine, uniquify=False)"
   ]
  },
  {
   "cell_type": "markdown",
   "metadata": {},
   "source": [
    "Find the best atom mapping by RMSD. <br>\n",
    "Note, this can perform relatively poorly if the reactant and the product are in different stereotype (cis/trans). or most rotors are significantly different oriented. However, previous step (match according to RMG reaction) makes sure that all heavy atoms and reacting H atoms are consistent, so only H atoms that are more trivial are influenced by this."
   ]
  },
  {
   "cell_type": "code",
   "execution_count": null,
   "metadata": {},
   "outputs": [],
   "source": [
    "rmsds = []\n",
    "# Make a copy of p_combine to preserve its original information\n",
    "p_align = p_combine.Copy()\n",
    "\n",
    "# Align the combined complex to the rmg generated complex\n",
    "# According to different mapping and find the best one.\n",
    "for i, match in enumerate(matches):\n",
    "    atom_map = [(ref, prb) for ref, prb in enumerate(match)]\n",
    "    rmsd, reflect = p_align.GetBestAlign(refMol=p_rmg,\n",
    "                                         atomMap=atom_map,\n",
    "                                         keepBestConformer=False)\n",
    "    rmsds.append((i, reflect, rmsd))\n",
    "best = sorted(rmsds, key=lambda x: x[2])[0]\n",
    "print('Match index: {0}, Reflect Conformation: {1}, RMSD: {2}'.format(*best))\n",
    "\n",
    "# Realign and reorder atom indexes according to the best match\n",
    "best_match = matches[best[0]]\n",
    "p_align.AlignMol(refMol=p_rmg,\n",
    "                 atomMap=[(ref, prb) for ref, prb in enumerate(best_match)],\n",
    "                 reflect=best[1])\n",
    "new_atom_indexes = [best_match.index(i) for i in range(len(best_match))]\n",
    "p_align = p_align.RenumberAtoms(new_atom_indexes)"
   ]
  },
  {
   "cell_type": "markdown",
   "metadata": {},
   "source": [
    "### 4. View Molecules"
   ]
  },
  {
   "cell_type": "code",
   "execution_count": null,
   "metadata": {},
   "outputs": [],
   "source": [
    "entry = 3 if len(products) == 1 else 4\n",
    "\n",
    "viewer = grid_viewer(viewer_grid=(1, entry),\n",
    "                     viewer_size=(240 * entry, 300),)\n",
    "mol_viewer(r_mol.ToMolBlock(), 'sdf', viewer=viewer, viewer_loc=(0, 0))\n",
    "mol_viewer(p_align.ToMolBlock(), 'sdf', viewer=viewer, viewer_loc=(0, 1))\n",
    "for i in range(2, entry):\n",
    "    mol_viewer(p_mols[i-2].ToMolBlock(), 'sdf', viewer=viewer, viewer_loc=(0, i))\n",
    "\n",
    "print('reactant    matched product      original product')\n",
    "viewer.show()"
   ]
  },
  {
   "cell_type": "markdown",
   "metadata": {},
   "source": [
    "### 5. Export to SDF file and run ts_gen"
   ]
  },
  {
   "cell_type": "code",
   "execution_count": null,
   "metadata": {},
   "outputs": [],
   "source": [
    "r_mol.ToSDFFile('reactant.sdf')\n",
    "p_align.ToSDFFile('product.sdf')"
   ]
  },
  {
   "cell_type": "markdown",
   "metadata": {},
   "source": [
    "#### 5.1 TS Gen V2"
   ]
  },
  {
   "cell_type": "code",
   "execution_count": null,
   "metadata": {},
   "outputs": [],
   "source": [
    "TS_GEN_PYTHON = '~/Apps/anaconda3/envs/ts_gen_v2/bin/python3.7'\n",
    "TS_GEN_DIR = '~/Apps/ts_gen_v2'"
   ]
  },
  {
   "cell_type": "code",
   "execution_count": null,
   "metadata": {},
   "outputs": [],
   "source": [
    "try:\n",
    "    subprocess.run(f'export PYTHONPATH=$PYTHONPATH:{TS_GEN_DIR};'\n",
    "                   f'{TS_GEN_PYTHON} {TS_GEN_DIR}/inference.py '\n",
    "                   f'--r_sdf_path reactant.sdf '\n",
    "                   f'--p_sdf_path product.sdf '\n",
    "                   f'--ts_xyz_path TS.xyz',\n",
    "                   check=True,\n",
    "                   shell=True)\n",
    "except subprocess.CalledProcessError as e:\n",
    "    print(e)\n",
    "else:\n",
    "    with open('TS.xyz', 'r') as f:\n",
    "        ts_xyz=f.read()\n",
    "    ts = RDKitMol.FromXYZ(ts_xyz)"
   ]
  },
  {
   "cell_type": "markdown",
   "metadata": {},
   "source": [
    "### 6. Visualize TS"
   ]
  },
  {
   "cell_type": "code",
   "execution_count": null,
   "metadata": {
    "scrolled": true
   },
   "outputs": [],
   "source": [
    "# Align the TS to make visualization more convenient\n",
    "atom_map = [(i, i) for i in range(r_mol.GetNumAtoms())]\n",
    "ts.GetBestAlign(refMol=r_mol,\n",
    "                atomMap=atom_map,\n",
    "                keepBestConformer=True)\n",
    "\n",
    "viewer = grid_viewer(viewer_grid=(1, 3),\n",
    "                     viewer_size=(240 * entry, 300),)\n",
    "mol_viewer(r_mol.ToMolBlock(), 'sdf', viewer=viewer, viewer_loc=(0, 0))\n",
    "mol_viewer(ts.ToMolBlock(), 'sdf', viewer=viewer, viewer_loc=(0, 1))\n",
    "mol_viewer(p_align.ToMolBlock(), 'sdf', viewer=viewer, viewer_loc=(0, 2))\n",
    "\n",
    "print('reactant    TS      product')\n",
    "viewer.show()"
   ]
  },
  {
   "cell_type": "markdown",
   "metadata": {},
   "source": [
    "Get TS xyz"
   ]
  },
  {
   "cell_type": "code",
   "execution_count": null,
   "metadata": {},
   "outputs": [],
   "source": [
    "print(ts.ToXYZ())"
   ]
  },
  {
   "cell_type": "code",
   "execution_count": null,
   "metadata": {},
   "outputs": [],
   "source": []
  }
 ],
 "metadata": {
  "@webio": {
   "lastCommId": null,
   "lastKernelId": null
  },
  "kernelspec": {
   "display_name": "Python 3.7.6 64-bit ('arc_env': conda)",
   "language": "python",
   "name": "python37664bitarcenvconda83c4abf9215d4a698ce68e2a44e6e6bc"
  },
  "language_info": {
   "codemirror_mode": {
    "name": "ipython",
    "version": 3
   },
   "file_extension": ".py",
   "mimetype": "text/x-python",
   "name": "python",
   "nbconvert_exporter": "python",
   "pygments_lexer": "ipython3",
   "version": "3.7.7"
  }
 },
 "nbformat": 4,
 "nbformat_minor": 2
}
