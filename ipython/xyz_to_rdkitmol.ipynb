{
 "cells": [
  {
   "cell_type": "markdown",
   "metadata": {},
   "source": [
    "# A demo of importing xyz to RDKitMol"
   ]
  },
  {
   "cell_type": "markdown",
   "metadata": {},
   "source": [
    "There is no easy way to convert xyz to RDKit Mol/RWMol. Here RDKitMol shows a possibility by using openbabel as a molecule perception backend. There is another possibility introduced by https://github.com/jensengroup/xyz2mol. Maybe it can be integrated to RDKitMol as well"
   ]
  },
  {
   "cell_type": "code",
   "execution_count": 1,
   "metadata": {},
   "outputs": [],
   "source": [
    "import os\n",
    "import sys\n",
    "sys.path.append(os.path.dirname(os.path.abspath('')))\n",
    "\n",
    "from rdmc.mol import RDKitMol\n",
    "import pybel"
   ]
  },
  {
   "cell_type": "markdown",
   "metadata": {},
   "source": [
    "### 1. An example of xyz str block"
   ]
  },
  {
   "cell_type": "code",
   "execution_count": 2,
   "metadata": {},
   "outputs": [],
   "source": [
    "######################################\n",
    "# INPUT\n",
    "xyz_str=\"\"\"C         -1.77596        0.55032       -0.86182\n",
    "C         -1.86964        0.09038       -2.31577\n",
    "H         -0.88733        1.17355       -0.71816\n",
    "H         -1.70996       -0.29898       -0.17103\n",
    "O         -2.90695        1.36613       -0.53334\n",
    "C         -0.58005       -0.57548       -2.76940\n",
    "H         -0.35617       -1.45641       -2.15753\n",
    "H          0.26635        0.11565       -2.71288\n",
    "H         -0.67469       -0.92675       -3.80265\n",
    "O         -2.92111       -0.86791       -2.44871\n",
    "H         -2.10410        0.93662       -2.97107\n",
    "O         -3.87923        0.48257        0.09884\n",
    "H         -4.43402        0.34141       -0.69232\n",
    "O         -4.16782       -0.23433       -2.64382\n",
    "\"\"\"\n",
    "######################################\n",
    "\n",
    "xyz_file_str = f\"{len(xyz_str.splitlines())}\\n\\n{xyz_str}\""
   ]
  },
  {
   "cell_type": "markdown",
   "metadata": {},
   "source": [
    "### 2. Use pybel to generate a OBMol from xyz"
   ]
  },
  {
   "cell_type": "code",
   "execution_count": 3,
   "metadata": {},
   "outputs": [],
   "source": [
    "obmol = pybel.readstring('xyz', xyz_file_str).OBMol"
   ]
  },
  {
   "cell_type": "markdown",
   "metadata": {},
   "source": [
    "### 3. Convert OBMol to RDKitMol or RDKit Mol"
   ]
  },
  {
   "cell_type": "code",
   "execution_count": 4,
   "metadata": {},
   "outputs": [],
   "source": [
    "# RDKitMol\n",
    "rdkitmol = RDKitMol.FromOBMol(obmol, embed=True)\n",
    "# rdkit.Chem.rdchem.RWMol\n",
    "mol = rdkitmol.ToRWMol()"
   ]
  },
  {
   "cell_type": "markdown",
   "metadata": {},
   "source": [
    "### 4. Check the xyz of rdkitmol conformer"
   ]
  },
  {
   "cell_type": "code",
   "execution_count": 5,
   "metadata": {},
   "outputs": [
    {
     "data": {
      "text/plain": [
       "array([[-1.77596,  0.55032, -0.86182],\n",
       "       [-1.86964,  0.09038, -2.31577],\n",
       "       [-0.88733,  1.17355, -0.71816],\n",
       "       [-1.70996, -0.29898, -0.17103],\n",
       "       [-2.90695,  1.36613, -0.53334],\n",
       "       [-0.58005, -0.57548, -2.7694 ],\n",
       "       [-0.35617, -1.45641, -2.15753],\n",
       "       [ 0.26635,  0.11565, -2.71288],\n",
       "       [-0.67469, -0.92675, -3.80265],\n",
       "       [-2.92111, -0.86791, -2.44871],\n",
       "       [-2.1041 ,  0.93662, -2.97107],\n",
       "       [-3.87923,  0.48257,  0.09884],\n",
       "       [-4.43402,  0.34141, -0.69232],\n",
       "       [-4.16782, -0.23433, -2.64382]])"
      ]
     },
     "execution_count": 5,
     "metadata": {},
     "output_type": "execute_result"
    }
   ],
   "source": [
    "rdkitmol.GetConformer().GetPositions()"
   ]
  },
  {
   "cell_type": "code",
   "execution_count": null,
   "metadata": {},
   "outputs": [],
   "source": []
  }
 ],
 "metadata": {
  "@webio": {
   "lastCommId": null,
   "lastKernelId": null
  },
  "kernelspec": {
   "display_name": "Python 3",
   "language": "python",
   "name": "python3"
  },
  "language_info": {
   "codemirror_mode": {
    "name": "ipython",
    "version": 3
   },
   "file_extension": ".py",
   "mimetype": "text/x-python",
   "name": "python",
   "nbconvert_exporter": "python",
   "pygments_lexer": "ipython3",
   "version": "3.7.7"
  }
 },
 "nbformat": 4,
 "nbformat_minor": 2
}
