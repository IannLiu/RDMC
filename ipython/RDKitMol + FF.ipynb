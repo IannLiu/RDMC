{
 "cells": [
  {
   "cell_type": "markdown",
   "metadata": {},
   "source": [
    "# A demo of using RDKit force field to optimize RDKitMol\n",
    "Demonstrate using the force field wrapper `RDKitFF` on `RDKitMol`. Originally, ROO cannot be optimized by RDKitFF, but it provides an opportunity by altering the atom."
   ]
  },
  {
   "cell_type": "code",
   "execution_count": 1,
   "metadata": {},
   "outputs": [],
   "source": [
    "import os\n",
    "import sys\n",
    "import subprocess\n",
    "# To add this RDMC into PYTHONPATH in case you doesn't do it\n",
    "sys.path.append(os.path.dirname(os.path.abspath('')))\n",
    "\n",
    "from rdmc.forcefield import RDKitFF\n",
    "from rdmc.mol import RDKitMol"
   ]
  },
  {
   "cell_type": "markdown",
   "metadata": {},
   "source": [
    "### 1. Create a force field object"
   ]
  },
  {
   "cell_type": "code",
   "execution_count": 2,
   "metadata": {},
   "outputs": [
    {
     "data": {
      "text/plain": [
       "'mmff94s'"
      ]
     },
     "execution_count": 2,
     "metadata": {},
     "output_type": "execute_result"
    }
   ],
   "source": [
    "ff = RDKitFF('mmff94s')\n",
    "ff.ForceField"
   ]
  },
  {
   "cell_type": "markdown",
   "metadata": {},
   "source": [
    "### 2. Molecule is optimizable"
   ]
  },
  {
   "cell_type": "code",
   "execution_count": 4,
   "metadata": {},
   "outputs": [],
   "source": [
    "m = RDKitMol.FromSmiles('CCC[O]')\n",
    "m.EmbedConformer()"
   ]
  },
  {
   "cell_type": "markdown",
   "metadata": {},
   "source": [
    "Check optimizibility and make molecule optimizable"
   ]
  },
  {
   "cell_type": "code",
   "execution_count": 5,
   "metadata": {},
   "outputs": [
    {
     "name": "stdout",
     "output_type": "stream",
     "text": [
      "True\n"
     ]
    }
   ],
   "source": [
    "print(ff.IsOptimizable(m))\n",
    "mol, edits = ff.MakeOptimizable(m)"
   ]
  },
  {
   "cell_type": "markdown",
   "metadata": {},
   "source": [
    "Optimize it, 0 means optimization finishes,"
   ]
  },
  {
   "cell_type": "code",
   "execution_count": 6,
   "metadata": {},
   "outputs": [
    {
     "name": "stdout",
     "output_type": "stream",
     "text": [
      "Optimization finished: True\n",
      "Energy: 3.76e+00\n"
     ]
    }
   ],
   "source": [
    "results = ff.OptimizeConfs(mol)\n",
    "ff.RecoverMol(mol, edits)\n",
    "print(f'Optimization finished: {not bool(results[0][0])}\\nEnergy: {results[0][1]:.2e}')"
   ]
  },
  {
   "cell_type": "markdown",
   "metadata": {},
   "source": [
    "### 3. ROO molecule that is originally not optimizable"
   ]
  },
  {
   "cell_type": "code",
   "execution_count": 7,
   "metadata": {},
   "outputs": [],
   "source": [
    "m = RDKitMol.FromSmiles('CCCO[O]')\n",
    "m.EmbedConformer()"
   ]
  },
  {
   "cell_type": "code",
   "execution_count": 9,
   "metadata": {},
   "outputs": [
    {
     "name": "stdout",
     "output_type": "stream",
     "text": [
      "False\n",
      "True {4: {'edit': {'SetAtomicNum': 9, 'SetNumRadicalElectrons': 0}, 'remedy': {'SetAtomicNum': 8, 'SetNumRadicalElectrons': 1}}}\n"
     ]
    }
   ],
   "source": [
    "print(ff.IsOptimizable(m))\n",
    "mol, edits = ff.MakeOptimizable(m)\n",
    "print(ff.IsOptimizable(mol), edits)"
   ]
  },
  {
   "cell_type": "code",
   "execution_count": 10,
   "metadata": {},
   "outputs": [
    {
     "name": "stdout",
     "output_type": "stream",
     "text": [
      "Optimization finished: True\n",
      "Energy: -1.88e+00\n"
     ]
    }
   ],
   "source": [
    "results = ff.OptimizeConfs(mol)\n",
    "ff.RecoverMol(mol, edits)\n",
    "print(f'Optimization finished: {not bool(results[0][0])}\\nEnergy: {results[0][1]:.2e}')"
   ]
  },
  {
   "cell_type": "code",
   "execution_count": null,
   "metadata": {},
   "outputs": [],
   "source": []
  }
 ],
 "metadata": {
  "@webio": {
   "lastCommId": null,
   "lastKernelId": null
  },
  "kernelspec": {
   "display_name": "Python 3",
   "language": "python",
   "name": "python3"
  },
  "language_info": {
   "codemirror_mode": {
    "name": "ipython",
    "version": 3
   },
   "file_extension": ".py",
   "mimetype": "text/x-python",
   "name": "python",
   "nbconvert_exporter": "python",
   "pygments_lexer": "ipython3",
   "version": "3.7.7"
  }
 },
 "nbformat": 4,
 "nbformat_minor": 2
}
