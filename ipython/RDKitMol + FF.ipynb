{
 "cells": [
  {
   "cell_type": "markdown",
   "metadata": {},
   "source": [
    "# A demo of using RDKitFF and OpenBabelFF\n",
    "Demonstrate using the force field wrapper `RDKitFF` for RDKit force field and `OpenBabelFF` for Openbabel force field. Compared to the original APIs,\n",
    "- ROO cannot be optimized by RDKit Force Field, but RDKitFF provides a workaround for it.\n",
    "- more consistent APIs using RDKitFF and OpenBabelFF\n",
    "\n",
    "Something needs to keep in mind:\n",
    "- OpenBabelFF by default allowing interfragmental interactions, but you need to set `ignore_interfrag_interactions=False` to allow interfragmental interactions.\n",
    "- When dealing with constrained optimization, in using OpenBabelFF, you need to set constraint before calling `setup()` (or calling `setup()` again after setting constraints); but in RDKitFF, you can only set constraint after calling `setup()`"
   ]
  },
  {
   "cell_type": "code",
   "execution_count": 1,
   "metadata": {},
   "outputs": [],
   "source": [
    "import os\n",
    "import sys\n",
    "# To add this RDMC into PYTHONPATH in case you doesn't do it\n",
    "sys.path.append(os.path.dirname(os.path.abspath('')))\n",
    "\n",
    "from rdmc.forcefield import RDKitFF, OpenBabelFF\n",
    "from rdmc.mol import RDKitMol\n",
    "from rdmc.view import mol_viewer\n",
    "\n",
    "%load_ext autoreload\n",
    "%autoreload 2"
   ]
  },
  {
   "cell_type": "code",
   "execution_count": 2,
   "metadata": {},
   "outputs": [],
   "source": [
    "mol1 = RDKitMol.FromSmiles('CCCO[O]')\n",
    "mol1.EmbedConformer()"
   ]
  },
  {
   "cell_type": "markdown",
   "metadata": {},
   "source": [
    "## 1. RDKit Force Field "
   ]
  },
  {
   "cell_type": "markdown",
   "metadata": {},
   "source": [
    "Create a force field object"
   ]
  },
  {
   "cell_type": "code",
   "execution_count": 3,
   "metadata": {},
   "outputs": [
    {
     "name": "stdout",
     "output_type": "stream",
     "text": [
      "mmff94s\n"
     ]
    }
   ],
   "source": [
    "ff = RDKitFF('mmff94s')\n",
    "print(ff.type)"
   ]
  },
  {
   "cell_type": "markdown",
   "metadata": {},
   "source": [
    "Check optimizibility and make molecule optimizable"
   ]
  },
  {
   "cell_type": "code",
   "execution_count": 4,
   "metadata": {},
   "outputs": [
    {
     "name": "stdout",
     "output_type": "stream",
     "text": [
      "Optimizability of this molecule: True\n"
     ]
    }
   ],
   "source": [
    "opt_mol = mol1.Copy()\n",
    "ff.setup(opt_mol, ignore_interfrag_interactions=False)\n",
    "print(f'Optimizability of this molecule: {ff.is_optimizable()}')"
   ]
  },
  {
   "cell_type": "markdown",
   "metadata": {},
   "source": [
    "Optimize a single conformer (conformer 0)"
   ]
  },
  {
   "cell_type": "code",
   "execution_count": 5,
   "metadata": {},
   "outputs": [
    {
     "name": "stdout",
     "output_type": "stream",
     "text": [
      "Optimization success: True\n"
     ]
    },
    {
     "data": {
      "application/3dmoljs_load.v0": "<div id=\"3dmolviewer_1613582226443458\"  style=\"position: relative; width: 400px; height: 400px\">\n        <p id=\"3dmolwarning_1613582226443458\" style=\"background-color:#ffcccc;color:black\">You appear to be running in JupyterLab (or JavaScript failed to load for some other reason).  You need to install the 3dmol extension: <br>\n        <tt>jupyter labextension install jupyterlab_3dmol</tt></p>\n        </div>\n<script>\n\nvar loadScriptAsync = function(uri){\n  return new Promise((resolve, reject) => {\n    var tag = document.createElement('script');\n    tag.src = uri;\n    tag.async = true;\n    tag.onload = () => {\n      resolve();\n    };\n  var firstScriptTag = document.getElementsByTagName('script')[0];\n  firstScriptTag.parentNode.insertBefore(tag, firstScriptTag);\n});\n};\n\nif(typeof $3Dmolpromise === 'undefined') {\n$3Dmolpromise = null;\n  $3Dmolpromise = loadScriptAsync('https://3dmol.csb.pitt.edu/build/3Dmol.js');\n}\n\nvar viewer_1613582226443458 = null;\nvar warn = document.getElementById(\"3dmolwarning_1613582226443458\");\nif(warn) {\n    warn.parentNode.removeChild(warn);\n}\n$3Dmolpromise.then(function() {\nviewer_1613582226443458 = $3Dmol.createViewer($(\"#3dmolviewer_1613582226443458\"),{backgroundColor:\"white\"});\n\tviewer_1613582226443458.addModel(\"\\n     RDKit          3D\\n\\n 12 11  0  0  0  0  0  0  0  0999 V2000\\n   -1.5426   -0.3102   -0.0613 C   0  0  0  0  0  0  0  0  0  0  0  0\\n   -0.1266   -0.6610    0.3586 C   0  0  0  0  0  0  0  0  0  1  0  0\\n    0.8060    0.5357    0.2579 C   0  0  0  0  0  0  0  0  0  2  0  0\\n    2.1090    0.1405    0.6635 O   0  0  0  0  0  0  0  0  0  3  0  0\\n    3.0104    1.2312    0.5835 O   0  0  0  0  0  1  0  0  0  4  0  0\\n   -2.1912   -1.1879    0.0208 H   0  0  0  0  0  0  0  0  0  5  0  0\\n   -1.5694    0.0361   -1.0994 H   0  0  0  0  0  0  0  0  0  6  0  0\\n   -1.9564    0.4786    0.5751 H   0  0  0  0  0  0  0  0  0  7  0  0\\n   -0.1268   -1.0419    1.3869 H   0  0  0  0  0  0  0  0  0  8  0  0\\n    0.2549   -1.4784   -0.2649 H   0  0  0  0  0  0  0  0  0  9  0  0\\n    0.8603    0.9068   -0.7704 H   0  0  0  0  0  0  0  0  0 10  0  0\\n    0.4724    1.3504    0.9083 H   0  0  0  0  0  0  0  0  0 11  0  0\\n  1  2  1  0\\n  2  3  1  0\\n  3  4  1  0\\n  4  5  1  0\\n  1  6  1  0\\n  1  7  1  0\\n  1  8  1  0\\n  2  9  1  0\\n  2 10  1  0\\n  3 11  1  0\\n  3 12  1  0\\nM  RAD  1   5   2\\nM  END\\n\",\"sdf\");\n\tviewer_1613582226443458.setStyle({\"stick\": {\"radius\": 0.2}, \"sphere\": {\"scale\": 0.25}});\n\tviewer_1613582226443458.addPropertyLabels(\"index\",\"\",{\"fontSize\": 15, \"fontColor\": \"white\", \"showBackground\": true, \"alignment\": \"center\", \"backgroundOpacity\": 0.2, \"backgroundColor\": \"black\"});\n\tviewer_1613582226443458.zoomTo();\nviewer_1613582226443458.render();\n});\n</script>",
      "text/html": [
       "<div id=\"3dmolviewer_1613582226443458\"  style=\"position: relative; width: 400px; height: 400px\">\n",
       "        <p id=\"3dmolwarning_1613582226443458\" style=\"background-color:#ffcccc;color:black\">You appear to be running in JupyterLab (or JavaScript failed to load for some other reason).  You need to install the 3dmol extension: <br>\n",
       "        <tt>jupyter labextension install jupyterlab_3dmol</tt></p>\n",
       "        </div>\n",
       "<script>\n",
       "\n",
       "var loadScriptAsync = function(uri){\n",
       "  return new Promise((resolve, reject) => {\n",
       "    var tag = document.createElement('script');\n",
       "    tag.src = uri;\n",
       "    tag.async = true;\n",
       "    tag.onload = () => {\n",
       "      resolve();\n",
       "    };\n",
       "  var firstScriptTag = document.getElementsByTagName('script')[0];\n",
       "  firstScriptTag.parentNode.insertBefore(tag, firstScriptTag);\n",
       "});\n",
       "};\n",
       "\n",
       "if(typeof $3Dmolpromise === 'undefined') {\n",
       "$3Dmolpromise = null;\n",
       "  $3Dmolpromise = loadScriptAsync('https://3dmol.csb.pitt.edu/build/3Dmol.js');\n",
       "}\n",
       "\n",
       "var viewer_1613582226443458 = null;\n",
       "var warn = document.getElementById(\"3dmolwarning_1613582226443458\");\n",
       "if(warn) {\n",
       "    warn.parentNode.removeChild(warn);\n",
       "}\n",
       "$3Dmolpromise.then(function() {\n",
       "viewer_1613582226443458 = $3Dmol.createViewer($(\"#3dmolviewer_1613582226443458\"),{backgroundColor:\"white\"});\n",
       "\tviewer_1613582226443458.addModel(\"\\n     RDKit          3D\\n\\n 12 11  0  0  0  0  0  0  0  0999 V2000\\n   -1.5426   -0.3102   -0.0613 C   0  0  0  0  0  0  0  0  0  0  0  0\\n   -0.1266   -0.6610    0.3586 C   0  0  0  0  0  0  0  0  0  1  0  0\\n    0.8060    0.5357    0.2579 C   0  0  0  0  0  0  0  0  0  2  0  0\\n    2.1090    0.1405    0.6635 O   0  0  0  0  0  0  0  0  0  3  0  0\\n    3.0104    1.2312    0.5835 O   0  0  0  0  0  1  0  0  0  4  0  0\\n   -2.1912   -1.1879    0.0208 H   0  0  0  0  0  0  0  0  0  5  0  0\\n   -1.5694    0.0361   -1.0994 H   0  0  0  0  0  0  0  0  0  6  0  0\\n   -1.9564    0.4786    0.5751 H   0  0  0  0  0  0  0  0  0  7  0  0\\n   -0.1268   -1.0419    1.3869 H   0  0  0  0  0  0  0  0  0  8  0  0\\n    0.2549   -1.4784   -0.2649 H   0  0  0  0  0  0  0  0  0  9  0  0\\n    0.8603    0.9068   -0.7704 H   0  0  0  0  0  0  0  0  0 10  0  0\\n    0.4724    1.3504    0.9083 H   0  0  0  0  0  0  0  0  0 11  0  0\\n  1  2  1  0\\n  2  3  1  0\\n  3  4  1  0\\n  4  5  1  0\\n  1  6  1  0\\n  1  7  1  0\\n  1  8  1  0\\n  2  9  1  0\\n  2 10  1  0\\n  3 11  1  0\\n  3 12  1  0\\nM  RAD  1   5   2\\nM  END\\n\",\"sdf\");\n",
       "\tviewer_1613582226443458.setStyle({\"stick\": {\"radius\": 0.2}, \"sphere\": {\"scale\": 0.25}});\n",
       "\tviewer_1613582226443458.addPropertyLabels(\"index\",\"\",{\"fontSize\": 15, \"fontColor\": \"white\", \"showBackground\": true, \"alignment\": \"center\", \"backgroundOpacity\": 0.2, \"backgroundColor\": \"black\"});\n",
       "\tviewer_1613582226443458.zoomTo();\n",
       "viewer_1613582226443458.render();\n",
       "});\n",
       "</script>"
      ]
     },
     "metadata": {},
     "output_type": "display_data"
    },
    {
     "data": {
      "text/plain": [
       "<py3Dmol.view at 0x7fa8b3e3d8d0>"
      ]
     },
     "execution_count": 5,
     "metadata": {},
     "output_type": "execute_result"
    }
   ],
   "source": [
    "success = ff.optimize()\n",
    "print(f'Optimization success: {success}')\n",
    "opt_mol = ff.get_optimized_mol()\n",
    "mol_viewer(opt_mol.ToMolBlock(), 'sdf')"
   ]
  },
  {
   "cell_type": "markdown",
   "metadata": {},
   "source": [
    "## 2. Openbabel Force Field"
   ]
  },
  {
   "cell_type": "markdown",
   "metadata": {},
   "source": [
    "Create a Openbabel force field object"
   ]
  },
  {
   "cell_type": "code",
   "execution_count": 6,
   "metadata": {},
   "outputs": [
    {
     "name": "stdout",
     "output_type": "stream",
     "text": [
      "mmff94s\n"
     ]
    }
   ],
   "source": [
    "obff = OpenBabelFF('mmff94s')\n",
    "print(obff.type)"
   ]
  },
  {
   "cell_type": "markdown",
   "metadata": {},
   "source": [
    "Check optimizibility and make molecule optimizable"
   ]
  },
  {
   "cell_type": "code",
   "execution_count": 7,
   "metadata": {},
   "outputs": [
    {
     "name": "stdout",
     "output_type": "stream",
     "text": [
      "Optimizability of this molecule: True\n"
     ]
    }
   ],
   "source": [
    "opt_mol = mol1.Copy()\n",
    "obff.setup(opt_mol)\n",
    "print(f'Optimizability of this molecule: {obff.is_optimizable()}')"
   ]
  },
  {
   "cell_type": "code",
   "execution_count": 8,
   "metadata": {},
   "outputs": [
    {
     "data": {
      "application/3dmoljs_load.v0": "<div id=\"3dmolviewer_161358223487131\"  style=\"position: relative; width: 400px; height: 400px\">\n        <p id=\"3dmolwarning_161358223487131\" style=\"background-color:#ffcccc;color:black\">You appear to be running in JupyterLab (or JavaScript failed to load for some other reason).  You need to install the 3dmol extension: <br>\n        <tt>jupyter labextension install jupyterlab_3dmol</tt></p>\n        </div>\n<script>\n\nvar loadScriptAsync = function(uri){\n  return new Promise((resolve, reject) => {\n    var tag = document.createElement('script');\n    tag.src = uri;\n    tag.async = true;\n    tag.onload = () => {\n      resolve();\n    };\n  var firstScriptTag = document.getElementsByTagName('script')[0];\n  firstScriptTag.parentNode.insertBefore(tag, firstScriptTag);\n});\n};\n\nif(typeof $3Dmolpromise === 'undefined') {\n$3Dmolpromise = null;\n  $3Dmolpromise = loadScriptAsync('https://3dmol.csb.pitt.edu/build/3Dmol.js');\n}\n\nvar viewer_161358223487131 = null;\nvar warn = document.getElementById(\"3dmolwarning_161358223487131\");\nif(warn) {\n    warn.parentNode.removeChild(warn);\n}\n$3Dmolpromise.then(function() {\nviewer_161358223487131 = $3Dmol.createViewer($(\"#3dmolviewer_161358223487131\"),{backgroundColor:\"white\"});\n\tviewer_161358223487131.addModel(\"\\n     RDKit          3D\\n\\n 12 11  0  0  0  0  0  0  0  0999 V2000\\n   -1.5386   -0.2949   -0.0644 C   0  0  0  0  0  0  0  0  0  0  0  0\\n   -0.1277   -0.6598    0.3610 C   0  0  0  0  0  0  0  0  0  1  0  0\\n    0.8205    0.5276    0.2587 C   0  0  0  0  0  0  0  0  0  2  0  0\\n    2.1164    0.1055    0.6729 O   0  0  0  0  0  0  0  0  0  3  0  0\\n    2.9338    1.2430    0.5538 O   0  0  0  0  0  1  0  0  0  4  0  0\\n   -2.1971   -1.1651    0.0191 H   0  0  0  0  0  0  0  0  0  5  0  0\\n   -1.5586    0.0478   -1.1038 H   0  0  0  0  0  0  0  0  0  6  0  0\\n   -1.9455    0.5007    0.5679 H   0  0  0  0  0  0  0  0  0  7  0  0\\n   -0.1353   -1.0367    1.3908 H   0  0  0  0  0  0  0  0  0  8  0  0\\n    0.2464   -1.4836   -0.2586 H   0  0  0  0  0  0  0  0  0  9  0  0\\n    0.8692    0.8881   -0.7755 H   0  0  0  0  0  0  0  0  0 10  0  0\\n    0.4800    1.3439    0.9065 H   0  0  0  0  0  0  0  0  0 11  0  0\\n  1  2  1  0\\n  2  3  1  0\\n  3  4  1  0\\n  4  5  1  0\\n  1  6  1  0\\n  1  7  1  0\\n  1  8  1  0\\n  2  9  1  0\\n  2 10  1  0\\n  3 11  1  0\\n  3 12  1  0\\nM  RAD  1   5   2\\nM  END\\n\",\"sdf\");\n\tviewer_161358223487131.setStyle({\"stick\": {\"radius\": 0.2}, \"sphere\": {\"scale\": 0.25}});\n\tviewer_161358223487131.addPropertyLabels(\"index\",\"\",{\"fontSize\": 15, \"fontColor\": \"white\", \"showBackground\": true, \"alignment\": \"center\", \"backgroundOpacity\": 0.2, \"backgroundColor\": \"black\"});\n\tviewer_161358223487131.zoomTo();\nviewer_161358223487131.render();\n});\n</script>",
      "text/html": [
       "<div id=\"3dmolviewer_161358223487131\"  style=\"position: relative; width: 400px; height: 400px\">\n",
       "        <p id=\"3dmolwarning_161358223487131\" style=\"background-color:#ffcccc;color:black\">You appear to be running in JupyterLab (or JavaScript failed to load for some other reason).  You need to install the 3dmol extension: <br>\n",
       "        <tt>jupyter labextension install jupyterlab_3dmol</tt></p>\n",
       "        </div>\n",
       "<script>\n",
       "\n",
       "var loadScriptAsync = function(uri){\n",
       "  return new Promise((resolve, reject) => {\n",
       "    var tag = document.createElement('script');\n",
       "    tag.src = uri;\n",
       "    tag.async = true;\n",
       "    tag.onload = () => {\n",
       "      resolve();\n",
       "    };\n",
       "  var firstScriptTag = document.getElementsByTagName('script')[0];\n",
       "  firstScriptTag.parentNode.insertBefore(tag, firstScriptTag);\n",
       "});\n",
       "};\n",
       "\n",
       "if(typeof $3Dmolpromise === 'undefined') {\n",
       "$3Dmolpromise = null;\n",
       "  $3Dmolpromise = loadScriptAsync('https://3dmol.csb.pitt.edu/build/3Dmol.js');\n",
       "}\n",
       "\n",
       "var viewer_161358223487131 = null;\n",
       "var warn = document.getElementById(\"3dmolwarning_161358223487131\");\n",
       "if(warn) {\n",
       "    warn.parentNode.removeChild(warn);\n",
       "}\n",
       "$3Dmolpromise.then(function() {\n",
       "viewer_161358223487131 = $3Dmol.createViewer($(\"#3dmolviewer_161358223487131\"),{backgroundColor:\"white\"});\n",
       "\tviewer_161358223487131.addModel(\"\\n     RDKit          3D\\n\\n 12 11  0  0  0  0  0  0  0  0999 V2000\\n   -1.5386   -0.2949   -0.0644 C   0  0  0  0  0  0  0  0  0  0  0  0\\n   -0.1277   -0.6598    0.3610 C   0  0  0  0  0  0  0  0  0  1  0  0\\n    0.8205    0.5276    0.2587 C   0  0  0  0  0  0  0  0  0  2  0  0\\n    2.1164    0.1055    0.6729 O   0  0  0  0  0  0  0  0  0  3  0  0\\n    2.9338    1.2430    0.5538 O   0  0  0  0  0  1  0  0  0  4  0  0\\n   -2.1971   -1.1651    0.0191 H   0  0  0  0  0  0  0  0  0  5  0  0\\n   -1.5586    0.0478   -1.1038 H   0  0  0  0  0  0  0  0  0  6  0  0\\n   -1.9455    0.5007    0.5679 H   0  0  0  0  0  0  0  0  0  7  0  0\\n   -0.1353   -1.0367    1.3908 H   0  0  0  0  0  0  0  0  0  8  0  0\\n    0.2464   -1.4836   -0.2586 H   0  0  0  0  0  0  0  0  0  9  0  0\\n    0.8692    0.8881   -0.7755 H   0  0  0  0  0  0  0  0  0 10  0  0\\n    0.4800    1.3439    0.9065 H   0  0  0  0  0  0  0  0  0 11  0  0\\n  1  2  1  0\\n  2  3  1  0\\n  3  4  1  0\\n  4  5  1  0\\n  1  6  1  0\\n  1  7  1  0\\n  1  8  1  0\\n  2  9  1  0\\n  2 10  1  0\\n  3 11  1  0\\n  3 12  1  0\\nM  RAD  1   5   2\\nM  END\\n\",\"sdf\");\n",
       "\tviewer_161358223487131.setStyle({\"stick\": {\"radius\": 0.2}, \"sphere\": {\"scale\": 0.25}});\n",
       "\tviewer_161358223487131.addPropertyLabels(\"index\",\"\",{\"fontSize\": 15, \"fontColor\": \"white\", \"showBackground\": true, \"alignment\": \"center\", \"backgroundOpacity\": 0.2, \"backgroundColor\": \"black\"});\n",
       "\tviewer_161358223487131.zoomTo();\n",
       "viewer_161358223487131.render();\n",
       "});\n",
       "</script>"
      ]
     },
     "metadata": {},
     "output_type": "display_data"
    },
    {
     "data": {
      "text/plain": [
       "<py3Dmol.view at 0x7fa8b3ed1590>"
      ]
     },
     "execution_count": 8,
     "metadata": {},
     "output_type": "execute_result"
    }
   ],
   "source": [
    "obff.optimize()\n",
    "opt_mol = obff.get_optimized_mol()\n",
    "mol_viewer(opt_mol.ToMolBlock(), 'sdf')"
   ]
  },
  {
   "cell_type": "markdown",
   "metadata": {},
   "source": [
    "## 3. Intermolecular optimization\n",
    "RDKitFF and OpenBabelFF may not converge to the same orientation due to being differently parametrized"
   ]
  },
  {
   "cell_type": "code",
   "execution_count": 9,
   "metadata": {},
   "outputs": [
    {
     "name": "stdout",
     "output_type": "stream",
     "text": [
      "Before optimization\n"
     ]
    },
    {
     "data": {
      "application/3dmoljs_load.v0": "<div id=\"3dmolviewer_1613582234904693\"  style=\"position: relative; width: 400px; height: 400px\">\n        <p id=\"3dmolwarning_1613582234904693\" style=\"background-color:#ffcccc;color:black\">You appear to be running in JupyterLab (or JavaScript failed to load for some other reason).  You need to install the 3dmol extension: <br>\n        <tt>jupyter labextension install jupyterlab_3dmol</tt></p>\n        </div>\n<script>\n\nvar loadScriptAsync = function(uri){\n  return new Promise((resolve, reject) => {\n    var tag = document.createElement('script');\n    tag.src = uri;\n    tag.async = true;\n    tag.onload = () => {\n      resolve();\n    };\n  var firstScriptTag = document.getElementsByTagName('script')[0];\n  firstScriptTag.parentNode.insertBefore(tag, firstScriptTag);\n});\n};\n\nif(typeof $3Dmolpromise === 'undefined') {\n$3Dmolpromise = null;\n  $3Dmolpromise = loadScriptAsync('https://3dmol.csb.pitt.edu/build/3Dmol.js');\n}\n\nvar viewer_1613582234904693 = null;\nvar warn = document.getElementById(\"3dmolwarning_1613582234904693\");\nif(warn) {\n    warn.parentNode.removeChild(warn);\n}\n$3Dmolpromise.then(function() {\nviewer_1613582234904693 = $3Dmol.createViewer($(\"#3dmolviewer_1613582234904693\"),{backgroundColor:\"white\"});\n\tviewer_1613582234904693.addModel(\"\\n     RDKit          3D\\n\\n  8  6  0  0  0  0  0  0  0  0999 V2000\\n   -0.0320    0.0136    0.0023 C   0  0  0  0  0  0  0  0  0  0  0  0\\n    1.1818   -0.0860   -0.0775 O   0  0  0  0  0  0  0  0  0  1  0  0\\n   -0.0259   -0.0051   -0.0044 C   0  0  0  0  0  0  0  0  0  2  0  0\\n    1.1805   -0.0144    0.1675 O   0  0  0  0  0  0  0  0  0  3  0  0\\n   -0.6198   -0.8938    0.0277 H   0  0  0  0  0  0  0  0  0  4  0  0\\n   -0.5300    0.9662    0.0475 H   0  0  0  0  0  0  0  0  0  5  0  0\\n   -0.5720    0.9234    0.0399 H   0  0  0  0  0  0  0  0  0  6  0  0\\n   -0.5826   -0.9038   -0.2030 H   0  0  0  0  0  0  0  0  0  7  0  0\\n  1  2  2  0\\n  3  4  2  0\\n  1  5  1  0\\n  1  6  1  0\\n  3  7  1  0\\n  3  8  1  0\\nM  END\\n\",\"sdf\");\n\tviewer_1613582234904693.setStyle({\"stick\": {\"radius\": 0.2}, \"sphere\": {\"scale\": 0.25}});\n\tviewer_1613582234904693.addPropertyLabels(\"index\",\"\",{\"fontSize\": 15, \"fontColor\": \"white\", \"showBackground\": true, \"alignment\": \"center\", \"backgroundOpacity\": 0.2, \"backgroundColor\": \"black\"});\n\tviewer_1613582234904693.zoomTo();\nviewer_1613582234904693.render();\n});\n</script>",
      "text/html": [
       "<div id=\"3dmolviewer_1613582234904693\"  style=\"position: relative; width: 400px; height: 400px\">\n",
       "        <p id=\"3dmolwarning_1613582234904693\" style=\"background-color:#ffcccc;color:black\">You appear to be running in JupyterLab (or JavaScript failed to load for some other reason).  You need to install the 3dmol extension: <br>\n",
       "        <tt>jupyter labextension install jupyterlab_3dmol</tt></p>\n",
       "        </div>\n",
       "<script>\n",
       "\n",
       "var loadScriptAsync = function(uri){\n",
       "  return new Promise((resolve, reject) => {\n",
       "    var tag = document.createElement('script');\n",
       "    tag.src = uri;\n",
       "    tag.async = true;\n",
       "    tag.onload = () => {\n",
       "      resolve();\n",
       "    };\n",
       "  var firstScriptTag = document.getElementsByTagName('script')[0];\n",
       "  firstScriptTag.parentNode.insertBefore(tag, firstScriptTag);\n",
       "});\n",
       "};\n",
       "\n",
       "if(typeof $3Dmolpromise === 'undefined') {\n",
       "$3Dmolpromise = null;\n",
       "  $3Dmolpromise = loadScriptAsync('https://3dmol.csb.pitt.edu/build/3Dmol.js');\n",
       "}\n",
       "\n",
       "var viewer_1613582234904693 = null;\n",
       "var warn = document.getElementById(\"3dmolwarning_1613582234904693\");\n",
       "if(warn) {\n",
       "    warn.parentNode.removeChild(warn);\n",
       "}\n",
       "$3Dmolpromise.then(function() {\n",
       "viewer_1613582234904693 = $3Dmol.createViewer($(\"#3dmolviewer_1613582234904693\"),{backgroundColor:\"white\"});\n",
       "\tviewer_1613582234904693.addModel(\"\\n     RDKit          3D\\n\\n  8  6  0  0  0  0  0  0  0  0999 V2000\\n   -0.0320    0.0136    0.0023 C   0  0  0  0  0  0  0  0  0  0  0  0\\n    1.1818   -0.0860   -0.0775 O   0  0  0  0  0  0  0  0  0  1  0  0\\n   -0.0259   -0.0051   -0.0044 C   0  0  0  0  0  0  0  0  0  2  0  0\\n    1.1805   -0.0144    0.1675 O   0  0  0  0  0  0  0  0  0  3  0  0\\n   -0.6198   -0.8938    0.0277 H   0  0  0  0  0  0  0  0  0  4  0  0\\n   -0.5300    0.9662    0.0475 H   0  0  0  0  0  0  0  0  0  5  0  0\\n   -0.5720    0.9234    0.0399 H   0  0  0  0  0  0  0  0  0  6  0  0\\n   -0.5826   -0.9038   -0.2030 H   0  0  0  0  0  0  0  0  0  7  0  0\\n  1  2  2  0\\n  3  4  2  0\\n  1  5  1  0\\n  1  6  1  0\\n  3  7  1  0\\n  3  8  1  0\\nM  END\\n\",\"sdf\");\n",
       "\tviewer_1613582234904693.setStyle({\"stick\": {\"radius\": 0.2}, \"sphere\": {\"scale\": 0.25}});\n",
       "\tviewer_1613582234904693.addPropertyLabels(\"index\",\"\",{\"fontSize\": 15, \"fontColor\": \"white\", \"showBackground\": true, \"alignment\": \"center\", \"backgroundOpacity\": 0.2, \"backgroundColor\": \"black\"});\n",
       "\tviewer_1613582234904693.zoomTo();\n",
       "viewer_1613582234904693.render();\n",
       "});\n",
       "</script>"
      ]
     },
     "metadata": {},
     "output_type": "display_data"
    },
    {
     "data": {
      "text/plain": [
       "<py3Dmol.view at 0x7fa8b3ed1210>"
      ]
     },
     "execution_count": 9,
     "metadata": {},
     "output_type": "execute_result"
    }
   ],
   "source": [
    "mol2 = RDKitMol.FromSmiles('C=O.C=O')\n",
    "mol2.EmbedConformer()\n",
    "\n",
    "print('Before optimization')\n",
    "mol_viewer(mol2.ToMolBlock(), 'sdf')"
   ]
  },
  {
   "cell_type": "markdown",
   "metadata": {},
   "source": [
    "RDKitFF"
   ]
  },
  {
   "cell_type": "code",
   "execution_count": 10,
   "metadata": {},
   "outputs": [
    {
     "data": {
      "application/3dmoljs_load.v0": "<div id=\"3dmolviewer_16135822349771461\"  style=\"position: relative; width: 400px; height: 400px\">\n        <p id=\"3dmolwarning_16135822349771461\" style=\"background-color:#ffcccc;color:black\">You appear to be running in JupyterLab (or JavaScript failed to load for some other reason).  You need to install the 3dmol extension: <br>\n        <tt>jupyter labextension install jupyterlab_3dmol</tt></p>\n        </div>\n<script>\n\nvar loadScriptAsync = function(uri){\n  return new Promise((resolve, reject) => {\n    var tag = document.createElement('script');\n    tag.src = uri;\n    tag.async = true;\n    tag.onload = () => {\n      resolve();\n    };\n  var firstScriptTag = document.getElementsByTagName('script')[0];\n  firstScriptTag.parentNode.insertBefore(tag, firstScriptTag);\n});\n};\n\nif(typeof $3Dmolpromise === 'undefined') {\n$3Dmolpromise = null;\n  $3Dmolpromise = loadScriptAsync('https://3dmol.csb.pitt.edu/build/3Dmol.js');\n}\n\nvar viewer_16135822349771461 = null;\nvar warn = document.getElementById(\"3dmolwarning_16135822349771461\");\nif(warn) {\n    warn.parentNode.removeChild(warn);\n}\n$3Dmolpromise.then(function() {\nviewer_16135822349771461 = $3Dmol.createViewer($(\"#3dmolviewer_16135822349771461\"),{backgroundColor:\"white\"});\n\tviewer_16135822349771461.addModel(\"\\n     RDKit          3D\\n\\n  8  6  0  0  0  0  0  0  0  0999 V2000\\n   -0.3555    1.6205    0.1154 C   0  0  0  0  0  0  0  0  0  0  0  0\\n   -0.6611    1.1893   -0.9916 O   0  0  0  0  0  0  0  0  0  1  0  0\\n    0.3552   -1.6206   -0.1153 C   0  0  0  0  0  0  0  0  0  2  0  0\\n    0.6112   -1.1998    1.0082 O   0  0  0  0  0  0  0  0  0  3  0  0\\n   -0.9275    1.3685    1.0229 H   0  0  0  0  0  0  0  0  0  4  0  0\\n    0.5132    2.2801    0.2700 H   0  0  0  0  0  0  0  0  0  5  0  0\\n   -0.6791   -1.7563   -0.4706 H   0  0  0  0  0  0  0  0  0  6  0  0\\n    1.1436   -1.8816   -0.8390 H   0  0  0  0  0  0  0  0  0  7  0  0\\n  1  2  2  0\\n  3  4  2  0\\n  1  5  1  0\\n  1  6  1  0\\n  3  7  1  0\\n  3  8  1  0\\nM  END\\n\",\"sdf\");\n\tviewer_16135822349771461.setStyle({\"stick\": {\"radius\": 0.2}, \"sphere\": {\"scale\": 0.25}});\n\tviewer_16135822349771461.addPropertyLabels(\"index\",\"\",{\"fontSize\": 15, \"fontColor\": \"white\", \"showBackground\": true, \"alignment\": \"center\", \"backgroundOpacity\": 0.2, \"backgroundColor\": \"black\"});\n\tviewer_16135822349771461.zoomTo();\nviewer_16135822349771461.render();\n});\n</script>",
      "text/html": [
       "<div id=\"3dmolviewer_16135822349771461\"  style=\"position: relative; width: 400px; height: 400px\">\n",
       "        <p id=\"3dmolwarning_16135822349771461\" style=\"background-color:#ffcccc;color:black\">You appear to be running in JupyterLab (or JavaScript failed to load for some other reason).  You need to install the 3dmol extension: <br>\n",
       "        <tt>jupyter labextension install jupyterlab_3dmol</tt></p>\n",
       "        </div>\n",
       "<script>\n",
       "\n",
       "var loadScriptAsync = function(uri){\n",
       "  return new Promise((resolve, reject) => {\n",
       "    var tag = document.createElement('script');\n",
       "    tag.src = uri;\n",
       "    tag.async = true;\n",
       "    tag.onload = () => {\n",
       "      resolve();\n",
       "    };\n",
       "  var firstScriptTag = document.getElementsByTagName('script')[0];\n",
       "  firstScriptTag.parentNode.insertBefore(tag, firstScriptTag);\n",
       "});\n",
       "};\n",
       "\n",
       "if(typeof $3Dmolpromise === 'undefined') {\n",
       "$3Dmolpromise = null;\n",
       "  $3Dmolpromise = loadScriptAsync('https://3dmol.csb.pitt.edu/build/3Dmol.js');\n",
       "}\n",
       "\n",
       "var viewer_16135822349771461 = null;\n",
       "var warn = document.getElementById(\"3dmolwarning_16135822349771461\");\n",
       "if(warn) {\n",
       "    warn.parentNode.removeChild(warn);\n",
       "}\n",
       "$3Dmolpromise.then(function() {\n",
       "viewer_16135822349771461 = $3Dmol.createViewer($(\"#3dmolviewer_16135822349771461\"),{backgroundColor:\"white\"});\n",
       "\tviewer_16135822349771461.addModel(\"\\n     RDKit          3D\\n\\n  8  6  0  0  0  0  0  0  0  0999 V2000\\n   -0.3555    1.6205    0.1154 C   0  0  0  0  0  0  0  0  0  0  0  0\\n   -0.6611    1.1893   -0.9916 O   0  0  0  0  0  0  0  0  0  1  0  0\\n    0.3552   -1.6206   -0.1153 C   0  0  0  0  0  0  0  0  0  2  0  0\\n    0.6112   -1.1998    1.0082 O   0  0  0  0  0  0  0  0  0  3  0  0\\n   -0.9275    1.3685    1.0229 H   0  0  0  0  0  0  0  0  0  4  0  0\\n    0.5132    2.2801    0.2700 H   0  0  0  0  0  0  0  0  0  5  0  0\\n   -0.6791   -1.7563   -0.4706 H   0  0  0  0  0  0  0  0  0  6  0  0\\n    1.1436   -1.8816   -0.8390 H   0  0  0  0  0  0  0  0  0  7  0  0\\n  1  2  2  0\\n  3  4  2  0\\n  1  5  1  0\\n  1  6  1  0\\n  3  7  1  0\\n  3  8  1  0\\nM  END\\n\",\"sdf\");\n",
       "\tviewer_16135822349771461.setStyle({\"stick\": {\"radius\": 0.2}, \"sphere\": {\"scale\": 0.25}});\n",
       "\tviewer_16135822349771461.addPropertyLabels(\"index\",\"\",{\"fontSize\": 15, \"fontColor\": \"white\", \"showBackground\": true, \"alignment\": \"center\", \"backgroundOpacity\": 0.2, \"backgroundColor\": \"black\"});\n",
       "\tviewer_16135822349771461.zoomTo();\n",
       "viewer_16135822349771461.render();\n",
       "});\n",
       "</script>"
      ]
     },
     "metadata": {},
     "output_type": "display_data"
    },
    {
     "data": {
      "text/plain": [
       "<py3Dmol.view at 0x7fa8b3e3d790>"
      ]
     },
     "execution_count": 10,
     "metadata": {},
     "output_type": "execute_result"
    }
   ],
   "source": [
    "ff = RDKitFF()\n",
    "ff.setup(mol2.Copy(), ignore_interfrag_interactions=False)\n",
    "ff.optimize()\n",
    "mol_viewer(ff.get_optimized_mol().ToMolBlock(), 'sdf')"
   ]
  },
  {
   "cell_type": "markdown",
   "metadata": {},
   "source": [
    "OpenBabelFF"
   ]
  },
  {
   "cell_type": "code",
   "execution_count": 11,
   "metadata": {},
   "outputs": [
    {
     "data": {
      "application/3dmoljs_load.v0": "<div id=\"3dmolviewer_1613582238009474\"  style=\"position: relative; width: 400px; height: 400px\">\n        <p id=\"3dmolwarning_1613582238009474\" style=\"background-color:#ffcccc;color:black\">You appear to be running in JupyterLab (or JavaScript failed to load for some other reason).  You need to install the 3dmol extension: <br>\n        <tt>jupyter labextension install jupyterlab_3dmol</tt></p>\n        </div>\n<script>\n\nvar loadScriptAsync = function(uri){\n  return new Promise((resolve, reject) => {\n    var tag = document.createElement('script');\n    tag.src = uri;\n    tag.async = true;\n    tag.onload = () => {\n      resolve();\n    };\n  var firstScriptTag = document.getElementsByTagName('script')[0];\n  firstScriptTag.parentNode.insertBefore(tag, firstScriptTag);\n});\n};\n\nif(typeof $3Dmolpromise === 'undefined') {\n$3Dmolpromise = null;\n  $3Dmolpromise = loadScriptAsync('https://3dmol.csb.pitt.edu/build/3Dmol.js');\n}\n\nvar viewer_1613582238009474 = null;\nvar warn = document.getElementById(\"3dmolwarning_1613582238009474\");\nif(warn) {\n    warn.parentNode.removeChild(warn);\n}\n$3Dmolpromise.then(function() {\nviewer_1613582238009474 = $3Dmol.createViewer($(\"#3dmolviewer_1613582238009474\"),{backgroundColor:\"white\"});\n\tviewer_1613582238009474.addModel(\"\\n     RDKit          3D\\n\\n  8  6  0  0  0  0  0  0  0  0999 V2000\\n   -0.2199    1.5824    0.1642 C   0  0  0  0  0  0  0  0  0  0  0  0\\n   -0.5354    0.9847   -0.8593 O   0  0  0  0  0  0  0  0  0  1  0  0\\n    0.1721   -1.8242   -0.0855 C   0  0  0  0  0  0  0  0  0  2  0  0\\n    0.5558   -1.6336    1.0637 O   0  0  0  0  0  0  0  0  0  3  0  0\\n   -0.1459    1.0801    1.1424 H   0  0  0  0  0  0  0  0  0  4  0  0\\n    0.0080    2.6602    0.1670 H   0  0  0  0  0  0  0  0  0  5  0  0\\n   -0.8942   -1.9396   -0.3379 H   0  0  0  0  0  0  0  0  0  6  0  0\\n    0.8695   -1.8819   -0.9363 H   0  0  0  0  0  0  0  0  0  7  0  0\\n  1  2  2  0\\n  3  4  2  0\\n  1  5  1  0\\n  1  6  1  0\\n  3  7  1  0\\n  3  8  1  0\\nM  END\\n\",\"sdf\");\n\tviewer_1613582238009474.setStyle({\"stick\": {\"radius\": 0.2}, \"sphere\": {\"scale\": 0.25}});\n\tviewer_1613582238009474.addPropertyLabels(\"index\",\"\",{\"fontSize\": 15, \"fontColor\": \"white\", \"showBackground\": true, \"alignment\": \"center\", \"backgroundOpacity\": 0.2, \"backgroundColor\": \"black\"});\n\tviewer_1613582238009474.zoomTo();\nviewer_1613582238009474.render();\n});\n</script>",
      "text/html": [
       "<div id=\"3dmolviewer_1613582238009474\"  style=\"position: relative; width: 400px; height: 400px\">\n",
       "        <p id=\"3dmolwarning_1613582238009474\" style=\"background-color:#ffcccc;color:black\">You appear to be running in JupyterLab (or JavaScript failed to load for some other reason).  You need to install the 3dmol extension: <br>\n",
       "        <tt>jupyter labextension install jupyterlab_3dmol</tt></p>\n",
       "        </div>\n",
       "<script>\n",
       "\n",
       "var loadScriptAsync = function(uri){\n",
       "  return new Promise((resolve, reject) => {\n",
       "    var tag = document.createElement('script');\n",
       "    tag.src = uri;\n",
       "    tag.async = true;\n",
       "    tag.onload = () => {\n",
       "      resolve();\n",
       "    };\n",
       "  var firstScriptTag = document.getElementsByTagName('script')[0];\n",
       "  firstScriptTag.parentNode.insertBefore(tag, firstScriptTag);\n",
       "});\n",
       "};\n",
       "\n",
       "if(typeof $3Dmolpromise === 'undefined') {\n",
       "$3Dmolpromise = null;\n",
       "  $3Dmolpromise = loadScriptAsync('https://3dmol.csb.pitt.edu/build/3Dmol.js');\n",
       "}\n",
       "\n",
       "var viewer_1613582238009474 = null;\n",
       "var warn = document.getElementById(\"3dmolwarning_1613582238009474\");\n",
       "if(warn) {\n",
       "    warn.parentNode.removeChild(warn);\n",
       "}\n",
       "$3Dmolpromise.then(function() {\n",
       "viewer_1613582238009474 = $3Dmol.createViewer($(\"#3dmolviewer_1613582238009474\"),{backgroundColor:\"white\"});\n",
       "\tviewer_1613582238009474.addModel(\"\\n     RDKit          3D\\n\\n  8  6  0  0  0  0  0  0  0  0999 V2000\\n   -0.2199    1.5824    0.1642 C   0  0  0  0  0  0  0  0  0  0  0  0\\n   -0.5354    0.9847   -0.8593 O   0  0  0  0  0  0  0  0  0  1  0  0\\n    0.1721   -1.8242   -0.0855 C   0  0  0  0  0  0  0  0  0  2  0  0\\n    0.5558   -1.6336    1.0637 O   0  0  0  0  0  0  0  0  0  3  0  0\\n   -0.1459    1.0801    1.1424 H   0  0  0  0  0  0  0  0  0  4  0  0\\n    0.0080    2.6602    0.1670 H   0  0  0  0  0  0  0  0  0  5  0  0\\n   -0.8942   -1.9396   -0.3379 H   0  0  0  0  0  0  0  0  0  6  0  0\\n    0.8695   -1.8819   -0.9363 H   0  0  0  0  0  0  0  0  0  7  0  0\\n  1  2  2  0\\n  3  4  2  0\\n  1  5  1  0\\n  1  6  1  0\\n  3  7  1  0\\n  3  8  1  0\\nM  END\\n\",\"sdf\");\n",
       "\tviewer_1613582238009474.setStyle({\"stick\": {\"radius\": 0.2}, \"sphere\": {\"scale\": 0.25}});\n",
       "\tviewer_1613582238009474.addPropertyLabels(\"index\",\"\",{\"fontSize\": 15, \"fontColor\": \"white\", \"showBackground\": true, \"alignment\": \"center\", \"backgroundOpacity\": 0.2, \"backgroundColor\": \"black\"});\n",
       "\tviewer_1613582238009474.zoomTo();\n",
       "viewer_1613582238009474.render();\n",
       "});\n",
       "</script>"
      ]
     },
     "metadata": {},
     "output_type": "display_data"
    },
    {
     "data": {
      "text/plain": [
       "<py3Dmol.view at 0x7fa8b1970590>"
      ]
     },
     "execution_count": 11,
     "metadata": {},
     "output_type": "execute_result"
    }
   ],
   "source": [
    "ff = OpenBabelFF()\n",
    "ff.setup(mol2.Copy())\n",
    "ff.optimize()\n",
    "mol_viewer(ff.get_optimized_mol().ToMolBlock(), 'sdf')"
   ]
  },
  {
   "cell_type": "markdown",
   "metadata": {},
   "source": [
    "## 4. Constrained optimization"
   ]
  },
  {
   "cell_type": "markdown",
   "metadata": {},
   "source": [
    "Set atom (1, 2) and (0, 3) = 2 Angstrom"
   ]
  },
  {
   "cell_type": "code",
   "execution_count": 12,
   "metadata": {},
   "outputs": [
    {
     "name": "stdout",
     "output_type": "stream",
     "text": [
      "Before optimization\n",
      "d(1,2) = 3.091533633597571\n",
      "d(0,3) = 5.54344245067431\n",
      "\n"
     ]
    },
    {
     "data": {
      "application/3dmoljs_load.v0": "<div id=\"3dmolviewer_1613582238050705\"  style=\"position: relative; width: 400px; height: 400px\">\n        <p id=\"3dmolwarning_1613582238050705\" style=\"background-color:#ffcccc;color:black\">You appear to be running in JupyterLab (or JavaScript failed to load for some other reason).  You need to install the 3dmol extension: <br>\n        <tt>jupyter labextension install jupyterlab_3dmol</tt></p>\n        </div>\n<script>\n\nvar loadScriptAsync = function(uri){\n  return new Promise((resolve, reject) => {\n    var tag = document.createElement('script');\n    tag.src = uri;\n    tag.async = true;\n    tag.onload = () => {\n      resolve();\n    };\n  var firstScriptTag = document.getElementsByTagName('script')[0];\n  firstScriptTag.parentNode.insertBefore(tag, firstScriptTag);\n});\n};\n\nif(typeof $3Dmolpromise === 'undefined') {\n$3Dmolpromise = null;\n  $3Dmolpromise = loadScriptAsync('https://3dmol.csb.pitt.edu/build/3Dmol.js');\n}\n\nvar viewer_1613582238050705 = null;\nvar warn = document.getElementById(\"3dmolwarning_1613582238050705\");\nif(warn) {\n    warn.parentNode.removeChild(warn);\n}\n$3Dmolpromise.then(function() {\nviewer_1613582238050705 = $3Dmol.createViewer($(\"#3dmolviewer_1613582238050705\"),{backgroundColor:\"white\"});\n\tviewer_1613582238050705.addModel(\"\\n     RDKit          3D\\n\\n  8  6  0  0  0  0  0  0  0  0999 V2000\\n    2.1642    0.1807    0.0054 C   0  0  0  0  0  0  0  0  0  0  0  0\\n    0.9426    0.0787    0.0023 O   0  0  0  0  0  0  0  0  0  1  0  0\\n   -2.1382   -0.1785   -0.0053 C   0  0  0  0  0  0  0  0  0  2  0  0\\n   -3.3600   -0.2805   -0.0084 O   0  0  0  0  0  0  0  0  0  3  0  0\\n    2.8265   -0.6920    0.1238 H   0  0  0  0  0  0  0  0  0  4  0  0\\n    2.6732    1.1511   -0.1101 H   0  0  0  0  0  0  0  0  0  5  0  0\\n   -1.5187   -0.5296   -0.8456 H   0  0  0  0  0  0  0  0  0  6  0  0\\n   -1.5896    0.2701    0.8379 H   0  0  0  0  0  0  0  0  0  7  0  0\\n  7  3  1  0\\n  6  1  1  0\\n  4  3  2  0\\n  3  8  1  0\\n  2  1  2  0\\n  1  5  1  0\\nM  END\\n\",\"sdf\");\n\tviewer_1613582238050705.setStyle({\"stick\": {\"radius\": 0.2}, \"sphere\": {\"scale\": 0.25}});\n\tviewer_1613582238050705.addPropertyLabels(\"index\",\"\",{\"fontSize\": 15, \"fontColor\": \"white\", \"showBackground\": true, \"alignment\": \"center\", \"backgroundOpacity\": 0.2, \"backgroundColor\": \"black\"});\n\tviewer_1613582238050705.zoomTo();\n\tviewer_1613582238050705.render();\nviewer_1613582238050705.render();\n});\n</script>",
      "text/html": [
       "<div id=\"3dmolviewer_1613582238050705\"  style=\"position: relative; width: 400px; height: 400px\">\n",
       "        <p id=\"3dmolwarning_1613582238050705\" style=\"background-color:#ffcccc;color:black\">You appear to be running in JupyterLab (or JavaScript failed to load for some other reason).  You need to install the 3dmol extension: <br>\n",
       "        <tt>jupyter labextension install jupyterlab_3dmol</tt></p>\n",
       "        </div>\n",
       "<script>\n",
       "\n",
       "var loadScriptAsync = function(uri){\n",
       "  return new Promise((resolve, reject) => {\n",
       "    var tag = document.createElement('script');\n",
       "    tag.src = uri;\n",
       "    tag.async = true;\n",
       "    tag.onload = () => {\n",
       "      resolve();\n",
       "    };\n",
       "  var firstScriptTag = document.getElementsByTagName('script')[0];\n",
       "  firstScriptTag.parentNode.insertBefore(tag, firstScriptTag);\n",
       "});\n",
       "};\n",
       "\n",
       "if(typeof $3Dmolpromise === 'undefined') {\n",
       "$3Dmolpromise = null;\n",
       "  $3Dmolpromise = loadScriptAsync('https://3dmol.csb.pitt.edu/build/3Dmol.js');\n",
       "}\n",
       "\n",
       "var viewer_1613582238050705 = null;\n",
       "var warn = document.getElementById(\"3dmolwarning_1613582238050705\");\n",
       "if(warn) {\n",
       "    warn.parentNode.removeChild(warn);\n",
       "}\n",
       "$3Dmolpromise.then(function() {\n",
       "viewer_1613582238050705 = $3Dmol.createViewer($(\"#3dmolviewer_1613582238050705\"),{backgroundColor:\"white\"});\n",
       "\tviewer_1613582238050705.addModel(\"\\n     RDKit          3D\\n\\n  8  6  0  0  0  0  0  0  0  0999 V2000\\n    2.1642    0.1807    0.0054 C   0  0  0  0  0  0  0  0  0  0  0  0\\n    0.9426    0.0787    0.0023 O   0  0  0  0  0  0  0  0  0  1  0  0\\n   -2.1382   -0.1785   -0.0053 C   0  0  0  0  0  0  0  0  0  2  0  0\\n   -3.3600   -0.2805   -0.0084 O   0  0  0  0  0  0  0  0  0  3  0  0\\n    2.8265   -0.6920    0.1238 H   0  0  0  0  0  0  0  0  0  4  0  0\\n    2.6732    1.1511   -0.1101 H   0  0  0  0  0  0  0  0  0  5  0  0\\n   -1.5187   -0.5296   -0.8456 H   0  0  0  0  0  0  0  0  0  6  0  0\\n   -1.5896    0.2701    0.8379 H   0  0  0  0  0  0  0  0  0  7  0  0\\n  7  3  1  0\\n  6  1  1  0\\n  4  3  2  0\\n  3  8  1  0\\n  2  1  2  0\\n  1  5  1  0\\nM  END\\n\",\"sdf\");\n",
       "\tviewer_1613582238050705.setStyle({\"stick\": {\"radius\": 0.2}, \"sphere\": {\"scale\": 0.25}});\n",
       "\tviewer_1613582238050705.addPropertyLabels(\"index\",\"\",{\"fontSize\": 15, \"fontColor\": \"white\", \"showBackground\": true, \"alignment\": \"center\", \"backgroundOpacity\": 0.2, \"backgroundColor\": \"black\"});\n",
       "\tviewer_1613582238050705.zoomTo();\n",
       "\tviewer_1613582238050705.render();\n",
       "viewer_1613582238050705.render();\n",
       "});\n",
       "</script>"
      ]
     },
     "metadata": {},
     "output_type": "display_data"
    },
    {
     "data": {
      "text/plain": [
       "<py3Dmol.view at 0x7fa8b3ed1c10>"
      ]
     },
     "execution_count": 12,
     "metadata": {},
     "output_type": "execute_result"
    }
   ],
   "source": [
    "xyz = \"\"\"C      2.164196    0.180658    0.005381\n",
    "O      0.942631    0.078687    0.002344\n",
    "C     -2.138178   -0.178485   -0.005316\n",
    "O     -3.360016   -0.280479   -0.008354\n",
    "H      2.826486   -0.691971    0.123773\n",
    "H      2.673219    1.151062   -0.110098\n",
    "H     -1.518697   -0.529599   -0.845624\n",
    "H     -1.589641    0.270129    0.837895\"\"\"\n",
    "\n",
    "mol3 = RDKitMol.FromXYZ(xyz, header=False)\n",
    "\n",
    "print('Before optimization')\n",
    "print(f'd(1,2) = {mol3.GetConformer().GetBondLength([1,2])}\\n'\n",
    "      f'd(0,3) = {mol3.GetConformer().GetBondLength([0,3])}\\n')\n",
    "mol_viewer(mol3.ToMolBlock(), 'sdf').render()"
   ]
  },
  {
   "cell_type": "code",
   "execution_count": 13,
   "metadata": {},
   "outputs": [
    {
     "name": "stdout",
     "output_type": "stream",
     "text": [
      "d(1,2) = 2.0010771280704605\n",
      "d(0,3) = 2.001077173417188\n",
      "\n"
     ]
    },
    {
     "data": {
      "application/3dmoljs_load.v0": "<div id=\"3dmolviewer_1613582238090754\"  style=\"position: relative; width: 400px; height: 400px\">\n        <p id=\"3dmolwarning_1613582238090754\" style=\"background-color:#ffcccc;color:black\">You appear to be running in JupyterLab (or JavaScript failed to load for some other reason).  You need to install the 3dmol extension: <br>\n        <tt>jupyter labextension install jupyterlab_3dmol</tt></p>\n        </div>\n<script>\n\nvar loadScriptAsync = function(uri){\n  return new Promise((resolve, reject) => {\n    var tag = document.createElement('script');\n    tag.src = uri;\n    tag.async = true;\n    tag.onload = () => {\n      resolve();\n    };\n  var firstScriptTag = document.getElementsByTagName('script')[0];\n  firstScriptTag.parentNode.insertBefore(tag, firstScriptTag);\n});\n};\n\nif(typeof $3Dmolpromise === 'undefined') {\n$3Dmolpromise = null;\n  $3Dmolpromise = loadScriptAsync('https://3dmol.csb.pitt.edu/build/3Dmol.js');\n}\n\nvar viewer_1613582238090754 = null;\nvar warn = document.getElementById(\"3dmolwarning_1613582238090754\");\nif(warn) {\n    warn.parentNode.removeChild(warn);\n}\n$3Dmolpromise.then(function() {\nviewer_1613582238090754 = $3Dmol.createViewer($(\"#3dmolviewer_1613582238090754\"),{backgroundColor:\"white\"});\n\tviewer_1613582238090754.addModel(\"\\n     RDKit          3D\\n\\n  8  6  0  0  0  0  0  0  0  0999 V2000\\n    1.2090    0.2125    0.0671 C   0  0  0  0  0  0  0  0  0  0  0  0\\n    0.3220    0.8790    0.6176 O   0  0  0  0  0  0  0  0  0  1  0  0\\n   -1.2090   -0.2125   -0.0672 C   0  0  0  0  0  0  0  0  0  2  0  0\\n   -0.3221   -0.8786   -0.6182 O   0  0  0  0  0  0  0  0  0  3  0  0\\n    1.7138   -0.6279    0.5776 H   0  0  0  0  0  0  0  0  0  4  0  0\\n    1.6047    0.4731   -0.9314 H   0  0  0  0  0  0  0  0  0  5  0  0\\n   -1.7144    0.6278   -0.5771 H   0  0  0  0  0  0  0  0  0  6  0  0\\n   -1.6041   -0.4735    0.9316 H   0  0  0  0  0  0  0  0  0  7  0  0\\n  7  3  1  0\\n  6  1  1  0\\n  4  3  2  0\\n  3  8  1  0\\n  2  1  2  0\\n  1  5  1  0\\nM  END\\n\",\"sdf\");\n\tviewer_1613582238090754.setStyle({\"stick\": {\"radius\": 0.2}, \"sphere\": {\"scale\": 0.25}});\n\tviewer_1613582238090754.addPropertyLabels(\"index\",\"\",{\"fontSize\": 15, \"fontColor\": \"white\", \"showBackground\": true, \"alignment\": \"center\", \"backgroundOpacity\": 0.2, \"backgroundColor\": \"black\"});\n\tviewer_1613582238090754.zoomTo();\n\tviewer_1613582238090754.render();\nviewer_1613582238090754.render();\n});\n</script>",
      "text/html": [
       "<div id=\"3dmolviewer_1613582238090754\"  style=\"position: relative; width: 400px; height: 400px\">\n",
       "        <p id=\"3dmolwarning_1613582238090754\" style=\"background-color:#ffcccc;color:black\">You appear to be running in JupyterLab (or JavaScript failed to load for some other reason).  You need to install the 3dmol extension: <br>\n",
       "        <tt>jupyter labextension install jupyterlab_3dmol</tt></p>\n",
       "        </div>\n",
       "<script>\n",
       "\n",
       "var loadScriptAsync = function(uri){\n",
       "  return new Promise((resolve, reject) => {\n",
       "    var tag = document.createElement('script');\n",
       "    tag.src = uri;\n",
       "    tag.async = true;\n",
       "    tag.onload = () => {\n",
       "      resolve();\n",
       "    };\n",
       "  var firstScriptTag = document.getElementsByTagName('script')[0];\n",
       "  firstScriptTag.parentNode.insertBefore(tag, firstScriptTag);\n",
       "});\n",
       "};\n",
       "\n",
       "if(typeof $3Dmolpromise === 'undefined') {\n",
       "$3Dmolpromise = null;\n",
       "  $3Dmolpromise = loadScriptAsync('https://3dmol.csb.pitt.edu/build/3Dmol.js');\n",
       "}\n",
       "\n",
       "var viewer_1613582238090754 = null;\n",
       "var warn = document.getElementById(\"3dmolwarning_1613582238090754\");\n",
       "if(warn) {\n",
       "    warn.parentNode.removeChild(warn);\n",
       "}\n",
       "$3Dmolpromise.then(function() {\n",
       "viewer_1613582238090754 = $3Dmol.createViewer($(\"#3dmolviewer_1613582238090754\"),{backgroundColor:\"white\"});\n",
       "\tviewer_1613582238090754.addModel(\"\\n     RDKit          3D\\n\\n  8  6  0  0  0  0  0  0  0  0999 V2000\\n    1.2090    0.2125    0.0671 C   0  0  0  0  0  0  0  0  0  0  0  0\\n    0.3220    0.8790    0.6176 O   0  0  0  0  0  0  0  0  0  1  0  0\\n   -1.2090   -0.2125   -0.0672 C   0  0  0  0  0  0  0  0  0  2  0  0\\n   -0.3221   -0.8786   -0.6182 O   0  0  0  0  0  0  0  0  0  3  0  0\\n    1.7138   -0.6279    0.5776 H   0  0  0  0  0  0  0  0  0  4  0  0\\n    1.6047    0.4731   -0.9314 H   0  0  0  0  0  0  0  0  0  5  0  0\\n   -1.7144    0.6278   -0.5771 H   0  0  0  0  0  0  0  0  0  6  0  0\\n   -1.6041   -0.4735    0.9316 H   0  0  0  0  0  0  0  0  0  7  0  0\\n  7  3  1  0\\n  6  1  1  0\\n  4  3  2  0\\n  3  8  1  0\\n  2  1  2  0\\n  1  5  1  0\\nM  END\\n\",\"sdf\");\n",
       "\tviewer_1613582238090754.setStyle({\"stick\": {\"radius\": 0.2}, \"sphere\": {\"scale\": 0.25}});\n",
       "\tviewer_1613582238090754.addPropertyLabels(\"index\",\"\",{\"fontSize\": 15, \"fontColor\": \"white\", \"showBackground\": true, \"alignment\": \"center\", \"backgroundOpacity\": 0.2, \"backgroundColor\": \"black\"});\n",
       "\tviewer_1613582238090754.zoomTo();\n",
       "\tviewer_1613582238090754.render();\n",
       "viewer_1613582238090754.render();\n",
       "});\n",
       "</script>"
      ]
     },
     "metadata": {},
     "output_type": "display_data"
    },
    {
     "data": {
      "text/plain": [
       "<py3Dmol.view at 0x7fa8b34a5790>"
      ]
     },
     "execution_count": 13,
     "metadata": {},
     "output_type": "execute_result"
    }
   ],
   "source": [
    "ff = RDKitFF()\n",
    "ff.setup(mol3.Copy(), ignore_interfrag_interactions=False)\n",
    "ff.add_distance_constraint([1,2], 2.0, force_constant=1e5)\n",
    "ff.add_distance_constraint([0,3], 2.0, force_constant=1e5)\n",
    "ff.optimize()\n",
    "opt_mol = ff.get_optimized_mol()\n",
    "print(f'd(1,2) = {opt_mol.GetConformer().GetBondLength([1,2])}\\n'\n",
    "      f'd(0,3) = {opt_mol.GetConformer().GetBondLength([0,3])}\\n')\n",
    "mol_viewer(opt_mol.ToMolBlock(), 'sdf').render()"
   ]
  },
  {
   "cell_type": "code",
   "execution_count": 14,
   "metadata": {},
   "outputs": [
    {
     "name": "stdout",
     "output_type": "stream",
     "text": [
      "d(1,2) = 2.0010789121064403\n",
      "d(0,3) = 2.0010771562870513\n",
      "\n"
     ]
    },
    {
     "data": {
      "application/3dmoljs_load.v0": "<div id=\"3dmolviewer_1613582241058432\"  style=\"position: relative; width: 400px; height: 400px\">\n        <p id=\"3dmolwarning_1613582241058432\" style=\"background-color:#ffcccc;color:black\">You appear to be running in JupyterLab (or JavaScript failed to load for some other reason).  You need to install the 3dmol extension: <br>\n        <tt>jupyter labextension install jupyterlab_3dmol</tt></p>\n        </div>\n<script>\n\nvar loadScriptAsync = function(uri){\n  return new Promise((resolve, reject) => {\n    var tag = document.createElement('script');\n    tag.src = uri;\n    tag.async = true;\n    tag.onload = () => {\n      resolve();\n    };\n  var firstScriptTag = document.getElementsByTagName('script')[0];\n  firstScriptTag.parentNode.insertBefore(tag, firstScriptTag);\n});\n};\n\nif(typeof $3Dmolpromise === 'undefined') {\n$3Dmolpromise = null;\n  $3Dmolpromise = loadScriptAsync('https://3dmol.csb.pitt.edu/build/3Dmol.js');\n}\n\nvar viewer_1613582241058432 = null;\nvar warn = document.getElementById(\"3dmolwarning_1613582241058432\");\nif(warn) {\n    warn.parentNode.removeChild(warn);\n}\n$3Dmolpromise.then(function() {\nviewer_1613582241058432 = $3Dmol.createViewer($(\"#3dmolviewer_1613582241058432\"),{backgroundColor:\"white\"});\n\tviewer_1613582241058432.addModel(\"\\n     RDKit          3D\\n\\n  8  6  0  0  0  0  0  0  0  0999 V2000\\n    1.0996    0.2377   -0.1428 C   0  0  0  0  0  0  0  0  0  0  0  0\\n    0.2219    0.3377   -1.0110 O   0  0  0  0  0  0  0  0  0  1  0  0\\n   -1.2763   -0.3206    0.1406 C   0  0  0  0  0  0  0  0  0  2  0  0\\n   -0.4013   -0.4074    1.0129 O   0  0  0  0  0  0  0  0  0  3  0  0\\n    1.7121   -0.6755   -0.0307 H   0  0  0  0  0  0  0  0  0  4  0  0\\n    1.3866    1.0882    0.5019 H   0  0  0  0  0  0  0  0  0  5  0  0\\n   -1.5384   -1.1720   -0.5138 H   0  0  0  0  0  0  0  0  0  6  0  0\\n   -1.9106    0.5780    0.0333 H   0  0  0  0  0  0  0  0  0  7  0  0\\n  7  3  1  0\\n  6  1  1  0\\n  4  3  2  0\\n  3  8  1  0\\n  2  1  2  0\\n  1  5  1  0\\nM  END\\n\",\"sdf\");\n\tviewer_1613582241058432.setStyle({\"stick\": {\"radius\": 0.2}, \"sphere\": {\"scale\": 0.25}});\n\tviewer_1613582241058432.addPropertyLabels(\"index\",\"\",{\"fontSize\": 15, \"fontColor\": \"white\", \"showBackground\": true, \"alignment\": \"center\", \"backgroundOpacity\": 0.2, \"backgroundColor\": \"black\"});\n\tviewer_1613582241058432.zoomTo();\n\tviewer_1613582241058432.render();\nviewer_1613582241058432.render();\n});\n</script>",
      "text/html": [
       "<div id=\"3dmolviewer_1613582241058432\"  style=\"position: relative; width: 400px; height: 400px\">\n",
       "        <p id=\"3dmolwarning_1613582241058432\" style=\"background-color:#ffcccc;color:black\">You appear to be running in JupyterLab (or JavaScript failed to load for some other reason).  You need to install the 3dmol extension: <br>\n",
       "        <tt>jupyter labextension install jupyterlab_3dmol</tt></p>\n",
       "        </div>\n",
       "<script>\n",
       "\n",
       "var loadScriptAsync = function(uri){\n",
       "  return new Promise((resolve, reject) => {\n",
       "    var tag = document.createElement('script');\n",
       "    tag.src = uri;\n",
       "    tag.async = true;\n",
       "    tag.onload = () => {\n",
       "      resolve();\n",
       "    };\n",
       "  var firstScriptTag = document.getElementsByTagName('script')[0];\n",
       "  firstScriptTag.parentNode.insertBefore(tag, firstScriptTag);\n",
       "});\n",
       "};\n",
       "\n",
       "if(typeof $3Dmolpromise === 'undefined') {\n",
       "$3Dmolpromise = null;\n",
       "  $3Dmolpromise = loadScriptAsync('https://3dmol.csb.pitt.edu/build/3Dmol.js');\n",
       "}\n",
       "\n",
       "var viewer_1613582241058432 = null;\n",
       "var warn = document.getElementById(\"3dmolwarning_1613582241058432\");\n",
       "if(warn) {\n",
       "    warn.parentNode.removeChild(warn);\n",
       "}\n",
       "$3Dmolpromise.then(function() {\n",
       "viewer_1613582241058432 = $3Dmol.createViewer($(\"#3dmolviewer_1613582241058432\"),{backgroundColor:\"white\"});\n",
       "\tviewer_1613582241058432.addModel(\"\\n     RDKit          3D\\n\\n  8  6  0  0  0  0  0  0  0  0999 V2000\\n    1.0996    0.2377   -0.1428 C   0  0  0  0  0  0  0  0  0  0  0  0\\n    0.2219    0.3377   -1.0110 O   0  0  0  0  0  0  0  0  0  1  0  0\\n   -1.2763   -0.3206    0.1406 C   0  0  0  0  0  0  0  0  0  2  0  0\\n   -0.4013   -0.4074    1.0129 O   0  0  0  0  0  0  0  0  0  3  0  0\\n    1.7121   -0.6755   -0.0307 H   0  0  0  0  0  0  0  0  0  4  0  0\\n    1.3866    1.0882    0.5019 H   0  0  0  0  0  0  0  0  0  5  0  0\\n   -1.5384   -1.1720   -0.5138 H   0  0  0  0  0  0  0  0  0  6  0  0\\n   -1.9106    0.5780    0.0333 H   0  0  0  0  0  0  0  0  0  7  0  0\\n  7  3  1  0\\n  6  1  1  0\\n  4  3  2  0\\n  3  8  1  0\\n  2  1  2  0\\n  1  5  1  0\\nM  END\\n\",\"sdf\");\n",
       "\tviewer_1613582241058432.setStyle({\"stick\": {\"radius\": 0.2}, \"sphere\": {\"scale\": 0.25}});\n",
       "\tviewer_1613582241058432.addPropertyLabels(\"index\",\"\",{\"fontSize\": 15, \"fontColor\": \"white\", \"showBackground\": true, \"alignment\": \"center\", \"backgroundOpacity\": 0.2, \"backgroundColor\": \"black\"});\n",
       "\tviewer_1613582241058432.zoomTo();\n",
       "\tviewer_1613582241058432.render();\n",
       "viewer_1613582241058432.render();\n",
       "});\n",
       "</script>"
      ]
     },
     "metadata": {},
     "output_type": "display_data"
    },
    {
     "data": {
      "text/plain": [
       "<py3Dmol.view at 0x7fa8b19278d0>"
      ]
     },
     "execution_count": 14,
     "metadata": {},
     "output_type": "execute_result"
    }
   ],
   "source": [
    "ff = OpenBabelFF()\n",
    "ff.mol = mol3.Copy()  # directly assign mol to allow correct atom index when setting constraints\n",
    "ff.add_distance_constraint([1,2], 2.0)\n",
    "ff.add_distance_constraint([0,3], 2.0)\n",
    "ff.setup()\n",
    "ff.optimize()\n",
    "opt_mol = ff.get_optimized_mol()\n",
    "print(f'd(1,2) = {opt_mol.GetConformer().GetBondLength([1,2])}\\n'\n",
    "      f'd(0,3) = {opt_mol.GetConformer().GetBondLength([0,3])}\\n')\n",
    "mol_viewer(opt_mol.ToMolBlock(), 'sdf').render()"
   ]
  },
  {
   "cell_type": "code",
   "execution_count": null,
   "metadata": {},
   "outputs": [],
   "source": []
  }
 ],
 "metadata": {
  "@webio": {
   "lastCommId": null,
   "lastKernelId": null
  },
  "kernelspec": {
   "display_name": "Python 3.7.6 64-bit ('arc_env': conda)",
   "language": "python",
   "name": "python37664bitarcenvconda83c4abf9215d4a698ce68e2a44e6e6bc"
  },
  "language_info": {
   "codemirror_mode": {
    "name": "ipython",
    "version": 3
   },
   "file_extension": ".py",
   "mimetype": "text/x-python",
   "name": "python",
   "nbconvert_exporter": "python",
   "pygments_lexer": "ipython3",
   "version": "3.7.7"
  }
 },
 "nbformat": 4,
 "nbformat_minor": 2
}
