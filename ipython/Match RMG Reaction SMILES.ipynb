{
 "cells": [
  {
   "cell_type": "markdown",
   "id": "6636b5dd",
   "metadata": {},
   "source": [
    "# Match RMG Reaction SMILES"
   ]
  },
  {
   "cell_type": "code",
   "execution_count": 1,
   "id": "66c189b2",
   "metadata": {},
   "outputs": [],
   "source": [
    "import os\n",
    "import sys\n",
    "import subprocess\n",
    "\n",
    "# To add this RDMC into PYTHONPATH in case you haven't do it\n",
    "sys.path.append(os.path.dirname(os.path.abspath('')))\n",
    "\n",
    "from rdmc.mol import RDKitMol\n",
    "try:\n",
    "    # import RMG dependencies\n",
    "    from rdmc.external.rmg import (from_rdkit_mol,\n",
    "                                   load_rmg_database,\n",
    "                                   generate_reaction_complex,)\n",
    "    # Load RMG database\n",
    "    database = load_rmg_database()\n",
    "    from rmgpy.molecule import Molecule\n",
    "except (ImportError, ModuleNotFoundError):\n",
    "    print('You need to install RMG-Py first and run this IPYNB in rmg_env!')\n",
    "    \n",
    "%load_ext autoreload\n",
    "%autoreload 2"
   ]
  },
  {
   "cell_type": "markdown",
   "id": "8d591c8f",
   "metadata": {},
   "source": [
    "## Examples"
   ]
  },
  {
   "cell_type": "markdown",
   "id": "3f84cca2",
   "metadata": {},
   "source": [
    "H_migration"
   ]
  },
  {
   "cell_type": "code",
   "execution_count": 2,
   "id": "63fab073",
   "metadata": {},
   "outputs": [],
   "source": [
    "reactants = [\n",
    "\"\"\"[CH2]CCCCO\"\"\",]            \n",
    "\n",
    "products = [\n",
    "\"\"\"CCCCC[O]\"\"\",]"
   ]
  },
  {
   "cell_type": "markdown",
   "id": "adf1bd5d",
   "metadata": {},
   "source": [
    "Retroene"
   ]
  },
  {
   "cell_type": "code",
   "execution_count": 3,
   "id": "21253276",
   "metadata": {},
   "outputs": [],
   "source": [
    "reactants = [\n",
    "\"\"\" C1=CC(C2C=CCC2)C=C1\"\"\",]            \n",
    "\n",
    "products = [\n",
    "\"\"\"C1=CC=CC1\"\"\",\n",
    "\"\"\"C1=CC=CC1\"\"\",]"
   ]
  },
  {
   "cell_type": "markdown",
   "id": "bbee5dc2",
   "metadata": {},
   "source": [
    "H abstraction"
   ]
  },
  {
   "cell_type": "code",
   "execution_count": 4,
   "id": "b4076f77",
   "metadata": {},
   "outputs": [],
   "source": [
    "reactants = [\n",
    "\"\"\"[CH3]\"\"\",\n",
    "\"\"\"CCCCO\"\"\",]            \n",
    "\n",
    "products = [\n",
    "\"\"\"C\"\"\",\n",
    "\"\"\"[CH2]CCCO\"\"\",]"
   ]
  },
  {
   "cell_type": "markdown",
   "id": "feae21a5",
   "metadata": {},
   "source": [
    "## Generate reactant and product complex"
   ]
  },
  {
   "cell_type": "code",
   "execution_count": 5,
   "id": "2586af5a",
   "metadata": {},
   "outputs": [
    {
     "name": "stdout",
     "output_type": "stream",
     "text": [
      "[CH3] + CCCCO <=> C + [CH2]CCCO\n",
      "RMG family: H_Abstraction\n",
      "Is forward reaction: True\n"
     ]
    }
   ],
   "source": [
    "try:\n",
    "    # Generate RMG Molecule\n",
    "    reactant_molecules = [Molecule().from_smiles(r) for r in reactants]\n",
    "    product_molecules = [Molecule().from_smiles(p) for p in products]\n",
    "except Exception as e:\n",
    "    print(e)\n",
    "    print('Have issues generating molecules.')\n",
    "else:\n",
    "    # A product complex with the same atom indexing as the reactant is generated\n",
    "    reactant_complex, product_complex = generate_reaction_complex(\n",
    "                                            database,\n",
    "                                            reactant_molecules,\n",
    "                                            product_molecules,\n",
    "                                            verbose=True)\n",
    "    \n",
    "r_mol = RDKitMol.FromRMGMol(reactant_complex)\n",
    "p_mol = RDKitMol.FromRMGMol(product_complex)"
   ]
  },
  {
   "cell_type": "markdown",
   "id": "a7af71f3",
   "metadata": {},
   "source": [
    "### Generate SMILES"
   ]
  },
  {
   "cell_type": "markdown",
   "id": "f32c92ac",
   "metadata": {},
   "source": [
    "Reactant"
   ]
  },
  {
   "cell_type": "code",
   "execution_count": 6,
   "id": "5a78eecc",
   "metadata": {},
   "outputs": [
    {
     "data": {
      "text/plain": [
       "['[C:0]([H:1])([H:2])[H:3]',\n",
       " '[C:4]([C:5]([C:6]([C:7]([O:8][H:18])([H:16])[H:17])([H:14])[H:15])([H:12])[H:13])([H:9])([H:10])[H:11]']"
      ]
     },
     "execution_count": 6,
     "metadata": {},
     "output_type": "execute_result"
    }
   ],
   "source": [
    "r_mol.ToSmiles(RemoveAtomMap=False, removeHs=False).split('.')"
   ]
  },
  {
   "cell_type": "markdown",
   "id": "4602703c",
   "metadata": {},
   "source": [
    "Product"
   ]
  },
  {
   "cell_type": "code",
   "execution_count": 7,
   "id": "8c3c6cb5",
   "metadata": {},
   "outputs": [
    {
     "data": {
      "text/plain": [
       "['[C:0]([H:1])([H:2])([H:3])[H:9]',\n",
       " '[C:4]([C:5]([C:6]([C:7]([O:8][H:18])([H:16])[H:17])([H:14])[H:15])([H:12])[H:13])([H:10])[H:11]']"
      ]
     },
     "execution_count": 7,
     "metadata": {},
     "output_type": "execute_result"
    }
   ],
   "source": [
    "p_mol.ToSmiles(RemoveAtomMap=False, removeHs=False).split('.')"
   ]
  },
  {
   "cell_type": "markdown",
   "id": "408172df",
   "metadata": {},
   "source": [
    "Double check by Molecule graph"
   ]
  },
  {
   "cell_type": "code",
   "execution_count": 8,
   "id": "f55ba285",
   "metadata": {},
   "outputs": [
    {
     "data": {
      "image/png": "[encoded data removed]",
      "text/plain": [
       "<rdmc.mol.RDKitMol at 0x7fe7335df210>"
      ]
     },
     "execution_count": 8,
     "metadata": {},
     "output_type": "execute_result"
    }
   ],
   "source": [
    "r_mol"
   ]
  },
  {
   "cell_type": "code",
   "execution_count": 9,
   "id": "78fe3d41",
   "metadata": {},
   "outputs": [
    {
     "data": {
      "image/png": "[encoded data removed]",
      "text/plain": [
       "<rdmc.mol.RDKitMol at 0x7fe732a90510>"
      ]
     },
     "execution_count": 9,
     "metadata": {},
     "output_type": "execute_result"
    }
   ],
   "source": [
    "p_mol"
   ]
  },
  {
   "cell_type": "code",
   "execution_count": null,
   "id": "e464f23b",
   "metadata": {},
   "outputs": [],
   "source": []
  }
 ],
 "metadata": {
  "@webio": {
   "lastCommId": null,
   "lastKernelId": null
  },
  "kernelspec": {
   "display_name": "Python 3.7.7 64-bit ('rmg_env': conda)",
   "language": "python",
   "name": "python37764bitrmgenvcondac02b0b81a4b642cf8610ea18f5d2fd9c"
  },
  "language_info": {
   "codemirror_mode": {
    "name": "ipython",
    "version": 3
   },
   "file_extension": ".py",
   "mimetype": "text/x-python",
   "name": "python",
   "nbconvert_exporter": "python",
   "pygments_lexer": "ipython3",
   "version": "3.7.10"
  }
 },
 "nbformat": 4,
 "nbformat_minor": 5
}
