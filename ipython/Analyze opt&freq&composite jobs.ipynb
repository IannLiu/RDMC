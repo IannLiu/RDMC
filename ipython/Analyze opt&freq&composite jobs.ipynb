{
 "cells": [
  {
   "cell_type": "markdown",
   "id": "rental-africa",
   "metadata": {},
   "source": [
    "# Analyze composite jobs"
   ]
  },
  {
   "cell_type": "markdown",
   "id": "traditional-designation",
   "metadata": {},
   "source": [
    "This is a in-developing notebook enabling parseing QM results from opt / \n",
    "composite / frequence jobs. You can use this notebook to\n",
    "- check job convergence\n",
    "- view frequency modes\n",
    "- check intermediate geometries"
   ]
  },
  {
   "cell_type": "code",
   "execution_count": 1,
   "id": "danish-introduction",
   "metadata": {},
   "outputs": [],
   "source": [
    "import os\n",
    "import sys\n",
    "# To add this RDMC into PYTHONPATH in case you haven't do it\n",
    "sys.path.append(os.path.dirname(os.path.abspath('')))\n",
    "\n",
    "import cclib  # This is not included in the environment and you may need to install manually\n",
    "import numpy as np\n",
    "\n",
    "from rdmc.view import mol_viewer, freq_viewer\n",
    "\n",
    "from ipywidgets import interact, IntSlider, Dropdown\n",
    "\n",
    "CRITERIA = {\n",
    "    'gaussian': ['Force Maximum', 'Force RMS', 'Displacement Maximum', 'Displacement RMS'],\n",
    "}\n",
    "\n",
    "%load_ext autoreload\n",
    "%autoreload 2"
   ]
  },
  {
   "cell_type": "markdown",
   "id": "manual-memory",
   "metadata": {},
   "source": [
    "## 1. Load the file"
   ]
  },
  {
   "cell_type": "code",
   "execution_count": 2,
   "id": "powerful-blowing",
   "metadata": {},
   "outputs": [],
   "source": [
    "log = \"/Users/xiaorui/C3ddb server/Calcs/DMBENE/dmbene_25_cis/composite/input.log\"\n",
    "######################################\n",
    "calc_results = cclib.io.ccread(log)\n",
    "if not hasattr(calc_results, 'metadata'):\n",
    "    raise RuntimeError('The cclib cannot path the file!')\n",
    "else:\n",
    "    package = calc_results.metadata['package'].lower()"
   ]
  },
  {
   "cell_type": "markdown",
   "id": "experienced-moses",
   "metadata": {},
   "source": [
    "## 2. Converged?"
   ]
  },
  {
   "cell_type": "code",
   "execution_count": 3,
   "id": "drawn-hearts",
   "metadata": {
    "scrolled": false
   },
   "outputs": [
    {
     "name": "stdout",
     "output_type": "stream",
     "text": [
      "Optimization done?: True\n"
     ]
    },
    {
     "data": {
      "application/3dmoljs_load.v0": "<div id=\"3dmolviewer_1613582823937189\"  style=\"position: relative; width: 400px; height: 400px\">\n        <p id=\"3dmolwarning_1613582823937189\" style=\"background-color:#ffcccc;color:black\">You appear to be running in JupyterLab (or JavaScript failed to load for some other reason).  You need to install the 3dmol extension: <br>\n        <tt>jupyter labextension install jupyterlab_3dmol</tt></p>\n        </div>\n<script>\n\nvar loadScriptAsync = function(uri){\n  return new Promise((resolve, reject) => {\n    var tag = document.createElement('script');\n    tag.src = uri;\n    tag.async = true;\n    tag.onload = () => {\n      resolve();\n    };\n  var firstScriptTag = document.getElementsByTagName('script')[0];\n  firstScriptTag.parentNode.insertBefore(tag, firstScriptTag);\n});\n};\n\nif(typeof $3Dmolpromise === 'undefined') {\n$3Dmolpromise = null;\n  $3Dmolpromise = loadScriptAsync('https://3dmol.csb.pitt.edu/build/3Dmol.js');\n}\n\nvar viewer_1613582823937189 = null;\nvar warn = document.getElementById(\"3dmolwarning_1613582823937189\");\nif(warn) {\n    warn.parentNode.removeChild(warn);\n}\n$3Dmolpromise.then(function() {\nviewer_1613582823937189 = $3Dmol.createViewer($(\"#3dmolviewer_1613582823937189\"),{backgroundColor:\"white\"});\n\tviewer_1613582823937189.addModel(\"13\\n[Geometry 36]\\nC     -0.4816190000   -0.5480710000    0.0181410000\\nO     -0.8880910000    0.6660510000   -0.3619790000\\nO      0.2074920000    2.0171080000    0.2559750000\\nH     -0.2261600000    2.6542300000   -0.3307180000\\nC      0.7186880000   -1.1403300000    0.1221180000\\nH      0.6969280000   -2.1918370000    0.3926190000\\nC     -1.8524250000   -0.9669740000    0.1119110000\\nH     -2.3107490000   -1.6127480000   -0.6301680000\\nH     -2.4859780000   -0.5066190000    0.8574650000\\nC      2.0459100000   -0.4838500000   -0.0897850000\\nH      2.6092480000   -1.0047780000   -0.8731580000\\nH      1.9230270000    0.5624040000   -0.3623780000\\nH      2.6551490000   -0.5305760000    0.8200550000\\n\",\"xyz\");\n\tviewer_1613582823937189.setStyle({\"stick\": {\"radius\": 0.2}, \"sphere\": {\"scale\": 0.25}});\n\tviewer_1613582823937189.addPropertyLabels(\"index\",\"\",{\"fontSize\": 15, \"fontColor\": \"white\", \"showBackground\": true, \"alignment\": \"center\", \"backgroundOpacity\": 0.2, \"backgroundColor\": \"black\"});\n\tviewer_1613582823937189.zoomTo();\nviewer_1613582823937189.render();\n});\n</script>",
      "text/html": [
       "<div id=\"3dmolviewer_1613582823937189\"  style=\"position: relative; width: 400px; height: 400px\">\n",
       "        <p id=\"3dmolwarning_1613582823937189\" style=\"background-color:#ffcccc;color:black\">You appear to be running in JupyterLab (or JavaScript failed to load for some other reason).  You need to install the 3dmol extension: <br>\n",
       "        <tt>jupyter labextension install jupyterlab_3dmol</tt></p>\n",
       "        </div>\n",
       "<script>\n",
       "\n",
       "var loadScriptAsync = function(uri){\n",
       "  return new Promise((resolve, reject) => {\n",
       "    var tag = document.createElement('script');\n",
       "    tag.src = uri;\n",
       "    tag.async = true;\n",
       "    tag.onload = () => {\n",
       "      resolve();\n",
       "    };\n",
       "  var firstScriptTag = document.getElementsByTagName('script')[0];\n",
       "  firstScriptTag.parentNode.insertBefore(tag, firstScriptTag);\n",
       "});\n",
       "};\n",
       "\n",
       "if(typeof $3Dmolpromise === 'undefined') {\n",
       "$3Dmolpromise = null;\n",
       "  $3Dmolpromise = loadScriptAsync('https://3dmol.csb.pitt.edu/build/3Dmol.js');\n",
       "}\n",
       "\n",
       "var viewer_1613582823937189 = null;\n",
       "var warn = document.getElementById(\"3dmolwarning_1613582823937189\");\n",
       "if(warn) {\n",
       "    warn.parentNode.removeChild(warn);\n",
       "}\n",
       "$3Dmolpromise.then(function() {\n",
       "viewer_1613582823937189 = $3Dmol.createViewer($(\"#3dmolviewer_1613582823937189\"),{backgroundColor:\"white\"});\n",
       "\tviewer_1613582823937189.addModel(\"13\\n[Geometry 36]\\nC     -0.4816190000   -0.5480710000    0.0181410000\\nO     -0.8880910000    0.6660510000   -0.3619790000\\nO      0.2074920000    2.0171080000    0.2559750000\\nH     -0.2261600000    2.6542300000   -0.3307180000\\nC      0.7186880000   -1.1403300000    0.1221180000\\nH      0.6969280000   -2.1918370000    0.3926190000\\nC     -1.8524250000   -0.9669740000    0.1119110000\\nH     -2.3107490000   -1.6127480000   -0.6301680000\\nH     -2.4859780000   -0.5066190000    0.8574650000\\nC      2.0459100000   -0.4838500000   -0.0897850000\\nH      2.6092480000   -1.0047780000   -0.8731580000\\nH      1.9230270000    0.5624040000   -0.3623780000\\nH      2.6551490000   -0.5305760000    0.8200550000\\n\",\"xyz\");\n",
       "\tviewer_1613582823937189.setStyle({\"stick\": {\"radius\": 0.2}, \"sphere\": {\"scale\": 0.25}});\n",
       "\tviewer_1613582823937189.addPropertyLabels(\"index\",\"\",{\"fontSize\": 15, \"fontColor\": \"white\", \"showBackground\": true, \"alignment\": \"center\", \"backgroundOpacity\": 0.2, \"backgroundColor\": \"black\"});\n",
       "\tviewer_1613582823937189.zoomTo();\n",
       "viewer_1613582823937189.render();\n",
       "});\n",
       "</script>"
      ]
     },
     "metadata": {},
     "output_type": "display_data"
    },
    {
     "name": "stdout",
     "output_type": "stream",
     "text": [
      "The optimized XYZ:\n",
      "\n",
      "13\n",
      "[Geometry 36]\n",
      "C     -0.4816190000   -0.5480710000    0.0181410000\n",
      "O     -0.8880910000    0.6660510000   -0.3619790000\n",
      "O      0.2074920000    2.0171080000    0.2559750000\n",
      "H     -0.2261600000    2.6542300000   -0.3307180000\n",
      "C      0.7186880000   -1.1403300000    0.1221180000\n",
      "H      0.6969280000   -2.1918370000    0.3926190000\n",
      "C     -1.8524250000   -0.9669740000    0.1119110000\n",
      "H     -2.3107490000   -1.6127480000   -0.6301680000\n",
      "H     -2.4859780000   -0.5066190000    0.8574650000\n",
      "C      2.0459100000   -0.4838500000   -0.0897850000\n",
      "H      2.6092480000   -1.0047780000   -0.8731580000\n",
      "H      1.9230270000    0.5624040000   -0.3623780000\n",
      "H      2.6551490000   -0.5305760000    0.8200550000\n",
      "\n"
     ]
    }
   ],
   "source": [
    "print(f'Optimization done?: {calc_results.optdone}')\n",
    "if calc_results.optdone:\n",
    "    \n",
    "    last_converged_idx = [x for x, y in enumerate(calc_results.optstatus) \\\n",
    "                          if y & calc_results.OPT_DONE > 0][-1]\n",
    "    xyz = cclib.io.ccwrite(calc_results,\n",
    "                           outputtype='xyz',\n",
    "                           indices=last_converged_idx,\n",
    "                           returnstr=True,)\n",
    "    \n",
    "    viewer = mol_viewer(xyz, model='xyz')\n",
    "    viewer.show()\n",
    "    \n",
    "    print('The optimized XYZ:\\n')\n",
    "    print(f'{xyz}')"
   ]
  },
  {
   "cell_type": "markdown",
   "id": "sexual-raleigh",
   "metadata": {},
   "source": [
    "## 3. Find the geometry that is the closet to convergence"
   ]
  },
  {
   "cell_type": "code",
   "execution_count": 4,
   "id": "coordinate-shoulder",
   "metadata": {},
   "outputs": [],
   "source": [
    "if not calc_results.optdone:\n",
    "    \n",
    "    criteria = CRITERIA[package]\n",
    "    # Calculate the normalized target differences\n",
    "    off_targets = (calc_results.geovalues - calc_results.geotargets) / calc_results.geotargets\n",
    "\n",
    "    # set ones that meet target to 0s \n",
    "    off_targets[off_targets <= 0] = 0\n",
    "\n",
    "    norm2targets = np.linalg.norm(off_targets, axis=1)\n",
    "    sorted_conformers = np.argsort(norm2targets)\n",
    "\n",
    "    best_conf = sorted_conformers[0]\n",
    "    print(f'The best conformer is {best_conf+1}\\n')\n",
    "    print(f'Criteria:\\n{\"Item\":<30}{\"Value\":<16}{\"Threshold\":<16}{\"Off target\":<16}')\n",
    "    for item, val, target, off_target in zip(criteria,\n",
    "                                 calc_results.geovalues[best_conf].tolist(),\n",
    "                                 calc_results.geotargets.tolist(),\n",
    "                                 off_targets[best_conf].tolist()):\n",
    "        print(f'{item:<30}{val:<16}{target:<16}{off_target:<16.2e}')\n",
    "    print(\"\\n\")\n",
    "    xyz = cclib.io.ccwrite(calc_results,\n",
    "                           outputtype='xyz',\n",
    "                           indices=best_conf,\n",
    "                           returnstr=True,)\n",
    "    \n",
    "    viewer = mol_viewer(xyz, model='xyz')\n",
    "    viewer.show()\n",
    "    \n",
    "    print(f'{xyz}')\n",
    "    "
   ]
  },
  {
   "cell_type": "markdown",
   "id": "balanced-denver",
   "metadata": {},
   "source": [
    "## 4. [IF A FREQ JOB] Visualize vibrations"
   ]
  },
  {
   "cell_type": "code",
   "execution_count": 5,
   "id": "abstract-graphic",
   "metadata": {
    "scrolled": false
   },
   "outputs": [
    {
     "name": "stdout",
     "output_type": "stream",
     "text": [
      "!!!!! THIS JOB HAS 1 IMAGINARY FREQUENCIES !!!!!\n",
      "!!!!! PLEASE CHECK IF THIS IS A DESIRABLE BEHAVIOR !!!!!\n"
     ]
    }
   ],
   "source": [
    "try:\n",
    "    num_neg_freq = np.sum(calc_results.vibfreqs < 0)\n",
    "except AttributeError:\n",
    "    num_neg_freq = None\n",
    "    print('!!!!! THIS OUTPUT DOES NOT CONTAIN FREQUENCY INFORMATION !!!!')\n",
    "    \n",
    "print(f'!!!!! THIS JOB HAS {num_neg_freq} IMAGINARY FREQUENCIES !!!!!')\n",
    "print(f'!!!!! PLEASE CHECK IF THIS IS A DESIRABLE BEHAVIOR !!!!!')"
   ]
  },
  {
   "cell_type": "code",
   "execution_count": 6,
   "id": "needed-excerpt",
   "metadata": {},
   "outputs": [
    {
     "data": {
      "application/vnd.jupyter.widget-view+json": {
       "model_id": "db836c53a7624253b6bdc785f11f46cf",
       "version_major": 2,
       "version_minor": 0
      },
      "text/plain": [
       "interactive(children=(Dropdown(description='Vib freq:', options=(-672.3256, 115.0627, 134.8722, 183.7553, 201.…"
      ]
     },
     "metadata": {},
     "output_type": "display_data"
    },
    {
     "data": {
      "text/plain": [
       "<function __main__.view_freqs(value)>"
      ]
     },
     "execution_count": 6,
     "metadata": {},
     "output_type": "execute_result"
    }
   ],
   "source": [
    "def view_freqs(value):\n",
    "    # Compose the xyz with viberation information\n",
    "    freq_idx = np.where(calc_results.vibfreqs == value)[0][0]\n",
    "#     print(freq_idx[0][0])\n",
    "    lines = xyz.splitlines()\n",
    "    vib_xyz_list = lines[0:2]\n",
    "    for i, line in enumerate(lines[2:]):\n",
    "        line = line.strip() + f'{\"\":12}'+ ''.join([f'{item:<12}' for item in calc_results.vibdisps[freq_idx][i].tolist()])\n",
    "        vib_xyz_list.append(line)\n",
    "    vib_xyz = '\\n'.join(vib_xyz_list)\n",
    "    \n",
    "    viewer = freq_viewer(vib_xyz, model='xyz',)\n",
    "    viewer.show()\n",
    "    \n",
    "\n",
    "if num_neg_freq is not None:\n",
    "    dropdown = Dropdown(\n",
    "        options=calc_results.vibfreqs,\n",
    "        value=calc_results.vibfreqs[0],\n",
    "        description='Vib freq:',\n",
    "        disabled=False,\n",
    "    )\n",
    "\n",
    "interact(view_freqs, value=dropdown)"
   ]
  },
  {
   "cell_type": "markdown",
   "id": "given-stanford",
   "metadata": {},
   "source": [
    "## 5. Visualize intermediate conformers"
   ]
  },
  {
   "cell_type": "code",
   "execution_count": 7,
   "id": "distinct-vacuum",
   "metadata": {},
   "outputs": [
    {
     "data": {
      "application/vnd.jupyter.widget-view+json": {
       "model_id": "04fa9ab3ecbd4b40870008ffd946a1dd",
       "version_major": 2,
       "version_minor": 0
      },
      "text/plain": [
       "interactive(children=(IntSlider(value=0, description='idx', max=36), Output()), _dom_classes=('widget-interact…"
      ]
     },
     "metadata": {},
     "output_type": "display_data"
    },
    {
     "data": {
      "text/plain": [
       "<function __main__.view_intermediate_conformer(idx)>"
      ]
     },
     "execution_count": 7,
     "metadata": {},
     "output_type": "execute_result"
    }
   ],
   "source": [
    "num_conf = calc_results.atomcoords.shape[0]\n",
    "xyzs = [cclib.io.ccwrite(calc_results, outputtype='xyz',\n",
    "                         indices=i, returnstr=True,)\n",
    "        for i in range(num_conf)]\n",
    "\n",
    "def view_intermediate_conformer(idx):\n",
    "    xyz = xyzs[idx]\n",
    "    mol_viewer(xyz, model='xyz').show()\n",
    "    print(xyz)\n",
    "\n",
    "interact(view_intermediate_conformer, idx=IntSlider(min=0, max=num_conf-1, step=1))"
   ]
  }
 ],
 "metadata": {
  "@webio": {
   "lastCommId": null,
   "lastKernelId": null
  },
  "kernelspec": {
   "display_name": "Python 3.7.6 64-bit ('arc_env': conda)",
   "language": "python",
   "name": "python37664bitarcenvconda83c4abf9215d4a698ce68e2a44e6e6bc"
  },
  "language_info": {
   "codemirror_mode": {
    "name": "ipython",
    "version": 3
   },
   "file_extension": ".py",
   "mimetype": "text/x-python",
   "name": "python",
   "nbconvert_exporter": "python",
   "pygments_lexer": "ipython3",
   "version": "3.7.7"
  }
 },
 "nbformat": 4,
 "nbformat_minor": 5
}
