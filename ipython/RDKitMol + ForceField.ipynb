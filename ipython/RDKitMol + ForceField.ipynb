{
 "cells": [
  {
   "cell_type": "markdown",
   "metadata": {},
   "source": [
    "# A demo of using RDKitFF and OpenBabelFF\n",
    "Demonstrate using the force field wrapper `RDKitFF` for RDKit force field and `OpenBabelFF` for Openbabel force field. Compared to the original APIs,\n",
    "- ROO cannot be optimized by RDKit Force Field, but RDKitFF provides a workaround for it.\n",
    "- more consistent APIs using RDKitFF and OpenBabelFF\n",
    "\n",
    "Something needs to keep in mind:\n",
    "- OpenBabelFF by default allowing interfragmental interactions, but you need to set `ignore_interfrag_interactions=False` to allow interfragmental interactions for RDKitFF.\n",
    "- When dealing with constrained optimization, in using OpenBabelFF, you need to set constraint before calling `setup()` (or calling `setup()` again after setting constraints); but in RDKitFF, you can only set constraint after calling `setup()`"
   ]
  },
  {
   "cell_type": "code",
   "execution_count": 1,
   "metadata": {},
   "outputs": [],
   "source": [
    "import os\n",
    "import sys\n",
    "# To add this RDMC into PYTHONPATH in case you doesn't do it\n",
    "sys.path.append(os.path.dirname(os.path.abspath('')))\n",
    "\n",
    "from rdmc.forcefield import RDKitFF, OpenBabelFF\n",
    "from rdmc.mol import RDKitMol\n",
    "from rdmc.view import mol_viewer, grid_viewer\n",
    "\n",
    "%load_ext autoreload\n",
    "%autoreload 2"
   ]
  },
  {
   "cell_type": "code",
   "execution_count": 2,
   "metadata": {},
   "outputs": [],
   "source": [
    "mol1 = RDKitMol.FromSmiles('CCCO[O]')\n",
    "mol1.EmbedConformer()"
   ]
  },
  {
   "cell_type": "markdown",
   "metadata": {},
   "source": [
    "## 1. RDKit Force Field "
   ]
  },
  {
   "cell_type": "markdown",
   "metadata": {},
   "source": [
    "Create a force field object"
   ]
  },
  {
   "cell_type": "code",
   "execution_count": 5,
   "metadata": {},
   "outputs": [
    {
     "name": "stdout",
     "output_type": "stream",
     "text": [
      "mmff94s\n"
     ]
    }
   ],
   "source": [
    "ff = RDKitFF('mmff94s')\n",
    "print(ff.type)"
   ]
  },
  {
   "cell_type": "markdown",
   "metadata": {},
   "source": [
    "Check optimizibility and make molecule optimizable"
   ]
  },
  {
   "cell_type": "code",
   "execution_count": 6,
   "metadata": {},
   "outputs": [
    {
     "name": "stdout",
     "output_type": "stream",
     "text": [
      "Optimizability of this molecule: True\n"
     ]
    }
   ],
   "source": [
    "opt_mol = mol1.Copy()\n",
    "ff.setup(opt_mol, ignore_interfrag_interactions=False)\n",
    "print(f'Optimizability of this molecule: {ff.is_optimizable()}')"
   ]
  },
  {
   "cell_type": "markdown",
   "metadata": {},
   "source": [
    "Optimize a single conformer (conformer 0)"
   ]
  },
  {
   "cell_type": "code",
   "execution_count": 7,
   "metadata": {},
   "outputs": [
    {
     "name": "stdout",
     "output_type": "stream",
     "text": [
      "Optimization success: True\n"
     ]
    },
    {
     "data": {
      "application/3dmoljs_load.v0": "<div id=\"3dmolviewer_16237915601531148\"  style=\"position: relative; width: 400px; height: 400px\">\n        <p id=\"3dmolwarning_16237915601531148\" style=\"background-color:#ffcccc;color:black\">You appear to be running in JupyterLab (or JavaScript failed to load for some other reason).  You need to install the 3dmol extension: <br>\n        <tt>jupyter labextension install jupyterlab_3dmol</tt></p>\n        </div>\n<script>\n\nvar loadScriptAsync = function(uri){\n  return new Promise((resolve, reject) => {\n    var tag = document.createElement('script');\n    tag.src = uri;\n    tag.async = true;\n    tag.onload = () => {\n      resolve();\n    };\n  var firstScriptTag = document.getElementsByTagName('script')[0];\n  firstScriptTag.parentNode.insertBefore(tag, firstScriptTag);\n});\n};\n\nif(typeof $3Dmolpromise === 'undefined') {\n$3Dmolpromise = null;\n  $3Dmolpromise = loadScriptAsync('https://3dmol.csb.pitt.edu/build/3Dmol.js');\n}\n\nvar viewer_16237915601531148 = null;\nvar warn = document.getElementById(\"3dmolwarning_16237915601531148\");\nif(warn) {\n    warn.parentNode.removeChild(warn);\n}\n$3Dmolpromise.then(function() {\nviewer_16237915601531148 = $3Dmol.createViewer($(\"#3dmolviewer_16237915601531148\"),{backgroundColor:\"white\"});\n\tviewer_16237915601531148.addModel(\"\\n     RDKit          3D\\n\\n 12 11  0  0  0  0  0  0  0  0999 V2000\\n   -1.5426   -0.3102   -0.0613 C   0  0  0  0  0  0  0  0  0  0  0  0\\n   -0.1266   -0.6610    0.3586 C   0  0  0  0  0  0  0  0  0  1  0  0\\n    0.8060    0.5357    0.2579 C   0  0  0  0  0  0  0  0  0  2  0  0\\n    2.1090    0.1405    0.6635 O   0  0  0  0  0  0  0  0  0  3  0  0\\n    3.0104    1.2312    0.5835 O   0  0  0  0  0  1  0  0  0  4  0  0\\n   -2.1912   -1.1879    0.0208 H   0  0  0  0  0  0  0  0  0  5  0  0\\n   -1.5694    0.0361   -1.0994 H   0  0  0  0  0  0  0  0  0  6  0  0\\n   -1.9564    0.4786    0.5751 H   0  0  0  0  0  0  0  0  0  7  0  0\\n   -0.1268   -1.0419    1.3869 H   0  0  0  0  0  0  0  0  0  8  0  0\\n    0.2549   -1.4784   -0.2649 H   0  0  0  0  0  0  0  0  0  9  0  0\\n    0.8603    0.9068   -0.7704 H   0  0  0  0  0  0  0  0  0 10  0  0\\n    0.4724    1.3504    0.9083 H   0  0  0  0  0  0  0  0  0 11  0  0\\n  1  2  1  0\\n  2  3  1  0\\n  3  4  1  0\\n  4  5  1  0\\n  1  6  1  0\\n  1  7  1  0\\n  1  8  1  0\\n  2  9  1  0\\n  2 10  1  0\\n  3 11  1  0\\n  3 12  1  0\\nM  RAD  1   5   2\\nM  END\\n\",\"sdf\");\n\tviewer_16237915601531148.setStyle({\"stick\": {\"radius\": 0.2}, \"sphere\": {\"scale\": 0.25}});\n\tviewer_16237915601531148.addPropertyLabels(\"index\",\"\",{\"fontSize\": 15, \"fontColor\": \"white\", \"showBackground\": true, \"alignment\": \"center\", \"backgroundOpacity\": 0.2, \"backgroundColor\": \"black\"});\n\tviewer_16237915601531148.zoomTo();\nviewer_16237915601531148.render();\n});\n</script>",
      "text/html": [
       "<div id=\"3dmolviewer_16237915601531148\"  style=\"position: relative; width: 400px; height: 400px\">\n",
       "        <p id=\"3dmolwarning_16237915601531148\" style=\"background-color:#ffcccc;color:black\">You appear to be running in JupyterLab (or JavaScript failed to load for some other reason).  You need to install the 3dmol extension: <br>\n",
       "        <tt>jupyter labextension install jupyterlab_3dmol</tt></p>\n",
       "        </div>\n",
       "<script>\n",
       "\n",
       "var loadScriptAsync = function(uri){\n",
       "  return new Promise((resolve, reject) => {\n",
       "    var tag = document.createElement('script');\n",
       "    tag.src = uri;\n",
       "    tag.async = true;\n",
       "    tag.onload = () => {\n",
       "      resolve();\n",
       "    };\n",
       "  var firstScriptTag = document.getElementsByTagName('script')[0];\n",
       "  firstScriptTag.parentNode.insertBefore(tag, firstScriptTag);\n",
       "});\n",
       "};\n",
       "\n",
       "if(typeof $3Dmolpromise === 'undefined') {\n",
       "$3Dmolpromise = null;\n",
       "  $3Dmolpromise = loadScriptAsync('https://3dmol.csb.pitt.edu/build/3Dmol.js');\n",
       "}\n",
       "\n",
       "var viewer_16237915601531148 = null;\n",
       "var warn = document.getElementById(\"3dmolwarning_16237915601531148\");\n",
       "if(warn) {\n",
       "    warn.parentNode.removeChild(warn);\n",
       "}\n",
       "$3Dmolpromise.then(function() {\n",
       "viewer_16237915601531148 = $3Dmol.createViewer($(\"#3dmolviewer_16237915601531148\"),{backgroundColor:\"white\"});\n",
       "\tviewer_16237915601531148.addModel(\"\\n     RDKit          3D\\n\\n 12 11  0  0  0  0  0  0  0  0999 V2000\\n   -1.5426   -0.3102   -0.0613 C   0  0  0  0  0  0  0  0  0  0  0  0\\n   -0.1266   -0.6610    0.3586 C   0  0  0  0  0  0  0  0  0  1  0  0\\n    0.8060    0.5357    0.2579 C   0  0  0  0  0  0  0  0  0  2  0  0\\n    2.1090    0.1405    0.6635 O   0  0  0  0  0  0  0  0  0  3  0  0\\n    3.0104    1.2312    0.5835 O   0  0  0  0  0  1  0  0  0  4  0  0\\n   -2.1912   -1.1879    0.0208 H   0  0  0  0  0  0  0  0  0  5  0  0\\n   -1.5694    0.0361   -1.0994 H   0  0  0  0  0  0  0  0  0  6  0  0\\n   -1.9564    0.4786    0.5751 H   0  0  0  0  0  0  0  0  0  7  0  0\\n   -0.1268   -1.0419    1.3869 H   0  0  0  0  0  0  0  0  0  8  0  0\\n    0.2549   -1.4784   -0.2649 H   0  0  0  0  0  0  0  0  0  9  0  0\\n    0.8603    0.9068   -0.7704 H   0  0  0  0  0  0  0  0  0 10  0  0\\n    0.4724    1.3504    0.9083 H   0  0  0  0  0  0  0  0  0 11  0  0\\n  1  2  1  0\\n  2  3  1  0\\n  3  4  1  0\\n  4  5  1  0\\n  1  6  1  0\\n  1  7  1  0\\n  1  8  1  0\\n  2  9  1  0\\n  2 10  1  0\\n  3 11  1  0\\n  3 12  1  0\\nM  RAD  1   5   2\\nM  END\\n\",\"sdf\");\n",
       "\tviewer_16237915601531148.setStyle({\"stick\": {\"radius\": 0.2}, \"sphere\": {\"scale\": 0.25}});\n",
       "\tviewer_16237915601531148.addPropertyLabels(\"index\",\"\",{\"fontSize\": 15, \"fontColor\": \"white\", \"showBackground\": true, \"alignment\": \"center\", \"backgroundOpacity\": 0.2, \"backgroundColor\": \"black\"});\n",
       "\tviewer_16237915601531148.zoomTo();\n",
       "viewer_16237915601531148.render();\n",
       "});\n",
       "</script>"
      ]
     },
     "metadata": {},
     "output_type": "display_data"
    },
    {
     "data": {
      "text/plain": [
       "<py3Dmol.view at 0x7fa044ea92d0>"
      ]
     },
     "execution_count": 7,
     "metadata": {},
     "output_type": "execute_result"
    }
   ],
   "source": [
    "success = ff.optimize()\n",
    "print(f'Optimization success: {success}')\n",
    "opt_mol = ff.get_optimized_mol()\n",
    "mol_viewer(opt_mol.ToMolBlock(), 'sdf')"
   ]
  },
  {
   "cell_type": "markdown",
   "metadata": {},
   "source": [
    "## 2. Openbabel Force Field"
   ]
  },
  {
   "cell_type": "markdown",
   "metadata": {},
   "source": [
    "Create a Openbabel force field object"
   ]
  },
  {
   "cell_type": "code",
   "execution_count": 8,
   "metadata": {},
   "outputs": [
    {
     "name": "stdout",
     "output_type": "stream",
     "text": [
      "mmff94s\n"
     ]
    }
   ],
   "source": [
    "obff = OpenBabelFF('mmff94s')\n",
    "print(obff.type)"
   ]
  },
  {
   "cell_type": "markdown",
   "metadata": {},
   "source": [
    "Check optimizibility and make molecule optimizable"
   ]
  },
  {
   "cell_type": "code",
   "execution_count": 9,
   "metadata": {},
   "outputs": [
    {
     "name": "stdout",
     "output_type": "stream",
     "text": [
      "Optimizability of this molecule: True\n"
     ]
    }
   ],
   "source": [
    "opt_mol = mol1.Copy()\n",
    "obff.setup(opt_mol)\n",
    "print(f'Optimizability of this molecule: {obff.is_optimizable()}')"
   ]
  },
  {
   "cell_type": "code",
   "execution_count": 10,
   "metadata": {},
   "outputs": [
    {
     "data": {
      "application/3dmoljs_load.v0": "<div id=\"3dmolviewer_1623791573363044\"  style=\"position: relative; width: 400px; height: 400px\">\n        <p id=\"3dmolwarning_1623791573363044\" style=\"background-color:#ffcccc;color:black\">You appear to be running in JupyterLab (or JavaScript failed to load for some other reason).  You need to install the 3dmol extension: <br>\n        <tt>jupyter labextension install jupyterlab_3dmol</tt></p>\n        </div>\n<script>\n\nvar loadScriptAsync = function(uri){\n  return new Promise((resolve, reject) => {\n    var tag = document.createElement('script');\n    tag.src = uri;\n    tag.async = true;\n    tag.onload = () => {\n      resolve();\n    };\n  var firstScriptTag = document.getElementsByTagName('script')[0];\n  firstScriptTag.parentNode.insertBefore(tag, firstScriptTag);\n});\n};\n\nif(typeof $3Dmolpromise === 'undefined') {\n$3Dmolpromise = null;\n  $3Dmolpromise = loadScriptAsync('https://3dmol.csb.pitt.edu/build/3Dmol.js');\n}\n\nvar viewer_1623791573363044 = null;\nvar warn = document.getElementById(\"3dmolwarning_1623791573363044\");\nif(warn) {\n    warn.parentNode.removeChild(warn);\n}\n$3Dmolpromise.then(function() {\nviewer_1623791573363044 = $3Dmol.createViewer($(\"#3dmolviewer_1623791573363044\"),{backgroundColor:\"white\"});\n\tviewer_1623791573363044.addModel(\"\\n     RDKit          3D\\n\\n 12 11  0  0  0  0  0  0  0  0999 V2000\\n   -1.5380   -0.2957   -0.0673 C   0  0  0  0  0  0  0  0  0  0  0  0\\n   -0.1263   -0.6608    0.3533 C   0  0  0  0  0  0  0  0  0  1  0  0\\n    0.8192    0.5298    0.2643 C   0  0  0  0  0  0  0  0  0  2  0  0\\n    2.1215    0.1008    0.6509 O   0  0  0  0  0  0  0  0  0  3  0  0\\n    2.9301    1.2476    0.5704 O   0  0  0  0  0  1  0  0  0  4  0  0\\n   -2.2071   -1.1511    0.0666 H   0  0  0  0  0  0  0  0  0  5  0  0\\n   -1.5679   -0.0028   -1.1216 H   0  0  0  0  0  0  0  0  0  6  0  0\\n   -1.9252    0.5355    0.5312 H   0  0  0  0  0  0  0  0  0  7  0  0\\n   -0.1318   -1.0448    1.3807 H   0  0  0  0  0  0  0  0  0  8  0  0\\n    0.2489   -1.4798   -0.2719 H   0  0  0  0  0  0  0  0  0  9  0  0\\n    0.8539    0.9145   -0.7624 H   0  0  0  0  0  0  0  0  0 10  0  0\\n    0.4858    1.3301    0.9348 H   0  0  0  0  0  0  0  0  0 11  0  0\\n  1  2  1  0\\n  2  3  1  0\\n  3  4  1  0\\n  4  5  1  0\\n  1  6  1  0\\n  1  7  1  0\\n  1  8  1  0\\n  2  9  1  0\\n  2 10  1  0\\n  3 11  1  0\\n  3 12  1  0\\nM  RAD  1   5   2\\nM  END\\n\",\"sdf\");\n\tviewer_1623791573363044.setStyle({\"stick\": {\"radius\": 0.2}, \"sphere\": {\"scale\": 0.25}});\n\tviewer_1623791573363044.addPropertyLabels(\"index\",\"\",{\"fontSize\": 15, \"fontColor\": \"white\", \"showBackground\": true, \"alignment\": \"center\", \"backgroundOpacity\": 0.2, \"backgroundColor\": \"black\"});\n\tviewer_1623791573363044.zoomTo();\nviewer_1623791573363044.render();\n});\n</script>",
      "text/html": [
       "<div id=\"3dmolviewer_1623791573363044\"  style=\"position: relative; width: 400px; height: 400px\">\n",
       "        <p id=\"3dmolwarning_1623791573363044\" style=\"background-color:#ffcccc;color:black\">You appear to be running in JupyterLab (or JavaScript failed to load for some other reason).  You need to install the 3dmol extension: <br>\n",
       "        <tt>jupyter labextension install jupyterlab_3dmol</tt></p>\n",
       "        </div>\n",
       "<script>\n",
       "\n",
       "var loadScriptAsync = function(uri){\n",
       "  return new Promise((resolve, reject) => {\n",
       "    var tag = document.createElement('script');\n",
       "    tag.src = uri;\n",
       "    tag.async = true;\n",
       "    tag.onload = () => {\n",
       "      resolve();\n",
       "    };\n",
       "  var firstScriptTag = document.getElementsByTagName('script')[0];\n",
       "  firstScriptTag.parentNode.insertBefore(tag, firstScriptTag);\n",
       "});\n",
       "};\n",
       "\n",
       "if(typeof $3Dmolpromise === 'undefined') {\n",
       "$3Dmolpromise = null;\n",
       "  $3Dmolpromise = loadScriptAsync('https://3dmol.csb.pitt.edu/build/3Dmol.js');\n",
       "}\n",
       "\n",
       "var viewer_1623791573363044 = null;\n",
       "var warn = document.getElementById(\"3dmolwarning_1623791573363044\");\n",
       "if(warn) {\n",
       "    warn.parentNode.removeChild(warn);\n",
       "}\n",
       "$3Dmolpromise.then(function() {\n",
       "viewer_1623791573363044 = $3Dmol.createViewer($(\"#3dmolviewer_1623791573363044\"),{backgroundColor:\"white\"});\n",
       "\tviewer_1623791573363044.addModel(\"\\n     RDKit          3D\\n\\n 12 11  0  0  0  0  0  0  0  0999 V2000\\n   -1.5380   -0.2957   -0.0673 C   0  0  0  0  0  0  0  0  0  0  0  0\\n   -0.1263   -0.6608    0.3533 C   0  0  0  0  0  0  0  0  0  1  0  0\\n    0.8192    0.5298    0.2643 C   0  0  0  0  0  0  0  0  0  2  0  0\\n    2.1215    0.1008    0.6509 O   0  0  0  0  0  0  0  0  0  3  0  0\\n    2.9301    1.2476    0.5704 O   0  0  0  0  0  1  0  0  0  4  0  0\\n   -2.2071   -1.1511    0.0666 H   0  0  0  0  0  0  0  0  0  5  0  0\\n   -1.5679   -0.0028   -1.1216 H   0  0  0  0  0  0  0  0  0  6  0  0\\n   -1.9252    0.5355    0.5312 H   0  0  0  0  0  0  0  0  0  7  0  0\\n   -0.1318   -1.0448    1.3807 H   0  0  0  0  0  0  0  0  0  8  0  0\\n    0.2489   -1.4798   -0.2719 H   0  0  0  0  0  0  0  0  0  9  0  0\\n    0.8539    0.9145   -0.7624 H   0  0  0  0  0  0  0  0  0 10  0  0\\n    0.4858    1.3301    0.9348 H   0  0  0  0  0  0  0  0  0 11  0  0\\n  1  2  1  0\\n  2  3  1  0\\n  3  4  1  0\\n  4  5  1  0\\n  1  6  1  0\\n  1  7  1  0\\n  1  8  1  0\\n  2  9  1  0\\n  2 10  1  0\\n  3 11  1  0\\n  3 12  1  0\\nM  RAD  1   5   2\\nM  END\\n\",\"sdf\");\n",
       "\tviewer_1623791573363044.setStyle({\"stick\": {\"radius\": 0.2}, \"sphere\": {\"scale\": 0.25}});\n",
       "\tviewer_1623791573363044.addPropertyLabels(\"index\",\"\",{\"fontSize\": 15, \"fontColor\": \"white\", \"showBackground\": true, \"alignment\": \"center\", \"backgroundOpacity\": 0.2, \"backgroundColor\": \"black\"});\n",
       "\tviewer_1623791573363044.zoomTo();\n",
       "viewer_1623791573363044.render();\n",
       "});\n",
       "</script>"
      ]
     },
     "metadata": {},
     "output_type": "display_data"
    },
    {
     "data": {
      "text/plain": [
       "<py3Dmol.view at 0x7fa044ea9f90>"
      ]
     },
     "execution_count": 10,
     "metadata": {},
     "output_type": "execute_result"
    }
   ],
   "source": [
    "obff.optimize()\n",
    "opt_mol = obff.get_optimized_mol()\n",
    "mol_viewer(opt_mol.ToMolBlock(), 'sdf')"
   ]
  },
  {
   "cell_type": "markdown",
   "metadata": {},
   "source": [
    "## 3. Intermolecular optimization\n",
    "RDKitFF and OpenBabelFF may not converge to the same orientation due to being differently parametrized"
   ]
  },
  {
   "cell_type": "code",
   "execution_count": 11,
   "metadata": {},
   "outputs": [
    {
     "name": "stdout",
     "output_type": "stream",
     "text": [
      "Before optimization\n"
     ]
    },
    {
     "data": {
      "application/3dmoljs_load.v0": "<div id=\"3dmolviewer_16237915733983831\"  style=\"position: relative; width: 400px; height: 400px\">\n        <p id=\"3dmolwarning_16237915733983831\" style=\"background-color:#ffcccc;color:black\">You appear to be running in JupyterLab (or JavaScript failed to load for some other reason).  You need to install the 3dmol extension: <br>\n        <tt>jupyter labextension install jupyterlab_3dmol</tt></p>\n        </div>\n<script>\n\nvar loadScriptAsync = function(uri){\n  return new Promise((resolve, reject) => {\n    var tag = document.createElement('script');\n    tag.src = uri;\n    tag.async = true;\n    tag.onload = () => {\n      resolve();\n    };\n  var firstScriptTag = document.getElementsByTagName('script')[0];\n  firstScriptTag.parentNode.insertBefore(tag, firstScriptTag);\n});\n};\n\nif(typeof $3Dmolpromise === 'undefined') {\n$3Dmolpromise = null;\n  $3Dmolpromise = loadScriptAsync('https://3dmol.csb.pitt.edu/build/3Dmol.js');\n}\n\nvar viewer_16237915733983831 = null;\nvar warn = document.getElementById(\"3dmolwarning_16237915733983831\");\nif(warn) {\n    warn.parentNode.removeChild(warn);\n}\n$3Dmolpromise.then(function() {\nviewer_16237915733983831 = $3Dmol.createViewer($(\"#3dmolviewer_16237915733983831\"),{backgroundColor:\"white\"});\n\tviewer_16237915733983831.addModel(\"\\n     RDKit          3D\\n\\n  8  6  0  0  0  0  0  0  0  0999 V2000\\n   -0.0320    0.0136    0.0023 C   0  0  0  0  0  0  0  0  0  0  0  0\\n    1.1818   -0.0860   -0.0775 O   0  0  0  0  0  0  0  0  0  1  0  0\\n   -0.0259   -0.0051   -0.0044 C   0  0  0  0  0  0  0  0  0  2  0  0\\n    1.1805   -0.0144    0.1675 O   0  0  0  0  0  0  0  0  0  3  0  0\\n   -0.6198   -0.8938    0.0277 H   0  0  0  0  0  0  0  0  0  4  0  0\\n   -0.5300    0.9662    0.0475 H   0  0  0  0  0  0  0  0  0  5  0  0\\n   -0.5720    0.9234    0.0399 H   0  0  0  0  0  0  0  0  0  6  0  0\\n   -0.5826   -0.9038   -0.2030 H   0  0  0  0  0  0  0  0  0  7  0  0\\n  1  2  2  0\\n  3  4  2  0\\n  1  5  1  0\\n  1  6  1  0\\n  3  7  1  0\\n  3  8  1  0\\nM  END\\n\",\"sdf\");\n\tviewer_16237915733983831.setStyle({\"stick\": {\"radius\": 0.2}, \"sphere\": {\"scale\": 0.25}});\n\tviewer_16237915733983831.addPropertyLabels(\"index\",\"\",{\"fontSize\": 15, \"fontColor\": \"white\", \"showBackground\": true, \"alignment\": \"center\", \"backgroundOpacity\": 0.2, \"backgroundColor\": \"black\"});\n\tviewer_16237915733983831.zoomTo();\nviewer_16237915733983831.render();\n});\n</script>",
      "text/html": [
       "<div id=\"3dmolviewer_16237915733983831\"  style=\"position: relative; width: 400px; height: 400px\">\n",
       "        <p id=\"3dmolwarning_16237915733983831\" style=\"background-color:#ffcccc;color:black\">You appear to be running in JupyterLab (or JavaScript failed to load for some other reason).  You need to install the 3dmol extension: <br>\n",
       "        <tt>jupyter labextension install jupyterlab_3dmol</tt></p>\n",
       "        </div>\n",
       "<script>\n",
       "\n",
       "var loadScriptAsync = function(uri){\n",
       "  return new Promise((resolve, reject) => {\n",
       "    var tag = document.createElement('script');\n",
       "    tag.src = uri;\n",
       "    tag.async = true;\n",
       "    tag.onload = () => {\n",
       "      resolve();\n",
       "    };\n",
       "  var firstScriptTag = document.getElementsByTagName('script')[0];\n",
       "  firstScriptTag.parentNode.insertBefore(tag, firstScriptTag);\n",
       "});\n",
       "};\n",
       "\n",
       "if(typeof $3Dmolpromise === 'undefined') {\n",
       "$3Dmolpromise = null;\n",
       "  $3Dmolpromise = loadScriptAsync('https://3dmol.csb.pitt.edu/build/3Dmol.js');\n",
       "}\n",
       "\n",
       "var viewer_16237915733983831 = null;\n",
       "var warn = document.getElementById(\"3dmolwarning_16237915733983831\");\n",
       "if(warn) {\n",
       "    warn.parentNode.removeChild(warn);\n",
       "}\n",
       "$3Dmolpromise.then(function() {\n",
       "viewer_16237915733983831 = $3Dmol.createViewer($(\"#3dmolviewer_16237915733983831\"),{backgroundColor:\"white\"});\n",
       "\tviewer_16237915733983831.addModel(\"\\n     RDKit          3D\\n\\n  8  6  0  0  0  0  0  0  0  0999 V2000\\n   -0.0320    0.0136    0.0023 C   0  0  0  0  0  0  0  0  0  0  0  0\\n    1.1818   -0.0860   -0.0775 O   0  0  0  0  0  0  0  0  0  1  0  0\\n   -0.0259   -0.0051   -0.0044 C   0  0  0  0  0  0  0  0  0  2  0  0\\n    1.1805   -0.0144    0.1675 O   0  0  0  0  0  0  0  0  0  3  0  0\\n   -0.6198   -0.8938    0.0277 H   0  0  0  0  0  0  0  0  0  4  0  0\\n   -0.5300    0.9662    0.0475 H   0  0  0  0  0  0  0  0  0  5  0  0\\n   -0.5720    0.9234    0.0399 H   0  0  0  0  0  0  0  0  0  6  0  0\\n   -0.5826   -0.9038   -0.2030 H   0  0  0  0  0  0  0  0  0  7  0  0\\n  1  2  2  0\\n  3  4  2  0\\n  1  5  1  0\\n  1  6  1  0\\n  3  7  1  0\\n  3  8  1  0\\nM  END\\n\",\"sdf\");\n",
       "\tviewer_16237915733983831.setStyle({\"stick\": {\"radius\": 0.2}, \"sphere\": {\"scale\": 0.25}});\n",
       "\tviewer_16237915733983831.addPropertyLabels(\"index\",\"\",{\"fontSize\": 15, \"fontColor\": \"white\", \"showBackground\": true, \"alignment\": \"center\", \"backgroundOpacity\": 0.2, \"backgroundColor\": \"black\"});\n",
       "\tviewer_16237915733983831.zoomTo();\n",
       "viewer_16237915733983831.render();\n",
       "});\n",
       "</script>"
      ]
     },
     "metadata": {},
     "output_type": "display_data"
    },
    {
     "data": {
      "text/plain": [
       "<py3Dmol.view at 0x7fa045921a50>"
      ]
     },
     "execution_count": 11,
     "metadata": {},
     "output_type": "execute_result"
    }
   ],
   "source": [
    "mol2 = RDKitMol.FromSmiles('C=O.C=O')\n",
    "mol2.EmbedConformer()\n",
    "\n",
    "print('Before optimization')\n",
    "mol_viewer(mol2.ToMolBlock(), 'sdf')"
   ]
  },
  {
   "cell_type": "markdown",
   "metadata": {},
   "source": [
    "RDKitFF"
   ]
  },
  {
   "cell_type": "code",
   "execution_count": 12,
   "metadata": {},
   "outputs": [
    {
     "data": {
      "application/3dmoljs_load.v0": "<div id=\"3dmolviewer_1623791573476796\"  style=\"position: relative; width: 400px; height: 400px\">\n        <p id=\"3dmolwarning_1623791573476796\" style=\"background-color:#ffcccc;color:black\">You appear to be running in JupyterLab (or JavaScript failed to load for some other reason).  You need to install the 3dmol extension: <br>\n        <tt>jupyter labextension install jupyterlab_3dmol</tt></p>\n        </div>\n<script>\n\nvar loadScriptAsync = function(uri){\n  return new Promise((resolve, reject) => {\n    var tag = document.createElement('script');\n    tag.src = uri;\n    tag.async = true;\n    tag.onload = () => {\n      resolve();\n    };\n  var firstScriptTag = document.getElementsByTagName('script')[0];\n  firstScriptTag.parentNode.insertBefore(tag, firstScriptTag);\n});\n};\n\nif(typeof $3Dmolpromise === 'undefined') {\n$3Dmolpromise = null;\n  $3Dmolpromise = loadScriptAsync('https://3dmol.csb.pitt.edu/build/3Dmol.js');\n}\n\nvar viewer_1623791573476796 = null;\nvar warn = document.getElementById(\"3dmolwarning_1623791573476796\");\nif(warn) {\n    warn.parentNode.removeChild(warn);\n}\n$3Dmolpromise.then(function() {\nviewer_1623791573476796 = $3Dmol.createViewer($(\"#3dmolviewer_1623791573476796\"),{backgroundColor:\"white\"});\n\tviewer_1623791573476796.addModel(\"\\n     RDKit          3D\\n\\n  8  6  0  0  0  0  0  0  0  0999 V2000\\n   -0.3555    1.6205    0.1154 C   0  0  0  0  0  0  0  0  0  0  0  0\\n   -0.6611    1.1893   -0.9916 O   0  0  0  0  0  0  0  0  0  1  0  0\\n    0.3552   -1.6206   -0.1153 C   0  0  0  0  0  0  0  0  0  2  0  0\\n    0.6112   -1.1998    1.0082 O   0  0  0  0  0  0  0  0  0  3  0  0\\n   -0.9275    1.3685    1.0229 H   0  0  0  0  0  0  0  0  0  4  0  0\\n    0.5132    2.2801    0.2700 H   0  0  0  0  0  0  0  0  0  5  0  0\\n   -0.6791   -1.7563   -0.4706 H   0  0  0  0  0  0  0  0  0  6  0  0\\n    1.1436   -1.8816   -0.8390 H   0  0  0  0  0  0  0  0  0  7  0  0\\n  1  2  2  0\\n  3  4  2  0\\n  1  5  1  0\\n  1  6  1  0\\n  3  7  1  0\\n  3  8  1  0\\nM  END\\n\",\"sdf\");\n\tviewer_1623791573476796.setStyle({\"stick\": {\"radius\": 0.2}, \"sphere\": {\"scale\": 0.25}});\n\tviewer_1623791573476796.addPropertyLabels(\"index\",\"\",{\"fontSize\": 15, \"fontColor\": \"white\", \"showBackground\": true, \"alignment\": \"center\", \"backgroundOpacity\": 0.2, \"backgroundColor\": \"black\"});\n\tviewer_1623791573476796.zoomTo();\nviewer_1623791573476796.render();\n});\n</script>",
      "text/html": [
       "<div id=\"3dmolviewer_1623791573476796\"  style=\"position: relative; width: 400px; height: 400px\">\n",
       "        <p id=\"3dmolwarning_1623791573476796\" style=\"background-color:#ffcccc;color:black\">You appear to be running in JupyterLab (or JavaScript failed to load for some other reason).  You need to install the 3dmol extension: <br>\n",
       "        <tt>jupyter labextension install jupyterlab_3dmol</tt></p>\n",
       "        </div>\n",
       "<script>\n",
       "\n",
       "var loadScriptAsync = function(uri){\n",
       "  return new Promise((resolve, reject) => {\n",
       "    var tag = document.createElement('script');\n",
       "    tag.src = uri;\n",
       "    tag.async = true;\n",
       "    tag.onload = () => {\n",
       "      resolve();\n",
       "    };\n",
       "  var firstScriptTag = document.getElementsByTagName('script')[0];\n",
       "  firstScriptTag.parentNode.insertBefore(tag, firstScriptTag);\n",
       "});\n",
       "};\n",
       "\n",
       "if(typeof $3Dmolpromise === 'undefined') {\n",
       "$3Dmolpromise = null;\n",
       "  $3Dmolpromise = loadScriptAsync('https://3dmol.csb.pitt.edu/build/3Dmol.js');\n",
       "}\n",
       "\n",
       "var viewer_1623791573476796 = null;\n",
       "var warn = document.getElementById(\"3dmolwarning_1623791573476796\");\n",
       "if(warn) {\n",
       "    warn.parentNode.removeChild(warn);\n",
       "}\n",
       "$3Dmolpromise.then(function() {\n",
       "viewer_1623791573476796 = $3Dmol.createViewer($(\"#3dmolviewer_1623791573476796\"),{backgroundColor:\"white\"});\n",
       "\tviewer_1623791573476796.addModel(\"\\n     RDKit          3D\\n\\n  8  6  0  0  0  0  0  0  0  0999 V2000\\n   -0.3555    1.6205    0.1154 C   0  0  0  0  0  0  0  0  0  0  0  0\\n   -0.6611    1.1893   -0.9916 O   0  0  0  0  0  0  0  0  0  1  0  0\\n    0.3552   -1.6206   -0.1153 C   0  0  0  0  0  0  0  0  0  2  0  0\\n    0.6112   -1.1998    1.0082 O   0  0  0  0  0  0  0  0  0  3  0  0\\n   -0.9275    1.3685    1.0229 H   0  0  0  0  0  0  0  0  0  4  0  0\\n    0.5132    2.2801    0.2700 H   0  0  0  0  0  0  0  0  0  5  0  0\\n   -0.6791   -1.7563   -0.4706 H   0  0  0  0  0  0  0  0  0  6  0  0\\n    1.1436   -1.8816   -0.8390 H   0  0  0  0  0  0  0  0  0  7  0  0\\n  1  2  2  0\\n  3  4  2  0\\n  1  5  1  0\\n  1  6  1  0\\n  3  7  1  0\\n  3  8  1  0\\nM  END\\n\",\"sdf\");\n",
       "\tviewer_1623791573476796.setStyle({\"stick\": {\"radius\": 0.2}, \"sphere\": {\"scale\": 0.25}});\n",
       "\tviewer_1623791573476796.addPropertyLabels(\"index\",\"\",{\"fontSize\": 15, \"fontColor\": \"white\", \"showBackground\": true, \"alignment\": \"center\", \"backgroundOpacity\": 0.2, \"backgroundColor\": \"black\"});\n",
       "\tviewer_1623791573476796.zoomTo();\n",
       "viewer_1623791573476796.render();\n",
       "});\n",
       "</script>"
      ]
     },
     "metadata": {},
     "output_type": "display_data"
    },
    {
     "data": {
      "text/plain": [
       "<py3Dmol.view at 0x7fa044e94850>"
      ]
     },
     "execution_count": 12,
     "metadata": {},
     "output_type": "execute_result"
    }
   ],
   "source": [
    "ff = RDKitFF()\n",
    "ff.setup(mol2.Copy(), ignore_interfrag_interactions=False)\n",
    "ff.optimize()\n",
    "mol_viewer(ff.get_optimized_mol().ToMolBlock(), 'sdf')"
   ]
  },
  {
   "cell_type": "markdown",
   "metadata": {},
   "source": [
    "OpenBabelFF"
   ]
  },
  {
   "cell_type": "code",
   "execution_count": 13,
   "metadata": {},
   "outputs": [
    {
     "data": {
      "application/3dmoljs_load.v0": "<div id=\"3dmolviewer_16237915735229921\"  style=\"position: relative; width: 400px; height: 400px\">\n        <p id=\"3dmolwarning_16237915735229921\" style=\"background-color:#ffcccc;color:black\">You appear to be running in JupyterLab (or JavaScript failed to load for some other reason).  You need to install the 3dmol extension: <br>\n        <tt>jupyter labextension install jupyterlab_3dmol</tt></p>\n        </div>\n<script>\n\nvar loadScriptAsync = function(uri){\n  return new Promise((resolve, reject) => {\n    var tag = document.createElement('script');\n    tag.src = uri;\n    tag.async = true;\n    tag.onload = () => {\n      resolve();\n    };\n  var firstScriptTag = document.getElementsByTagName('script')[0];\n  firstScriptTag.parentNode.insertBefore(tag, firstScriptTag);\n});\n};\n\nif(typeof $3Dmolpromise === 'undefined') {\n$3Dmolpromise = null;\n  $3Dmolpromise = loadScriptAsync('https://3dmol.csb.pitt.edu/build/3Dmol.js');\n}\n\nvar viewer_16237915735229921 = null;\nvar warn = document.getElementById(\"3dmolwarning_16237915735229921\");\nif(warn) {\n    warn.parentNode.removeChild(warn);\n}\n$3Dmolpromise.then(function() {\nviewer_16237915735229921 = $3Dmol.createViewer($(\"#3dmolviewer_16237915735229921\"),{backgroundColor:\"white\"});\n\tviewer_16237915735229921.addModel(\"\\n     RDKit          3D\\n\\n  8  6  0  0  0  0  0  0  0  0999 V2000\\n   -0.2067    1.5825    0.1431 C   0  0  0  0  0  0  0  0  0  0  0  0\\n   -0.2424    1.0112   -0.9415 O   0  0  0  0  0  0  0  0  0  1  0  0\\n    0.1744   -1.8216   -0.0780 C   0  0  0  0  0  0  0  0  0  2  0  0\\n    0.6955   -1.7537    1.0313 O   0  0  0  0  0  0  0  0  0  3  0  0\\n   -0.2328    1.0323    1.0977 H   0  0  0  0  0  0  0  0  0  4  0  0\\n   -0.1553    2.6798    0.2287 H   0  0  0  0  0  0  0  0  0  5  0  0\\n   -0.9167   -1.7913   -0.2134 H   0  0  0  0  0  0  0  0  0  6  0  0\\n    0.7649   -1.9021   -1.0057 H   0  0  0  0  0  0  0  0  0  7  0  0\\n  1  2  2  0\\n  3  4  2  0\\n  1  5  1  0\\n  1  6  1  0\\n  3  7  1  0\\n  3  8  1  0\\nM  END\\n\",\"sdf\");\n\tviewer_16237915735229921.setStyle({\"stick\": {\"radius\": 0.2}, \"sphere\": {\"scale\": 0.25}});\n\tviewer_16237915735229921.addPropertyLabels(\"index\",\"\",{\"fontSize\": 15, \"fontColor\": \"white\", \"showBackground\": true, \"alignment\": \"center\", \"backgroundOpacity\": 0.2, \"backgroundColor\": \"black\"});\n\tviewer_16237915735229921.zoomTo();\nviewer_16237915735229921.render();\n});\n</script>",
      "text/html": [
       "<div id=\"3dmolviewer_16237915735229921\"  style=\"position: relative; width: 400px; height: 400px\">\n",
       "        <p id=\"3dmolwarning_16237915735229921\" style=\"background-color:#ffcccc;color:black\">You appear to be running in JupyterLab (or JavaScript failed to load for some other reason).  You need to install the 3dmol extension: <br>\n",
       "        <tt>jupyter labextension install jupyterlab_3dmol</tt></p>\n",
       "        </div>\n",
       "<script>\n",
       "\n",
       "var loadScriptAsync = function(uri){\n",
       "  return new Promise((resolve, reject) => {\n",
       "    var tag = document.createElement('script');\n",
       "    tag.src = uri;\n",
       "    tag.async = true;\n",
       "    tag.onload = () => {\n",
       "      resolve();\n",
       "    };\n",
       "  var firstScriptTag = document.getElementsByTagName('script')[0];\n",
       "  firstScriptTag.parentNode.insertBefore(tag, firstScriptTag);\n",
       "});\n",
       "};\n",
       "\n",
       "if(typeof $3Dmolpromise === 'undefined') {\n",
       "$3Dmolpromise = null;\n",
       "  $3Dmolpromise = loadScriptAsync('https://3dmol.csb.pitt.edu/build/3Dmol.js');\n",
       "}\n",
       "\n",
       "var viewer_16237915735229921 = null;\n",
       "var warn = document.getElementById(\"3dmolwarning_16237915735229921\");\n",
       "if(warn) {\n",
       "    warn.parentNode.removeChild(warn);\n",
       "}\n",
       "$3Dmolpromise.then(function() {\n",
       "viewer_16237915735229921 = $3Dmol.createViewer($(\"#3dmolviewer_16237915735229921\"),{backgroundColor:\"white\"});\n",
       "\tviewer_16237915735229921.addModel(\"\\n     RDKit          3D\\n\\n  8  6  0  0  0  0  0  0  0  0999 V2000\\n   -0.2067    1.5825    0.1431 C   0  0  0  0  0  0  0  0  0  0  0  0\\n   -0.2424    1.0112   -0.9415 O   0  0  0  0  0  0  0  0  0  1  0  0\\n    0.1744   -1.8216   -0.0780 C   0  0  0  0  0  0  0  0  0  2  0  0\\n    0.6955   -1.7537    1.0313 O   0  0  0  0  0  0  0  0  0  3  0  0\\n   -0.2328    1.0323    1.0977 H   0  0  0  0  0  0  0  0  0  4  0  0\\n   -0.1553    2.6798    0.2287 H   0  0  0  0  0  0  0  0  0  5  0  0\\n   -0.9167   -1.7913   -0.2134 H   0  0  0  0  0  0  0  0  0  6  0  0\\n    0.7649   -1.9021   -1.0057 H   0  0  0  0  0  0  0  0  0  7  0  0\\n  1  2  2  0\\n  3  4  2  0\\n  1  5  1  0\\n  1  6  1  0\\n  3  7  1  0\\n  3  8  1  0\\nM  END\\n\",\"sdf\");\n",
       "\tviewer_16237915735229921.setStyle({\"stick\": {\"radius\": 0.2}, \"sphere\": {\"scale\": 0.25}});\n",
       "\tviewer_16237915735229921.addPropertyLabels(\"index\",\"\",{\"fontSize\": 15, \"fontColor\": \"white\", \"showBackground\": true, \"alignment\": \"center\", \"backgroundOpacity\": 0.2, \"backgroundColor\": \"black\"});\n",
       "\tviewer_16237915735229921.zoomTo();\n",
       "viewer_16237915735229921.render();\n",
       "});\n",
       "</script>"
      ]
     },
     "metadata": {},
     "output_type": "display_data"
    },
    {
     "data": {
      "text/plain": [
       "<py3Dmol.view at 0x7fa041fc5590>"
      ]
     },
     "execution_count": 13,
     "metadata": {},
     "output_type": "execute_result"
    }
   ],
   "source": [
    "ff = OpenBabelFF()\n",
    "ff.setup(mol2.Copy())\n",
    "ff.optimize()\n",
    "mol_viewer(ff.get_optimized_mol().ToMolBlock(), 'sdf')"
   ]
  },
  {
   "cell_type": "markdown",
   "metadata": {},
   "source": [
    "## 4. Constrained optimization"
   ]
  },
  {
   "cell_type": "markdown",
   "metadata": {},
   "source": [
    "Set atom (1, 2) and (0, 3) = 2 Angstrom"
   ]
  },
  {
   "cell_type": "code",
   "execution_count": 14,
   "metadata": {},
   "outputs": [
    {
     "name": "stdout",
     "output_type": "stream",
     "text": [
      "Before optimization\n",
      "d(1,2) = 3.091533633597571\n",
      "d(0,3) = 5.54344245067431\n",
      "\n"
     ]
    },
    {
     "data": {
      "application/3dmoljs_load.v0": "<div id=\"3dmolviewer_1623791573558759\"  style=\"position: relative; width: 400px; height: 400px\">\n        <p id=\"3dmolwarning_1623791573558759\" style=\"background-color:#ffcccc;color:black\">You appear to be running in JupyterLab (or JavaScript failed to load for some other reason).  You need to install the 3dmol extension: <br>\n        <tt>jupyter labextension install jupyterlab_3dmol</tt></p>\n        </div>\n<script>\n\nvar loadScriptAsync = function(uri){\n  return new Promise((resolve, reject) => {\n    var tag = document.createElement('script');\n    tag.src = uri;\n    tag.async = true;\n    tag.onload = () => {\n      resolve();\n    };\n  var firstScriptTag = document.getElementsByTagName('script')[0];\n  firstScriptTag.parentNode.insertBefore(tag, firstScriptTag);\n});\n};\n\nif(typeof $3Dmolpromise === 'undefined') {\n$3Dmolpromise = null;\n  $3Dmolpromise = loadScriptAsync('https://3dmol.csb.pitt.edu/build/3Dmol.js');\n}\n\nvar viewer_1623791573558759 = null;\nvar warn = document.getElementById(\"3dmolwarning_1623791573558759\");\nif(warn) {\n    warn.parentNode.removeChild(warn);\n}\n$3Dmolpromise.then(function() {\nviewer_1623791573558759 = $3Dmol.createViewer($(\"#3dmolviewer_1623791573558759\"),{backgroundColor:\"white\"});\n\tviewer_1623791573558759.addModel(\"\\n     RDKit          3D\\n\\n  8  6  0  0  0  0  0  0  0  0999 V2000\\n    2.1642    0.1807    0.0054 C   0  0  0  0  0  0  0  0  0  0  0  0\\n    0.9426    0.0787    0.0023 O   0  0  0  0  0  0  0  0  0  1  0  0\\n   -2.1382   -0.1785   -0.0053 C   0  0  0  0  0  0  0  0  0  2  0  0\\n   -3.3600   -0.2805   -0.0084 O   0  0  0  0  0  0  0  0  0  3  0  0\\n    2.8265   -0.6920    0.1238 H   0  0  0  0  0  0  0  0  0  4  0  0\\n    2.6732    1.1511   -0.1101 H   0  0  0  0  0  0  0  0  0  5  0  0\\n   -1.5187   -0.5296   -0.8456 H   0  0  0  0  0  0  0  0  0  6  0  0\\n   -1.5896    0.2701    0.8379 H   0  0  0  0  0  0  0  0  0  7  0  0\\n  7  3  1  0\\n  6  1  1  0\\n  4  3  2  0\\n  3  8  1  0\\n  2  1  2  0\\n  1  5  1  0\\nM  END\\n\",\"sdf\");\n\tviewer_1623791573558759.setStyle({\"stick\": {\"radius\": 0.2}, \"sphere\": {\"scale\": 0.25}});\n\tviewer_1623791573558759.addPropertyLabels(\"index\",\"\",{\"fontSize\": 15, \"fontColor\": \"white\", \"showBackground\": true, \"alignment\": \"center\", \"backgroundOpacity\": 0.2, \"backgroundColor\": \"black\"});\n\tviewer_1623791573558759.zoomTo();\n\tviewer_1623791573558759.render();\nviewer_1623791573558759.render();\n});\n</script>",
      "text/html": [
       "<div id=\"3dmolviewer_1623791573558759\"  style=\"position: relative; width: 400px; height: 400px\">\n",
       "        <p id=\"3dmolwarning_1623791573558759\" style=\"background-color:#ffcccc;color:black\">You appear to be running in JupyterLab (or JavaScript failed to load for some other reason).  You need to install the 3dmol extension: <br>\n",
       "        <tt>jupyter labextension install jupyterlab_3dmol</tt></p>\n",
       "        </div>\n",
       "<script>\n",
       "\n",
       "var loadScriptAsync = function(uri){\n",
       "  return new Promise((resolve, reject) => {\n",
       "    var tag = document.createElement('script');\n",
       "    tag.src = uri;\n",
       "    tag.async = true;\n",
       "    tag.onload = () => {\n",
       "      resolve();\n",
       "    };\n",
       "  var firstScriptTag = document.getElementsByTagName('script')[0];\n",
       "  firstScriptTag.parentNode.insertBefore(tag, firstScriptTag);\n",
       "});\n",
       "};\n",
       "\n",
       "if(typeof $3Dmolpromise === 'undefined') {\n",
       "$3Dmolpromise = null;\n",
       "  $3Dmolpromise = loadScriptAsync('https://3dmol.csb.pitt.edu/build/3Dmol.js');\n",
       "}\n",
       "\n",
       "var viewer_1623791573558759 = null;\n",
       "var warn = document.getElementById(\"3dmolwarning_1623791573558759\");\n",
       "if(warn) {\n",
       "    warn.parentNode.removeChild(warn);\n",
       "}\n",
       "$3Dmolpromise.then(function() {\n",
       "viewer_1623791573558759 = $3Dmol.createViewer($(\"#3dmolviewer_1623791573558759\"),{backgroundColor:\"white\"});\n",
       "\tviewer_1623791573558759.addModel(\"\\n     RDKit          3D\\n\\n  8  6  0  0  0  0  0  0  0  0999 V2000\\n    2.1642    0.1807    0.0054 C   0  0  0  0  0  0  0  0  0  0  0  0\\n    0.9426    0.0787    0.0023 O   0  0  0  0  0  0  0  0  0  1  0  0\\n   -2.1382   -0.1785   -0.0053 C   0  0  0  0  0  0  0  0  0  2  0  0\\n   -3.3600   -0.2805   -0.0084 O   0  0  0  0  0  0  0  0  0  3  0  0\\n    2.8265   -0.6920    0.1238 H   0  0  0  0  0  0  0  0  0  4  0  0\\n    2.6732    1.1511   -0.1101 H   0  0  0  0  0  0  0  0  0  5  0  0\\n   -1.5187   -0.5296   -0.8456 H   0  0  0  0  0  0  0  0  0  6  0  0\\n   -1.5896    0.2701    0.8379 H   0  0  0  0  0  0  0  0  0  7  0  0\\n  7  3  1  0\\n  6  1  1  0\\n  4  3  2  0\\n  3  8  1  0\\n  2  1  2  0\\n  1  5  1  0\\nM  END\\n\",\"sdf\");\n",
       "\tviewer_1623791573558759.setStyle({\"stick\": {\"radius\": 0.2}, \"sphere\": {\"scale\": 0.25}});\n",
       "\tviewer_1623791573558759.addPropertyLabels(\"index\",\"\",{\"fontSize\": 15, \"fontColor\": \"white\", \"showBackground\": true, \"alignment\": \"center\", \"backgroundOpacity\": 0.2, \"backgroundColor\": \"black\"});\n",
       "\tviewer_1623791573558759.zoomTo();\n",
       "\tviewer_1623791573558759.render();\n",
       "viewer_1623791573558759.render();\n",
       "});\n",
       "</script>"
      ]
     },
     "metadata": {},
     "output_type": "display_data"
    },
    {
     "data": {
      "text/plain": [
       "<py3Dmol.view at 0x7fa04592d1d0>"
      ]
     },
     "execution_count": 14,
     "metadata": {},
     "output_type": "execute_result"
    }
   ],
   "source": [
    "xyz = \"\"\"C      2.164196    0.180658    0.005381\n",
    "O      0.942631    0.078687    0.002344\n",
    "C     -2.138178   -0.178485   -0.005316\n",
    "O     -3.360016   -0.280479   -0.008354\n",
    "H      2.826486   -0.691971    0.123773\n",
    "H      2.673219    1.151062   -0.110098\n",
    "H     -1.518697   -0.529599   -0.845624\n",
    "H     -1.589641    0.270129    0.837895\"\"\"\n",
    "\n",
    "mol3 = RDKitMol.FromXYZ(xyz, header=False)\n",
    "\n",
    "print('Before optimization')\n",
    "print(f'd(1,2) = {mol3.GetConformer().GetBondLength([1,2])}\\n'\n",
    "      f'd(0,3) = {mol3.GetConformer().GetBondLength([0,3])}\\n')\n",
    "mol_viewer(mol3.ToMolBlock(), 'sdf').render()"
   ]
  },
  {
   "cell_type": "code",
   "execution_count": 23,
   "metadata": {},
   "outputs": [
    {
     "name": "stdout",
     "output_type": "stream",
     "text": [
      "d(1,2) = 2.0010771280704605\n",
      "d(0,3) = 2.001077173417188\n",
      "\n"
     ]
    },
    {
     "data": {
      "application/3dmoljs_load.v0": "<div id=\"3dmolviewer_16237993334238698\"  style=\"position: relative; width: 400px; height: 400px\">\n        <p id=\"3dmolwarning_16237993334238698\" style=\"background-color:#ffcccc;color:black\">You appear to be running in JupyterLab (or JavaScript failed to load for some other reason).  You need to install the 3dmol extension: <br>\n        <tt>jupyter labextension install jupyterlab_3dmol</tt></p>\n        </div>\n<script>\n\nvar loadScriptAsync = function(uri){\n  return new Promise((resolve, reject) => {\n    var tag = document.createElement('script');\n    tag.src = uri;\n    tag.async = true;\n    tag.onload = () => {\n      resolve();\n    };\n  var firstScriptTag = document.getElementsByTagName('script')[0];\n  firstScriptTag.parentNode.insertBefore(tag, firstScriptTag);\n});\n};\n\nif(typeof $3Dmolpromise === 'undefined') {\n$3Dmolpromise = null;\n  $3Dmolpromise = loadScriptAsync('https://3dmol.csb.pitt.edu/build/3Dmol.js');\n}\n\nvar viewer_16237993334238698 = null;\nvar warn = document.getElementById(\"3dmolwarning_16237993334238698\");\nif(warn) {\n    warn.parentNode.removeChild(warn);\n}\n$3Dmolpromise.then(function() {\nviewer_16237993334238698 = $3Dmol.createViewer($(\"#3dmolviewer_16237993334238698\"),{backgroundColor:\"white\"});\n\tviewer_16237993334238698.addModel(\"\\n     RDKit          3D\\n\\n  8  6  0  0  0  0  0  0  0  0999 V2000\\n    1.2090    0.2125    0.0671 C   0  0  0  0  0  0  0  0  0  0  0  0\\n    0.3220    0.8790    0.6176 O   0  0  0  0  0  0  0  0  0  1  0  0\\n   -1.2090   -0.2125   -0.0672 C   0  0  0  0  0  0  0  0  0  2  0  0\\n   -0.3221   -0.8786   -0.6182 O   0  0  0  0  0  0  0  0  0  3  0  0\\n    1.7138   -0.6279    0.5776 H   0  0  0  0  0  0  0  0  0  4  0  0\\n    1.6047    0.4731   -0.9314 H   0  0  0  0  0  0  0  0  0  5  0  0\\n   -1.7144    0.6278   -0.5771 H   0  0  0  0  0  0  0  0  0  6  0  0\\n   -1.6041   -0.4735    0.9316 H   0  0  0  0  0  0  0  0  0  7  0  0\\n  7  3  1  0\\n  6  1  1  0\\n  4  3  2  0\\n  3  8  1  0\\n  2  1  2  0\\n  1  5  1  0\\nM  END\\n\",\"sdf\");\n\tviewer_16237993334238698.setStyle({\"stick\": {\"radius\": 0.2}, \"sphere\": {\"scale\": 0.25}});\n\tviewer_16237993334238698.addPropertyLabels(\"index\",\"\",{\"fontSize\": 15, \"fontColor\": \"white\", \"showBackground\": true, \"alignment\": \"center\", \"backgroundOpacity\": 0.2, \"backgroundColor\": \"black\"});\n\tviewer_16237993334238698.zoomTo();\n\tviewer_16237993334238698.render();\nviewer_16237993334238698.render();\n});\n</script>",
      "text/html": [
       "<div id=\"3dmolviewer_16237993334238698\"  style=\"position: relative; width: 400px; height: 400px\">\n",
       "        <p id=\"3dmolwarning_16237993334238698\" style=\"background-color:#ffcccc;color:black\">You appear to be running in JupyterLab (or JavaScript failed to load for some other reason).  You need to install the 3dmol extension: <br>\n",
       "        <tt>jupyter labextension install jupyterlab_3dmol</tt></p>\n",
       "        </div>\n",
       "<script>\n",
       "\n",
       "var loadScriptAsync = function(uri){\n",
       "  return new Promise((resolve, reject) => {\n",
       "    var tag = document.createElement('script');\n",
       "    tag.src = uri;\n",
       "    tag.async = true;\n",
       "    tag.onload = () => {\n",
       "      resolve();\n",
       "    };\n",
       "  var firstScriptTag = document.getElementsByTagName('script')[0];\n",
       "  firstScriptTag.parentNode.insertBefore(tag, firstScriptTag);\n",
       "});\n",
       "};\n",
       "\n",
       "if(typeof $3Dmolpromise === 'undefined') {\n",
       "$3Dmolpromise = null;\n",
       "  $3Dmolpromise = loadScriptAsync('https://3dmol.csb.pitt.edu/build/3Dmol.js');\n",
       "}\n",
       "\n",
       "var viewer_16237993334238698 = null;\n",
       "var warn = document.getElementById(\"3dmolwarning_16237993334238698\");\n",
       "if(warn) {\n",
       "    warn.parentNode.removeChild(warn);\n",
       "}\n",
       "$3Dmolpromise.then(function() {\n",
       "viewer_16237993334238698 = $3Dmol.createViewer($(\"#3dmolviewer_16237993334238698\"),{backgroundColor:\"white\"});\n",
       "\tviewer_16237993334238698.addModel(\"\\n     RDKit          3D\\n\\n  8  6  0  0  0  0  0  0  0  0999 V2000\\n    1.2090    0.2125    0.0671 C   0  0  0  0  0  0  0  0  0  0  0  0\\n    0.3220    0.8790    0.6176 O   0  0  0  0  0  0  0  0  0  1  0  0\\n   -1.2090   -0.2125   -0.0672 C   0  0  0  0  0  0  0  0  0  2  0  0\\n   -0.3221   -0.8786   -0.6182 O   0  0  0  0  0  0  0  0  0  3  0  0\\n    1.7138   -0.6279    0.5776 H   0  0  0  0  0  0  0  0  0  4  0  0\\n    1.6047    0.4731   -0.9314 H   0  0  0  0  0  0  0  0  0  5  0  0\\n   -1.7144    0.6278   -0.5771 H   0  0  0  0  0  0  0  0  0  6  0  0\\n   -1.6041   -0.4735    0.9316 H   0  0  0  0  0  0  0  0  0  7  0  0\\n  7  3  1  0\\n  6  1  1  0\\n  4  3  2  0\\n  3  8  1  0\\n  2  1  2  0\\n  1  5  1  0\\nM  END\\n\",\"sdf\");\n",
       "\tviewer_16237993334238698.setStyle({\"stick\": {\"radius\": 0.2}, \"sphere\": {\"scale\": 0.25}});\n",
       "\tviewer_16237993334238698.addPropertyLabels(\"index\",\"\",{\"fontSize\": 15, \"fontColor\": \"white\", \"showBackground\": true, \"alignment\": \"center\", \"backgroundOpacity\": 0.2, \"backgroundColor\": \"black\"});\n",
       "\tviewer_16237993334238698.zoomTo();\n",
       "\tviewer_16237993334238698.render();\n",
       "viewer_16237993334238698.render();\n",
       "});\n",
       "</script>"
      ]
     },
     "metadata": {},
     "output_type": "display_data"
    },
    {
     "data": {
      "text/plain": [
       "<py3Dmol.view at 0x7fa044e94810>"
      ]
     },
     "execution_count": 23,
     "metadata": {},
     "output_type": "execute_result"
    }
   ],
   "source": [
    "ff = RDKitFF()\n",
    "ff.setup(mol3.Copy())\n",
    "ff.add_distance_constraint([1,2], 2.0, force_constant=1e5)\n",
    "ff.add_distance_constraint([0,3], 2.0, force_constant=1e5)\n",
    "ff.optimize()\n",
    "opt_mol = ff.get_optimized_mol()\n",
    "print(f'd(1,2) = {opt_mol.GetConformer().GetBondLength([1,2])}\\n'\n",
    "      f'd(0,3) = {opt_mol.GetConformer().GetBondLength([0,3])}\\n')\n",
    "mol_viewer(opt_mol.ToMolBlock(), 'sdf').render()"
   ]
  },
  {
   "cell_type": "code",
   "execution_count": 16,
   "metadata": {},
   "outputs": [
    {
     "name": "stdout",
     "output_type": "stream",
     "text": [
      "d(1,2) = 2.001078711119671\n",
      "d(0,3) = 2.0009602870233505\n",
      "\n"
     ]
    },
    {
     "data": {
      "application/3dmoljs_load.v0": "<div id=\"3dmolviewer_16237915737858188\"  style=\"position: relative; width: 400px; height: 400px\">\n        <p id=\"3dmolwarning_16237915737858188\" style=\"background-color:#ffcccc;color:black\">You appear to be running in JupyterLab (or JavaScript failed to load for some other reason).  You need to install the 3dmol extension: <br>\n        <tt>jupyter labextension install jupyterlab_3dmol</tt></p>\n        </div>\n<script>\n\nvar loadScriptAsync = function(uri){\n  return new Promise((resolve, reject) => {\n    var tag = document.createElement('script');\n    tag.src = uri;\n    tag.async = true;\n    tag.onload = () => {\n      resolve();\n    };\n  var firstScriptTag = document.getElementsByTagName('script')[0];\n  firstScriptTag.parentNode.insertBefore(tag, firstScriptTag);\n});\n};\n\nif(typeof $3Dmolpromise === 'undefined') {\n$3Dmolpromise = null;\n  $3Dmolpromise = loadScriptAsync('https://3dmol.csb.pitt.edu/build/3Dmol.js');\n}\n\nvar viewer_16237915737858188 = null;\nvar warn = document.getElementById(\"3dmolwarning_16237915737858188\");\nif(warn) {\n    warn.parentNode.removeChild(warn);\n}\n$3Dmolpromise.then(function() {\nviewer_16237915737858188 = $3Dmol.createViewer($(\"#3dmolviewer_16237915737858188\"),{backgroundColor:\"white\"});\n\tviewer_16237915737858188.addModel(\"\\n     RDKit          3D\\n\\n  8  6  0  0  0  0  0  0  0  0999 V2000\\n    0.8606    0.2826    0.0039 C   0  0  0  0  0  0  0  0  0  0  0  0\\n    0.2931   -0.6875    0.5241 O   0  0  0  0  0  0  0  0  0  1  0  0\\n   -1.5297   -0.2655   -0.1858 C   0  0  0  0  0  0  0  0  0  2  0  0\\n   -0.9837    0.7642   -0.6046 O   0  0  0  0  0  0  0  0  0  3  0  0\\n    1.4004    0.1828   -0.9545 H   0  0  0  0  0  0  0  0  0  4  0  0\\n    0.9569    1.2643    0.5048 H   0  0  0  0  0  0  0  0  0  5  0  0\\n   -1.6892   -1.1380   -0.8442 H   0  0  0  0  0  0  0  0  0  6  0  0\\n   -1.9773   -0.3407    0.8228 H   0  0  0  0  0  0  0  0  0  7  0  0\\n  7  3  1  0\\n  6  1  1  0\\n  4  3  2  0\\n  3  8  1  0\\n  2  1  2  0\\n  1  5  1  0\\nM  END\\n\",\"sdf\");\n\tviewer_16237915737858188.setStyle({\"stick\": {\"radius\": 0.2}, \"sphere\": {\"scale\": 0.25}});\n\tviewer_16237915737858188.addPropertyLabels(\"index\",\"\",{\"fontSize\": 15, \"fontColor\": \"white\", \"showBackground\": true, \"alignment\": \"center\", \"backgroundOpacity\": 0.2, \"backgroundColor\": \"black\"});\n\tviewer_16237915737858188.zoomTo();\n\tviewer_16237915737858188.render();\nviewer_16237915737858188.render();\n});\n</script>",
      "text/html": [
       "<div id=\"3dmolviewer_16237915737858188\"  style=\"position: relative; width: 400px; height: 400px\">\n",
       "        <p id=\"3dmolwarning_16237915737858188\" style=\"background-color:#ffcccc;color:black\">You appear to be running in JupyterLab (or JavaScript failed to load for some other reason).  You need to install the 3dmol extension: <br>\n",
       "        <tt>jupyter labextension install jupyterlab_3dmol</tt></p>\n",
       "        </div>\n",
       "<script>\n",
       "\n",
       "var loadScriptAsync = function(uri){\n",
       "  return new Promise((resolve, reject) => {\n",
       "    var tag = document.createElement('script');\n",
       "    tag.src = uri;\n",
       "    tag.async = true;\n",
       "    tag.onload = () => {\n",
       "      resolve();\n",
       "    };\n",
       "  var firstScriptTag = document.getElementsByTagName('script')[0];\n",
       "  firstScriptTag.parentNode.insertBefore(tag, firstScriptTag);\n",
       "});\n",
       "};\n",
       "\n",
       "if(typeof $3Dmolpromise === 'undefined') {\n",
       "$3Dmolpromise = null;\n",
       "  $3Dmolpromise = loadScriptAsync('https://3dmol.csb.pitt.edu/build/3Dmol.js');\n",
       "}\n",
       "\n",
       "var viewer_16237915737858188 = null;\n",
       "var warn = document.getElementById(\"3dmolwarning_16237915737858188\");\n",
       "if(warn) {\n",
       "    warn.parentNode.removeChild(warn);\n",
       "}\n",
       "$3Dmolpromise.then(function() {\n",
       "viewer_16237915737858188 = $3Dmol.createViewer($(\"#3dmolviewer_16237915737858188\"),{backgroundColor:\"white\"});\n",
       "\tviewer_16237915737858188.addModel(\"\\n     RDKit          3D\\n\\n  8  6  0  0  0  0  0  0  0  0999 V2000\\n    0.8606    0.2826    0.0039 C   0  0  0  0  0  0  0  0  0  0  0  0\\n    0.2931   -0.6875    0.5241 O   0  0  0  0  0  0  0  0  0  1  0  0\\n   -1.5297   -0.2655   -0.1858 C   0  0  0  0  0  0  0  0  0  2  0  0\\n   -0.9837    0.7642   -0.6046 O   0  0  0  0  0  0  0  0  0  3  0  0\\n    1.4004    0.1828   -0.9545 H   0  0  0  0  0  0  0  0  0  4  0  0\\n    0.9569    1.2643    0.5048 H   0  0  0  0  0  0  0  0  0  5  0  0\\n   -1.6892   -1.1380   -0.8442 H   0  0  0  0  0  0  0  0  0  6  0  0\\n   -1.9773   -0.3407    0.8228 H   0  0  0  0  0  0  0  0  0  7  0  0\\n  7  3  1  0\\n  6  1  1  0\\n  4  3  2  0\\n  3  8  1  0\\n  2  1  2  0\\n  1  5  1  0\\nM  END\\n\",\"sdf\");\n",
       "\tviewer_16237915737858188.setStyle({\"stick\": {\"radius\": 0.2}, \"sphere\": {\"scale\": 0.25}});\n",
       "\tviewer_16237915737858188.addPropertyLabels(\"index\",\"\",{\"fontSize\": 15, \"fontColor\": \"white\", \"showBackground\": true, \"alignment\": \"center\", \"backgroundOpacity\": 0.2, \"backgroundColor\": \"black\"});\n",
       "\tviewer_16237915737858188.zoomTo();\n",
       "\tviewer_16237915737858188.render();\n",
       "viewer_16237915737858188.render();\n",
       "});\n",
       "</script>"
      ]
     },
     "metadata": {},
     "output_type": "display_data"
    },
    {
     "data": {
      "text/plain": [
       "<py3Dmol.view at 0x7fa043a53dd0>"
      ]
     },
     "execution_count": 16,
     "metadata": {},
     "output_type": "execute_result"
    }
   ],
   "source": [
    "ff = OpenBabelFF()\n",
    "ff.mol = mol3.Copy()  # directly assign mol to allow correct atom index when setting constraints\n",
    "ff.add_distance_constraint([1,2], 2.0)\n",
    "ff.add_distance_constraint([0,3], 2.0)\n",
    "ff.setup()\n",
    "ff.optimize()\n",
    "opt_mol = ff.get_optimized_mol()\n",
    "print(f'd(1,2) = {opt_mol.GetConformer().GetBondLength([1,2])}\\n'\n",
    "      f'd(0,3) = {opt_mol.GetConformer().GetBondLength([0,3])}\\n')\n",
    "mol_viewer(opt_mol.ToMolBlock(), 'sdf').render()"
   ]
  },
  {
   "cell_type": "markdown",
   "metadata": {},
   "source": [
    "### 5. Constraint Optimize for multiple conformers"
   ]
  },
  {
   "cell_type": "code",
   "execution_count": null,
   "metadata": {},
   "outputs": [],
   "source": [
    "from rdmc.view import grid_viewer"
   ]
  },
  {
   "cell_type": "code",
   "execution_count": 25,
   "metadata": {},
   "outputs": [],
   "source": [
    "xyz = \"\"\"C      2.164196    0.180658    0.005381\n",
    "O      0.942631    0.078687    0.002344\n",
    "C     -2.138178   -0.178485   -0.005316\n",
    "O     -3.360016   -0.280479   -0.008354\n",
    "H      2.826486   -0.691971    0.123773\n",
    "H      2.673219    1.151062   -0.110098\n",
    "H     -1.518697   -0.529599   -0.845624\n",
    "H     -1.589641    0.270129    0.837895\"\"\"\n",
    "\n",
    "mol5 = RDKitMol.FromXYZ(xyz, header=False)"
   ]
  },
  {
   "cell_type": "code",
   "execution_count": 59,
   "metadata": {},
   "outputs": [
    {
     "name": "stdout",
     "output_type": "stream",
     "text": [
      "conformer 0\n",
      "d(1,2) = 2.001077129621682\n",
      "d(0,3) = 2.001077181558181\n",
      "\n",
      "conformer 1\n",
      "d(1,2) = 2.001077141589242\n",
      "d(0,3) = 2.0010771031105294\n",
      "\n",
      "conformer 2\n",
      "d(1,2) = 2.001077265213937\n",
      "d(0,3) = 2.0010771525386675\n",
      "\n",
      "conformer 3\n",
      "d(1,2) = 2.0010768004311026\n",
      "d(0,3) = 2.001077429057941\n",
      "\n"
     ]
    },
    {
     "data": {
      "application/3dmoljs_load.v0": "<div id=\"3dmolviewer_1623800271730979\"  style=\"position: relative; width: 600px; height: 400px\">\n        <p id=\"3dmolwarning_1623800271730979\" style=\"background-color:#ffcccc;color:black\">You appear to be running in JupyterLab (or JavaScript failed to load for some other reason).  You need to install the 3dmol extension: <br>\n        <tt>jupyter labextension install jupyterlab_3dmol</tt></p>\n        </div>\n<script>\n\nvar loadScriptAsync = function(uri){\n  return new Promise((resolve, reject) => {\n    var tag = document.createElement('script');\n    tag.src = uri;\n    tag.async = true;\n    tag.onload = () => {\n      resolve();\n    };\n  var firstScriptTag = document.getElementsByTagName('script')[0];\n  firstScriptTag.parentNode.insertBefore(tag, firstScriptTag);\n});\n};\n\nif(typeof $3Dmolpromise === 'undefined') {\n$3Dmolpromise = null;\n  $3Dmolpromise = loadScriptAsync('https://3dmol.csb.pitt.edu/build/3Dmol.js');\n}\n\nvar viewer_1623800271730979 = null;\nvar warn = document.getElementById(\"3dmolwarning_1623800271730979\");\nif(warn) {\n    warn.parentNode.removeChild(warn);\n}\n$3Dmolpromise.then(function() {\nvar viewergrid_1623800271730979 = null;\nviewergrid_1623800271730979 = $3Dmol.createViewerGrid($(\"#3dmolviewer_1623800271730979\"),{rows: 2, cols: 2, control_all: false},{backgroundColor:\"white\"});\nviewer_1623800271730979 = viewergrid_1623800271730979[0][0];\n\tviewergrid_1623800271730979[0][0].addModel(\"\\n     RDKit          3D\\n\\n  8  6  0  0  0  0  0  0  0  0999 V2000\\n    0.8415    0.7179    0.5365 C   0  0  0  0  0  0  0  0  0  0  0  0\\n    0.9913    0.0852   -0.5177 O   0  0  0  0  0  0  0  0  0  1  0  0\\n   -0.8415   -0.7179   -0.5365 C   0  0  0  0  0  0  0  0  0  2  0  0\\n   -0.9911   -0.0856    0.5179 O   0  0  0  0  0  0  0  0  0  3  0  0\\n    1.1278    0.2987    1.5184 H   0  0  0  0  0  0  0  0  0  4  0  0\\n    0.4935    1.7669    0.5471 H   0  0  0  0  0  0  0  0  0  5  0  0\\n   -1.1274   -0.2981   -1.5182 H   0  0  0  0  0  0  0  0  0  6  0  0\\n   -0.4941   -1.7671   -0.5475 H   0  0  0  0  0  0  0  0  0  7  0  0\\n  7  3  1  0\\n  6  1  1  0\\n  4  3  2  0\\n  3  8  1  0\\n  2  1  2  0\\n  1  5  1  0\\nM  END\\n\",\"sdf\");\n\tviewergrid_1623800271730979[0][0].setStyle({\"stick\": {\"radius\": 0.2}, \"sphere\": {\"scale\": 0.25}});\n\tviewergrid_1623800271730979[0][1].setStyle({\"stick\": {\"radius\": 0.2}, \"sphere\": {\"scale\": 0.25}});\n\tviewergrid_1623800271730979[1][0].setStyle({\"stick\": {\"radius\": 0.2}, \"sphere\": {\"scale\": 0.25}});\n\tviewergrid_1623800271730979[1][1].setStyle({\"stick\": {\"radius\": 0.2}, \"sphere\": {\"scale\": 0.25}});\n\tviewergrid_1623800271730979[0][0].addPropertyLabels(\"index\",\"\",{\"fontSize\": 15, \"fontColor\": \"white\", \"showBackground\": true, \"alignment\": \"center\", \"backgroundOpacity\": 0.2, \"backgroundColor\": \"black\"});\n\tviewergrid_1623800271730979[0][0].zoomTo();\n\tviewergrid_1623800271730979[0][1].addModel(\"\\n     RDKit          3D\\n\\n  8  6  0  0  0  0  0  0  0  0999 V2000\\n    0.6292   -1.0075   -0.3168 C   0  0  0  0  0  0  0  0  0  0  0  0\\n    0.7834   -0.3507    0.7219 O   0  0  0  0  0  0  0  0  0  1  0  0\\n   -0.6292    1.0075    0.3168 C   0  0  0  0  0  0  0  0  0  2  0  0\\n   -0.7833    0.3509   -0.7220 O   0  0  0  0  0  0  0  0  0  3  0  0\\n    1.2237   -0.8128   -1.2281 H   0  0  0  0  0  0  0  0  0  4  0  0\\n   -0.0493   -1.8787   -0.3651 H   0  0  0  0  0  0  0  0  0  5  0  0\\n   -1.2235    0.8124    1.2280 H   0  0  0  0  0  0  0  0  0  6  0  0\\n    0.0490    1.8789    0.3653 H   0  0  0  0  0  0  0  0  0  7  0  0\\n  7  3  1  0\\n  6  1  1  0\\n  4  3  2  0\\n  3  8  1  0\\n  2  1  2  0\\n  1  5  1  0\\nM  END\\n\",\"sdf\");\n\tviewergrid_1623800271730979[0][0].setStyle({\"stick\": {\"radius\": 0.2}, \"sphere\": {\"scale\": 0.25}});\n\tviewergrid_1623800271730979[0][1].setStyle({\"stick\": {\"radius\": 0.2}, \"sphere\": {\"scale\": 0.25}});\n\tviewergrid_1623800271730979[1][0].setStyle({\"stick\": {\"radius\": 0.2}, \"sphere\": {\"scale\": 0.25}});\n\tviewergrid_1623800271730979[1][1].setStyle({\"stick\": {\"radius\": 0.2}, \"sphere\": {\"scale\": 0.25}});\n\tviewergrid_1623800271730979[0][1].addPropertyLabels(\"index\",\"\",{\"fontSize\": 15, \"fontColor\": \"white\", \"showBackground\": true, \"alignment\": \"center\", \"backgroundOpacity\": 0.2, \"backgroundColor\": \"black\"});\n\tviewergrid_1623800271730979[0][1].zoomTo();\n\tviewergrid_1623800271730979[1][0].addModel(\"\\n     RDKit          3D\\n\\n  8  6  0  0  0  0  0  0  0  0999 V2000\\n    0.3551   -1.1377    0.3012 C   0  0  0  0  0  0  0  0  0  0  0  0\\n    0.4596   -0.6157   -0.8171 O   0  0  0  0  0  0  0  0  0  1  0  0\\n   -0.3551    1.1377   -0.3012 C   0  0  0  0  0  0  0  0  0  2  0  0\\n   -0.4597    0.6156    0.8171 O   0  0  0  0  0  0  0  0  0  3  0  0\\n   -0.5226   -1.7466    0.5850 H   0  0  0  0  0  0  0  0  0  4  0  0\\n    1.1698   -1.0959    1.0469 H   0  0  0  0  0  0  0  0  0  5  0  0\\n   -1.1698    1.0960   -1.0469 H   0  0  0  0  0  0  0  0  0  6  0  0\\n    0.5227    1.7465   -0.5850 H   0  0  0  0  0  0  0  0  0  7  0  0\\n  7  3  1  0\\n  6  1  1  0\\n  4  3  2  0\\n  3  8  1  0\\n  2  1  2  0\\n  1  5  1  0\\nM  END\\n\",\"sdf\");\n\tviewergrid_1623800271730979[0][0].setStyle({\"stick\": {\"radius\": 0.2}, \"sphere\": {\"scale\": 0.25}});\n\tviewergrid_1623800271730979[0][1].setStyle({\"stick\": {\"radius\": 0.2}, \"sphere\": {\"scale\": 0.25}});\n\tviewergrid_1623800271730979[1][0].setStyle({\"stick\": {\"radius\": 0.2}, \"sphere\": {\"scale\": 0.25}});\n\tviewergrid_1623800271730979[1][1].setStyle({\"stick\": {\"radius\": 0.2}, \"sphere\": {\"scale\": 0.25}});\n\tviewergrid_1623800271730979[1][0].addPropertyLabels(\"index\",\"\",{\"fontSize\": 15, \"fontColor\": \"white\", \"showBackground\": true, \"alignment\": \"center\", \"backgroundOpacity\": 0.2, \"backgroundColor\": \"black\"});\n\tviewergrid_1623800271730979[1][0].zoomTo();\n\tviewergrid_1623800271730979[1][1].addModel(\"\\n     RDKit          3D\\n\\n  8  6  0  0  0  0  0  0  0  0999 V2000\\n    0.9650   -0.7614    0.0154 C   0  0  0  0  0  0  0  0  0  0  0  0\\n    0.5923   -0.0795   -0.9491 O   0  0  0  0  0  0  0  0  0  1  0  0\\n   -0.9650    0.7614   -0.0154 C   0  0  0  0  0  0  0  0  0  2  0  0\\n   -0.5924    0.0794    0.9490 O   0  0  0  0  0  0  0  0  0  3  0  0\\n    0.6248   -1.8023    0.1646 H   0  0  0  0  0  0  0  0  0  4  0  0\\n    1.7233   -0.3982    0.7329 H   0  0  0  0  0  0  0  0  0  5  0  0\\n   -1.7234    0.3984   -0.7328 H   0  0  0  0  0  0  0  0  0  6  0  0\\n   -0.6246    1.8023   -0.1646 H   0  0  0  0  0  0  0  0  0  7  0  0\\n  7  3  1  0\\n  6  1  1  0\\n  4  3  2  0\\n  3  8  1  0\\n  2  1  2  0\\n  1  5  1  0\\nM  END\\n\",\"sdf\");\n\tviewergrid_1623800271730979[0][0].setStyle({\"stick\": {\"radius\": 0.2}, \"sphere\": {\"scale\": 0.25}});\n\tviewergrid_1623800271730979[0][1].setStyle({\"stick\": {\"radius\": 0.2}, \"sphere\": {\"scale\": 0.25}});\n\tviewergrid_1623800271730979[1][0].setStyle({\"stick\": {\"radius\": 0.2}, \"sphere\": {\"scale\": 0.25}});\n\tviewergrid_1623800271730979[1][1].setStyle({\"stick\": {\"radius\": 0.2}, \"sphere\": {\"scale\": 0.25}});\n\tviewergrid_1623800271730979[1][1].addPropertyLabels(\"index\",\"\",{\"fontSize\": 15, \"fontColor\": \"white\", \"showBackground\": true, \"alignment\": \"center\", \"backgroundOpacity\": 0.2, \"backgroundColor\": \"black\"});\n\tviewergrid_1623800271730979[1][1].zoomTo();\nviewergrid_1623800271730979[1][1].render();\nviewergrid_1623800271730979[1][0].render();\nviewergrid_1623800271730979[0][1].render();\nviewergrid_1623800271730979[0][0].render();\n});\n</script><script>\n            $3Dmolpromise.done(function() { //wrap in promise for non-interactive functionality\n                \n                viewer_1623800271730979.render();\n            });\n            </script>",
      "text/html": [
       "<div id=\"3dmolviewer_1623800271730979\"  style=\"position: relative; width: 600px; height: 400px\">\n",
       "        <p id=\"3dmolwarning_1623800271730979\" style=\"background-color:#ffcccc;color:black\">You appear to be running in JupyterLab (or JavaScript failed to load for some other reason).  You need to install the 3dmol extension: <br>\n",
       "        <tt>jupyter labextension install jupyterlab_3dmol</tt></p>\n",
       "        </div>\n",
       "<script>\n",
       "\n",
       "var loadScriptAsync = function(uri){\n",
       "  return new Promise((resolve, reject) => {\n",
       "    var tag = document.createElement('script');\n",
       "    tag.src = uri;\n",
       "    tag.async = true;\n",
       "    tag.onload = () => {\n",
       "      resolve();\n",
       "    };\n",
       "  var firstScriptTag = document.getElementsByTagName('script')[0];\n",
       "  firstScriptTag.parentNode.insertBefore(tag, firstScriptTag);\n",
       "});\n",
       "};\n",
       "\n",
       "if(typeof $3Dmolpromise === 'undefined') {\n",
       "$3Dmolpromise = null;\n",
       "  $3Dmolpromise = loadScriptAsync('https://3dmol.csb.pitt.edu/build/3Dmol.js');\n",
       "}\n",
       "\n",
       "var viewer_1623800271730979 = null;\n",
       "var warn = document.getElementById(\"3dmolwarning_1623800271730979\");\n",
       "if(warn) {\n",
       "    warn.parentNode.removeChild(warn);\n",
       "}\n",
       "$3Dmolpromise.then(function() {\n",
       "var viewergrid_1623800271730979 = null;\n",
       "viewergrid_1623800271730979 = $3Dmol.createViewerGrid($(\"#3dmolviewer_1623800271730979\"),{rows: 2, cols: 2, control_all: false},{backgroundColor:\"white\"});\n",
       "viewer_1623800271730979 = viewergrid_1623800271730979[0][0];\n",
       "\tviewergrid_1623800271730979[0][0].addModel(\"\\n     RDKit          3D\\n\\n  8  6  0  0  0  0  0  0  0  0999 V2000\\n    0.8415    0.7179    0.5365 C   0  0  0  0  0  0  0  0  0  0  0  0\\n    0.9913    0.0852   -0.5177 O   0  0  0  0  0  0  0  0  0  1  0  0\\n   -0.8415   -0.7179   -0.5365 C   0  0  0  0  0  0  0  0  0  2  0  0\\n   -0.9911   -0.0856    0.5179 O   0  0  0  0  0  0  0  0  0  3  0  0\\n    1.1278    0.2987    1.5184 H   0  0  0  0  0  0  0  0  0  4  0  0\\n    0.4935    1.7669    0.5471 H   0  0  0  0  0  0  0  0  0  5  0  0\\n   -1.1274   -0.2981   -1.5182 H   0  0  0  0  0  0  0  0  0  6  0  0\\n   -0.4941   -1.7671   -0.5475 H   0  0  0  0  0  0  0  0  0  7  0  0\\n  7  3  1  0\\n  6  1  1  0\\n  4  3  2  0\\n  3  8  1  0\\n  2  1  2  0\\n  1  5  1  0\\nM  END\\n\",\"sdf\");\n",
       "\tviewergrid_1623800271730979[0][0].setStyle({\"stick\": {\"radius\": 0.2}, \"sphere\": {\"scale\": 0.25}});\n",
       "\tviewergrid_1623800271730979[0][1].setStyle({\"stick\": {\"radius\": 0.2}, \"sphere\": {\"scale\": 0.25}});\n",
       "\tviewergrid_1623800271730979[1][0].setStyle({\"stick\": {\"radius\": 0.2}, \"sphere\": {\"scale\": 0.25}});\n",
       "\tviewergrid_1623800271730979[1][1].setStyle({\"stick\": {\"radius\": 0.2}, \"sphere\": {\"scale\": 0.25}});\n",
       "\tviewergrid_1623800271730979[0][0].addPropertyLabels(\"index\",\"\",{\"fontSize\": 15, \"fontColor\": \"white\", \"showBackground\": true, \"alignment\": \"center\", \"backgroundOpacity\": 0.2, \"backgroundColor\": \"black\"});\n",
       "\tviewergrid_1623800271730979[0][0].zoomTo();\n",
       "\tviewergrid_1623800271730979[0][1].addModel(\"\\n     RDKit          3D\\n\\n  8  6  0  0  0  0  0  0  0  0999 V2000\\n    0.6292   -1.0075   -0.3168 C   0  0  0  0  0  0  0  0  0  0  0  0\\n    0.7834   -0.3507    0.7219 O   0  0  0  0  0  0  0  0  0  1  0  0\\n   -0.6292    1.0075    0.3168 C   0  0  0  0  0  0  0  0  0  2  0  0\\n   -0.7833    0.3509   -0.7220 O   0  0  0  0  0  0  0  0  0  3  0  0\\n    1.2237   -0.8128   -1.2281 H   0  0  0  0  0  0  0  0  0  4  0  0\\n   -0.0493   -1.8787   -0.3651 H   0  0  0  0  0  0  0  0  0  5  0  0\\n   -1.2235    0.8124    1.2280 H   0  0  0  0  0  0  0  0  0  6  0  0\\n    0.0490    1.8789    0.3653 H   0  0  0  0  0  0  0  0  0  7  0  0\\n  7  3  1  0\\n  6  1  1  0\\n  4  3  2  0\\n  3  8  1  0\\n  2  1  2  0\\n  1  5  1  0\\nM  END\\n\",\"sdf\");\n",
       "\tviewergrid_1623800271730979[0][0].setStyle({\"stick\": {\"radius\": 0.2}, \"sphere\": {\"scale\": 0.25}});\n",
       "\tviewergrid_1623800271730979[0][1].setStyle({\"stick\": {\"radius\": 0.2}, \"sphere\": {\"scale\": 0.25}});\n",
       "\tviewergrid_1623800271730979[1][0].setStyle({\"stick\": {\"radius\": 0.2}, \"sphere\": {\"scale\": 0.25}});\n",
       "\tviewergrid_1623800271730979[1][1].setStyle({\"stick\": {\"radius\": 0.2}, \"sphere\": {\"scale\": 0.25}});\n",
       "\tviewergrid_1623800271730979[0][1].addPropertyLabels(\"index\",\"\",{\"fontSize\": 15, \"fontColor\": \"white\", \"showBackground\": true, \"alignment\": \"center\", \"backgroundOpacity\": 0.2, \"backgroundColor\": \"black\"});\n",
       "\tviewergrid_1623800271730979[0][1].zoomTo();\n",
       "\tviewergrid_1623800271730979[1][0].addModel(\"\\n     RDKit          3D\\n\\n  8  6  0  0  0  0  0  0  0  0999 V2000\\n    0.3551   -1.1377    0.3012 C   0  0  0  0  0  0  0  0  0  0  0  0\\n    0.4596   -0.6157   -0.8171 O   0  0  0  0  0  0  0  0  0  1  0  0\\n   -0.3551    1.1377   -0.3012 C   0  0  0  0  0  0  0  0  0  2  0  0\\n   -0.4597    0.6156    0.8171 O   0  0  0  0  0  0  0  0  0  3  0  0\\n   -0.5226   -1.7466    0.5850 H   0  0  0  0  0  0  0  0  0  4  0  0\\n    1.1698   -1.0959    1.0469 H   0  0  0  0  0  0  0  0  0  5  0  0\\n   -1.1698    1.0960   -1.0469 H   0  0  0  0  0  0  0  0  0  6  0  0\\n    0.5227    1.7465   -0.5850 H   0  0  0  0  0  0  0  0  0  7  0  0\\n  7  3  1  0\\n  6  1  1  0\\n  4  3  2  0\\n  3  8  1  0\\n  2  1  2  0\\n  1  5  1  0\\nM  END\\n\",\"sdf\");\n",
       "\tviewergrid_1623800271730979[0][0].setStyle({\"stick\": {\"radius\": 0.2}, \"sphere\": {\"scale\": 0.25}});\n",
       "\tviewergrid_1623800271730979[0][1].setStyle({\"stick\": {\"radius\": 0.2}, \"sphere\": {\"scale\": 0.25}});\n",
       "\tviewergrid_1623800271730979[1][0].setStyle({\"stick\": {\"radius\": 0.2}, \"sphere\": {\"scale\": 0.25}});\n",
       "\tviewergrid_1623800271730979[1][1].setStyle({\"stick\": {\"radius\": 0.2}, \"sphere\": {\"scale\": 0.25}});\n",
       "\tviewergrid_1623800271730979[1][0].addPropertyLabels(\"index\",\"\",{\"fontSize\": 15, \"fontColor\": \"white\", \"showBackground\": true, \"alignment\": \"center\", \"backgroundOpacity\": 0.2, \"backgroundColor\": \"black\"});\n",
       "\tviewergrid_1623800271730979[1][0].zoomTo();\n",
       "\tviewergrid_1623800271730979[1][1].addModel(\"\\n     RDKit          3D\\n\\n  8  6  0  0  0  0  0  0  0  0999 V2000\\n    0.9650   -0.7614    0.0154 C   0  0  0  0  0  0  0  0  0  0  0  0\\n    0.5923   -0.0795   -0.9491 O   0  0  0  0  0  0  0  0  0  1  0  0\\n   -0.9650    0.7614   -0.0154 C   0  0  0  0  0  0  0  0  0  2  0  0\\n   -0.5924    0.0794    0.9490 O   0  0  0  0  0  0  0  0  0  3  0  0\\n    0.6248   -1.8023    0.1646 H   0  0  0  0  0  0  0  0  0  4  0  0\\n    1.7233   -0.3982    0.7329 H   0  0  0  0  0  0  0  0  0  5  0  0\\n   -1.7234    0.3984   -0.7328 H   0  0  0  0  0  0  0  0  0  6  0  0\\n   -0.6246    1.8023   -0.1646 H   0  0  0  0  0  0  0  0  0  7  0  0\\n  7  3  1  0\\n  6  1  1  0\\n  4  3  2  0\\n  3  8  1  0\\n  2  1  2  0\\n  1  5  1  0\\nM  END\\n\",\"sdf\");\n",
       "\tviewergrid_1623800271730979[0][0].setStyle({\"stick\": {\"radius\": 0.2}, \"sphere\": {\"scale\": 0.25}});\n",
       "\tviewergrid_1623800271730979[0][1].setStyle({\"stick\": {\"radius\": 0.2}, \"sphere\": {\"scale\": 0.25}});\n",
       "\tviewergrid_1623800271730979[1][0].setStyle({\"stick\": {\"radius\": 0.2}, \"sphere\": {\"scale\": 0.25}});\n",
       "\tviewergrid_1623800271730979[1][1].setStyle({\"stick\": {\"radius\": 0.2}, \"sphere\": {\"scale\": 0.25}});\n",
       "\tviewergrid_1623800271730979[1][1].addPropertyLabels(\"index\",\"\",{\"fontSize\": 15, \"fontColor\": \"white\", \"showBackground\": true, \"alignment\": \"center\", \"backgroundOpacity\": 0.2, \"backgroundColor\": \"black\"});\n",
       "\tviewergrid_1623800271730979[1][1].zoomTo();\n",
       "viewergrid_1623800271730979[1][1].render();\n",
       "viewergrid_1623800271730979[1][0].render();\n",
       "viewergrid_1623800271730979[0][1].render();\n",
       "viewergrid_1623800271730979[0][0].render();\n",
       "});\n",
       "</script><script>\n",
       "            $3Dmolpromise.done(function() { //wrap in promise for non-interactive functionality\n",
       "                \n",
       "                viewer_1623800271730979.render();\n",
       "            });\n",
       "            </script>"
      ]
     },
     "metadata": {},
     "output_type": "display_data"
    }
   ],
   "source": [
    "ff = RDKitFF()\n",
    "ff.setup(mol5.Copy())\n",
    "ff.add_distance_constraint([1,2], 2.0, force_constant=1e5)\n",
    "ff.add_distance_constraint([0,3], 2.0, force_constant=1e5)\n",
    "ff.optimize_confs()\n",
    "opt_mol = ff.get_optimized_mol()\n",
    "\n",
    "viewer = grid_viewer(viewer_grid=(2, 2), viewer_size=(600, 400))\n",
    "grids = [(0,0), (0,1), (1,0), (1,1)]\n",
    "for i in range(4):\n",
    "    print(f'conformer {i}')\n",
    "    print(f'd(1,2) = {opt_mol.GetConformer(i).GetBondLength([1,2])}\\n'\n",
    "          f'd(0,3) = {opt_mol.GetConformer(i).GetBondLength([0,3])}\\n')\n",
    "    mol_viewer(opt_mol.ToMolBlock(confId=i), 'sdf', viewer=viewer, viewer_loc=grids[i])\n",
    "\n",
    "viewer.update()"
   ]
  },
  {
   "cell_type": "markdown",
   "metadata": {},
   "source": [
    "### 6. 1D torsional scan"
   ]
  },
  {
   "cell_type": "code",
   "execution_count": 79,
   "metadata": {},
   "outputs": [],
   "source": [
    "xyz=\"\"\"O     -1.4560320000   -0.6564780000   -0.0547780000\n",
    "C      0.6264870000    0.6420160000   -0.2996580000\n",
    "C     -0.7756090000    0.5456950000    0.3029210000\n",
    "C      1.5452770000   -0.5075760000    0.1202110000\n",
    "H      1.0636220000    1.6047080000   -0.0081600000\n",
    "H      0.5390000000    0.6678840000   -1.3943400000\n",
    "H     -1.3675760000    1.4276160000    0.0200750000\n",
    "H     -0.7153500000    0.5286660000    1.3946760000\n",
    "H      1.7247880000   -0.4909950000    1.1997250000\n",
    "H      2.5146430000   -0.4479850000   -0.3811650000\n",
    "H      1.0902030000   -1.4695310000   -0.1238680000\n",
    "H     -1.5780000000   -0.6493500000   -1.0095640000\"\"\"\n",
    "\n",
    "mol6 = RDKitMol.FromXYZ(xyz, header=False)\n",
    "\n",
    "torsion1 = mol6.GetTorsionalModes(excludeMethyl=True)[0]"
   ]
  },
  {
   "cell_type": "code",
   "execution_count": 81,
   "metadata": {},
   "outputs": [
    {
     "data": {
      "text/plain": [
       "Text(0.5, 0, 'Torsional angle (degree)')"
      ]
     },
     "execution_count": 81,
     "metadata": {},
     "output_type": "execute_result"
    },
    {
     "data": {
      "image/png": "[encoded data removed]",
      "text/plain": [
       "<Figure size 432x288 with 1 Axes>"
      ]
     },
     "metadata": {
      "needs_background": "light"
     },
     "output_type": "display_data"
    }
   ],
   "source": [
    "N = 46\n",
    "ff = RDKitFF()\n",
    "conf = mol6.GetConformer()\n",
    "angle0 = conf.GetTorsionDeg(torsion1)\n",
    "pos0 = conf.GetPositions()\n",
    "\n",
    "energies = []\n",
    "angles = []\n",
    "\n",
    "for i in range(N):\n",
    "    \n",
    "    conf.SetPositions(pos0)\n",
    "    conf.SetTorsionDeg(torsion1, angle0 + i * 360 / (N-1))\n",
    "    ff.setup(mol6)\n",
    "    ff.add_torsion_constraint(torsion1, value=1.0, relative=True, force_constant=1e5)\n",
    "    angles.append(conf.GetTorsionDeg(torsion1))\n",
    "    energies.append(ff.ff.CalcEnergy())\n",
    "    \n",
    "plt.plot(angles, energies, '.-')\n",
    "plt.ylabel('Energy (kcal/mol)')\n",
    "plt.xlabel('Torsional angle (degree)')"
   ]
  },
  {
   "cell_type": "code",
   "execution_count": null,
   "metadata": {},
   "outputs": [],
   "source": []
  },
  {
   "cell_type": "code",
   "execution_count": null,
   "metadata": {},
   "outputs": [],
   "source": []
  }
 ],
 "metadata": {
  "@webio": {
   "lastCommId": null,
   "lastKernelId": null
  },
  "kernelspec": {
   "display_name": "Python 3",
   "language": "python",
   "name": "python3"
  },
  "language_info": {
   "codemirror_mode": {
    "name": "ipython",
    "version": 3
   },
   "file_extension": ".py",
   "mimetype": "text/x-python",
   "name": "python",
   "nbconvert_exporter": "python",
   "pygments_lexer": "ipython3",
   "version": "3.7.10"
  }
 },
 "nbformat": 4,
 "nbformat_minor": 2
}
