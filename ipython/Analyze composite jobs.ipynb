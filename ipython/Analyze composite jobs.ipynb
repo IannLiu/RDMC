{
 "cells": [
  {
   "cell_type": "markdown",
   "id": "rental-africa",
   "metadata": {},
   "source": [
    "# Analyze composite jobs"
   ]
  },
  {
   "cell_type": "code",
   "execution_count": 1,
   "id": "danish-introduction",
   "metadata": {},
   "outputs": [],
   "source": [
    "import os\n",
    "import sys\n",
    "import subprocess\n",
    "# To add this RDMC into PYTHONPATH in case you haven't do it\n",
    "sys.path.append(os.path.dirname(os.path.abspath('')))\n",
    "\n",
    "import cclib\n",
    "import numpy as np\n",
    "\n",
    "from rdmc.view import mol_viewer, freq_viewer\n",
    "\n",
    "from ipywidgets import interact, fixed, IntSlider\n",
    "from IPython import display\n",
    "\n",
    "CRITERIA = {\n",
    "    'gaussian': ['Force Maximum', 'Force RMS', 'Displacement Maximum', 'Displacement RMS'],\n",
    "}\n",
    "\n",
    "%load_ext autoreload\n",
    "%autoreload 2"
   ]
  },
  {
   "cell_type": "markdown",
   "id": "manual-memory",
   "metadata": {},
   "source": [
    "## 1. Load the file"
   ]
  },
  {
   "cell_type": "code",
   "execution_count": 2,
   "id": "powerful-blowing",
   "metadata": {},
   "outputs": [],
   "source": [
    "log = \"/Users/xiaorui/C3ddb server/Calcs/dmbene_5/composite/input.log\"\n",
    "######################################\n",
    "calc_results = cclib.io.ccread(log)\n",
    "if not hasattr(calc_results, 'metadata'):\n",
    "    raise RuntimeError('The cclib cannot path the file!')"
   ]
  },
  {
   "cell_type": "markdown",
   "id": "experienced-moses",
   "metadata": {},
   "source": [
    "## 2. Converged?"
   ]
  },
  {
   "cell_type": "code",
   "execution_count": 3,
   "id": "drawn-hearts",
   "metadata": {
    "scrolled": true
   },
   "outputs": [
    {
     "name": "stdout",
     "output_type": "stream",
     "text": [
      "Optimization done?: True\n",
      "The optimized XYZ:\n",
      "\n",
      "11\n",
      "[Geometry 37]\n",
      "O     -0.9117980000    0.3429320000    0.1976490000\n",
      "O     -2.5190680000   -0.1977950000   -0.0264670000\n",
      "O      2.2773120000   -0.5881960000    0.1773010000\n",
      "C      0.8098680000    1.3093990000   -0.1226030000\n",
      "C      1.1932070000   -0.1279600000   -0.0732500000\n",
      "C     -0.1501130000   -0.8122510000   -0.1926590000\n",
      "H      0.5145470000    1.7515230000   -1.0660700000\n",
      "H      1.1592640000    1.9824950000    0.6536640000\n",
      "H     -0.2799370000   -1.6480160000    0.4976370000\n",
      "H     -0.4017300000   -1.1242260000   -1.2125920000\n",
      "H     -2.8814760000    0.3675670000    0.6705660000\n",
      "\n"
     ]
    }
   ],
   "source": [
    "print(f'Optimization done?: {calc_results.optdone}')\n",
    "if calc_results.optdone:\n",
    "    \n",
    "    print('The optimized XYZ:\\n')\n",
    "    last_converged_idx = [x for x, y in enumerate(calc_results.optstatus) \\\n",
    "                          if y & calc_results.OPT_DONE > 0][-1]\n",
    "    xyz = cclib.io.ccwrite(calc_results,\n",
    "                           outputtype='xyz',\n",
    "                           indices=last_converged_idx,\n",
    "                           returnstr=True,)\n",
    "    print(f'{xyz}')"
   ]
  },
  {
   "cell_type": "markdown",
   "id": "sexual-raleigh",
   "metadata": {},
   "source": [
    "## 3. Find the geometry that is the closet to convergence"
   ]
  },
  {
   "cell_type": "code",
   "execution_count": 4,
   "id": "coordinate-shoulder",
   "metadata": {},
   "outputs": [],
   "source": [
    "package = calc_results.metadata['package'].lower()\n",
    "items = CRITERIA[package]\n",
    "\n",
    "if not calc_results.optdone:\n",
    "    # Calculate the normalized target differences\n",
    "    off_targets = (calc_results.geovalues - calc_results.geotargets) / calc_results.geotargets\n",
    "\n",
    "    # set ones that meet target to 0s \n",
    "    off_targets[off_targets <= 0] = 0\n",
    "\n",
    "    norm2targets = np.linalg.norm(off_targets, axis=1)\n",
    "    sorted_conformers = np.argsort(norm2targets)\n",
    "\n",
    "    best_conf = sorted_conformers[0]\n",
    "    print(f'The best conformer is {best_conf+1}\\n')\n",
    "    print(f'Criteria:\\n{\"Item\":<30}{\"Value\":<16}{\"Threshold\":<16}{\"Off target\":<16}')\n",
    "    for item, val, target, off_target in zip(items,\n",
    "                                 calc_results.geovalues[best_conf].tolist(),\n",
    "                                 calc_results.geotargets.tolist(),\n",
    "                                 off_targets[best_conf].tolist()):\n",
    "        print(f'{item:<30}{val:<16}{target:<16}{off_target:<16.2e}')\n",
    "    print(\"\\n\")\n",
    "    xyz = cclib.io.ccwrite(calc_results,\n",
    "                           outputtype='xyz',\n",
    "                           indices=best_conf,\n",
    "                           returnstr=True,)\n",
    "    print(f'{xyz}')"
   ]
  },
  {
   "cell_type": "code",
   "execution_count": 5,
   "id": "tutorial-promotion",
   "metadata": {},
   "outputs": [
    {
     "data": {
      "application/3dmoljs_load.v0": "<div id=\"3dmolviewer_16124077876042812\"  style=\"position: relative; width: 400px; height: 400px\">\n        <p id=\"3dmolwarning_16124077876042812\" style=\"background-color:#ffcccc;color:black\">You appear to be running in JupyterLab (or JavaScript failed to load for some other reason).  You need to install the 3dmol extension: <br>\n        <tt>jupyter labextension install jupyterlab_3dmol</tt></p>\n        </div>\n<script>\n\nvar loadScriptAsync = function(uri){\n  return new Promise((resolve, reject) => {\n    var tag = document.createElement('script');\n    tag.src = uri;\n    tag.async = true;\n    tag.onload = () => {\n      resolve();\n    };\n  var firstScriptTag = document.getElementsByTagName('script')[0];\n  firstScriptTag.parentNode.insertBefore(tag, firstScriptTag);\n});\n};\n\nif(typeof $3Dmolpromise === 'undefined') {\n$3Dmolpromise = null;\n  $3Dmolpromise = loadScriptAsync('https://3dmol.csb.pitt.edu/build/3Dmol.js');\n}\n\nvar viewer_16124077876042812 = null;\nvar warn = document.getElementById(\"3dmolwarning_16124077876042812\");\nif(warn) {\n    warn.parentNode.removeChild(warn);\n}\n$3Dmolpromise.then(function() {\nviewer_16124077876042812 = $3Dmol.createViewer($(\"#3dmolviewer_16124077876042812\"),{backgroundColor:\"white\"});\n\tviewer_16124077876042812.addModel(\"11\\n[Geometry 37]\\nO     -0.9117980000    0.3429320000    0.1976490000\\nO     -2.5190680000   -0.1977950000   -0.0264670000\\nO      2.2773120000   -0.5881960000    0.1773010000\\nC      0.8098680000    1.3093990000   -0.1226030000\\nC      1.1932070000   -0.1279600000   -0.0732500000\\nC     -0.1501130000   -0.8122510000   -0.1926590000\\nH      0.5145470000    1.7515230000   -1.0660700000\\nH      1.1592640000    1.9824950000    0.6536640000\\nH     -0.2799370000   -1.6480160000    0.4976370000\\nH     -0.4017300000   -1.1242260000   -1.2125920000\\nH     -2.8814760000    0.3675670000    0.6705660000\\n\",\"xyz\");\n\tviewer_16124077876042812.setStyle({\"stick\": {\"radius\": 0.2}, \"sphere\": {\"scale\": 0.25}});\n\tviewer_16124077876042812.addPropertyLabels(\"index\",\"\",{\"fontSize\": 15, \"fontColor\": \"white\", \"showBackground\": true, \"alignment\": \"center\", \"backgroundOpacity\": 0.2, \"backgroundColor\": \"black\"});\n\tviewer_16124077876042812.zoomTo();\nviewer_16124077876042812.render();\n});\n</script>",
      "text/html": [
       "<div id=\"3dmolviewer_16124077876042812\"  style=\"position: relative; width: 400px; height: 400px\">\n",
       "        <p id=\"3dmolwarning_16124077876042812\" style=\"background-color:#ffcccc;color:black\">You appear to be running in JupyterLab (or JavaScript failed to load for some other reason).  You need to install the 3dmol extension: <br>\n",
       "        <tt>jupyter labextension install jupyterlab_3dmol</tt></p>\n",
       "        </div>\n",
       "<script>\n",
       "\n",
       "var loadScriptAsync = function(uri){\n",
       "  return new Promise((resolve, reject) => {\n",
       "    var tag = document.createElement('script');\n",
       "    tag.src = uri;\n",
       "    tag.async = true;\n",
       "    tag.onload = () => {\n",
       "      resolve();\n",
       "    };\n",
       "  var firstScriptTag = document.getElementsByTagName('script')[0];\n",
       "  firstScriptTag.parentNode.insertBefore(tag, firstScriptTag);\n",
       "});\n",
       "};\n",
       "\n",
       "if(typeof $3Dmolpromise === 'undefined') {\n",
       "$3Dmolpromise = null;\n",
       "  $3Dmolpromise = loadScriptAsync('https://3dmol.csb.pitt.edu/build/3Dmol.js');\n",
       "}\n",
       "\n",
       "var viewer_16124077876042812 = null;\n",
       "var warn = document.getElementById(\"3dmolwarning_16124077876042812\");\n",
       "if(warn) {\n",
       "    warn.parentNode.removeChild(warn);\n",
       "}\n",
       "$3Dmolpromise.then(function() {\n",
       "viewer_16124077876042812 = $3Dmol.createViewer($(\"#3dmolviewer_16124077876042812\"),{backgroundColor:\"white\"});\n",
       "\tviewer_16124077876042812.addModel(\"11\\n[Geometry 37]\\nO     -0.9117980000    0.3429320000    0.1976490000\\nO     -2.5190680000   -0.1977950000   -0.0264670000\\nO      2.2773120000   -0.5881960000    0.1773010000\\nC      0.8098680000    1.3093990000   -0.1226030000\\nC      1.1932070000   -0.1279600000   -0.0732500000\\nC     -0.1501130000   -0.8122510000   -0.1926590000\\nH      0.5145470000    1.7515230000   -1.0660700000\\nH      1.1592640000    1.9824950000    0.6536640000\\nH     -0.2799370000   -1.6480160000    0.4976370000\\nH     -0.4017300000   -1.1242260000   -1.2125920000\\nH     -2.8814760000    0.3675670000    0.6705660000\\n\",\"xyz\");\n",
       "\tviewer_16124077876042812.setStyle({\"stick\": {\"radius\": 0.2}, \"sphere\": {\"scale\": 0.25}});\n",
       "\tviewer_16124077876042812.addPropertyLabels(\"index\",\"\",{\"fontSize\": 15, \"fontColor\": \"white\", \"showBackground\": true, \"alignment\": \"center\", \"backgroundOpacity\": 0.2, \"backgroundColor\": \"black\"});\n",
       "\tviewer_16124077876042812.zoomTo();\n",
       "viewer_16124077876042812.render();\n",
       "});\n",
       "</script>"
      ]
     },
     "metadata": {},
     "output_type": "display_data"
    }
   ],
   "source": [
    "viewer = mol_viewer(xyz, model='xyz')\n",
    "viewer.show()"
   ]
  },
  {
   "cell_type": "markdown",
   "id": "balanced-denver",
   "metadata": {},
   "source": [
    "## 4. if TS, visualize the vibration"
   ]
  },
  {
   "cell_type": "code",
   "execution_count": 6,
   "id": "abstract-graphic",
   "metadata": {
    "scrolled": false
   },
   "outputs": [
    {
     "name": "stdout",
     "output_type": "stream",
     "text": [
      "Imaginary freq: -799.5938 cm-1\n"
     ]
    }
   ],
   "source": [
    "try:\n",
    "    num_neg_freq = np.sum(calc_results.vibfreqs < 0)\n",
    "except AttributeError as e:\n",
    "    raise RuntimeError('!!!!! THIS OUTPUT DOES NOT CONTAIN FREQUENCY INFORMATION !!!!') from e\n",
    "    \n",
    "if num_neg_freq != 1:\n",
    "    raise RuntimeError('!!!!! THIS IS A INVALID TS JOB WITH MULTIPLE IMAGINARY FREQUENCIES !!!!')\n",
    "else:\n",
    "    # Get displacement\n",
    "    print(f'Imaginary freq: {calc_results.vibfreqs[0]} cm-1')\n",
    "    ts_disp = calc_results.vibdisps[0]\n",
    "    \n",
    "    # Compose the xyz with viberation information\n",
    "    lines = xyz.splitlines()\n",
    "    vib_xyz_list = lines[0:2]\n",
    "    for i, line in enumerate(lines[2:]):\n",
    "        line = line.strip() + f'{\"\":12}'+ ''.join([f'{item:<12}' for item in ts_disp[i].tolist()])\n",
    "        vib_xyz_list.append(line)\n",
    "\n",
    "    vib_xyz = '\\n'.join(vib_xyz_list)"
   ]
  },
  {
   "cell_type": "code",
   "execution_count": 7,
   "id": "original-tractor",
   "metadata": {
    "scrolled": false
   },
   "outputs": [
    {
     "data": {
      "application/3dmoljs_load.v0": "<div id=\"3dmolviewer_1612407787736164\"  style=\"position: relative; width: 400px; height: 400px\">\n        <p id=\"3dmolwarning_1612407787736164\" style=\"background-color:#ffcccc;color:black\">You appear to be running in JupyterLab (or JavaScript failed to load for some other reason).  You need to install the 3dmol extension: <br>\n        <tt>jupyter labextension install jupyterlab_3dmol</tt></p>\n        </div>\n<script>\n\nvar loadScriptAsync = function(uri){\n  return new Promise((resolve, reject) => {\n    var tag = document.createElement('script');\n    tag.src = uri;\n    tag.async = true;\n    tag.onload = () => {\n      resolve();\n    };\n  var firstScriptTag = document.getElementsByTagName('script')[0];\n  firstScriptTag.parentNode.insertBefore(tag, firstScriptTag);\n});\n};\n\nif(typeof $3Dmolpromise === 'undefined') {\n$3Dmolpromise = null;\n  $3Dmolpromise = loadScriptAsync('https://3dmol.csb.pitt.edu/build/3Dmol.js');\n}\n\nvar viewer_1612407787736164 = null;\nvar warn = document.getElementById(\"3dmolwarning_1612407787736164\");\nif(warn) {\n    warn.parentNode.removeChild(warn);\n}\n$3Dmolpromise.then(function() {\nviewer_1612407787736164 = $3Dmol.createViewer($(\"#3dmolviewer_1612407787736164\"),{backgroundColor:\"white\"});\n\tviewer_1612407787736164.addModel(\"11\\n[Geometry 37]\\nO     -0.9117980000    0.3429320000    0.1976490000            0.46        0.26        0.02        \\nO     -2.5190680000   -0.1977950000   -0.0264670000            -0.27       -0.07       -0.04       \\nO      2.2773120000   -0.5881960000    0.1773010000            0.05        0.02        0.0         \\nC      0.8098680000    1.3093990000   -0.1226030000            -0.37       -0.15       0.05        \\nC      1.1932070000   -0.1279600000   -0.0732500000            0.05        -0.12       -0.03       \\nC     -0.1501130000   -0.8122510000   -0.1926590000            0.04        0.01        0.0         \\nH      0.5145470000    1.7515230000   -1.0660700000            0.31        -0.04       -0.12       \\nH      1.1592640000    1.9824950000    0.6536640000            -0.53       -0.14       0.14        \\nH     -0.2799370000   -1.6480160000    0.4976370000            -0.11       0.06        0.02        \\nH     -0.4017300000   -1.1242260000   -1.2125920000            -0.06       0.01        0.02        \\nH     -2.8814760000    0.3675670000    0.6705660000            -0.08       0.02        -0.01       \",\"xyz\",{\"vibrate\": {\"frames\": 10, \"amplitude\": 1.0}});\n\tviewer_1612407787736164.setStyle({\"stick\": {\"radius\": 0.2}, \"sphere\": {\"scale\": 0.25}});\n\tviewer_1612407787736164.animate({\"loop\": \"backAndForth\"});\n\tviewer_1612407787736164.addPropertyLabels(\"index\",\"\",{\"fontSize\": 15, \"fontColor\": \"white\", \"showBackground\": true, \"alignment\": \"center\", \"backgroundOpacity\": 0.2, \"backgroundColor\": \"black\"});\n\tviewer_1612407787736164.zoomTo();\nviewer_1612407787736164.render();\n});\n</script>",
      "text/html": [
       "<div id=\"3dmolviewer_1612407787736164\"  style=\"position: relative; width: 400px; height: 400px\">\n",
       "        <p id=\"3dmolwarning_1612407787736164\" style=\"background-color:#ffcccc;color:black\">You appear to be running in JupyterLab (or JavaScript failed to load for some other reason).  You need to install the 3dmol extension: <br>\n",
       "        <tt>jupyter labextension install jupyterlab_3dmol</tt></p>\n",
       "        </div>\n",
       "<script>\n",
       "\n",
       "var loadScriptAsync = function(uri){\n",
       "  return new Promise((resolve, reject) => {\n",
       "    var tag = document.createElement('script');\n",
       "    tag.src = uri;\n",
       "    tag.async = true;\n",
       "    tag.onload = () => {\n",
       "      resolve();\n",
       "    };\n",
       "  var firstScriptTag = document.getElementsByTagName('script')[0];\n",
       "  firstScriptTag.parentNode.insertBefore(tag, firstScriptTag);\n",
       "});\n",
       "};\n",
       "\n",
       "if(typeof $3Dmolpromise === 'undefined') {\n",
       "$3Dmolpromise = null;\n",
       "  $3Dmolpromise = loadScriptAsync('https://3dmol.csb.pitt.edu/build/3Dmol.js');\n",
       "}\n",
       "\n",
       "var viewer_1612407787736164 = null;\n",
       "var warn = document.getElementById(\"3dmolwarning_1612407787736164\");\n",
       "if(warn) {\n",
       "    warn.parentNode.removeChild(warn);\n",
       "}\n",
       "$3Dmolpromise.then(function() {\n",
       "viewer_1612407787736164 = $3Dmol.createViewer($(\"#3dmolviewer_1612407787736164\"),{backgroundColor:\"white\"});\n",
       "\tviewer_1612407787736164.addModel(\"11\\n[Geometry 37]\\nO     -0.9117980000    0.3429320000    0.1976490000            0.46        0.26        0.02        \\nO     -2.5190680000   -0.1977950000   -0.0264670000            -0.27       -0.07       -0.04       \\nO      2.2773120000   -0.5881960000    0.1773010000            0.05        0.02        0.0         \\nC      0.8098680000    1.3093990000   -0.1226030000            -0.37       -0.15       0.05        \\nC      1.1932070000   -0.1279600000   -0.0732500000            0.05        -0.12       -0.03       \\nC     -0.1501130000   -0.8122510000   -0.1926590000            0.04        0.01        0.0         \\nH      0.5145470000    1.7515230000   -1.0660700000            0.31        -0.04       -0.12       \\nH      1.1592640000    1.9824950000    0.6536640000            -0.53       -0.14       0.14        \\nH     -0.2799370000   -1.6480160000    0.4976370000            -0.11       0.06        0.02        \\nH     -0.4017300000   -1.1242260000   -1.2125920000            -0.06       0.01        0.02        \\nH     -2.8814760000    0.3675670000    0.6705660000            -0.08       0.02        -0.01       \",\"xyz\",{\"vibrate\": {\"frames\": 10, \"amplitude\": 1.0}});\n",
       "\tviewer_1612407787736164.setStyle({\"stick\": {\"radius\": 0.2}, \"sphere\": {\"scale\": 0.25}});\n",
       "\tviewer_1612407787736164.animate({\"loop\": \"backAndForth\"});\n",
       "\tviewer_1612407787736164.addPropertyLabels(\"index\",\"\",{\"fontSize\": 15, \"fontColor\": \"white\", \"showBackground\": true, \"alignment\": \"center\", \"backgroundOpacity\": 0.2, \"backgroundColor\": \"black\"});\n",
       "\tviewer_1612407787736164.zoomTo();\n",
       "viewer_1612407787736164.render();\n",
       "});\n",
       "</script>"
      ]
     },
     "metadata": {},
     "output_type": "display_data"
    }
   ],
   "source": [
    "viewer = freq_viewer(vib_xyz, model='xyz',)\n",
    "viewer.show()"
   ]
  },
  {
   "cell_type": "markdown",
   "id": "given-stanford",
   "metadata": {},
   "source": [
    "## 5. Visualize intermediate conformers"
   ]
  },
  {
   "cell_type": "code",
   "execution_count": 8,
   "id": "distinct-vacuum",
   "metadata": {},
   "outputs": [
    {
     "data": {
      "application/vnd.jupyter.widget-view+json": {
       "model_id": "efebbd488c03453ba09133bf8789bbbe",
       "version_major": 2,
       "version_minor": 0
      },
      "text/plain": [
       "interactive(children=(IntSlider(value=1, description='idx', max=36, min=1), Output()), _dom_classes=('widget-i…"
      ]
     },
     "metadata": {},
     "output_type": "display_data"
    },
    {
     "data": {
      "text/plain": [
       "<function __main__.visualize_intermediate_conformer(idx)>"
      ]
     },
     "execution_count": 8,
     "metadata": {},
     "output_type": "execute_result"
    }
   ],
   "source": [
    "num_conf = calc_results.atomcoords.shape[0]\n",
    "xyzs = [cclib.io.ccwrite(calc_results, outputtype='xyz',\n",
    "                         indices=i, returnstr=True,)\n",
    "        for i in range(num_conf)]\n",
    "\n",
    "def visualize_intermediate_conformer(idx):\n",
    "    xyz = xyzs[idx]\n",
    "    return mol_viewer(xyz, model='xyz').show()\n",
    "\n",
    "interact(visualize_intermediate_conformer, idx=IntSlider(min=1, max=num_conf-1, step=1))"
   ]
  },
  {
   "cell_type": "markdown",
   "id": "official-right",
   "metadata": {},
   "source": [
    "Print an intermediate conformer"
   ]
  },
  {
   "cell_type": "code",
   "execution_count": 9,
   "id": "theoretical-demonstration",
   "metadata": {
    "scrolled": true
   },
   "outputs": [
    {
     "name": "stdout",
     "output_type": "stream",
     "text": [
      "11\n",
      "[Geometry 2]\n",
      "O     -0.8879410000    0.2538510000    0.2065680000\n",
      "O     -2.3124330000   -0.2096860000   -0.2148330000\n",
      "O      2.2861150000   -0.4120310000   -0.1432660000\n",
      "C      0.5464620000    1.2472540000    0.0100190000\n",
      "C      1.1254390000   -0.0742500000   -0.0235840000\n",
      "C     -0.0874880000   -0.8656090000    0.1497730000\n",
      "H      0.4305080000    1.8179540000   -0.8411690000\n",
      "H      0.6770370000    1.8588340000    0.8268220000\n",
      "H     -0.0563840000   -1.5088600000    1.0149180000\n",
      "H     -0.3828930000   -1.5207300000   -0.6273820000\n",
      "H     -2.8606850000    0.4513610000    0.0218110000\n",
      "\n"
     ]
    }
   ],
   "source": [
    "print(xyzs[1])"
   ]
  },
  {
   "cell_type": "code",
   "execution_count": null,
   "id": "dressed-hobby",
   "metadata": {},
   "outputs": [],
   "source": []
  }
 ],
 "metadata": {
  "@webio": {
   "lastCommId": null,
   "lastKernelId": null
  },
  "kernelspec": {
   "display_name": "Python 3.7.6 64-bit ('arc_env': conda)",
   "language": "python",
   "name": "python37664bitarcenvconda83c4abf9215d4a698ce68e2a44e6e6bc"
  },
  "language_info": {
   "codemirror_mode": {
    "name": "ipython",
    "version": 3
   },
   "file_extension": ".py",
   "mimetype": "text/x-python",
   "name": "python",
   "nbconvert_exporter": "python",
   "pygments_lexer": "ipython3",
   "version": "3.7.7"
  }
 },
 "nbformat": 4,
 "nbformat_minor": 5
}
