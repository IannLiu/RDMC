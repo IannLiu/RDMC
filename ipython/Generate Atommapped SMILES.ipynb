{
 "cells": [
  {
   "cell_type": "markdown",
   "source": [
    "# Generate Atom-mapped SMILES for RMG reactions.\n",
    "This notebook helps create atom-mapped SMILES for reactants and products that belong to a RMG reaction family."
   ],
   "metadata": {}
  },
  {
   "cell_type": "code",
   "execution_count": 1,
   "source": [
    "import os\n",
    "import sys\n",
    "# To add this RDMC into PYTHONPATH in case you haven't do it\n",
    "sys.path.append(os.path.dirname(os.path.abspath('')))\n",
    "\n",
    "from rdmc.mol import RDKitMol, parse_xyz_or_smiles_list\n",
    "\n",
    "try:\n",
    "    # import RMG dependencies\n",
    "    from rdmc.external.rmg import (from_rdkit_mol,\n",
    "                                   load_rmg_database,\n",
    "                                   generate_reaction_complex,)\n",
    "    # Load RMG database\n",
    "    database = load_rmg_database(families='all')\n",
    "except (ImportError, ModuleNotFoundError):\n",
    "    print('You need to install RMG-Py first and run this IPYNB in rmg_env!')\n",
    "\n",
    "%load_ext autoreload\n",
    "%autoreload 2"
   ],
   "outputs": [
    {
     "output_type": "stream",
     "name": "stderr",
     "text": [
      "RDKit WARNING: [12:37:39] WARNING: not removing hydrogen atom without neighbors\n",
      "WARNING:root:No normalization for BCUT2D_MWHI\n",
      "WARNING:root:No normalization for BCUT2D_MWLOW\n",
      "WARNING:root:No normalization for BCUT2D_CHGHI\n",
      "WARNING:root:No normalization for BCUT2D_CHGLO\n",
      "WARNING:root:No normalization for BCUT2D_LOGPHI\n",
      "WARNING:root:No normalization for BCUT2D_LOGPLOW\n",
      "WARNING:root:No normalization for BCUT2D_MRHI\n",
      "WARNING:root:No normalization for BCUT2D_MRLOW\n"
     ]
    }
   ],
   "metadata": {}
  },
  {
   "cell_type": "markdown",
   "source": [
    "## Examples\n",
    "For carbenes and biradicals, you need to specify the multiplicity as well. E.g., `reactants=[('[CH2]', 1)]`"
   ],
   "metadata": {}
  },
  {
   "cell_type": "markdown",
   "source": [
    "H_migration"
   ],
   "metadata": {}
  },
  {
   "cell_type": "code",
   "execution_count": 2,
   "source": [
    "reactants = [\n",
    "\"\"\"[CH2]CCCCO\"\"\",]\n",
    "products = [\n",
    "\"\"\"CCCCC[O]\"\"\",]"
   ],
   "outputs": [],
   "metadata": {}
  },
  {
   "cell_type": "markdown",
   "source": [
    "Retroene"
   ],
   "metadata": {}
  },
  {
   "cell_type": "code",
   "execution_count": 3,
   "source": [
    "reactants = [\n",
    "\"\"\" C1=CC(C2C=CCC2)C=C1\"\"\",]\n",
    "\n",
    "products = [\n",
    "\"\"\"C1=CC=CC1\"\"\",\n",
    "\"\"\"C1=CC=CC1\"\"\",]"
   ],
   "outputs": [],
   "metadata": {}
  },
  {
   "cell_type": "markdown",
   "source": [
    "H abstraction"
   ],
   "metadata": {}
  },
  {
   "cell_type": "code",
   "execution_count": 4,
   "source": [
    "reactants = [\n",
    "\"\"\"[O]\"\"\",\n",
    "\"\"\"CCCCO\"\"\",]\n",
    "\n",
    "products = [\n",
    "\"\"\"[OH]\"\"\",\n",
    "\"\"\"[CH2]CCCO\"\"\",]"
   ],
   "outputs": [],
   "metadata": {}
  },
  {
   "cell_type": "markdown",
   "source": [
    "1+2_Cycloaddition"
   ],
   "metadata": {}
  },
  {
   "cell_type": "code",
   "execution_count": 5,
   "source": [
    "reactants = [\n",
    "(\"\"\"[O]\"\"\", 1),\n",
    "\"\"\"C=C\"\"\",]\n",
    "\n",
    "products = [\n",
    "\"\"\"C1OC1\"\"\",]"
   ],
   "outputs": [],
   "metadata": {}
  },
  {
   "cell_type": "markdown",
   "source": [
    "1,2_Insertion_carbene"
   ],
   "metadata": {}
  },
  {
   "cell_type": "code",
   "execution_count": 6,
   "source": [
    "reactants = [\n",
    "    (\"\"\"[CH2]\"\"\", 1),\n",
    "    \"\"\"C=C\"\"\", ]\n",
    "\n",
    "products = [\n",
    "    \"\"\"CC=C\"\"\", ]\n"
   ],
   "outputs": [],
   "metadata": {}
  },
  {
   "cell_type": "markdown",
   "source": [
    "## Generate reactant and product complex"
   ],
   "metadata": {}
  },
  {
   "cell_type": "code",
   "execution_count": 7,
   "source": [
    "try:\n",
    "    # Generate RMG Molecule\n",
    "    r_mols = parse_xyz_or_smiles_list(reactants)\n",
    "    p_mols = parse_xyz_or_smiles_list(products)\n",
    "    reactant_molecules = [from_rdkit_mol(r) for r in r_mols]\n",
    "    product_molecules = [from_rdkit_mol(p) for p in p_mols]\n",
    "\n",
    "except Exception as e:\n",
    "    print(e)\n",
    "    print('Have issues generating molecules.')\n",
    "else:\n",
    "    # A product complex with the same atom indexing as the reactant is generated\n",
    "    reactant_complex, product_complex = generate_reaction_complex(\n",
    "                                            database,\n",
    "                                            reactant_molecules,\n",
    "                                            product_molecules,\n",
    "                                            verbose=True)\n",
    "\n",
    "if reactant_complex:\n",
    "    r_complex = RDKitMol.FromRMGMol(reactant_complex)\n",
    "    p_complex = RDKitMol.FromRMGMol(product_complex)"
   ],
   "outputs": [
    {
     "output_type": "stream",
     "name": "stdout",
     "text": [
      "Cannot match the multiplicity by saturating 1,2 biradical.\n",
      "Cannot match the multiplicity by saturating biradical with conjugated double bonds.\n",
      "Eventually, SaturateMol finds a way to saturate the molecule to the desired multiplicity.\n",
      "C=C + [CH2] <=> C=CC\n",
      "RMG family: 1,2_Insertion_carbene\n",
      "Is forward reaction: True\n"
     ]
    }
   ],
   "metadata": {}
  },
  {
   "cell_type": "markdown",
   "source": [
    "### Generate SMILES"
   ],
   "metadata": {}
  },
  {
   "cell_type": "markdown",
   "source": [
    "Reactant"
   ],
   "metadata": {}
  },
  {
   "cell_type": "code",
   "execution_count": 8,
   "source": [
    "r_complex.ToSmiles(RemoveAtomMap=False, removeHs=False).split('.')"
   ],
   "outputs": [
    {
     "output_type": "execute_result",
     "data": {
      "text/plain": [
       "['[C:3](=[C:4]([H:7])[H:8])([H:5])[H:6]', '[CH2:0]([H:1])[H:2]']"
      ]
     },
     "metadata": {},
     "execution_count": 8
    }
   ],
   "metadata": {}
  },
  {
   "cell_type": "markdown",
   "source": [
    "Product"
   ],
   "metadata": {}
  },
  {
   "cell_type": "code",
   "execution_count": 9,
   "source": [
    "p_complex.ToSmiles(RemoveAtomMap=False, removeHs=False).split('.')"
   ],
   "outputs": [
    {
     "output_type": "execute_result",
     "data": {
      "text/plain": [
       "['[C:0]([H:1])([H:2])([C:3](=[C:4]([H:7])[H:8])[H:6])[H:5]']"
      ]
     },
     "metadata": {},
     "execution_count": 9
    }
   ],
   "metadata": {}
  },
  {
   "cell_type": "markdown",
   "source": [
    "Double check by Molecule graph"
   ],
   "metadata": {}
  },
  {
   "cell_type": "code",
   "execution_count": 10,
   "source": [
    "r_complex"
   ],
   "outputs": [
    {
     "output_type": "execute_result",
     "data": {
      "image/png": "[encoded data removed]",
      "text/plain": [
       "<rdmc.mol.RDKitMol at 0x7f9f9d1a15d0>"
      ]
     },
     "metadata": {},
     "execution_count": 10
    }
   ],
   "metadata": {}
  },
  {
   "cell_type": "code",
   "execution_count": 11,
   "source": [
    "p_complex"
   ],
   "outputs": [
    {
     "output_type": "execute_result",
     "data": {
      "image/png": "[encoded data removed]",
      "text/plain": [
       "<rdmc.mol.RDKitMol at 0x7f9f9f44aa90>"
      ]
     },
     "metadata": {},
     "execution_count": 11
    }
   ],
   "metadata": {}
  },
  {
   "cell_type": "code",
   "execution_count": null,
   "source": [],
   "outputs": [],
   "metadata": {}
  }
 ],
 "metadata": {
  "@webio": {
   "lastCommId": null,
   "lastKernelId": null
  },
  "kernelspec": {
   "name": "python3",
   "display_name": "Python 3.7.7 64-bit ('arc_env': conda)"
  },
  "language_info": {
   "codemirror_mode": {
    "name": "ipython",
    "version": 3
   },
   "file_extension": ".py",
   "mimetype": "text/x-python",
   "name": "python",
   "nbconvert_exporter": "python",
   "pygments_lexer": "ipython3",
   "version": "3.7.7"
  },
  "interpreter": {
   "hash": "85d1b8872cf2a473cd94ec60df3b0395d0e9b5ff43584203099638555d530dd7"
  }
 },
 "nbformat": 4,
 "nbformat_minor": 5
}