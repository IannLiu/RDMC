{
 "cells": [
  {
   "cell_type": "markdown",
   "metadata": {},
   "source": [
    "# A demo of XYZ and RDKitMol"
   ]
  },
  {
   "cell_type": "markdown",
   "metadata": {},
   "source": [
    "There is no easy way to convert xyz to RDKit Mol/RWMol. Here RDKitMol shows a possibility by using openbabel as a molecule perception backend. There is another possibility introduced by https://github.com/jensengroup/xyz2mol. Maybe it can be integrated to RDKitMol as well"
   ]
  },
  {
   "cell_type": "code",
   "execution_count": 1,
   "metadata": {},
   "outputs": [],
   "source": [
    "import os\n",
    "import sys\n",
    "sys.path.append(os.path.dirname(os.path.abspath('')))\n",
    "\n",
    "from rdmc.mol import RDKitMol"
   ]
  },
  {
   "cell_type": "markdown",
   "metadata": {},
   "source": [
    "### 1. An example of xyz str block"
   ]
  },
  {
   "cell_type": "code",
   "execution_count": 2,
   "metadata": {},
   "outputs": [],
   "source": [
    "######################################\n",
    "# INPUT\n",
    "xyz=\"\"\"C         -1.77596        0.55032       -0.86182\n",
    "C         -1.86964        0.09038       -2.31577\n",
    "H         -0.88733        1.17355       -0.71816\n",
    "H         -1.70996       -0.29898       -0.17103\n",
    "O         -2.90695        1.36613       -0.53334\n",
    "C         -0.58005       -0.57548       -2.76940\n",
    "H         -0.35617       -1.45641       -2.15753\n",
    "H          0.26635        0.11565       -2.71288\n",
    "H         -0.67469       -0.92675       -3.80265\n",
    "O         -2.92111       -0.86791       -2.44871\n",
    "H         -2.10410        0.93662       -2.97107\n",
    "O         -3.87923        0.48257        0.09884\n",
    "H         -4.43402        0.34141       -0.69232\n",
    "O         -4.16782       -0.23433       -2.64382\n",
    "\"\"\"\n",
    "######################################"
   ]
  },
  {
   "cell_type": "markdown",
   "metadata": {},
   "source": [
    "### 2. Use pybel to generate a OBMol from xyz"
   ]
  },
  {
   "cell_type": "code",
   "execution_count": 3,
   "metadata": {},
   "outputs": [
    {
     "data": {
      "image/png": "[encoded data removed]",
      "text/plain": [
       "<rdmc.mol.RDKitMol at 0x7f9422f06890>"
      ]
     },
     "execution_count": 3,
     "metadata": {},
     "output_type": "execute_result"
    }
   ],
   "source": [
    "rdkitmol = RDKitMol.FromXYZ(xyz, backend='pybel')\n",
    "rdkitmol"
   ]
  },
  {
   "cell_type": "markdown",
   "metadata": {},
   "source": [
    "### 3. Check the xyz of rdkitmol conformer"
   ]
  },
  {
   "cell_type": "code",
   "execution_count": 4,
   "metadata": {},
   "outputs": [
    {
     "data": {
      "text/plain": [
       "array([[-1.77596,  0.55032, -0.86182],\n",
       "       [-1.86964,  0.09038, -2.31577],\n",
       "       [-0.88733,  1.17355, -0.71816],\n",
       "       [-1.70996, -0.29898, -0.17103],\n",
       "       [-2.90695,  1.36613, -0.53334],\n",
       "       [-0.58005, -0.57548, -2.7694 ],\n",
       "       [-0.35617, -1.45641, -2.15753],\n",
       "       [ 0.26635,  0.11565, -2.71288],\n",
       "       [-0.67469, -0.92675, -3.80265],\n",
       "       [-2.92111, -0.86791, -2.44871],\n",
       "       [-2.1041 ,  0.93662, -2.97107],\n",
       "       [-3.87923,  0.48257,  0.09884],\n",
       "       [-4.43402,  0.34141, -0.69232],\n",
       "       [-4.16782, -0.23433, -2.64382]])"
      ]
     },
     "execution_count": 4,
     "metadata": {},
     "output_type": "execute_result"
    }
   ],
   "source": [
    "rdkitmol.GetConformer().GetPositions()"
   ]
  },
  {
   "cell_type": "markdown",
   "metadata": {},
   "source": [
    "### 4. Export xyz"
   ]
  },
  {
   "cell_type": "code",
   "execution_count": 5,
   "metadata": {},
   "outputs": [
    {
     "name": "stdout",
     "output_type": "stream",
     "text": [
      "C     -1.775960    0.550320   -0.861820\n",
      "C     -1.869640    0.090380   -2.315770\n",
      "H     -0.887330    1.173550   -0.718160\n",
      "H     -1.709960   -0.298980   -0.171030\n",
      "O     -2.906950    1.366130   -0.533340\n",
      "C     -0.580050   -0.575480   -2.769400\n",
      "H     -0.356170   -1.456410   -2.157530\n",
      "H      0.266350    0.115650   -2.712880\n",
      "H     -0.674690   -0.926750   -3.802650\n",
      "O     -2.921110   -0.867910   -2.448710\n",
      "H     -2.104100    0.936620   -2.971070\n",
      "O     -3.879230    0.482570    0.098840\n",
      "H     -4.434020    0.341410   -0.692320\n",
      "O     -4.167820   -0.234330   -2.643820\n"
     ]
    }
   ],
   "source": [
    "print(rdkitmol.ToXYZ(header=False))"
   ]
  },
  {
   "cell_type": "code",
   "execution_count": null,
   "metadata": {},
   "outputs": [],
   "source": []
  }
 ],
 "metadata": {
  "@webio": {
   "lastCommId": null,
   "lastKernelId": null
  },
  "kernelspec": {
   "display_name": "Python 3",
   "language": "python",
   "name": "python3"
  },
  "language_info": {
   "codemirror_mode": {
    "name": "ipython",
    "version": 3
   },
   "file_extension": ".py",
   "mimetype": "text/x-python",
   "name": "python",
   "nbconvert_exporter": "python",
   "pygments_lexer": "ipython3",
   "version": "3.7.7"
  }
 },
 "nbformat": 4,
 "nbformat_minor": 2
}
