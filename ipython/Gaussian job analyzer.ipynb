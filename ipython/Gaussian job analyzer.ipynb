{
 "cells": [
  {
   "cell_type": "markdown",
   "id": "85aa1d63",
   "metadata": {},
   "source": [
    "# A demo for Gaussian output analyzer"
   ]
  },
  {
   "cell_type": "code",
   "execution_count": null,
   "id": "9c411360",
   "metadata": {},
   "outputs": [],
   "source": [
    "import os\n",
    "import sys\n",
    "# To add this RDMC into PYTHONPATH in case you haven't do it\n",
    "sys.path.append(os.path.dirname(os.path.abspath('')))\n",
    "\n",
    "from rdmc.external.gaussian import GaussianLog\n",
    "\n",
    "def general_info(glog):\n",
    "    print(f'Success?: {glog.success}')\n",
    "    print(f'TS?: {glog.is_ts}')\n",
    "    print(f'Involved job types: {\", \".join(glog.job_type)}')\n",
    "    try:\n",
    "        print(f'Scanning: {\", \".join(glog.scan_names)}')\n",
    "    except:\n",
    "        pass\n",
    "    print(f'Charge: {glog.charge}, Multiplicity: {glog.multiplicity}')\n",
    "\n",
    "%load_ext autoreload\n",
    "%autoreload 2"
   ]
  },
  {
   "cell_type": "markdown",
   "id": "26a603fb",
   "metadata": {},
   "source": [
    "## Input the path of log file <a id='HOME'></a>\n",
    "You need to assign the path to `log`. Some examples are provided. "
   ]
  },
  {
   "cell_type": "code",
   "execution_count": null,
   "id": "ec6648d6",
   "metadata": {
    "scrolled": false
   },
   "outputs": [],
   "source": [
    "############ EXAMPLES #################\n",
    "# CBS-QB3 non-TS\n",
    "# log = 'data/well-cbsqb3.out'\n",
    "# CBS-QB3 TS\n",
    "# log = 'data/ts-cbsqb3.out'\n",
    "# scan\n",
    "# log = '/Volumes/Extreme SSD/relax-rotor/Species/CO/scan_3_1_2_6/output.out'\n",
    "# IRC\n",
    "log = 'data/irc.out'\n",
    "######################################\n",
    "\n",
    "glog = GaussianLog(log)\n",
    "general_info(glog)"
   ]
  },
  {
   "cell_type": "markdown",
   "id": "40f063a5",
   "metadata": {},
   "source": [
    "## Hyperlinks: Analyze by job types\n",
    "\n",
    "- [Optimization](#OPT)\n",
    "- [Frequency](#FREQ)\n",
    "- [Scan](#SCAN)\n",
    "- [IRC](#IRC)"
   ]
  },
  {
   "cell_type": "markdown",
   "id": "71e3c232",
   "metadata": {},
   "source": [
    "## 1. Optimization <a id='OPT'></a>"
   ]
  },
  {
   "cell_type": "markdown",
   "id": "cd207a50",
   "metadata": {},
   "source": [
    "### 1.1 Visualize molecule\n",
    "\n",
    "If the optimization was converged, then show the converged geometry. Otherwise, show the geometry that is the closest to the convergence criteria."
   ]
  },
  {
   "cell_type": "code",
   "execution_count": null,
   "id": "6e738d16",
   "metadata": {},
   "outputs": [],
   "source": [
    "glog.view_mol(atom_index=True, gv_background=True).update()\n",
    "xyz = glog.get_best_opt_geom(xyz_str=True)\n",
    "if glog.success:\n",
    "    print('Converged XYZ:\\n')\n",
    "else:\n",
    "    print('Geometry that is the closest to the convergence criteria:\\n')\n",
    "print(xyz)"
   ]
  },
  {
   "cell_type": "markdown",
   "id": "146cfb9c",
   "metadata": {},
   "source": [
    "### 1.2 Convergence analysis\n",
    "\n",
    "Check the trend for each convergence criterion\n",
    "- `logy`: plot the y axis in log scale\n",
    "- `relative`: Plot the relative value to the convergence criteria"
   ]
  },
  {
   "cell_type": "code",
   "execution_count": null,
   "id": "5bbf119c",
   "metadata": {},
   "outputs": [],
   "source": [
    "glog.plot_convergence(logy=True, relative=True);"
   ]
  },
  {
   "cell_type": "markdown",
   "id": "9195f5bc",
   "metadata": {},
   "source": [
    "### 1.3 Interact with opt job"
   ]
  },
  {
   "cell_type": "code",
   "execution_count": null,
   "id": "4540bc3d",
   "metadata": {},
   "outputs": [],
   "source": [
    "glog.interact_convergence();"
   ]
  },
  {
   "cell_type": "markdown",
   "id": "01203a55",
   "metadata": {},
   "source": [
    "#### [back](#HOME)\n",
    "\n",
    "## 2. Frequency <a id='FREQ'></a>"
   ]
  },
  {
   "cell_type": "markdown",
   "id": "e6aa4884",
   "metadata": {},
   "source": [
    "### 2.1 Summary"
   ]
  },
  {
   "cell_type": "code",
   "execution_count": null,
   "id": "07376038",
   "metadata": {},
   "outputs": [],
   "source": [
    "print(f'Number of freqs: {glog.freqs.shape[0]}')\n",
    "print(f'Number of negative freqs: {glog.num_neg_freqs}')\n",
    "print(f'Negative freqs: {glog.neg_freqs}')"
   ]
  },
  {
   "cell_type": "markdown",
   "id": "93dc6dea",
   "metadata": {},
   "source": [
    "### 2.2 Interact with freq job\n",
    "\n",
    "- select the frequency you want to visualize\n",
    "- change its number of frames (the smaller the faster the animation is; the higher the more detailed the animation is)\n",
    "- change the amplitude of the mode"
   ]
  },
  {
   "cell_type": "code",
   "execution_count": null,
   "id": "3a460a6b",
   "metadata": {},
   "outputs": [],
   "source": [
    "glog.interact_freq()"
   ]
  },
  {
   "cell_type": "markdown",
   "id": "ff39fb82",
   "metadata": {},
   "source": [
    "#### [back](#HOME)\n",
    "\n",
    "## 3. Scan <a id='SCAN'></a>"
   ]
  },
  {
   "cell_type": "markdown",
   "id": "8ad87db8",
   "metadata": {},
   "source": [
    "### 3.1 Visualize the scan\n",
    "- `align_scan`: if align the scanned coordinate to make the animaiton cleaner\n",
    "- `align_frag_idx`: which part of the body to align (value should be either 1 or 2)\n",
    "- `atom_index`: whether to show the atom index"
   ]
  },
  {
   "cell_type": "code",
   "execution_count": null,
   "id": "9ae28be8",
   "metadata": {},
   "outputs": [],
   "source": [
    "glog.view_traj(align_scan=True, align_frag_idx=1, atom_index=False);"
   ]
  },
  {
   "cell_type": "markdown",
   "id": "68b7e644",
   "metadata": {},
   "source": [
    "### 3.2 Plot the scan energies"
   ]
  },
  {
   "cell_type": "markdown",
   "id": "33382744",
   "metadata": {},
   "source": [
    "- `converged`: only plot energies for converged geometries\n",
    "- `relative_x`: plot the x-axis as a relative value (value for initial geom mas the baseline)\n",
    "- `relative_y`: plot the y-axis as a relative value (value for initial geom as the baseline)"
   ]
  },
  {
   "cell_type": "code",
   "execution_count": null,
   "id": "cfc49391",
   "metadata": {},
   "outputs": [],
   "source": [
    "glog.plot_scan_energies(converged=True, relative_x=True, relative_y=True);"
   ]
  },
  {
   "cell_type": "markdown",
   "id": "0da68a01",
   "metadata": {},
   "source": [
    "### 3.3 Interact with the scan job"
   ]
  },
  {
   "cell_type": "code",
   "execution_count": null,
   "id": "1b3b7901",
   "metadata": {},
   "outputs": [],
   "source": [
    "glog.interact_scan(align_scan=True, align_frag_idx=1)"
   ]
  },
  {
   "cell_type": "markdown",
   "id": "e7af59c7",
   "metadata": {},
   "source": [
    "#### [back](#HOME)\n",
    "\n",
    "## 4. IRC <a id='IRC'></a>"
   ]
  },
  {
   "cell_type": "markdown",
   "id": "b5b039a3",
   "metadata": {},
   "source": [
    "### 4.1 Visualize the IRC\n",
    "- `loop`: the way animation plays (`'backAndForth'`, `'forward'`, `'reverse'`)\n",
    "- `interval`: the time interval between each frame (the smaller the fast the animiation is)\n",
    "\n",
    "Note: you don't need to worry about the comment of `SaturateMol` failure since we are dealing with TS."
   ]
  },
  {
   "cell_type": "code",
   "execution_count": null,
   "id": "e941ede3",
   "metadata": {},
   "outputs": [],
   "source": [
    "glog.view_traj(animate={\"loop\": \"backAndForth\", \"interval\": 100});"
   ]
  },
  {
   "cell_type": "markdown",
   "id": "65d1a956",
   "metadata": {},
   "source": [
    "### 4.2 Plot the IRC energies\n",
    "- `converged`: only display the energies for the converged geometries"
   ]
  },
  {
   "cell_type": "code",
   "execution_count": null,
   "id": "3dd6e3c0",
   "metadata": {},
   "outputs": [],
   "source": [
    "glog.plot_irc_energies(converged=True)"
   ]
  },
  {
   "cell_type": "markdown",
   "id": "aa3d018f",
   "metadata": {},
   "source": [
    "### 4.3 Interact with the IRC job"
   ]
  },
  {
   "cell_type": "code",
   "execution_count": null,
   "id": "a378e218",
   "metadata": {},
   "outputs": [],
   "source": [
    "glog.interact_irc()"
   ]
  },
  {
   "cell_type": "markdown",
   "id": "81d163da",
   "metadata": {},
   "source": [
    "#### [back](#HOME)"
   ]
  },
  {
   "cell_type": "code",
   "execution_count": null,
   "id": "0b1701fd",
   "metadata": {},
   "outputs": [],
   "source": []
  }
 ],
 "metadata": {
  "@webio": {
   "lastCommId": null,
   "lastKernelId": null
  },
  "kernelspec": {
   "display_name": "Python 3",
   "language": "python",
   "name": "python3"
  },
  "language_info": {
   "codemirror_mode": {
    "name": "ipython",
    "version": 3
   },
   "file_extension": ".py",
   "mimetype": "text/x-python",
   "name": "python",
   "nbconvert_exporter": "python",
   "pygments_lexer": "ipython3",
   "version": "3.7.7"
  }
 },
 "nbformat": 4,
 "nbformat_minor": 5
}
