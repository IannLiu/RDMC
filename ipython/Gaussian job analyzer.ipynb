{
 "cells": [
  {
   "cell_type": "markdown",
   "id": "433b8d0b",
   "metadata": {},
   "source": [
    "# A demo for Gaussian output analyzer"
   ]
  },
  {
   "cell_type": "code",
   "execution_count": null,
   "id": "9c411360",
   "metadata": {},
   "outputs": [],
   "source": [
    "import os\n",
    "import sys\n",
    "# To add this RDMC into PYTHONPATH in case you haven't do it\n",
    "sys.path.append(os.path.dirname(os.path.abspath('')))\n",
    "\n",
    "from rdmc.external.gaussian import GaussianLog\n",
    "from rdmc.view import mol_viewer, grid_viewer\n",
    "\n",
    "def general_info(glog):\n",
    "    print(f'Success?: {glog.success}')\n",
    "    print(f'TS?: {glog.is_ts}')\n",
    "    print(f'Involved job types: {\", \".join(glog.job_type)}')\n",
    "    try:\n",
    "        print(f'Scanning: {\", \".join(glog.scan_names)}')\n",
    "    except:\n",
    "        pass\n",
    "    print(f'Charge: {glog.charge}, Multiplicity: {glog.multiplicity}')\n",
    "\n",
    "%load_ext autoreload\n",
    "%autoreload 2\n",
    "%matplotlib inline"
   ]
  },
  {
   "cell_type": "markdown",
   "id": "26a603fb",
   "metadata": {},
   "source": [
    "## Input the path of log file <a id='HOME'></a>\n",
    "You need to assign the path to `log`. Some examples are provided. "
   ]
  },
  {
   "cell_type": "code",
   "execution_count": null,
   "id": "ec6648d6",
   "metadata": {
    "scrolled": false
   },
   "outputs": [],
   "source": [
    "############ EXAMPLES #################\n",
    "# CBS-QB3 non-TS\n",
    "log = 'data/well-cbsqb3.out'\n",
    "# CBS-QB3 TS\n",
    "# log = 'data/ts-cbsqb3.out'\n",
    "# scan\n",
    "# log = 'data/scan.out'\n",
    "# IRC\n",
    "# log = 'data/irc.out'\n",
    "######################################\n",
    "\n",
    "glog = GaussianLog(log)\n",
    "general_info(glog)"
   ]
  },
  {
   "cell_type": "markdown",
   "id": "40f063a5",
   "metadata": {},
   "source": [
    "## Hyperlinks: Analyze by job types\n",
    "\n",
    "- [Optimization](#OPT)\n",
    "- [Frequency](#FREQ)\n",
    "- [Scan](#SCAN)\n",
    "- [IRC](#IRC)"
   ]
  },
  {
   "cell_type": "markdown",
   "id": "71e3c232",
   "metadata": {},
   "source": [
    "## 1. Optimization <a id='OPT'></a>"
   ]
  },
  {
   "cell_type": "markdown",
   "id": "cd207a50",
   "metadata": {},
   "source": [
    "### 1.1 Visualize molecule\n",
    "\n",
    "If the optimization was converged, then show the converged geometry. Otherwise, show the geometry that is the closest to the convergence criteria."
   ]
  },
  {
   "cell_type": "code",
   "execution_count": null,
   "id": "6e738d16",
   "metadata": {},
   "outputs": [],
   "source": [
    "glog.view_mol(atom_index=True, gv_background=True).update()\n",
    "xyz = glog.get_best_opt_geom(xyz_str=True)\n",
    "if glog.success:\n",
    "    print('Converged XYZ:\\n')\n",
    "else:\n",
    "    print('Geometry that is the closest to the convergence criteria:\\n')\n",
    "print(xyz)"
   ]
  },
  {
   "cell_type": "markdown",
   "id": "146cfb9c",
   "metadata": {},
   "source": [
    "### 1.2 Convergence analysis\n",
    "\n",
    "Check the trend for each convergence criterion\n",
    "- `logy`: plot the y axis in log scale\n",
    "- `relative`: Plot the relative value to the convergence criteria"
   ]
  },
  {
   "cell_type": "code",
   "execution_count": null,
   "id": "5bbf119c",
   "metadata": {},
   "outputs": [],
   "source": [
    "glog.plot_convergence(logy=True, relative=True);"
   ]
  },
  {
   "cell_type": "markdown",
   "id": "0e7f095d",
   "metadata": {},
   "source": [
    "### 1.3 Interact with opt job"
   ]
  },
  {
   "cell_type": "code",
   "execution_count": null,
   "id": "4540bc3d",
   "metadata": {},
   "outputs": [],
   "source": [
    "glog.interact_convergence();"
   ]
  },
  {
   "cell_type": "markdown",
   "id": "01203a55",
   "metadata": {},
   "source": [
    "#### [back](#HOME)\n",
    "\n",
    "## 2. Frequency <a id='FREQ'></a>"
   ]
  },
  {
   "cell_type": "code",
   "execution_count": null,
   "id": "000c2de1",
   "metadata": {},
   "outputs": [],
   "source": [
    "glog.converged_geometries.shape"
   ]
  },
  {
   "cell_type": "markdown",
   "id": "e3f2b1b8",
   "metadata": {},
   "source": [
    "### 2.1 Summary"
   ]
  },
  {
   "cell_type": "code",
   "execution_count": null,
   "id": "07376038",
   "metadata": {},
   "outputs": [],
   "source": [
    "print(f'Number of freqs: {glog.freqs.shape[0]}')\n",
    "print(f'Number of negative freqs: {glog.num_neg_freqs}')\n",
    "print(f'Negative freqs: {glog.neg_freqs}')"
   ]
  },
  {
   "cell_type": "markdown",
   "id": "0b6a0a87",
   "metadata": {},
   "source": [
    "### 2.2 Interact with freq job\n",
    "\n",
    "- select the frequency you want to visualize\n",
    "- change its number of frames (the smaller the faster the animation is; the higher the more detailed the animation is)\n",
    "- change the amplitude of the mode"
   ]
  },
  {
   "cell_type": "code",
   "execution_count": null,
   "id": "3a460a6b",
   "metadata": {},
   "outputs": [],
   "source": [
    "glog.interact_freq();"
   ]
  },
  {
   "cell_type": "markdown",
   "id": "410df3b6",
   "metadata": {},
   "source": [
    "### 2.3 Guess reaction from the imaginary frequency\n",
    "\n",
    "Guess the reactants and the products from the imaginary frequency mode. This requires the frequency job involves a Transition state molecule. Please be cautious that this method is not very accurate.\n",
    "\n",
    "- `amplitude`: The amplitude factor on the displacement matrix to generate theguess geometry for the reactant and the product. A smaller factor makes the geometry close to the TS, while a wildly large factor makes the geometry nonphysical.\n",
    "- `as_mol_frags`: Whether to return the results as molecule complexes or as individual molecules. `False` means return as the complexes.\n",
    "- `inverse`: Inverse the sequence of the reactant and the product.\n",
    "\n",
    "There will be messages about SaturateMol, you want to make sure the cell generate `r_mol` and `p_mol` has no failure, while ignore the failure message in the other cell. You may also ignore the SMILES generated for the TS"
   ]
  },
  {
   "cell_type": "code",
   "execution_count": null,
   "id": "92bdde1b",
   "metadata": {},
   "outputs": [],
   "source": [
    "r_mol, p_mol = glog.guess_rxn_from_freq(amplitude=0.5, atom_weighted=True, as_mol_frags=False, inverse=False)"
   ]
  },
  {
   "cell_type": "code",
   "execution_count": null,
   "id": "ad141ebd",
   "metadata": {},
   "outputs": [],
   "source": [
    "ts = glog.get_mol(embed_conformers=False)\n",
    "\n",
    "if not isinstance(r_mol, tuple):\n",
    "    r_mol, p_mol = (r_mol,), (p_mol,)\n",
    "\n",
    "mols_to_view = list(r_mol) + [ts] + list(p_mol)\n",
    "entries = len(mols_to_view)\n",
    "viewer = grid_viewer(viewer_grid=(1, entries), viewer_size=(300 * entries, 300),)\n",
    "for i in range(entries):\n",
    "    mol_viewer(mols_to_view[i], viewer=viewer, viewer_loc=(0, i))\n",
    "\n",
    "print('\\nreactant    TS      product')\n",
    "print([mol.ToSmiles() for mol in mols_to_view])\n",
    "viewer.show()"
   ]
  },
  {
   "cell_type": "markdown",
   "id": "ff39fb82",
   "metadata": {},
   "source": [
    "#### [back](#HOME)\n",
    "\n",
    "## 3. Scan <a id='SCAN'></a>"
   ]
  },
  {
   "cell_type": "markdown",
   "id": "2105612b",
   "metadata": {},
   "source": [
    "### 3.1 Visualize the scan\n",
    "- `align_scan`: if align the scanned coordinate to make the animaiton cleaner\n",
    "- `align_frag_idx`: which part of the body to align (value should be either 1 or 2)\n",
    "- `atom_index`: whether to show the atom index"
   ]
  },
  {
   "cell_type": "code",
   "execution_count": null,
   "id": "9ae28be8",
   "metadata": {},
   "outputs": [],
   "source": [
    "glog.view_traj(align_scan=True, align_frag_idx=1, atom_index=False).update();"
   ]
  },
  {
   "cell_type": "markdown",
   "id": "c1eeef7f",
   "metadata": {},
   "source": [
    "### 3.2 Plot the scan energies"
   ]
  },
  {
   "cell_type": "markdown",
   "id": "43979845",
   "metadata": {},
   "source": [
    "- `converged`: only plot energies for converged geometries\n",
    "- `relative_x`: plot the x-axis as a relative value (value for initial geom mas the baseline)\n",
    "- `relative_y`: plot the y-axis as a relative value (value for initial geom as the baseline)"
   ]
  },
  {
   "cell_type": "code",
   "execution_count": null,
   "id": "cfc49391",
   "metadata": {},
   "outputs": [],
   "source": [
    "glog.plot_scan_energies(converged=True, relative_x=True, relative_y=True);"
   ]
  },
  {
   "cell_type": "markdown",
   "id": "896ff152",
   "metadata": {},
   "source": [
    "### 3.3 Interact with the scan job"
   ]
  },
  {
   "cell_type": "code",
   "execution_count": null,
   "id": "1b3b7901",
   "metadata": {},
   "outputs": [],
   "source": [
    "glog.interact_scan(align_scan=True, align_frag_idx=1);"
   ]
  },
  {
   "cell_type": "markdown",
   "id": "e7af59c7",
   "metadata": {},
   "source": [
    "#### [back](#HOME)\n",
    "\n",
    "## 4. IRC <a id='IRC'></a>"
   ]
  },
  {
   "cell_type": "markdown",
   "id": "f4277e2b",
   "metadata": {},
   "source": [
    "### 4.1 Visualize the IRC\n",
    "- `loop`: the way animation plays (`'backAndForth'`, `'forward'`, `'reverse'`)\n",
    "- `interval`: the time interval between each frame (the smaller the fast the animiation is)\n",
    "\n",
    "Note: you don't need to worry about the comment of `SaturateMol` failure since we are dealing with TS."
   ]
  },
  {
   "cell_type": "code",
   "execution_count": null,
   "id": "e941ede3",
   "metadata": {},
   "outputs": [],
   "source": [
    "glog.view_traj(animate={\"loop\": \"backAndForth\", \"interval\": 100}).update();"
   ]
  },
  {
   "cell_type": "markdown",
   "id": "294256f7",
   "metadata": {},
   "source": [
    "### 4.2 Plot the IRC energies\n",
    "- `converged`: only display the energies for the converged geometries"
   ]
  },
  {
   "cell_type": "code",
   "execution_count": null,
   "id": "3dd6e3c0",
   "metadata": {},
   "outputs": [],
   "source": [
    "glog.plot_irc_energies(converged=True);"
   ]
  },
  {
   "cell_type": "markdown",
   "id": "85c42153",
   "metadata": {},
   "source": [
    "### 4.3 Interact with the IRC job"
   ]
  },
  {
   "cell_type": "code",
   "execution_count": null,
   "id": "a378e218",
   "metadata": {},
   "outputs": [],
   "source": [
    "glog.interact_irc();"
   ]
  },
  {
   "cell_type": "markdown",
   "id": "6097f650",
   "metadata": {},
   "source": [
    "### 4.4 Guess the reaction\n",
    "\n",
    "Guess the reactants and the products from the IRC results. This requires the IRC job to bidirectional.\n",
    "- `index`: the index of the conformer pair that is the distance from the TS. To use the geometries at both ends of the IRC curve, you can assign it to `0`.\n",
    "- `as_mol_frags`: Whether to return the results as molecule complexes or as individual molecules. `False` means return as the complexes.\n",
    "- `inverse`: Inverse the sequence of the reactant and the product.\n",
    "\n",
    "There will be messages about SaturateMol, you want to make sure the cell generate `r_mol` and `p_mol` has no failure, while ignore the failure message in the other cell. You may also ignore the SMILES generated for the TS"
   ]
  },
  {
   "cell_type": "code",
   "execution_count": null,
   "id": "8148857a",
   "metadata": {
    "scrolled": true
   },
   "outputs": [],
   "source": [
    "r_mol, p_mol = glog.guess_rxn_from_irc(index=0, as_mol_frags=False, inverse=False)"
   ]
  },
  {
   "cell_type": "code",
   "execution_count": null,
   "id": "7b3ec60c",
   "metadata": {},
   "outputs": [],
   "source": [
    "ts = glog.get_mol(embed_conformers=False)\n",
    "\n",
    "if not isinstance(r_mol, tuple):\n",
    "    r_mol, p_mol = (r_mol,), (p_mol,)\n",
    "\n",
    "mols_to_view = list(r_mol) + [ts] + list(p_mol)\n",
    "entries = len(mols_to_view)\n",
    "viewer = grid_viewer(viewer_grid=(1, entries), viewer_size=(300 * entries, 300),)\n",
    "for i in range(entries):\n",
    "    mol_viewer(mols_to_view[i], viewer=viewer, viewer_loc=(0, i))\n",
    "\n",
    "print('\\nreactant    TS      product')\n",
    "print([mol.ToSmiles() for mol in mols_to_view])\n",
    "viewer.show()"
   ]
  },
  {
   "cell_type": "markdown",
   "id": "81d163da",
   "metadata": {},
   "source": [
    "#### [back](#HOME)"
   ]
  },
  {
   "cell_type": "code",
   "execution_count": null,
   "id": "864b65e3",
   "metadata": {},
   "outputs": [],
   "source": []
  }
 ],
 "metadata": {
  "@webio": {
   "lastCommId": null,
   "lastKernelId": null
  },
  "kernelspec": {
   "display_name": "Python 3",
   "language": "python",
   "name": "python3"
  },
  "language_info": {
   "codemirror_mode": {
    "name": "ipython",
    "version": 3
   },
   "file_extension": ".py",
   "mimetype": "text/x-python",
   "name": "python",
   "nbconvert_exporter": "python",
   "pygments_lexer": "ipython3",
   "version": "3.7.7"
  }
 },
 "nbformat": 4,
 "nbformat_minor": 5
}
